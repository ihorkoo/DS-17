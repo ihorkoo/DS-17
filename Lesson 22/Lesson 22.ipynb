{
 "cells":[
  {
   "cell_type":"code",
   "source":[
    "import pandas as pd\n",
    "import numpy as np\n",
    "import matplotlib.pyplot as plt\n",
    "import seaborn as sns\n",
    "%matplotlib inline"
   ],
   "execution_count":65,
   "outputs":[
    
   ],
   "metadata":{
    "datalore":{
     "node_id":"2kxWpXP5C42QjEr0lBOwB3",
     "type":"CODE",
     "hide_input_from_viewers":false,
     "hide_output_from_viewers":false,
     "report_properties":{
      "rowId":"iXQO7tVephfUhjz8MtUcMw"
     }
    }
   }
  },
  {
   "cell_type":"markdown",
   "source":[
    "survival        Survival\n",
    "                (0 = No; 1 = Yes)\n",
    "                \n",
    "pclass          Passenger Class\n",
    "                (1 = 1st; 2 = 2nd; 3 = 3rd)\n",
    "                \n",
    "name            Name\n",
    "\n",
    "sex             Sex\n",
    "\n",
    "age             Age\n",
    "\n",
    "sibsp           Number of Siblings\/Spouses Aboard\n",
    "\n",
    "parch           Number of Parents\/Children Aboard\n",
    "\n",
    "ticket          Ticket Number\n",
    "\n",
    "fare            Passenger Fare\n",
    "\n",
    "cabin           Cabin\n",
    "\n",
    "embarked        Port of Embarkation"
   ],
   "attachments":{
    
   },
   "metadata":{
    "datalore":{
     "node_id":"o98zquegHyFnZ7v9ykwFt3",
     "type":"MD",
     "hide_input_from_viewers":false,
     "hide_output_from_viewers":false,
     "report_properties":{
      "rowId":"fjzBHZawNsAtTCVyAcYFs7"
     }
    }
   }
  },
  {
   "cell_type":"code",
   "source":[
    "#https:\/\/www.kaggle.com\/c\/titanic\/data?select=train.csv\n",
    "titanic = pd.read_csv('train.csv')"
   ],
   "execution_count":67,
   "outputs":[
    
   ],
   "metadata":{
    "datalore":{
     "node_id":"dppEEciRS0Pngrw5zeN2Fl",
     "type":"CODE",
     "hide_input_from_viewers":false,
     "hide_output_from_viewers":false,
     "report_properties":{
      "rowId":"Ib7GLfNYiFPlfqNRbVGfmo"
     }
    }
   }
  },
  {
   "cell_type":"code",
   "source":[
    "titanic.head()"
   ],
   "execution_count":68,
   "outputs":[
    {
     "data":{
      "text\/html":[
       "<div>\n",
       "<style scoped>\n",
       "    .dataframe tbody tr th:only-of-type {\n",
       "        vertical-align: middle;\n",
       "    }\n",
       "\n",
       "    .dataframe tbody tr th {\n",
       "        vertical-align: top;\n",
       "    }\n",
       "\n",
       "    .dataframe thead th {\n",
       "        text-align: right;\n",
       "    }\n",
       "<\/style>\n",
       "<table border=\"1\" class=\"dataframe\">\n",
       "  <thead>\n",
       "    <tr style=\"text-align: right;\">\n",
       "      <th><\/th>\n",
       "      <th>PassengerId<\/th>\n",
       "      <th>Survived<\/th>\n",
       "      <th>Pclass<\/th>\n",
       "      <th>Name<\/th>\n",
       "      <th>Sex<\/th>\n",
       "      <th>Age<\/th>\n",
       "      <th>SibSp<\/th>\n",
       "      <th>Parch<\/th>\n",
       "      <th>Ticket<\/th>\n",
       "      <th>Fare<\/th>\n",
       "      <th>Cabin<\/th>\n",
       "      <th>Embarked<\/th>\n",
       "    <\/tr>\n",
       "  <\/thead>\n",
       "  <tbody>\n",
       "    <tr>\n",
       "      <th>0<\/th>\n",
       "      <td>1<\/td>\n",
       "      <td>0<\/td>\n",
       "      <td>3<\/td>\n",
       "      <td>Braund, Mr. Owen Harris<\/td>\n",
       "      <td>male<\/td>\n",
       "      <td>22.0<\/td>\n",
       "      <td>1<\/td>\n",
       "      <td>0<\/td>\n",
       "      <td>A\/5 21171<\/td>\n",
       "      <td>7.2500<\/td>\n",
       "      <td>NaN<\/td>\n",
       "      <td>S<\/td>\n",
       "    <\/tr>\n",
       "    <tr>\n",
       "      <th>1<\/th>\n",
       "      <td>2<\/td>\n",
       "      <td>1<\/td>\n",
       "      <td>1<\/td>\n",
       "      <td>Cumings, Mrs. John Bradley (Florence Briggs Th...<\/td>\n",
       "      <td>female<\/td>\n",
       "      <td>38.0<\/td>\n",
       "      <td>1<\/td>\n",
       "      <td>0<\/td>\n",
       "      <td>PC 17599<\/td>\n",
       "      <td>71.2833<\/td>\n",
       "      <td>C85<\/td>\n",
       "      <td>C<\/td>\n",
       "    <\/tr>\n",
       "    <tr>\n",
       "      <th>2<\/th>\n",
       "      <td>3<\/td>\n",
       "      <td>1<\/td>\n",
       "      <td>3<\/td>\n",
       "      <td>Heikkinen, Miss. Laina<\/td>\n",
       "      <td>female<\/td>\n",
       "      <td>26.0<\/td>\n",
       "      <td>0<\/td>\n",
       "      <td>0<\/td>\n",
       "      <td>STON\/O2. 3101282<\/td>\n",
       "      <td>7.9250<\/td>\n",
       "      <td>NaN<\/td>\n",
       "      <td>S<\/td>\n",
       "    <\/tr>\n",
       "    <tr>\n",
       "      <th>3<\/th>\n",
       "      <td>4<\/td>\n",
       "      <td>1<\/td>\n",
       "      <td>1<\/td>\n",
       "      <td>Futrelle, Mrs. Jacques Heath (Lily May Peel)<\/td>\n",
       "      <td>female<\/td>\n",
       "      <td>35.0<\/td>\n",
       "      <td>1<\/td>\n",
       "      <td>0<\/td>\n",
       "      <td>113803<\/td>\n",
       "      <td>53.1000<\/td>\n",
       "      <td>C123<\/td>\n",
       "      <td>S<\/td>\n",
       "    <\/tr>\n",
       "    <tr>\n",
       "      <th>4<\/th>\n",
       "      <td>5<\/td>\n",
       "      <td>0<\/td>\n",
       "      <td>3<\/td>\n",
       "      <td>Allen, Mr. William Henry<\/td>\n",
       "      <td>male<\/td>\n",
       "      <td>35.0<\/td>\n",
       "      <td>0<\/td>\n",
       "      <td>0<\/td>\n",
       "      <td>373450<\/td>\n",
       "      <td>8.0500<\/td>\n",
       "      <td>NaN<\/td>\n",
       "      <td>S<\/td>\n",
       "    <\/tr>\n",
       "  <\/tbody>\n",
       "<\/table>\n",
       "<\/div>"
      ]
     },
     "metadata":{
      
     },
     "output_type":"display_data"
    }
   ],
   "metadata":{
    "datalore":{
     "node_id":"8nJfGoVDjP4zZX3VwaRxmg",
     "type":"CODE",
     "hide_input_from_viewers":false,
     "hide_output_from_viewers":false,
     "report_properties":{
      "rowId":"RZoz6gz6sSCOsobsX3VcPg"
     }
    }
   }
  },
  {
   "cell_type":"code",
   "source":[
    "titanic = titanic.drop([\"Name\", \"Ticket\", \"Cabin\"], axis=1)"
   ],
   "execution_count":69,
   "outputs":[
    
   ],
   "metadata":{
    "datalore":{
     "node_id":"0KiEPLg7gHnxmmATYMJplT",
     "type":"CODE",
     "hide_input_from_viewers":false,
     "hide_output_from_viewers":false,
     "report_properties":{
      "rowId":"7HMCGAtgB5TveQkbwE850t"
     }
    }
   }
  },
  {
   "cell_type":"code",
   "source":[
    "def woman_child_or_man(passenger):\n",
    "    age, sex = passenger\n",
    "    if age < 16:\n",
    "        return \"child\"\n",
    "    else:\n",
    "        return dict(male=\"man\", female=\"woman\")[sex]\n",
    "    \n",
    "titanic[\"who\"] = titanic[[\"Age\", \"Sex\"]].apply(woman_child_or_man, axis=1)"
   ],
   "execution_count":70,
   "outputs":[
    
   ],
   "metadata":{
    "datalore":{
     "node_id":"SUHJviPbre8Tgc5DovHCu0",
     "type":"CODE",
     "hide_input_from_viewers":false,
     "hide_output_from_viewers":false,
     "report_properties":{
      "rowId":"pLseygMC3sdmTmQqdEnTMO"
     }
    }
   }
  },
  {
   "cell_type":"code",
   "source":[
    "titanic.head()"
   ],
   "execution_count":71,
   "outputs":[
    {
     "data":{
      "text\/html":[
       "<div>\n",
       "<style scoped>\n",
       "    .dataframe tbody tr th:only-of-type {\n",
       "        vertical-align: middle;\n",
       "    }\n",
       "\n",
       "    .dataframe tbody tr th {\n",
       "        vertical-align: top;\n",
       "    }\n",
       "\n",
       "    .dataframe thead th {\n",
       "        text-align: right;\n",
       "    }\n",
       "<\/style>\n",
       "<table border=\"1\" class=\"dataframe\">\n",
       "  <thead>\n",
       "    <tr style=\"text-align: right;\">\n",
       "      <th><\/th>\n",
       "      <th>PassengerId<\/th>\n",
       "      <th>Survived<\/th>\n",
       "      <th>Pclass<\/th>\n",
       "      <th>Sex<\/th>\n",
       "      <th>Age<\/th>\n",
       "      <th>SibSp<\/th>\n",
       "      <th>Parch<\/th>\n",
       "      <th>Fare<\/th>\n",
       "      <th>Embarked<\/th>\n",
       "      <th>who<\/th>\n",
       "    <\/tr>\n",
       "  <\/thead>\n",
       "  <tbody>\n",
       "    <tr>\n",
       "      <th>0<\/th>\n",
       "      <td>1<\/td>\n",
       "      <td>0<\/td>\n",
       "      <td>3<\/td>\n",
       "      <td>male<\/td>\n",
       "      <td>22.0<\/td>\n",
       "      <td>1<\/td>\n",
       "      <td>0<\/td>\n",
       "      <td>7.2500<\/td>\n",
       "      <td>S<\/td>\n",
       "      <td>man<\/td>\n",
       "    <\/tr>\n",
       "    <tr>\n",
       "      <th>1<\/th>\n",
       "      <td>2<\/td>\n",
       "      <td>1<\/td>\n",
       "      <td>1<\/td>\n",
       "      <td>female<\/td>\n",
       "      <td>38.0<\/td>\n",
       "      <td>1<\/td>\n",
       "      <td>0<\/td>\n",
       "      <td>71.2833<\/td>\n",
       "      <td>C<\/td>\n",
       "      <td>woman<\/td>\n",
       "    <\/tr>\n",
       "    <tr>\n",
       "      <th>2<\/th>\n",
       "      <td>3<\/td>\n",
       "      <td>1<\/td>\n",
       "      <td>3<\/td>\n",
       "      <td>female<\/td>\n",
       "      <td>26.0<\/td>\n",
       "      <td>0<\/td>\n",
       "      <td>0<\/td>\n",
       "      <td>7.9250<\/td>\n",
       "      <td>S<\/td>\n",
       "      <td>woman<\/td>\n",
       "    <\/tr>\n",
       "    <tr>\n",
       "      <th>3<\/th>\n",
       "      <td>4<\/td>\n",
       "      <td>1<\/td>\n",
       "      <td>1<\/td>\n",
       "      <td>female<\/td>\n",
       "      <td>35.0<\/td>\n",
       "      <td>1<\/td>\n",
       "      <td>0<\/td>\n",
       "      <td>53.1000<\/td>\n",
       "      <td>S<\/td>\n",
       "      <td>woman<\/td>\n",
       "    <\/tr>\n",
       "    <tr>\n",
       "      <th>4<\/th>\n",
       "      <td>5<\/td>\n",
       "      <td>0<\/td>\n",
       "      <td>3<\/td>\n",
       "      <td>male<\/td>\n",
       "      <td>35.0<\/td>\n",
       "      <td>0<\/td>\n",
       "      <td>0<\/td>\n",
       "      <td>8.0500<\/td>\n",
       "      <td>S<\/td>\n",
       "      <td>man<\/td>\n",
       "    <\/tr>\n",
       "  <\/tbody>\n",
       "<\/table>\n",
       "<\/div>"
      ]
     },
     "metadata":{
      
     },
     "output_type":"display_data"
    }
   ],
   "metadata":{
    "datalore":{
     "node_id":"ldngUhewbW0fx6rlSLs8uU",
     "type":"CODE",
     "hide_input_from_viewers":false,
     "hide_output_from_viewers":false,
     "report_properties":{
      "rowId":"pnp5JfBekYkQoxWYN6EFBI"
     }
    }
   }
  },
  {
   "cell_type":"markdown",
   "source":[
    "### Статистика по пасажирах в наборі"
   ],
   "attachments":{
    
   },
   "metadata":{
    "datalore":{
     "node_id":"uIzL70IN6xODFCZSORrifO",
     "type":"MD",
     "hide_input_from_viewers":false,
     "hide_output_from_viewers":false,
     "report_properties":{
      "rowId":"ik6gDGb33RfLckKyjGmMvL"
     }
    }
   }
  },
  {
   "cell_type":"code",
   "source":[
    "sns.countplot(\"Pclass\", data=titanic, hue=\"Sex\")"
   ],
   "execution_count":72,
   "outputs":[
    {
     "name":"stderr",
     "text":[
      "\/opt\/python\/envs\/default\/lib\/python3.8\/site-packages\/seaborn\/_decorators.py:36: FutureWarning: Pass the following variable as a keyword arg: x. From version 0.12, the only valid positional argument will be `data`, and passing other arguments without an explicit keyword will result in an error or misinterpretation.\n",
      "  warnings.warn(\n"
     ],
     "output_type":"stream"
    },
    {
     "data":{
      "text\/plain":[
       "<AxesSubplot:xlabel='Pclass', ylabel='count'>"
      ]
     },
     "metadata":{
      
     },
     "output_type":"display_data"
    },
    {
     "data":{
      "image\/png":"[encoded data removed]"
     },
     "metadata":{
      "image\/png":{
       
      }
     },
     "output_type":"display_data"
    }
   ],
   "metadata":{
    "datalore":{
     "node_id":"91McF3rSD2LS6Y2I7zBOvX",
     "type":"CODE",
     "hide_input_from_viewers":false,
     "hide_output_from_viewers":false,
     "report_properties":{
      "rowId":"OmjYr8hU5uwTU7RqK1BWiV"
     }
    }
   }
  },
  {
   "cell_type":"code",
   "source":[
    
   ],
   "execution_count":null,
   "outputs":[
    
   ],
   "metadata":{
    "datalore":{
     "node_id":"ew7QNLr98SYsCx8zLIgP16",
     "type":"CODE",
     "hide_input_from_viewers":false,
     "hide_output_from_viewers":false,
     "report_properties":{
      "rowId":"xb02t1AIITadQWvgG23CaB"
     }
    }
   }
  },
  {
   "cell_type":"code",
   "source":[
    "sns.countplot(\"Survived\", data=titanic)"
   ],
   "execution_count":8,
   "outputs":[
    {
     "name":"stderr",
     "text":[
      "\/opt\/python\/envs\/default\/lib\/python3.8\/site-packages\/seaborn\/_decorators.py:36: FutureWarning: Pass the following variable as a keyword arg: x. From version 0.12, the only valid positional argument will be `data`, and passing other arguments without an explicit keyword will result in an error or misinterpretation.\n",
      "  warnings.warn(\n"
     ],
     "output_type":"stream"
    },
    {
     "data":{
      "text\/plain":[
       "<AxesSubplot:xlabel='Survived', ylabel='count'>"
      ]
     },
     "metadata":{
      
     },
     "output_type":"display_data"
    },
    {
     "data":{
      "image\/png":"[encoded data removed]"
     },
     "metadata":{
      "image\/png":{
       
      }
     },
     "output_type":"display_data"
    }
   ],
   "metadata":{
    "datalore":{
     "node_id":"XRrmmK4AtvhuFaDu5dyq4K",
     "type":"CODE",
     "hide_input_from_viewers":false,
     "hide_output_from_viewers":false,
     "report_properties":{
      "rowId":"10A0u0QHTrSzRX5HZOEz5K"
     }
    }
   }
  },
  {
   "cell_type":"code",
   "source":[
    "sns.countplot(\"who\", data=titanic)"
   ],
   "execution_count":9,
   "outputs":[
    {
     "name":"stderr",
     "text":[
      "\/opt\/python\/envs\/default\/lib\/python3.8\/site-packages\/seaborn\/_decorators.py:36: FutureWarning: Pass the following variable as a keyword arg: x. From version 0.12, the only valid positional argument will be `data`, and passing other arguments without an explicit keyword will result in an error or misinterpretation.\n",
      "  warnings.warn(\n"
     ],
     "output_type":"stream"
    },
    {
     "data":{
      "text\/plain":[
       "<AxesSubplot:xlabel='who', ylabel='count'>"
      ]
     },
     "metadata":{
      
     },
     "output_type":"display_data"
    },
    {
     "data":{
      "image\/png":"[encoded data removed]"
     },
     "metadata":{
      "image\/png":{
       
      }
     },
     "output_type":"display_data"
    }
   ],
   "metadata":{
    "datalore":{
     "node_id":"UFEd04lSA8A1XzbkUzCWn0",
     "type":"CODE",
     "hide_input_from_viewers":false,
     "hide_output_from_viewers":false,
     "report_properties":{
      "rowId":"lyoFC4lB7HIclS4oLdTMv9"
     }
    }
   }
  },
  {
   "cell_type":"code",
   "source":[
    "fg = sns.FacetGrid(titanic, hue=\"Sex\")\n",
    "fg.map(sns.kdeplot, \"Age\", shade=True)\n",
    "fg.set(xlim=(0, 80))"
   ],
   "execution_count":10,
   "outputs":[
    {
     "data":{
      "text\/plain":[
       "<seaborn.axisgrid.FacetGrid at 0x7f55d6d1b280>"
      ]
     },
     "metadata":{
      
     },
     "output_type":"display_data"
    },
    {
     "data":{
      "image\/png":"[encoded data removed]"
     },
     "metadata":{
      "image\/png":{
       
      }
     },
     "output_type":"display_data"
    }
   ],
   "metadata":{
    "datalore":{
     "node_id":"hKqBKxC3P6TtXYaSRAYrFc",
     "type":"CODE",
     "hide_input_from_viewers":false,
     "hide_output_from_viewers":false,
     "report_properties":{
      "rowId":"DK5ujX51PEfamXEViDKRVQ"
     }
    }
   }
  },
  {
   "cell_type":"code",
   "source":[
    "fg = sns.FacetGrid(titanic, hue=\"who\")\n",
    "fg.map(sns.kdeplot, \"Age\", shade=True)\n",
    "fg.set(xlim=(0, 80))"
   ],
   "execution_count":11,
   "outputs":[
    {
     "data":{
      "text\/plain":[
       "<seaborn.axisgrid.FacetGrid at 0x7f55d6cfa520>"
      ]
     },
     "metadata":{
      
     },
     "output_type":"display_data"
    },
    {
     "data":{
      "image\/png":"[encoded data removed]"
     },
     "metadata":{
      "image\/png":{
       
      }
     },
     "output_type":"display_data"
    }
   ],
   "metadata":{
    "datalore":{
     "node_id":"3YLoSLzJtXW81mmP8DwiO1",
     "type":"CODE",
     "hide_input_from_viewers":false,
     "hide_output_from_viewers":false,
     "report_properties":{
      "rowId":"ZffZqITCDpUzWzarEzMUmQ"
     }
    }
   }
  },
  {
   "cell_type":"code",
   "source":[
    "# Який процент дітей вижило? "
   ],
   "execution_count":null,
   "outputs":[
    
   ],
   "metadata":{
    "datalore":{
     "node_id":"DflRZULehgOh6PLCVAQP5T",
     "type":"CODE",
     "hide_input_from_viewers":false,
     "hide_output_from_viewers":false,
     "report_properties":{
      "rowId":"OsmWyI2yCzcQtaa6OXhaOS"
     }
    }
   }
  },
  {
   "cell_type":"markdown",
   "source":[
    "### Статистика по класу перевезення"
   ],
   "attachments":{
    
   },
   "metadata":{
    "datalore":{
     "node_id":"AUt6KvD15Z7blMVPslIw8H",
     "type":"MD",
     "hide_input_from_viewers":false,
     "hide_output_from_viewers":false,
     "report_properties":{
      "rowId":"wSqPjr7S6bjl48YeFp6PNg"
     }
    }
   }
  },
  {
   "cell_type":"code",
   "source":[
    "sns.countplot(\"Pclass\", data=titanic, palette=\"BuPu_d\")"
   ],
   "execution_count":12,
   "outputs":[
    {
     "name":"stderr",
     "text":[
      "\/opt\/python\/envs\/default\/lib\/python3.8\/site-packages\/seaborn\/_decorators.py:36: FutureWarning: Pass the following variable as a keyword arg: x. From version 0.12, the only valid positional argument will be `data`, and passing other arguments without an explicit keyword will result in an error or misinterpretation.\n",
      "  warnings.warn(\n"
     ],
     "output_type":"stream"
    },
    {
     "data":{
      "text\/plain":[
       "<AxesSubplot:xlabel='Pclass', ylabel='count'>"
      ]
     },
     "metadata":{
      
     },
     "output_type":"display_data"
    },
    {
     "data":{
      "image\/png":"[encoded data removed]"
     },
     "metadata":{
      "image\/png":{
       
      }
     },
     "output_type":"display_data"
    }
   ],
   "metadata":{
    "datalore":{
     "node_id":"YAwL2QF84FnZal8MuFIuDt",
     "type":"CODE",
     "hide_input_from_viewers":false,
     "hide_output_from_viewers":false,
     "report_properties":{
      "rowId":"PgXcxQ6zzj4WF5lyEGiCHD"
     }
    }
   }
  },
  {
   "cell_type":"code",
   "source":[
    "fg = sns.FacetGrid(titanic, hue=\"Pclass\", aspect=3, palette=\"BuPu_d\")\n",
    "fg.map(sns.kdeplot, \"Age\", shade=True)\n",
    "fg.set(xlim=(0, 80));"
   ],
   "execution_count":13,
   "outputs":[
    {
     "data":{
      "image\/png":"[encoded data removed]"
     },
     "metadata":{
      "image\/png":{
       
      }
     },
     "output_type":"display_data"
    }
   ],
   "metadata":{
    "datalore":{
     "node_id":"VcHTpYS606LF4b2QEOviV1",
     "type":"CODE",
     "hide_input_from_viewers":false,
     "hide_output_from_viewers":false,
     "report_properties":{
      "rowId":"eyL5mE4hPFYuIlcJX8iKNz"
     }
    }
   }
  },
  {
   "cell_type":"markdown",
   "source":[
    "### Вартість квитка"
   ],
   "attachments":{
    
   },
   "metadata":{
    "datalore":{
     "node_id":"YBgcCNwzNtfzbuYwYfiqpu",
     "type":"MD",
     "hide_input_from_viewers":false,
     "hide_output_from_viewers":false,
     "report_properties":{
      "rowId":"JuisOYHtBgTvbA0SzTLW6N"
     }
    }
   }
  },
  {
   "cell_type":"code",
   "source":[
    "sns.boxplot(titanic['Pclass'], titanic['Fare'])\n",
    "# дослідити, що за квитки вартість > 300"
   ],
   "execution_count":null,
   "outputs":[
    {
     "name":"stdout",
     "text":[
      "\n"
     ],
     "output_type":"stream"
    },
    {
     "name":"stderr",
     "text":[
      "\n"
     ],
     "output_type":"stream"
    },
    {
     "data":{
      "text\/plain":[
       "<matplotlib.axes._subplots.AxesSubplot at 0x1f559587b08>"
      ]
     },
     "metadata":{
      
     },
     "output_type":"display_data"
    },
    {
     "data":{
      "image\/png":"[encoded data removed]"
     },
     "metadata":{
      "image\/png":{
       
      }
     },
     "output_type":"display_data"
    },
    {
     "data":{
      "text\/plain":[
       "<Figure size 432x288 with 1 Axes>"
      ]
     },
     "metadata":{
      
     },
     "output_type":"display_data"
    }
   ],
   "metadata":{
    "datalore":{
     "node_id":"bW3HC4VTFNsWwHvOn3wYOW",
     "type":"CODE",
     "hide_input_from_viewers":false,
     "hide_output_from_viewers":false,
     "report_properties":{
      "rowId":"9uUlmYlZTjbz0HxlWmy7tp"
     }
    }
   }
  },
  {
   "cell_type":"code",
   "source":[
    "sns.boxplot(titanic[titanic['Pclass']==2]['Pclass'], titanic[titanic['Pclass']==2]['Fare'])"
   ],
   "execution_count":14,
   "outputs":[
    {
     "name":"stderr",
     "text":[
      "\/opt\/python\/envs\/default\/lib\/python3.8\/site-packages\/seaborn\/_decorators.py:36: FutureWarning: Pass the following variables as keyword args: x, y. From version 0.12, the only valid positional argument will be `data`, and passing other arguments without an explicit keyword will result in an error or misinterpretation.\n",
      "  warnings.warn(\n"
     ],
     "output_type":"stream"
    },
    {
     "data":{
      "text\/plain":[
       "<AxesSubplot:xlabel='Pclass', ylabel='Fare'>"
      ]
     },
     "metadata":{
      
     },
     "output_type":"display_data"
    },
    {
     "data":{
      "image\/png":"[encoded data removed]"
     },
     "metadata":{
      "image\/png":{
       
      }
     },
     "output_type":"display_data"
    }
   ],
   "metadata":{
    "datalore":{
     "node_id":"L4eOcw59t1W5lA0nX6LnWp",
     "type":"CODE",
     "hide_input_from_viewers":false,
     "hide_output_from_viewers":false,
     "report_properties":{
      "rowId":"c3fzoec8asP5vNomDU2QOt"
     }
    }
   }
  },
  {
   "cell_type":"code",
   "source":[
    "sns.regplot(\"Age\", \"Fare\", data=titanic, robust=True, ci=None, color=\"seagreen\")"
   ],
   "execution_count":15,
   "outputs":[
    {
     "name":"stderr",
     "text":[
      "\/opt\/python\/envs\/default\/lib\/python3.8\/site-packages\/seaborn\/_decorators.py:36: FutureWarning: Pass the following variables as keyword args: x, y. From version 0.12, the only valid positional argument will be `data`, and passing other arguments without an explicit keyword will result in an error or misinterpretation.\n",
      "  warnings.warn(\n"
     ],
     "output_type":"stream"
    },
    {
     "data":{
      "text\/plain":[
       "<AxesSubplot:xlabel='Age', ylabel='Fare'>"
      ]
     },
     "metadata":{
      
     },
     "output_type":"display_data"
    },
    {
     "data":{
      "image\/png":"[encoded data removed]"
     },
     "metadata":{
      "image\/png":{
       
      }
     },
     "output_type":"display_data"
    }
   ],
   "metadata":{
    "datalore":{
     "node_id":"n7anaxoZ3erTfB9u7iKmla",
     "type":"CODE",
     "hide_input_from_viewers":false,
     "hide_output_from_viewers":false,
     "report_properties":{
      "rowId":"vVrnnWHBbHVwCYisznSLLg"
     }
    }
   }
  },
  {
   "cell_type":"code",
   "source":[
    "# відкинути виброси "
   ],
   "execution_count":null,
   "outputs":[
    
   ],
   "metadata":{
    "datalore":{
     "node_id":"Q3inF0QbpWGG6JhfTaqFAp",
     "type":"CODE",
     "hide_input_from_viewers":false,
     "hide_output_from_viewers":false,
     "report_properties":{
      "rowId":"yeS6kfdSG1Fjmu3WAtsVC7"
     }
    }
   }
  },
  {
   "cell_type":"code",
   "source":[
    "sns.countplot(\"Pclass\", data=titanic, hue=\"Parch\", palette=\"BuGn\")"
   ],
   "execution_count":16,
   "outputs":[
    {
     "name":"stderr",
     "text":[
      "\/opt\/python\/envs\/default\/lib\/python3.8\/site-packages\/seaborn\/_decorators.py:36: FutureWarning: Pass the following variable as a keyword arg: x. From version 0.12, the only valid positional argument will be `data`, and passing other arguments without an explicit keyword will result in an error or misinterpretation.\n",
      "  warnings.warn(\n"
     ],
     "output_type":"stream"
    },
    {
     "data":{
      "text\/plain":[
       "<AxesSubplot:xlabel='Pclass', ylabel='count'>"
      ]
     },
     "metadata":{
      
     },
     "output_type":"display_data"
    },
    {
     "data":{
      "image\/png":"[encoded data removed]"
     },
     "metadata":{
      "image\/png":{
       
      }
     },
     "output_type":"display_data"
    }
   ],
   "metadata":{
    "datalore":{
     "node_id":"jxBfo3zpS7dwOUs2NVPt4y",
     "type":"CODE",
     "hide_input_from_viewers":false,
     "hide_output_from_viewers":false,
     "report_properties":{
      "rowId":"t6EGTiqtZ54yfZ3qa6DgCx"
     }
    }
   }
  },
  {
   "cell_type":"code",
   "source":[
    "sns.lmplot(\"Age\", \"Survived\", titanic,  y_jitter=.05)"
   ],
   "execution_count":17,
   "outputs":[
    {
     "name":"stderr",
     "text":[
      "\/opt\/python\/envs\/default\/lib\/python3.8\/site-packages\/seaborn\/_decorators.py:36: FutureWarning: Pass the following variables as keyword args: x, y, data. From version 0.12, the only valid positional argument will be `data`, and passing other arguments without an explicit keyword will result in an error or misinterpretation.\n",
      "  warnings.warn(\n"
     ],
     "output_type":"stream"
    },
    {
     "data":{
      "text\/plain":[
       "<seaborn.axisgrid.FacetGrid at 0x7f55d47f9e20>"
      ]
     },
     "metadata":{
      
     },
     "output_type":"display_data"
    },
    {
     "data":{
      "image\/png":"[encoded data removed]"
     },
     "metadata":{
      "image\/png":{
       
      }
     },
     "output_type":"display_data"
    }
   ],
   "metadata":{
    "datalore":{
     "node_id":"HTQBNtEMewjm8ZO5yV5Zgj",
     "type":"CODE",
     "hide_input_from_viewers":false,
     "hide_output_from_viewers":false,
     "report_properties":{
      "rowId":"271Tlf0F6VGhz16rVVXJIC"
     }
    }
   }
  },
  {
   "cell_type":"code",
   "source":[
    "age_bins = [15, 30, 45, 60]\n",
    "sns.lmplot(\"Age\", \"Survived\", titanic, hue=\"Sex\", x_bins=age_bins)"
   ],
   "execution_count":18,
   "outputs":[
    {
     "name":"stderr",
     "text":[
      "\/opt\/python\/envs\/default\/lib\/python3.8\/site-packages\/seaborn\/_decorators.py:36: FutureWarning: Pass the following variables as keyword args: x, y, data. From version 0.12, the only valid positional argument will be `data`, and passing other arguments without an explicit keyword will result in an error or misinterpretation.\n",
      "  warnings.warn(\n"
     ],
     "output_type":"stream"
    },
    {
     "data":{
      "text\/plain":[
       "<seaborn.axisgrid.FacetGrid at 0x7f55d4baca90>"
      ]
     },
     "metadata":{
      
     },
     "output_type":"display_data"
    },
    {
     "data":{
      "image\/png":"[encoded data removed]"
     },
     "metadata":{
      "image\/png":{
       
      }
     },
     "output_type":"display_data"
    }
   ],
   "metadata":{
    "datalore":{
     "node_id":"apvNw2HTZQUkk6docj13eP",
     "type":"CODE",
     "hide_input_from_viewers":false,
     "hide_output_from_viewers":false,
     "report_properties":{
      "rowId":"eMIMW4hA5HERC3JOyA4rbb"
     }
    }
   }
  },
  {
   "cell_type":"code",
   "source":[
    "sns.lmplot(\"Age\", \"Survived\", titanic, hue=\"Pclass\", x_bins=age_bins)"
   ],
   "execution_count":null,
   "outputs":[
    {
     "name":"stdout",
     "text":[
      "\n"
     ],
     "output_type":"stream"
    },
    {
     "name":"stderr",
     "text":[
      "\n"
     ],
     "output_type":"stream"
    },
    {
     "data":{
      "text\/plain":[
       "<seaborn.axisgrid.FacetGrid at 0x1f559b69fc8>"
      ]
     },
     "metadata":{
      
     },
     "output_type":"display_data"
    },
    {
     "data":{
      "image\/png":"[encoded data removed]"
     },
     "metadata":{
      "image\/png":{
       
      }
     },
     "output_type":"display_data"
    },
    {
     "data":{
      "text\/plain":[
       "<Figure size 402.375x360 with 1 Axes>"
      ]
     },
     "metadata":{
      
     },
     "output_type":"display_data"
    }
   ],
   "metadata":{
    "datalore":{
     "node_id":"9yP1aV7yTjrmKi4ezMzSl7",
     "type":"CODE",
     "hide_input_from_viewers":false,
     "hide_output_from_viewers":false,
     "report_properties":{
      "rowId":"eSED2TTjMz4UBcZvMax9LN"
     }
    }
   }
  },
  {
   "cell_type":"code",
   "source":[
    "titanic.head()"
   ],
   "execution_count":19,
   "outputs":[
    {
     "data":{
      "text\/html":[
       "<div>\n",
       "<style scoped>\n",
       "    .dataframe tbody tr th:only-of-type {\n",
       "        vertical-align: middle;\n",
       "    }\n",
       "\n",
       "    .dataframe tbody tr th {\n",
       "        vertical-align: top;\n",
       "    }\n",
       "\n",
       "    .dataframe thead th {\n",
       "        text-align: right;\n",
       "    }\n",
       "<\/style>\n",
       "<table border=\"1\" class=\"dataframe\">\n",
       "  <thead>\n",
       "    <tr style=\"text-align: right;\">\n",
       "      <th><\/th>\n",
       "      <th>PassengerId<\/th>\n",
       "      <th>Survived<\/th>\n",
       "      <th>Pclass<\/th>\n",
       "      <th>Sex<\/th>\n",
       "      <th>Age<\/th>\n",
       "      <th>SibSp<\/th>\n",
       "      <th>Parch<\/th>\n",
       "      <th>Fare<\/th>\n",
       "      <th>Embarked<\/th>\n",
       "      <th>who<\/th>\n",
       "    <\/tr>\n",
       "  <\/thead>\n",
       "  <tbody>\n",
       "    <tr>\n",
       "      <th>0<\/th>\n",
       "      <td>1<\/td>\n",
       "      <td>0<\/td>\n",
       "      <td>3<\/td>\n",
       "      <td>male<\/td>\n",
       "      <td>22.0<\/td>\n",
       "      <td>1<\/td>\n",
       "      <td>0<\/td>\n",
       "      <td>7.2500<\/td>\n",
       "      <td>S<\/td>\n",
       "      <td>man<\/td>\n",
       "    <\/tr>\n",
       "    <tr>\n",
       "      <th>1<\/th>\n",
       "      <td>2<\/td>\n",
       "      <td>1<\/td>\n",
       "      <td>1<\/td>\n",
       "      <td>female<\/td>\n",
       "      <td>38.0<\/td>\n",
       "      <td>1<\/td>\n",
       "      <td>0<\/td>\n",
       "      <td>71.2833<\/td>\n",
       "      <td>C<\/td>\n",
       "      <td>woman<\/td>\n",
       "    <\/tr>\n",
       "    <tr>\n",
       "      <th>2<\/th>\n",
       "      <td>3<\/td>\n",
       "      <td>1<\/td>\n",
       "      <td>3<\/td>\n",
       "      <td>female<\/td>\n",
       "      <td>26.0<\/td>\n",
       "      <td>0<\/td>\n",
       "      <td>0<\/td>\n",
       "      <td>7.9250<\/td>\n",
       "      <td>S<\/td>\n",
       "      <td>woman<\/td>\n",
       "    <\/tr>\n",
       "    <tr>\n",
       "      <th>3<\/th>\n",
       "      <td>4<\/td>\n",
       "      <td>1<\/td>\n",
       "      <td>1<\/td>\n",
       "      <td>female<\/td>\n",
       "      <td>35.0<\/td>\n",
       "      <td>1<\/td>\n",
       "      <td>0<\/td>\n",
       "      <td>53.1000<\/td>\n",
       "      <td>S<\/td>\n",
       "      <td>woman<\/td>\n",
       "    <\/tr>\n",
       "    <tr>\n",
       "      <th>4<\/th>\n",
       "      <td>5<\/td>\n",
       "      <td>0<\/td>\n",
       "      <td>3<\/td>\n",
       "      <td>male<\/td>\n",
       "      <td>35.0<\/td>\n",
       "      <td>0<\/td>\n",
       "      <td>0<\/td>\n",
       "      <td>8.0500<\/td>\n",
       "      <td>S<\/td>\n",
       "      <td>man<\/td>\n",
       "    <\/tr>\n",
       "  <\/tbody>\n",
       "<\/table>\n",
       "<\/div>"
      ]
     },
     "metadata":{
      
     },
     "output_type":"display_data"
    }
   ],
   "metadata":{
    "datalore":{
     "node_id":"37dszg5NiNxj4E3hXlIV28",
     "type":"CODE",
     "hide_input_from_viewers":false,
     "hide_output_from_viewers":false,
     "report_properties":{
      "rowId":"z2mzqMAV0n0mFq9R8RboE6"
     }
    }
   }
  },
  {
   "cell_type":"code",
   "source":[
    "titanic['Sex_code'] = titanic['Sex'].map( {'female': 1, 'male': 0} )\n",
    "titanic.head()"
   ],
   "execution_count":20,
   "outputs":[
    {
     "data":{
      "text\/html":[
       "<div>\n",
       "<style scoped>\n",
       "    .dataframe tbody tr th:only-of-type {\n",
       "        vertical-align: middle;\n",
       "    }\n",
       "\n",
       "    .dataframe tbody tr th {\n",
       "        vertical-align: top;\n",
       "    }\n",
       "\n",
       "    .dataframe thead th {\n",
       "        text-align: right;\n",
       "    }\n",
       "<\/style>\n",
       "<table border=\"1\" class=\"dataframe\">\n",
       "  <thead>\n",
       "    <tr style=\"text-align: right;\">\n",
       "      <th><\/th>\n",
       "      <th>PassengerId<\/th>\n",
       "      <th>Survived<\/th>\n",
       "      <th>Pclass<\/th>\n",
       "      <th>Sex<\/th>\n",
       "      <th>Age<\/th>\n",
       "      <th>SibSp<\/th>\n",
       "      <th>Parch<\/th>\n",
       "      <th>Fare<\/th>\n",
       "      <th>Embarked<\/th>\n",
       "      <th>who<\/th>\n",
       "      <th>Sex_code<\/th>\n",
       "    <\/tr>\n",
       "  <\/thead>\n",
       "  <tbody>\n",
       "    <tr>\n",
       "      <th>0<\/th>\n",
       "      <td>1<\/td>\n",
       "      <td>0<\/td>\n",
       "      <td>3<\/td>\n",
       "      <td>male<\/td>\n",
       "      <td>22.0<\/td>\n",
       "      <td>1<\/td>\n",
       "      <td>0<\/td>\n",
       "      <td>7.2500<\/td>\n",
       "      <td>S<\/td>\n",
       "      <td>man<\/td>\n",
       "      <td>0<\/td>\n",
       "    <\/tr>\n",
       "    <tr>\n",
       "      <th>1<\/th>\n",
       "      <td>2<\/td>\n",
       "      <td>1<\/td>\n",
       "      <td>1<\/td>\n",
       "      <td>female<\/td>\n",
       "      <td>38.0<\/td>\n",
       "      <td>1<\/td>\n",
       "      <td>0<\/td>\n",
       "      <td>71.2833<\/td>\n",
       "      <td>C<\/td>\n",
       "      <td>woman<\/td>\n",
       "      <td>1<\/td>\n",
       "    <\/tr>\n",
       "    <tr>\n",
       "      <th>2<\/th>\n",
       "      <td>3<\/td>\n",
       "      <td>1<\/td>\n",
       "      <td>3<\/td>\n",
       "      <td>female<\/td>\n",
       "      <td>26.0<\/td>\n",
       "      <td>0<\/td>\n",
       "      <td>0<\/td>\n",
       "      <td>7.9250<\/td>\n",
       "      <td>S<\/td>\n",
       "      <td>woman<\/td>\n",
       "      <td>1<\/td>\n",
       "    <\/tr>\n",
       "    <tr>\n",
       "      <th>3<\/th>\n",
       "      <td>4<\/td>\n",
       "      <td>1<\/td>\n",
       "      <td>1<\/td>\n",
       "      <td>female<\/td>\n",
       "      <td>35.0<\/td>\n",
       "      <td>1<\/td>\n",
       "      <td>0<\/td>\n",
       "      <td>53.1000<\/td>\n",
       "      <td>S<\/td>\n",
       "      <td>woman<\/td>\n",
       "      <td>1<\/td>\n",
       "    <\/tr>\n",
       "    <tr>\n",
       "      <th>4<\/th>\n",
       "      <td>5<\/td>\n",
       "      <td>0<\/td>\n",
       "      <td>3<\/td>\n",
       "      <td>male<\/td>\n",
       "      <td>35.0<\/td>\n",
       "      <td>0<\/td>\n",
       "      <td>0<\/td>\n",
       "      <td>8.0500<\/td>\n",
       "      <td>S<\/td>\n",
       "      <td>man<\/td>\n",
       "      <td>0<\/td>\n",
       "    <\/tr>\n",
       "  <\/tbody>\n",
       "<\/table>\n",
       "<\/div>"
      ]
     },
     "metadata":{
      
     },
     "output_type":"display_data"
    }
   ],
   "metadata":{
    "datalore":{
     "node_id":"slhanBE3jN4u51wwUdNhTx",
     "type":"CODE",
     "hide_input_from_viewers":false,
     "hide_output_from_viewers":false,
     "report_properties":{
      "rowId":"8DNbwubFV0tueTpvY5z1lJ"
     }
    }
   }
  },
  {
   "cell_type":"code",
   "source":[
    "titanic['FamilySize'] = titanic['SibSp'] + titanic['Parch'] + 1"
   ],
   "execution_count":21,
   "outputs":[
    
   ],
   "metadata":{
    "datalore":{
     "node_id":"djyb6aV5kovtUGn7XXwbJg",
     "type":"CODE",
     "hide_input_from_viewers":false,
     "hide_output_from_viewers":false,
     "report_properties":{
      "rowId":"Lyi4whZc3GnXfg6usCTX8d"
     }
    }
   }
  },
  {
   "cell_type":"code",
   "source":[
    "titanic[['FamilySize', 'Survived']].groupby(['FamilySize'], as_index=False).mean().sort_values(by='Survived', ascending=False)"
   ],
   "execution_count":22,
   "outputs":[
    {
     "data":{
      "text\/html":[
       "<div>\n",
       "<style scoped>\n",
       "    .dataframe tbody tr th:only-of-type {\n",
       "        vertical-align: middle;\n",
       "    }\n",
       "\n",
       "    .dataframe tbody tr th {\n",
       "        vertical-align: top;\n",
       "    }\n",
       "\n",
       "    .dataframe thead th {\n",
       "        text-align: right;\n",
       "    }\n",
       "<\/style>\n",
       "<table border=\"1\" class=\"dataframe\">\n",
       "  <thead>\n",
       "    <tr style=\"text-align: right;\">\n",
       "      <th><\/th>\n",
       "      <th>FamilySize<\/th>\n",
       "      <th>Survived<\/th>\n",
       "    <\/tr>\n",
       "  <\/thead>\n",
       "  <tbody>\n",
       "    <tr>\n",
       "      <th>3<\/th>\n",
       "      <td>4<\/td>\n",
       "      <td>0.724138<\/td>\n",
       "    <\/tr>\n",
       "    <tr>\n",
       "      <th>2<\/th>\n",
       "      <td>3<\/td>\n",
       "      <td>0.578431<\/td>\n",
       "    <\/tr>\n",
       "    <tr>\n",
       "      <th>1<\/th>\n",
       "      <td>2<\/td>\n",
       "      <td>0.552795<\/td>\n",
       "    <\/tr>\n",
       "    <tr>\n",
       "      <th>6<\/th>\n",
       "      <td>7<\/td>\n",
       "      <td>0.333333<\/td>\n",
       "    <\/tr>\n",
       "    <tr>\n",
       "      <th>0<\/th>\n",
       "      <td>1<\/td>\n",
       "      <td>0.303538<\/td>\n",
       "    <\/tr>\n",
       "    <tr>\n",
       "      <th>4<\/th>\n",
       "      <td>5<\/td>\n",
       "      <td>0.200000<\/td>\n",
       "    <\/tr>\n",
       "    <tr>\n",
       "      <th>5<\/th>\n",
       "      <td>6<\/td>\n",
       "      <td>0.136364<\/td>\n",
       "    <\/tr>\n",
       "    <tr>\n",
       "      <th>7<\/th>\n",
       "      <td>8<\/td>\n",
       "      <td>0.000000<\/td>\n",
       "    <\/tr>\n",
       "    <tr>\n",
       "      <th>8<\/th>\n",
       "      <td>11<\/td>\n",
       "      <td>0.000000<\/td>\n",
       "    <\/tr>\n",
       "  <\/tbody>\n",
       "<\/table>\n",
       "<\/div>"
      ]
     },
     "metadata":{
      
     },
     "output_type":"display_data"
    }
   ],
   "metadata":{
    "datalore":{
     "node_id":"SWplrw8xZwPmqiLUPTm1xP",
     "type":"CODE",
     "hide_input_from_viewers":false,
     "hide_output_from_viewers":false,
     "report_properties":{
      "rowId":"NOB7n1fwtdZz5oLZ4aelb5"
     }
    }
   }
  },
  {
   "cell_type":"code",
   "source":[
    "titanic.head()"
   ],
   "execution_count":23,
   "outputs":[
    {
     "data":{
      "text\/html":[
       "<div>\n",
       "<style scoped>\n",
       "    .dataframe tbody tr th:only-of-type {\n",
       "        vertical-align: middle;\n",
       "    }\n",
       "\n",
       "    .dataframe tbody tr th {\n",
       "        vertical-align: top;\n",
       "    }\n",
       "\n",
       "    .dataframe thead th {\n",
       "        text-align: right;\n",
       "    }\n",
       "<\/style>\n",
       "<table border=\"1\" class=\"dataframe\">\n",
       "  <thead>\n",
       "    <tr style=\"text-align: right;\">\n",
       "      <th><\/th>\n",
       "      <th>PassengerId<\/th>\n",
       "      <th>Survived<\/th>\n",
       "      <th>Pclass<\/th>\n",
       "      <th>Sex<\/th>\n",
       "      <th>Age<\/th>\n",
       "      <th>SibSp<\/th>\n",
       "      <th>Parch<\/th>\n",
       "      <th>Fare<\/th>\n",
       "      <th>Embarked<\/th>\n",
       "      <th>who<\/th>\n",
       "      <th>Sex_code<\/th>\n",
       "      <th>FamilySize<\/th>\n",
       "    <\/tr>\n",
       "  <\/thead>\n",
       "  <tbody>\n",
       "    <tr>\n",
       "      <th>0<\/th>\n",
       "      <td>1<\/td>\n",
       "      <td>0<\/td>\n",
       "      <td>3<\/td>\n",
       "      <td>male<\/td>\n",
       "      <td>22.0<\/td>\n",
       "      <td>1<\/td>\n",
       "      <td>0<\/td>\n",
       "      <td>7.2500<\/td>\n",
       "      <td>S<\/td>\n",
       "      <td>man<\/td>\n",
       "      <td>0<\/td>\n",
       "      <td>2<\/td>\n",
       "    <\/tr>\n",
       "    <tr>\n",
       "      <th>1<\/th>\n",
       "      <td>2<\/td>\n",
       "      <td>1<\/td>\n",
       "      <td>1<\/td>\n",
       "      <td>female<\/td>\n",
       "      <td>38.0<\/td>\n",
       "      <td>1<\/td>\n",
       "      <td>0<\/td>\n",
       "      <td>71.2833<\/td>\n",
       "      <td>C<\/td>\n",
       "      <td>woman<\/td>\n",
       "      <td>1<\/td>\n",
       "      <td>2<\/td>\n",
       "    <\/tr>\n",
       "    <tr>\n",
       "      <th>2<\/th>\n",
       "      <td>3<\/td>\n",
       "      <td>1<\/td>\n",
       "      <td>3<\/td>\n",
       "      <td>female<\/td>\n",
       "      <td>26.0<\/td>\n",
       "      <td>0<\/td>\n",
       "      <td>0<\/td>\n",
       "      <td>7.9250<\/td>\n",
       "      <td>S<\/td>\n",
       "      <td>woman<\/td>\n",
       "      <td>1<\/td>\n",
       "      <td>1<\/td>\n",
       "    <\/tr>\n",
       "    <tr>\n",
       "      <th>3<\/th>\n",
       "      <td>4<\/td>\n",
       "      <td>1<\/td>\n",
       "      <td>1<\/td>\n",
       "      <td>female<\/td>\n",
       "      <td>35.0<\/td>\n",
       "      <td>1<\/td>\n",
       "      <td>0<\/td>\n",
       "      <td>53.1000<\/td>\n",
       "      <td>S<\/td>\n",
       "      <td>woman<\/td>\n",
       "      <td>1<\/td>\n",
       "      <td>2<\/td>\n",
       "    <\/tr>\n",
       "    <tr>\n",
       "      <th>4<\/th>\n",
       "      <td>5<\/td>\n",
       "      <td>0<\/td>\n",
       "      <td>3<\/td>\n",
       "      <td>male<\/td>\n",
       "      <td>35.0<\/td>\n",
       "      <td>0<\/td>\n",
       "      <td>0<\/td>\n",
       "      <td>8.0500<\/td>\n",
       "      <td>S<\/td>\n",
       "      <td>man<\/td>\n",
       "      <td>0<\/td>\n",
       "      <td>1<\/td>\n",
       "    <\/tr>\n",
       "  <\/tbody>\n",
       "<\/table>\n",
       "<\/div>"
      ]
     },
     "metadata":{
      
     },
     "output_type":"display_data"
    }
   ],
   "metadata":{
    "datalore":{
     "node_id":"DdADIZ2VUB95frcXLqb0Cf",
     "type":"CODE",
     "hide_input_from_viewers":false,
     "hide_output_from_viewers":false,
     "report_properties":{
      "rowId":"A6bTgbdEuJw4Vri3ZSn6np"
     }
    }
   }
  },
  {
   "cell_type":"code",
   "source":[
    "pd.get_dummies(titanic['Pclass'])"
   ],
   "execution_count":75,
   "outputs":[
    {
     "data":{
      "text\/html":[
       "<div>\n",
       "<style scoped>\n",
       "    .dataframe tbody tr th:only-of-type {\n",
       "        vertical-align: middle;\n",
       "    }\n",
       "\n",
       "    .dataframe tbody tr th {\n",
       "        vertical-align: top;\n",
       "    }\n",
       "\n",
       "    .dataframe thead th {\n",
       "        text-align: right;\n",
       "    }\n",
       "<\/style>\n",
       "<table border=\"1\" class=\"dataframe\">\n",
       "  <thead>\n",
       "    <tr style=\"text-align: right;\">\n",
       "      <th><\/th>\n",
       "      <th>1<\/th>\n",
       "      <th>2<\/th>\n",
       "      <th>3<\/th>\n",
       "    <\/tr>\n",
       "  <\/thead>\n",
       "  <tbody>\n",
       "    <tr>\n",
       "      <th>0<\/th>\n",
       "      <td>0<\/td>\n",
       "      <td>0<\/td>\n",
       "      <td>1<\/td>\n",
       "    <\/tr>\n",
       "    <tr>\n",
       "      <th>1<\/th>\n",
       "      <td>1<\/td>\n",
       "      <td>0<\/td>\n",
       "      <td>0<\/td>\n",
       "    <\/tr>\n",
       "    <tr>\n",
       "      <th>2<\/th>\n",
       "      <td>0<\/td>\n",
       "      <td>0<\/td>\n",
       "      <td>1<\/td>\n",
       "    <\/tr>\n",
       "    <tr>\n",
       "      <th>3<\/th>\n",
       "      <td>1<\/td>\n",
       "      <td>0<\/td>\n",
       "      <td>0<\/td>\n",
       "    <\/tr>\n",
       "    <tr>\n",
       "      <th>4<\/th>\n",
       "      <td>0<\/td>\n",
       "      <td>0<\/td>\n",
       "      <td>1<\/td>\n",
       "    <\/tr>\n",
       "    <tr>\n",
       "      <th>...<\/th>\n",
       "      <td>...<\/td>\n",
       "      <td>...<\/td>\n",
       "      <td>...<\/td>\n",
       "    <\/tr>\n",
       "    <tr>\n",
       "      <th>886<\/th>\n",
       "      <td>0<\/td>\n",
       "      <td>1<\/td>\n",
       "      <td>0<\/td>\n",
       "    <\/tr>\n",
       "    <tr>\n",
       "      <th>887<\/th>\n",
       "      <td>1<\/td>\n",
       "      <td>0<\/td>\n",
       "      <td>0<\/td>\n",
       "    <\/tr>\n",
       "    <tr>\n",
       "      <th>888<\/th>\n",
       "      <td>0<\/td>\n",
       "      <td>0<\/td>\n",
       "      <td>1<\/td>\n",
       "    <\/tr>\n",
       "    <tr>\n",
       "      <th>889<\/th>\n",
       "      <td>1<\/td>\n",
       "      <td>0<\/td>\n",
       "      <td>0<\/td>\n",
       "    <\/tr>\n",
       "    <tr>\n",
       "      <th>890<\/th>\n",
       "      <td>0<\/td>\n",
       "      <td>0<\/td>\n",
       "      <td>1<\/td>\n",
       "    <\/tr>\n",
       "  <\/tbody>\n",
       "<\/table>\n",
       "<p>891 rows × 3 columns<\/p>\n",
       "<\/div>"
      ]
     },
     "metadata":{
      
     },
     "output_type":"display_data"
    }
   ],
   "metadata":{
    "datalore":{
     "node_id":"LvSc1pmVESStdXem8ova2D",
     "type":"CODE",
     "hide_input_from_viewers":false,
     "hide_output_from_viewers":false,
     "report_properties":{
      "rowId":"vaXjDDTAoiZws5fxZDcrcP"
     }
    }
   }
  },
  {
   "cell_type":"code",
   "source":[
    "pclass = pd.get_dummies(titanic['Pclass'],drop_first=True)\n",
    "pclass.columns = [\"2nd_class\",\"3rd_class\"]\n",
    "pclass"
   ],
   "execution_count":25,
   "outputs":[
    {
     "data":{
      "text\/html":[
       "<div>\n",
       "<style scoped>\n",
       "    .dataframe tbody tr th:only-of-type {\n",
       "        vertical-align: middle;\n",
       "    }\n",
       "\n",
       "    .dataframe tbody tr th {\n",
       "        vertical-align: top;\n",
       "    }\n",
       "\n",
       "    .dataframe thead th {\n",
       "        text-align: right;\n",
       "    }\n",
       "<\/style>\n",
       "<table border=\"1\" class=\"dataframe\">\n",
       "  <thead>\n",
       "    <tr style=\"text-align: right;\">\n",
       "      <th><\/th>\n",
       "      <th>2nd_class<\/th>\n",
       "      <th>3rd_class<\/th>\n",
       "    <\/tr>\n",
       "  <\/thead>\n",
       "  <tbody>\n",
       "    <tr>\n",
       "      <th>0<\/th>\n",
       "      <td>0<\/td>\n",
       "      <td>1<\/td>\n",
       "    <\/tr>\n",
       "    <tr>\n",
       "      <th>1<\/th>\n",
       "      <td>0<\/td>\n",
       "      <td>0<\/td>\n",
       "    <\/tr>\n",
       "    <tr>\n",
       "      <th>2<\/th>\n",
       "      <td>0<\/td>\n",
       "      <td>1<\/td>\n",
       "    <\/tr>\n",
       "    <tr>\n",
       "      <th>3<\/th>\n",
       "      <td>0<\/td>\n",
       "      <td>0<\/td>\n",
       "    <\/tr>\n",
       "    <tr>\n",
       "      <th>4<\/th>\n",
       "      <td>0<\/td>\n",
       "      <td>1<\/td>\n",
       "    <\/tr>\n",
       "    <tr>\n",
       "      <th>...<\/th>\n",
       "      <td>...<\/td>\n",
       "      <td>...<\/td>\n",
       "    <\/tr>\n",
       "    <tr>\n",
       "      <th>886<\/th>\n",
       "      <td>1<\/td>\n",
       "      <td>0<\/td>\n",
       "    <\/tr>\n",
       "    <tr>\n",
       "      <th>887<\/th>\n",
       "      <td>0<\/td>\n",
       "      <td>0<\/td>\n",
       "    <\/tr>\n",
       "    <tr>\n",
       "      <th>888<\/th>\n",
       "      <td>0<\/td>\n",
       "      <td>1<\/td>\n",
       "    <\/tr>\n",
       "    <tr>\n",
       "      <th>889<\/th>\n",
       "      <td>0<\/td>\n",
       "      <td>0<\/td>\n",
       "    <\/tr>\n",
       "    <tr>\n",
       "      <th>890<\/th>\n",
       "      <td>0<\/td>\n",
       "      <td>1<\/td>\n",
       "    <\/tr>\n",
       "  <\/tbody>\n",
       "<\/table>\n",
       "<p>891 rows × 2 columns<\/p>\n",
       "<\/div>"
      ]
     },
     "metadata":{
      
     },
     "output_type":"display_data"
    }
   ],
   "metadata":{
    "datalore":{
     "node_id":"C8F4Af8m2FVY4OrhN3MTN3",
     "type":"CODE",
     "hide_input_from_viewers":false,
     "hide_output_from_viewers":false,
     "report_properties":{
      "rowId":"LG9SgJra41NM3NtELlwCnv"
     }
    }
   }
  },
  {
   "cell_type":"code",
   "source":[
    "sibsp = pd.get_dummies(titanic['SibSp'],drop_first=True).copy()\n",
    "sibsp"
   ],
   "execution_count":26,
   "outputs":[
    {
     "data":{
      "text\/html":[
       "<div>\n",
       "<style scoped>\n",
       "    .dataframe tbody tr th:only-of-type {\n",
       "        vertical-align: middle;\n",
       "    }\n",
       "\n",
       "    .dataframe tbody tr th {\n",
       "        vertical-align: top;\n",
       "    }\n",
       "\n",
       "    .dataframe thead th {\n",
       "        text-align: right;\n",
       "    }\n",
       "<\/style>\n",
       "<table border=\"1\" class=\"dataframe\">\n",
       "  <thead>\n",
       "    <tr style=\"text-align: right;\">\n",
       "      <th><\/th>\n",
       "      <th>1<\/th>\n",
       "      <th>2<\/th>\n",
       "      <th>3<\/th>\n",
       "      <th>4<\/th>\n",
       "      <th>5<\/th>\n",
       "      <th>8<\/th>\n",
       "    <\/tr>\n",
       "  <\/thead>\n",
       "  <tbody>\n",
       "    <tr>\n",
       "      <th>0<\/th>\n",
       "      <td>1<\/td>\n",
       "      <td>0<\/td>\n",
       "      <td>0<\/td>\n",
       "      <td>0<\/td>\n",
       "      <td>0<\/td>\n",
       "      <td>0<\/td>\n",
       "    <\/tr>\n",
       "    <tr>\n",
       "      <th>1<\/th>\n",
       "      <td>1<\/td>\n",
       "      <td>0<\/td>\n",
       "      <td>0<\/td>\n",
       "      <td>0<\/td>\n",
       "      <td>0<\/td>\n",
       "      <td>0<\/td>\n",
       "    <\/tr>\n",
       "    <tr>\n",
       "      <th>2<\/th>\n",
       "      <td>0<\/td>\n",
       "      <td>0<\/td>\n",
       "      <td>0<\/td>\n",
       "      <td>0<\/td>\n",
       "      <td>0<\/td>\n",
       "      <td>0<\/td>\n",
       "    <\/tr>\n",
       "    <tr>\n",
       "      <th>3<\/th>\n",
       "      <td>1<\/td>\n",
       "      <td>0<\/td>\n",
       "      <td>0<\/td>\n",
       "      <td>0<\/td>\n",
       "      <td>0<\/td>\n",
       "      <td>0<\/td>\n",
       "    <\/tr>\n",
       "    <tr>\n",
       "      <th>4<\/th>\n",
       "      <td>0<\/td>\n",
       "      <td>0<\/td>\n",
       "      <td>0<\/td>\n",
       "      <td>0<\/td>\n",
       "      <td>0<\/td>\n",
       "      <td>0<\/td>\n",
       "    <\/tr>\n",
       "    <tr>\n",
       "      <th>...<\/th>\n",
       "      <td>...<\/td>\n",
       "      <td>...<\/td>\n",
       "      <td>...<\/td>\n",
       "      <td>...<\/td>\n",
       "      <td>...<\/td>\n",
       "      <td>...<\/td>\n",
       "    <\/tr>\n",
       "    <tr>\n",
       "      <th>886<\/th>\n",
       "      <td>0<\/td>\n",
       "      <td>0<\/td>\n",
       "      <td>0<\/td>\n",
       "      <td>0<\/td>\n",
       "      <td>0<\/td>\n",
       "      <td>0<\/td>\n",
       "    <\/tr>\n",
       "    <tr>\n",
       "      <th>887<\/th>\n",
       "      <td>0<\/td>\n",
       "      <td>0<\/td>\n",
       "      <td>0<\/td>\n",
       "      <td>0<\/td>\n",
       "      <td>0<\/td>\n",
       "      <td>0<\/td>\n",
       "    <\/tr>\n",
       "    <tr>\n",
       "      <th>888<\/th>\n",
       "      <td>1<\/td>\n",
       "      <td>0<\/td>\n",
       "      <td>0<\/td>\n",
       "      <td>0<\/td>\n",
       "      <td>0<\/td>\n",
       "      <td>0<\/td>\n",
       "    <\/tr>\n",
       "    <tr>\n",
       "      <th>889<\/th>\n",
       "      <td>0<\/td>\n",
       "      <td>0<\/td>\n",
       "      <td>0<\/td>\n",
       "      <td>0<\/td>\n",
       "      <td>0<\/td>\n",
       "      <td>0<\/td>\n",
       "    <\/tr>\n",
       "    <tr>\n",
       "      <th>890<\/th>\n",
       "      <td>0<\/td>\n",
       "      <td>0<\/td>\n",
       "      <td>0<\/td>\n",
       "      <td>0<\/td>\n",
       "      <td>0<\/td>\n",
       "      <td>0<\/td>\n",
       "    <\/tr>\n",
       "  <\/tbody>\n",
       "<\/table>\n",
       "<p>891 rows × 6 columns<\/p>\n",
       "<\/div>"
      ]
     },
     "metadata":{
      
     },
     "output_type":"display_data"
    }
   ],
   "metadata":{
    "datalore":{
     "node_id":"ux0npCOxXD0pPJGs8xHKEY",
     "type":"CODE",
     "hide_input_from_viewers":false,
     "hide_output_from_viewers":false,
     "report_properties":{
      "rowId":"3k6WNkABHMByswn7zVXCKU"
     }
    }
   }
  },
  {
   "cell_type":"code",
   "source":[
    "def new_age(age):\n",
    "    if 0<=age and age<18:\n",
    "        return 0\n",
    "    elif 18<=age and age<25:\n",
    "        return 1\n",
    "    elif 25<=age and age<45:\n",
    "        return 2\n",
    "    elif 45<=age and age<55:\n",
    "        return 3\n",
    "    else:\n",
    "        return 4\n",
    "    \n",
    "titanic['New age'] = titanic['Age'].map(new_age)"
   ],
   "execution_count":27,
   "outputs":[
    
   ],
   "metadata":{
    "datalore":{
     "node_id":"RvNGGHklQvzou5irNszlgg",
     "type":"CODE",
     "hide_input_from_viewers":false,
     "hide_output_from_viewers":false,
     "report_properties":{
      "rowId":"GDyHJY6gDJgYj1NHk62eVT"
     }
    }
   }
  },
  {
   "cell_type":"code",
   "source":[
    "titanic"
   ],
   "execution_count":28,
   "outputs":[
    {
     "data":{
      "text\/html":[
       "<div>\n",
       "<style scoped>\n",
       "    .dataframe tbody tr th:only-of-type {\n",
       "        vertical-align: middle;\n",
       "    }\n",
       "\n",
       "    .dataframe tbody tr th {\n",
       "        vertical-align: top;\n",
       "    }\n",
       "\n",
       "    .dataframe thead th {\n",
       "        text-align: right;\n",
       "    }\n",
       "<\/style>\n",
       "<table border=\"1\" class=\"dataframe\">\n",
       "  <thead>\n",
       "    <tr style=\"text-align: right;\">\n",
       "      <th><\/th>\n",
       "      <th>PassengerId<\/th>\n",
       "      <th>Survived<\/th>\n",
       "      <th>Pclass<\/th>\n",
       "      <th>Sex<\/th>\n",
       "      <th>Age<\/th>\n",
       "      <th>SibSp<\/th>\n",
       "      <th>Parch<\/th>\n",
       "      <th>Fare<\/th>\n",
       "      <th>Embarked<\/th>\n",
       "      <th>who<\/th>\n",
       "      <th>Sex_code<\/th>\n",
       "      <th>FamilySize<\/th>\n",
       "      <th>New age<\/th>\n",
       "    <\/tr>\n",
       "  <\/thead>\n",
       "  <tbody>\n",
       "    <tr>\n",
       "      <th>0<\/th>\n",
       "      <td>1<\/td>\n",
       "      <td>0<\/td>\n",
       "      <td>3<\/td>\n",
       "      <td>male<\/td>\n",
       "      <td>22.0<\/td>\n",
       "      <td>1<\/td>\n",
       "      <td>0<\/td>\n",
       "      <td>7.2500<\/td>\n",
       "      <td>S<\/td>\n",
       "      <td>man<\/td>\n",
       "      <td>0<\/td>\n",
       "      <td>2<\/td>\n",
       "      <td>1<\/td>\n",
       "    <\/tr>\n",
       "    <tr>\n",
       "      <th>1<\/th>\n",
       "      <td>2<\/td>\n",
       "      <td>1<\/td>\n",
       "      <td>1<\/td>\n",
       "      <td>female<\/td>\n",
       "      <td>38.0<\/td>\n",
       "      <td>1<\/td>\n",
       "      <td>0<\/td>\n",
       "      <td>71.2833<\/td>\n",
       "      <td>C<\/td>\n",
       "      <td>woman<\/td>\n",
       "      <td>1<\/td>\n",
       "      <td>2<\/td>\n",
       "      <td>2<\/td>\n",
       "    <\/tr>\n",
       "    <tr>\n",
       "      <th>2<\/th>\n",
       "      <td>3<\/td>\n",
       "      <td>1<\/td>\n",
       "      <td>3<\/td>\n",
       "      <td>female<\/td>\n",
       "      <td>26.0<\/td>\n",
       "      <td>0<\/td>\n",
       "      <td>0<\/td>\n",
       "      <td>7.9250<\/td>\n",
       "      <td>S<\/td>\n",
       "      <td>woman<\/td>\n",
       "      <td>1<\/td>\n",
       "      <td>1<\/td>\n",
       "      <td>2<\/td>\n",
       "    <\/tr>\n",
       "    <tr>\n",
       "      <th>3<\/th>\n",
       "      <td>4<\/td>\n",
       "      <td>1<\/td>\n",
       "      <td>1<\/td>\n",
       "      <td>female<\/td>\n",
       "      <td>35.0<\/td>\n",
       "      <td>1<\/td>\n",
       "      <td>0<\/td>\n",
       "      <td>53.1000<\/td>\n",
       "      <td>S<\/td>\n",
       "      <td>woman<\/td>\n",
       "      <td>1<\/td>\n",
       "      <td>2<\/td>\n",
       "      <td>2<\/td>\n",
       "    <\/tr>\n",
       "    <tr>\n",
       "      <th>4<\/th>\n",
       "      <td>5<\/td>\n",
       "      <td>0<\/td>\n",
       "      <td>3<\/td>\n",
       "      <td>male<\/td>\n",
       "      <td>35.0<\/td>\n",
       "      <td>0<\/td>\n",
       "      <td>0<\/td>\n",
       "      <td>8.0500<\/td>\n",
       "      <td>S<\/td>\n",
       "      <td>man<\/td>\n",
       "      <td>0<\/td>\n",
       "      <td>1<\/td>\n",
       "      <td>2<\/td>\n",
       "    <\/tr>\n",
       "    <tr>\n",
       "      <th>...<\/th>\n",
       "      <td>...<\/td>\n",
       "      <td>...<\/td>\n",
       "      <td>...<\/td>\n",
       "      <td>...<\/td>\n",
       "      <td>...<\/td>\n",
       "      <td>...<\/td>\n",
       "      <td>...<\/td>\n",
       "      <td>...<\/td>\n",
       "      <td>...<\/td>\n",
       "      <td>...<\/td>\n",
       "      <td>...<\/td>\n",
       "      <td>...<\/td>\n",
       "      <td>...<\/td>\n",
       "    <\/tr>\n",
       "    <tr>\n",
       "      <th>886<\/th>\n",
       "      <td>887<\/td>\n",
       "      <td>0<\/td>\n",
       "      <td>2<\/td>\n",
       "      <td>male<\/td>\n",
       "      <td>27.0<\/td>\n",
       "      <td>0<\/td>\n",
       "      <td>0<\/td>\n",
       "      <td>13.0000<\/td>\n",
       "      <td>S<\/td>\n",
       "      <td>man<\/td>\n",
       "      <td>0<\/td>\n",
       "      <td>1<\/td>\n",
       "      <td>2<\/td>\n",
       "    <\/tr>\n",
       "    <tr>\n",
       "      <th>887<\/th>\n",
       "      <td>888<\/td>\n",
       "      <td>1<\/td>\n",
       "      <td>1<\/td>\n",
       "      <td>female<\/td>\n",
       "      <td>19.0<\/td>\n",
       "      <td>0<\/td>\n",
       "      <td>0<\/td>\n",
       "      <td>30.0000<\/td>\n",
       "      <td>S<\/td>\n",
       "      <td>woman<\/td>\n",
       "      <td>1<\/td>\n",
       "      <td>1<\/td>\n",
       "      <td>1<\/td>\n",
       "    <\/tr>\n",
       "    <tr>\n",
       "      <th>888<\/th>\n",
       "      <td>889<\/td>\n",
       "      <td>0<\/td>\n",
       "      <td>3<\/td>\n",
       "      <td>female<\/td>\n",
       "      <td>NaN<\/td>\n",
       "      <td>1<\/td>\n",
       "      <td>2<\/td>\n",
       "      <td>23.4500<\/td>\n",
       "      <td>S<\/td>\n",
       "      <td>woman<\/td>\n",
       "      <td>1<\/td>\n",
       "      <td>4<\/td>\n",
       "      <td>4<\/td>\n",
       "    <\/tr>\n",
       "    <tr>\n",
       "      <th>889<\/th>\n",
       "      <td>890<\/td>\n",
       "      <td>1<\/td>\n",
       "      <td>1<\/td>\n",
       "      <td>male<\/td>\n",
       "      <td>26.0<\/td>\n",
       "      <td>0<\/td>\n",
       "      <td>0<\/td>\n",
       "      <td>30.0000<\/td>\n",
       "      <td>C<\/td>\n",
       "      <td>man<\/td>\n",
       "      <td>0<\/td>\n",
       "      <td>1<\/td>\n",
       "      <td>2<\/td>\n",
       "    <\/tr>\n",
       "    <tr>\n",
       "      <th>890<\/th>\n",
       "      <td>891<\/td>\n",
       "      <td>0<\/td>\n",
       "      <td>3<\/td>\n",
       "      <td>male<\/td>\n",
       "      <td>32.0<\/td>\n",
       "      <td>0<\/td>\n",
       "      <td>0<\/td>\n",
       "      <td>7.7500<\/td>\n",
       "      <td>Q<\/td>\n",
       "      <td>man<\/td>\n",
       "      <td>0<\/td>\n",
       "      <td>1<\/td>\n",
       "      <td>2<\/td>\n",
       "    <\/tr>\n",
       "  <\/tbody>\n",
       "<\/table>\n",
       "<p>891 rows × 13 columns<\/p>\n",
       "<\/div>"
      ]
     },
     "metadata":{
      
     },
     "output_type":"display_data"
    }
   ],
   "metadata":{
    "datalore":{
     "node_id":"zDHF3qomEjwIk6FGy7kiH4",
     "type":"CODE",
     "hide_input_from_viewers":false,
     "hide_output_from_viewers":false,
     "report_properties":{
      "rowId":"gUcWo0LYhtbORo1IdnS6jQ"
     }
    }
   }
  },
  {
   "cell_type":"code",
   "source":[
    "df = titanic[['Survived', 'Sex_code', 'Fare', 'New age']]\n",
    "df = pd.concat([df, pclass], axis=1)"
   ],
   "execution_count":29,
   "outputs":[
    
   ],
   "metadata":{
    "datalore":{
     "node_id":"OOb73JTFVnj9Kt7Zbqin3p",
     "type":"CODE",
     "hide_input_from_viewers":false,
     "hide_output_from_viewers":false,
     "report_properties":{
      "rowId":"T70s0UuZMgTFsYEB1HvWWf"
     }
    }
   }
  },
  {
   "cell_type":"code",
   "source":[
    "df.tail()"
   ],
   "execution_count":30,
   "outputs":[
    {
     "data":{
      "text\/html":[
       "<div>\n",
       "<style scoped>\n",
       "    .dataframe tbody tr th:only-of-type {\n",
       "        vertical-align: middle;\n",
       "    }\n",
       "\n",
       "    .dataframe tbody tr th {\n",
       "        vertical-align: top;\n",
       "    }\n",
       "\n",
       "    .dataframe thead th {\n",
       "        text-align: right;\n",
       "    }\n",
       "<\/style>\n",
       "<table border=\"1\" class=\"dataframe\">\n",
       "  <thead>\n",
       "    <tr style=\"text-align: right;\">\n",
       "      <th><\/th>\n",
       "      <th>Survived<\/th>\n",
       "      <th>Sex_code<\/th>\n",
       "      <th>Fare<\/th>\n",
       "      <th>New age<\/th>\n",
       "      <th>2nd_class<\/th>\n",
       "      <th>3rd_class<\/th>\n",
       "    <\/tr>\n",
       "  <\/thead>\n",
       "  <tbody>\n",
       "    <tr>\n",
       "      <th>886<\/th>\n",
       "      <td>0<\/td>\n",
       "      <td>0<\/td>\n",
       "      <td>13.00<\/td>\n",
       "      <td>2<\/td>\n",
       "      <td>1<\/td>\n",
       "      <td>0<\/td>\n",
       "    <\/tr>\n",
       "    <tr>\n",
       "      <th>887<\/th>\n",
       "      <td>1<\/td>\n",
       "      <td>1<\/td>\n",
       "      <td>30.00<\/td>\n",
       "      <td>1<\/td>\n",
       "      <td>0<\/td>\n",
       "      <td>0<\/td>\n",
       "    <\/tr>\n",
       "    <tr>\n",
       "      <th>888<\/th>\n",
       "      <td>0<\/td>\n",
       "      <td>1<\/td>\n",
       "      <td>23.45<\/td>\n",
       "      <td>4<\/td>\n",
       "      <td>0<\/td>\n",
       "      <td>1<\/td>\n",
       "    <\/tr>\n",
       "    <tr>\n",
       "      <th>889<\/th>\n",
       "      <td>1<\/td>\n",
       "      <td>0<\/td>\n",
       "      <td>30.00<\/td>\n",
       "      <td>2<\/td>\n",
       "      <td>0<\/td>\n",
       "      <td>0<\/td>\n",
       "    <\/tr>\n",
       "    <tr>\n",
       "      <th>890<\/th>\n",
       "      <td>0<\/td>\n",
       "      <td>0<\/td>\n",
       "      <td>7.75<\/td>\n",
       "      <td>2<\/td>\n",
       "      <td>0<\/td>\n",
       "      <td>1<\/td>\n",
       "    <\/tr>\n",
       "  <\/tbody>\n",
       "<\/table>\n",
       "<\/div>"
      ]
     },
     "metadata":{
      
     },
     "output_type":"display_data"
    }
   ],
   "metadata":{
    "datalore":{
     "node_id":"bF1R4Y3fmSgs9d2sKbxfLn",
     "type":"CODE",
     "hide_input_from_viewers":false,
     "hide_output_from_viewers":false,
     "report_properties":{
      "rowId":"VwLXtOjWDDa7gJ6EeFkQI7"
     }
    }
   }
  },
  {
   "cell_type":"code",
   "source":[
    "y = df[\"Survived\"]\n",
    "X = df.drop('Survived',axis=1)"
   ],
   "execution_count":31,
   "outputs":[
    
   ],
   "metadata":{
    "datalore":{
     "node_id":"MtZs2sklYVJ1T1pcjuSmN0",
     "type":"CODE",
     "hide_input_from_viewers":false,
     "hide_output_from_viewers":false,
     "report_properties":{
      "rowId":"6NB1QHM2UgEkOn0QIajDQx"
     }
    }
   }
  },
  {
   "cell_type":"markdown",
   "source":[
    "# Варіант 1"
   ],
   "attachments":{
    
   },
   "metadata":{
    "datalore":{
     "node_id":"uSdc4sRu2sKCQuwAmfu8Kh",
     "type":"MD",
     "hide_input_from_viewers":false,
     "hide_output_from_viewers":false,
     "report_properties":{
      "rowId":"Oulv7IYcaVuGLvOkHDrbiP"
     }
    }
   }
  },
  {
   "cell_type":"code",
   "source":[
    "from sklearn.model_selection import train_test_split\n",
    "from sklearn.linear_model import LogisticRegression\n",
    "from sklearn.preprocessing import StandardScaler, MinMaxScaler\n",
    "\n",
    "\n",
    "X_train, X_test, y_train, y_test = train_test_split(X, y, random_state=1)\n",
    "\n",
    "logmodel = LogisticRegression()\n",
    "\n",
    "logmodel.fit(X_train,y_train)\n",
    "\n",
    "# accuracy - % правильно \"вгаданих\" значень \n",
    "print('Score на трейні', logmodel.score(X_train,y_train))\n",
    "\n",
    "print('Score на тесті', logmodel.score(X_test,y_test))"
   ],
   "execution_count":76,
   "outputs":[
    {
     "name":"stdout",
     "text":[
      "Score на трейні 0.7859281437125748\n",
      "Score на тесті 0.7802690582959642\n"
     ],
     "output_type":"stream"
    }
   ],
   "metadata":{
    "datalore":{
     "node_id":"b6WnmiGVQO3jjwInK7H2RN",
     "type":"CODE",
     "hide_input_from_viewers":false,
     "hide_output_from_viewers":false,
     "report_properties":{
      "rowId":"muSIjuiN2zhqoiaqLN5Bj2"
     }
    }
   }
  },
  {
   "cell_type":"code",
   "source":[
    "from sklearn import metrics"
   ],
   "execution_count":77,
   "outputs":[
    
   ],
   "metadata":{
    "datalore":{
     "node_id":"fOmDxZPRXXyTf6yrNGk3XL",
     "type":"CODE",
     "hide_input_from_viewers":false,
     "hide_output_from_viewers":false,
     "report_properties":{
      "rowId":"tQoItkJIB0H8PtK7lUhXyg"
     }
    }
   }
  },
  {
   "cell_type":"code",
   "source":[
    "y_predictions = logmodel.predict(X_test)\n",
    "\n",
    "print(metrics.classification_report(y_test,y_predictions))"
   ],
   "execution_count":78,
   "outputs":[
    {
     "name":"stdout",
     "text":[
      "              precision    recall  f1-score   support\n",
      "\n",
      "           0       0.77      0.89      0.82       128\n",
      "           1       0.81      0.63      0.71        95\n",
      "\n",
      "    accuracy                           0.78       223\n",
      "   macro avg       0.79      0.76      0.77       223\n",
      "weighted avg       0.78      0.78      0.77       223\n",
      "\n"
     ],
     "output_type":"stream"
    }
   ],
   "metadata":{
    "datalore":{
     "node_id":"86qNzMqJOzmPNQhZCxj2mM",
     "type":"CODE",
     "hide_input_from_viewers":false,
     "hide_output_from_viewers":false,
     "report_properties":{
      "rowId":"hIenfZ056GfXYrnGYkRrNn"
     }
    }
   }
  },
  {
   "cell_type":"code",
   "source":[
    "X_minmax"
   ],
   "execution_count":37,
   "outputs":[
    {
     "data":{
      "text\/html":[
       "<pre>array([[0.        , 0.01415106, 0.25      , 0.        , 1.        ],\n",
       "       [1.        , 0.13913574, 0.5       , 0.        , 0.        ],\n",
       "       [1.        , 0.01546857, 0.5       , 0.        , 1.        ],\n",
       "       ...,\n",
       "       [1.        , 0.04577135, 1.        , 0.        , 1.        ],\n",
       "       [0.        , 0.0585561 , 0.5       , 0.        , 0.        ],\n",
       "       [0.        , 0.01512699, 0.5       , 0.        , 1.        ]])<\/pre>"
      ]
     },
     "metadata":{
      
     },
     "output_type":"display_data"
    }
   ],
   "metadata":{
    "datalore":{
     "node_id":"LfofcHf4qwzdGItSGo5DSI",
     "type":"CODE",
     "hide_input_from_viewers":true,
     "hide_output_from_viewers":true
    }
   }
  },
  {
   "cell_type":"markdown",
   "source":[
    "# Варіант 2"
   ],
   "attachments":{
    
   },
   "metadata":{
    "datalore":{
     "node_id":"RgqUw4qlv2IgxXMxfZUaCy",
     "type":"MD",
     "hide_input_from_viewers":false,
     "hide_output_from_viewers":false,
     "report_properties":{
      "rowId":"euoAMLwDXQwp21j5nIVNzW"
     }
    }
   }
  },
  {
   "cell_type":"code",
   "source":[
    "X_train"
   ],
   "execution_count":82,
   "outputs":[
    {
     "data":{
      "text\/html":[
       "<div>\n",
       "<style scoped>\n",
       "    .dataframe tbody tr th:only-of-type {\n",
       "        vertical-align: middle;\n",
       "    }\n",
       "\n",
       "    .dataframe tbody tr th {\n",
       "        vertical-align: top;\n",
       "    }\n",
       "\n",
       "    .dataframe thead th {\n",
       "        text-align: right;\n",
       "    }\n",
       "<\/style>\n",
       "<table border=\"1\" class=\"dataframe\">\n",
       "  <thead>\n",
       "    <tr style=\"text-align: right;\">\n",
       "      <th><\/th>\n",
       "      <th>Sex_code<\/th>\n",
       "      <th>Fare<\/th>\n",
       "      <th>New age<\/th>\n",
       "      <th>2nd_class<\/th>\n",
       "      <th>3rd_class<\/th>\n",
       "    <\/tr>\n",
       "  <\/thead>\n",
       "  <tbody>\n",
       "    <tr>\n",
       "      <th>35<\/th>\n",
       "      <td>0<\/td>\n",
       "      <td>52.0000<\/td>\n",
       "      <td>2<\/td>\n",
       "      <td>0<\/td>\n",
       "      <td>0<\/td>\n",
       "    <\/tr>\n",
       "    <tr>\n",
       "      <th>46<\/th>\n",
       "      <td>0<\/td>\n",
       "      <td>15.5000<\/td>\n",
       "      <td>4<\/td>\n",
       "      <td>0<\/td>\n",
       "      <td>1<\/td>\n",
       "    <\/tr>\n",
       "    <tr>\n",
       "      <th>453<\/th>\n",
       "      <td>0<\/td>\n",
       "      <td>89.1042<\/td>\n",
       "      <td>3<\/td>\n",
       "      <td>0<\/td>\n",
       "      <td>0<\/td>\n",
       "    <\/tr>\n",
       "    <tr>\n",
       "      <th>291<\/th>\n",
       "      <td>1<\/td>\n",
       "      <td>91.0792<\/td>\n",
       "      <td>1<\/td>\n",
       "      <td>0<\/td>\n",
       "      <td>0<\/td>\n",
       "    <\/tr>\n",
       "    <tr>\n",
       "      <th>748<\/th>\n",
       "      <td>0<\/td>\n",
       "      <td>53.1000<\/td>\n",
       "      <td>1<\/td>\n",
       "      <td>0<\/td>\n",
       "      <td>0<\/td>\n",
       "    <\/tr>\n",
       "    <tr>\n",
       "      <th>...<\/th>\n",
       "      <td>...<\/td>\n",
       "      <td>...<\/td>\n",
       "      <td>...<\/td>\n",
       "      <td>...<\/td>\n",
       "      <td>...<\/td>\n",
       "    <\/tr>\n",
       "    <tr>\n",
       "      <th>715<\/th>\n",
       "      <td>0<\/td>\n",
       "      <td>7.6500<\/td>\n",
       "      <td>1<\/td>\n",
       "      <td>0<\/td>\n",
       "      <td>1<\/td>\n",
       "    <\/tr>\n",
       "    <tr>\n",
       "      <th>767<\/th>\n",
       "      <td>1<\/td>\n",
       "      <td>7.7500<\/td>\n",
       "      <td>2<\/td>\n",
       "      <td>0<\/td>\n",
       "      <td>1<\/td>\n",
       "    <\/tr>\n",
       "    <tr>\n",
       "      <th>72<\/th>\n",
       "      <td>0<\/td>\n",
       "      <td>73.5000<\/td>\n",
       "      <td>1<\/td>\n",
       "      <td>1<\/td>\n",
       "      <td>0<\/td>\n",
       "    <\/tr>\n",
       "    <tr>\n",
       "      <th>235<\/th>\n",
       "      <td>1<\/td>\n",
       "      <td>7.5500<\/td>\n",
       "      <td>4<\/td>\n",
       "      <td>0<\/td>\n",
       "      <td>1<\/td>\n",
       "    <\/tr>\n",
       "    <tr>\n",
       "      <th>37<\/th>\n",
       "      <td>0<\/td>\n",
       "      <td>8.0500<\/td>\n",
       "      <td>1<\/td>\n",
       "      <td>0<\/td>\n",
       "      <td>1<\/td>\n",
       "    <\/tr>\n",
       "  <\/tbody>\n",
       "<\/table>\n",
       "<p>668 rows × 5 columns<\/p>\n",
       "<\/div>"
      ]
     },
     "metadata":{
      
     },
     "output_type":"display_data"
    }
   ],
   "metadata":{
    "datalore":{
     "node_id":"aM3lesxgRbihwkJTsS6ZzV",
     "type":"CODE",
     "hide_input_from_viewers":true,
     "hide_output_from_viewers":true
    }
   }
  },
  {
   "cell_type":"code",
   "source":[
    "trans = StandardScaler()\n",
    "X_minmax = trans.fit_transform(X_train)\n",
    "X_minmax[3].mean()"
   ],
   "execution_count":88,
   "outputs":[
    {
     "data":{
      "text\/plain":[
       "0.03110509582251324"
      ]
     },
     "metadata":{
      
     },
     "output_type":"display_data"
    }
   ],
   "metadata":{
    "datalore":{
     "node_id":"zNvl2THQxPDLQq2WhxWfsi",
     "type":"CODE",
     "hide_input_from_viewers":true,
     "hide_output_from_viewers":true
    }
   }
  },
  {
   "cell_type":"code",
   "source":[
    "from sklearn.model_selection import train_test_split\n",
    "from sklearn.linear_model import LogisticRegression\n",
    "from sklearn.preprocessing import StandardScaler, MinMaxScaler\n",
    "\n",
    "# trans = StandardScaler()\n",
    "\n",
    "# X_standart = trans.fit_transform(X)\n",
    "\n",
    "trans = StandardScaler()\n",
    "X_minmax = trans.fit_transform(X)\n",
    "\n",
    "\n",
    "X_train, X_test, y_train, y_test = train_test_split(X_minmax, y, random_state=1)\n",
    "\n",
    "logmodel = LogisticRegression()\n",
    "\n",
    "logmodel.fit(X_train,y_train)\n",
    "\n",
    "# accuracy - % правильно \"вгаданих\" значень \n",
    "print('Score на трейні', logmodel.score(X_train,y_train))\n",
    "\n",
    "print('Score на тесті', logmodel.score(X_test,y_test))"
   ],
   "execution_count":89,
   "outputs":[
    {
     "name":"stdout",
     "text":[
      "Score на трейні 0.781437125748503\n",
      "Score на тесті 0.7757847533632287\n"
     ],
     "output_type":"stream"
    }
   ],
   "metadata":{
    "datalore":{
     "node_id":"gJtTuldOX7yvNMnaD0n4sJ",
     "type":"CODE",
     "hide_input_from_viewers":false,
     "hide_output_from_viewers":false,
     "report_properties":{
      "rowId":"7aMRjhVedEL8Ifde033abK"
     }
    }
   }
  },
  {
   "cell_type":"code",
   "source":[
    "print('confusion_matrix:')\n",
    "print(metrics.confusion_matrix(y_test,y_predictions))\n",
    "\n",
    "y_predictions = logmodel.predict(X_test)\n",
    "\n",
    "print(metrics.classification_report(y_test,y_predictions))"
   ],
   "execution_count":90,
   "outputs":[
    {
     "name":"stdout",
     "text":[
      "confusion_matrix:\n",
      "[[114  14]\n",
      " [ 35  60]]\n",
      "              precision    recall  f1-score   support\n",
      "\n",
      "           0       0.76      0.89      0.82       128\n",
      "           1       0.81      0.62      0.70        95\n",
      "\n",
      "    accuracy                           0.78       223\n",
      "   macro avg       0.78      0.76      0.76       223\n",
      "weighted avg       0.78      0.78      0.77       223\n",
      "\n"
     ],
     "output_type":"stream"
    }
   ],
   "metadata":{
    "datalore":{
     "node_id":"xbTYPxrjqYT0UhksoLiTvj",
     "type":"CODE",
     "hide_input_from_viewers":false,
     "hide_output_from_viewers":false,
     "report_properties":{
      "rowId":"1lbo4vcBwBKaRb9mqFGag7"
     }
    }
   }
  },
  {
   "cell_type":"markdown",
   "source":[
    "# Варіант 3"
   ],
   "attachments":{
    
   },
   "metadata":{
    "datalore":{
     "node_id":"fIyK9QTiQFFojnJVo3vMxl",
     "type":"MD",
     "hide_input_from_viewers":false,
     "hide_output_from_viewers":false,
     "report_properties":{
      "rowId":"Jj6C8gTlYzBKb3jSdnnFA0"
     }
    }
   }
  },
  {
   "cell_type":"code",
   "source":[
    "from sklearn.model_selection import train_test_split\n",
    "from sklearn.linear_model import LogisticRegression\n",
    "from sklearn.preprocessing import StandardScaler, MinMaxScaler\n",
    "\n",
    "# trans = StandardScaler()\n",
    "\n",
    "# X_standart = trans.fit_transform(X)\n",
    "\n",
    "trans = MinMaxScaler()\n",
    "X_minmax = trans.fit_transform(X)\n",
    "\n",
    "\n",
    "X_train, X_test, y_train, y_test = train_test_split(X_minmax, y, random_state=1)\n",
    "\n",
    "logmodel = LogisticRegression(penalty='l2', C=.1)\n",
    "\n",
    "logmodel.fit(X_train,y_train)\n",
    "\n",
    "# accuracy - % правильно \"вгаданих\" значень \n",
    "print('Score на трейні', logmodel.score(X_train,y_train))\n",
    "\n",
    "print('Score на тесті', logmodel.score(X_test,y_test))"
   ],
   "execution_count":97,
   "outputs":[
    {
     "name":"stdout",
     "text":[
      "Score на трейні 0.7844311377245509\n",
      "Score на тесті 0.7757847533632287\n"
     ],
     "output_type":"stream"
    }
   ],
   "metadata":{
    "datalore":{
     "node_id":"wJoxkmpb9FWjalwbHPoPjV",
     "type":"CODE",
     "hide_input_from_viewers":false,
     "hide_output_from_viewers":false,
     "report_properties":{
      "rowId":"2M7pv9GGydrIzHbiEojKyR"
     }
    }
   }
  },
  {
   "cell_type":"markdown",
   "source":[
    "# Варіант 4"
   ],
   "attachments":{
    
   },
   "metadata":{
    "datalore":{
     "node_id":"1gR81f5WLLK24Xf22RtGap",
     "type":"MD",
     "hide_input_from_viewers":false,
     "hide_output_from_viewers":false,
     "report_properties":{
      "rowId":"oyUnkXTD1oLz36AvkTHpAk"
     }
    }
   }
  },
  {
   "cell_type":"code",
   "source":[
    "from sklearn.svm import SVC\n",
    "\n",
    "# потребує стандартизації даних\n",
    "# С - параметр штрафу (регуляризація)\n",
    "# kernel - тип ядра або функція\n",
    "# degree - степінь для поліноміального ядра\n",
    "\n",
    "\n",
    "model = SVC(C=5,\n",
    "           kernel='linear',\n",
    "           )\n",
    "\n",
    "X_train, X_test, y_train, y_test = train_test_split(X, y, random_state=1)\n",
    "\n",
    "model.fit(X_train, y_train)"
   ],
   "execution_count":98,
   "outputs":[
    {
     "data":{
      "text\/plain":[
       "SVC(C=5, kernel='linear')"
      ]
     },
     "metadata":{
      
     },
     "output_type":"display_data"
    }
   ],
   "metadata":{
    "datalore":{
     "node_id":"NTN7yeOX7OD8TAY9jBA13e",
     "type":"CODE",
     "hide_input_from_viewers":false,
     "hide_output_from_viewers":false,
     "report_properties":{
      "rowId":"hPGgkPJwqD2VXFSLn3sRNA"
     }
    }
   }
  },
  {
   "cell_type":"code",
   "source":[
    "model.score(X_test, y_test)"
   ],
   "execution_count":99,
   "outputs":[
    {
     "data":{
      "text\/plain":[
       "0.7847533632286996"
      ]
     },
     "metadata":{
      
     },
     "output_type":"display_data"
    }
   ],
   "metadata":{
    "datalore":{
     "node_id":"7Iakqx7MperTc97nIAJL18",
     "type":"CODE",
     "hide_input_from_viewers":false,
     "hide_output_from_viewers":false,
     "report_properties":{
      "rowId":"IsYZMG3r5tr4GERQKmOML6"
     }
    }
   }
  },
  {
   "cell_type":"markdown",
   "source":[
    "# Варіант 5"
   ],
   "attachments":{
    
   },
   "metadata":{
    "datalore":{
     "node_id":"oHBqsZ6MGfSPE6Yy85OQA0",
     "type":"MD",
     "hide_input_from_viewers":false,
     "hide_output_from_viewers":false,
     "report_properties":{
      "rowId":"Hj1stH3zisB2zzt2qzrDnU"
     }
    }
   }
  },
  {
   "cell_type":"code",
   "source":[
    "from sklearn.model_selection import GridSearchCV\n",
    "\n",
    "# Використовується для підбору найкращих параметрів моделі\n",
    "\n",
    "scaler = StandardScaler()\n",
    "X_ = scaler.fit_transform(X)\n",
    "\n",
    "X_train, X_test, y_train, y_test = train_test_split(X_, y, random_state=1)\n",
    "\n",
    "\n",
    "parameters = {\n",
    "    'kernel':('linear', 'rbf'), \n",
    "    'C':[1, 10]\n",
    "}\n",
    "\n",
    "\n",
    "svc = SVC()\n",
    "clf = GridSearchCV(svc, parameters)\n",
    "\n",
    "clf.fit(X_train, y_train)"
   ],
   "execution_count":null,
   "outputs":[
    {
     "data":{
      "text\/plain":[
       "GridSearchCV(cv=None, error_score=nan,\n",
       "             estimator=SVC(C=1.0, break_ties=False, cache_size=200,\n",
       "                           class_weight=None, coef0=0.0,\n",
       "                           decision_function_shape='ovr', degree=3,\n",
       "                           gamma='scale', kernel='rbf', max_iter=-1,\n",
       "                           probability=False, random_state=None, shrinking=True,\n",
       "                           tol=0.001, verbose=False),\n",
       "             iid='deprecated', n_jobs=None,\n",
       "             param_grid={'C': [1, 10], 'kernel': ('linear', 'rbf')},\n",
       "             pre_dispatch='2*n_jobs', refit=True, return_train_score=False,\n",
       "             scoring=None, verbose=0)"
      ]
     },
     "metadata":{
      
     },
     "output_type":"display_data"
    }
   ],
   "metadata":{
    "datalore":{
     "node_id":"k6hDwunJF4KOm8Lhk5ZLfn",
     "type":"CODE",
     "hide_input_from_viewers":false,
     "hide_output_from_viewers":false,
     "report_properties":{
      "rowId":"vN5WKOJCEN9n71cfSsy19Z"
     }
    }
   }
  },
  {
   "cell_type":"code",
   "source":[
    "clf.score(X_test, y_test)"
   ],
   "execution_count":null,
   "outputs":[
    {
     "data":{
      "text\/plain":[
       "0.7932203389830509"
      ]
     },
     "metadata":{
      
     },
     "output_type":"display_data"
    }
   ],
   "metadata":{
    "datalore":{
     "node_id":"hcghJDC1WeozWJpYYADW6h",
     "type":"CODE",
     "hide_input_from_viewers":false,
     "hide_output_from_viewers":false,
     "report_properties":{
      "rowId":"yIuy7pmS4hWz55I94ys84p"
     }
    }
   }
  },
  {
   "cell_type":"code",
   "source":[
    "clf.cv_results_"
   ],
   "execution_count":null,
   "outputs":[
    {
     "data":{
      "text\/plain":[
       "{'mean_fit_time': array([1.25904438e+01, 1.14522934e-02, 5.18010550e+01, 8.59417915e-03]),\n",
       " 'std_fit_time': array([1.03508020e+01, 6.66067335e-03, 1.78256738e+01, 7.13532212e-03]),\n",
       " 'mean_score_time': array([0.00059881, 0.00080357, 0.00079713, 0.00412269]),\n",
       " 'std_score_time': array([0.00079836, 0.0009842 , 0.00097628, 0.00586609]),\n",
       " 'param_C': masked_array(data=[1, 1, 10, 10],\n",
       "              mask=[False, False, False, False],\n",
       "        fill_value='?',\n",
       "             dtype=object),\n",
       " 'param_kernel': masked_array(data=['linear', 'rbf', 'linear', 'rbf'],\n",
       "              mask=[False, False, False, False],\n",
       "        fill_value='?',\n",
       "             dtype=object),\n",
       " 'params': [{'C': 1, 'kernel': 'linear'},\n",
       "  {'C': 1, 'kernel': 'rbf'},\n",
       "  {'C': 10, 'kernel': 'linear'},\n",
       "  {'C': 10, 'kernel': 'rbf'}],\n",
       " 'split0_test_score': array([0.79166667, 0.74166667, 0.79166667, 0.7       ]),\n",
       " 'split1_test_score': array([0.76470588, 0.63865546, 0.76470588, 0.63865546]),\n",
       " 'split2_test_score': array([0.75630252, 0.65546218, 0.75630252, 0.66386555]),\n",
       " 'split3_test_score': array([0.83193277, 0.70588235, 0.83193277, 0.71428571]),\n",
       " 'split4_test_score': array([0.77310924, 0.67226891, 0.77310924, 0.67226891]),\n",
       " 'mean_test_score': array([0.78354342, 0.68278711, 0.78354342, 0.67781513]),\n",
       " 'std_test_score': array([0.02688237, 0.03689195, 0.02688237, 0.0267623 ]),\n",
       " 'rank_test_score': array([1, 3, 1, 4])}"
      ]
     },
     "metadata":{
      
     },
     "output_type":"display_data"
    }
   ],
   "metadata":{
    "datalore":{
     "node_id":"FGEqqo8kcGXTmjsihQmz1D",
     "type":"CODE",
     "hide_input_from_viewers":false,
     "hide_output_from_viewers":false,
     "report_properties":{
      "rowId":"7IpaDdt0L5pyR5fiMvfT8I"
     }
    }
   }
  },
  {
   "cell_type":"code",
   "source":[
    "clf.best_params_"
   ],
   "execution_count":null,
   "outputs":[
    {
     "data":{
      "text\/plain":[
       "{'C': 1, 'kernel': 'linear'}"
      ]
     },
     "metadata":{
      
     },
     "output_type":"display_data"
    }
   ],
   "metadata":{
    "datalore":{
     "node_id":"JfdgMjDMQr5fYSMSiRfXIa",
     "type":"CODE",
     "hide_input_from_viewers":false,
     "hide_output_from_viewers":false,
     "report_properties":{
      "rowId":"xKFmUJ5CiD0MClwbzTomVO"
     }
    }
   }
  },
  {
   "cell_type":"markdown",
   "source":[
    "# Варіант 6"
   ],
   "attachments":{
    
   },
   "metadata":{
    "datalore":{
     "node_id":"E9J9J0r5knl48wTIJVHmAT",
     "type":"MD",
     "hide_input_from_viewers":false,
     "hide_output_from_viewers":false,
     "report_properties":{
      "rowId":"gcXlgrcamOEZQZwqucLwhT"
     }
    }
   }
  },
  {
   "cell_type":"code",
   "source":[
    "from sklearn.tree import DecisionTreeClassifier, plot_tree\n",
    "\n",
    "# потрібно позбутися пропущених значень та перетворити все в числові значення\n",
    "\n",
    "# criterion - критерій  (gini, entropy) \n",
    "# max_depth - глибина дерева\n",
    "# min_samples_split - мінімальна кількість елементів, необхідних для розділення вузла\n",
    "\n",
    "\n",
    "model = DecisionTreeClassifier()\n",
    "\n",
    "X_train, X_test, y_train, y_test = train_test_split(X, y, random_state=1)\n",
    "\n",
    "model.fit(X_train, y_train)\n",
    "\n",
    "print('Score на трейні', model.score(X_train,y_train))\n",
    "\n",
    "print('Score на тесті', model.score(X_test,y_test))"
   ],
   "execution_count":100,
   "outputs":[
    {
     "name":"stdout",
     "text":[
      "Score на трейні 0.9446107784431138\n",
      "Score на тесті 0.8026905829596412\n"
     ],
     "output_type":"stream"
    }
   ],
   "metadata":{
    "datalore":{
     "node_id":"utBzEkYdbqApNRPFV6hjfG",
     "type":"CODE",
     "hide_input_from_viewers":false,
     "hide_output_from_viewers":false,
     "report_properties":{
      "rowId":"EMYazizKyPtcJJiSKtjKhA"
     }
    }
   }
  },
  {
   "cell_type":"code",
   "source":[
    "for i in range(1, 10):\n",
    "    print(f'--------{i}--------')\n",
    "    m = DecisionTreeClassifier(max_depth=i)\n",
    "    m.fit(X_train, y_train)\n",
    "    print('Score на трейні', m.score(X_train,y_train))\n",
    "    print('Score на тесті', m.score(X_test,y_test))"
   ],
   "execution_count":101,
   "outputs":[
    {
     "name":"stdout",
     "text":[
      "--------1--------\n",
      "Score на трейні 0.7874251497005988\n",
      "Score на тесті 0.7847533632286996\n",
      "--------2--------\n",
      "Score на трейні 0.7979041916167665\n",
      "Score на тесті 0.7533632286995515\n",
      "--------3--------\n",
      "Score на трейні 0.8293413173652695\n",
      "Score на тесті 0.8026905829596412\n",
      "--------4--------\n",
      "Score на трейні 0.8383233532934131\n",
      "Score на тесті 0.7713004484304933\n",
      "--------5--------\n",
      "Score на трейні 0.8607784431137725\n",
      "Score на тесті 0.7713004484304933\n",
      "--------6--------\n",
      "Score на трейні 0.8712574850299402\n",
      "Score на тесті 0.7802690582959642\n",
      "--------7--------\n",
      "Score на трейні 0.8892215568862275\n",
      "Score на тесті 0.7713004484304933\n",
      "--------8--------\n",
      "Score на трейні 0.8997005988023952\n",
      "Score на тесті 0.8071748878923767\n",
      "--------9--------\n",
      "Score на трейні 0.9086826347305389\n",
      "Score на тесті 0.8071748878923767\n"
     ],
     "output_type":"stream"
    }
   ],
   "metadata":{
    "datalore":{
     "node_id":"nQzujKbUiFFm1o9oJ5kaH0",
     "type":"CODE",
     "hide_input_from_viewers":false,
     "hide_output_from_viewers":false,
     "report_properties":{
      "rowId":"bN1iMCkGuENOMaJwELjatK"
     }
    }
   }
  },
  {
   "cell_type":"code",
   "source":[
    "m = DecisionTreeClassifier(max_depth=3)\n",
    "m.fit(X_train, y_train)\n",
    "print('Score на трейні', m.score(X_train,y_train))\n",
    "print('Score на тесті', m.score(X_test,y_test))"
   ],
   "execution_count":107,
   "outputs":[
    {
     "name":"stdout",
     "text":[
      "Score на трейні 0.8293413173652695\n",
      "Score на тесті 0.8026905829596412\n"
     ],
     "output_type":"stream"
    }
   ],
   "metadata":{
    "datalore":{
     "node_id":"jIuh2NXMxFifwI52gKK899",
     "type":"CODE",
     "hide_input_from_viewers":false,
     "hide_output_from_viewers":false,
     "report_properties":{
      "rowId":"esX6ih8odEH4JZan7SMn9u"
     }
    }
   }
  },
  {
   "cell_type":"code",
   "source":[
    "X"
   ],
   "execution_count":104,
   "outputs":[
    {
     "data":{
      "text\/html":[
       "<div>\n",
       "<style scoped>\n",
       "    .dataframe tbody tr th:only-of-type {\n",
       "        vertical-align: middle;\n",
       "    }\n",
       "\n",
       "    .dataframe tbody tr th {\n",
       "        vertical-align: top;\n",
       "    }\n",
       "\n",
       "    .dataframe thead th {\n",
       "        text-align: right;\n",
       "    }\n",
       "<\/style>\n",
       "<table border=\"1\" class=\"dataframe\">\n",
       "  <thead>\n",
       "    <tr style=\"text-align: right;\">\n",
       "      <th><\/th>\n",
       "      <th>Sex_code<\/th>\n",
       "      <th>Fare<\/th>\n",
       "      <th>New age<\/th>\n",
       "      <th>2nd_class<\/th>\n",
       "      <th>3rd_class<\/th>\n",
       "    <\/tr>\n",
       "  <\/thead>\n",
       "  <tbody>\n",
       "    <tr>\n",
       "      <th>0<\/th>\n",
       "      <td>0<\/td>\n",
       "      <td>7.2500<\/td>\n",
       "      <td>1<\/td>\n",
       "      <td>0<\/td>\n",
       "      <td>1<\/td>\n",
       "    <\/tr>\n",
       "    <tr>\n",
       "      <th>1<\/th>\n",
       "      <td>1<\/td>\n",
       "      <td>71.2833<\/td>\n",
       "      <td>2<\/td>\n",
       "      <td>0<\/td>\n",
       "      <td>0<\/td>\n",
       "    <\/tr>\n",
       "    <tr>\n",
       "      <th>2<\/th>\n",
       "      <td>1<\/td>\n",
       "      <td>7.9250<\/td>\n",
       "      <td>2<\/td>\n",
       "      <td>0<\/td>\n",
       "      <td>1<\/td>\n",
       "    <\/tr>\n",
       "    <tr>\n",
       "      <th>3<\/th>\n",
       "      <td>1<\/td>\n",
       "      <td>53.1000<\/td>\n",
       "      <td>2<\/td>\n",
       "      <td>0<\/td>\n",
       "      <td>0<\/td>\n",
       "    <\/tr>\n",
       "    <tr>\n",
       "      <th>4<\/th>\n",
       "      <td>0<\/td>\n",
       "      <td>8.0500<\/td>\n",
       "      <td>2<\/td>\n",
       "      <td>0<\/td>\n",
       "      <td>1<\/td>\n",
       "    <\/tr>\n",
       "    <tr>\n",
       "      <th>...<\/th>\n",
       "      <td>...<\/td>\n",
       "      <td>...<\/td>\n",
       "      <td>...<\/td>\n",
       "      <td>...<\/td>\n",
       "      <td>...<\/td>\n",
       "    <\/tr>\n",
       "    <tr>\n",
       "      <th>886<\/th>\n",
       "      <td>0<\/td>\n",
       "      <td>13.0000<\/td>\n",
       "      <td>2<\/td>\n",
       "      <td>1<\/td>\n",
       "      <td>0<\/td>\n",
       "    <\/tr>\n",
       "    <tr>\n",
       "      <th>887<\/th>\n",
       "      <td>1<\/td>\n",
       "      <td>30.0000<\/td>\n",
       "      <td>1<\/td>\n",
       "      <td>0<\/td>\n",
       "      <td>0<\/td>\n",
       "    <\/tr>\n",
       "    <tr>\n",
       "      <th>888<\/th>\n",
       "      <td>1<\/td>\n",
       "      <td>23.4500<\/td>\n",
       "      <td>4<\/td>\n",
       "      <td>0<\/td>\n",
       "      <td>1<\/td>\n",
       "    <\/tr>\n",
       "    <tr>\n",
       "      <th>889<\/th>\n",
       "      <td>0<\/td>\n",
       "      <td>30.0000<\/td>\n",
       "      <td>2<\/td>\n",
       "      <td>0<\/td>\n",
       "      <td>0<\/td>\n",
       "    <\/tr>\n",
       "    <tr>\n",
       "      <th>890<\/th>\n",
       "      <td>0<\/td>\n",
       "      <td>7.7500<\/td>\n",
       "      <td>2<\/td>\n",
       "      <td>0<\/td>\n",
       "      <td>1<\/td>\n",
       "    <\/tr>\n",
       "  <\/tbody>\n",
       "<\/table>\n",
       "<p>891 rows × 5 columns<\/p>\n",
       "<\/div>"
      ]
     },
     "metadata":{
      
     },
     "output_type":"display_data"
    }
   ],
   "metadata":{
    "datalore":{
     "node_id":"EovCUYRYrSPtbTTyjpPMQH",
     "type":"CODE",
     "hide_input_from_viewers":true,
     "hide_output_from_viewers":true
    }
   }
  },
  {
   "cell_type":"code",
   "source":[
    "plt.figure(figsize=(16,16))\n",
    "\n",
    "plot_tree(m, feature_names=X.columns, filled=True,  rounded=True,  class_names=True)\n",
    "\n",
    "\n",
    "plt.show()"
   ],
   "execution_count":115,
   "outputs":[
    {
     "data":{
      "image\/png":"[encoded data removed]"
     },
     "metadata":{
      "image\/png":{
       
      }
     },
     "output_type":"display_data"
    }
   ],
   "metadata":{
    "datalore":{
     "node_id":"5JSl9WdVf2yk0hupYATp76",
     "type":"CODE",
     "hide_input_from_viewers":false,
     "hide_output_from_viewers":false,
     "report_properties":{
      "rowId":"XQ1lk3YNHHtB7SzAT8tpmI"
     }
    }
   }
  },
  {
   "cell_type":"markdown",
   "source":[
    "# Варіант 7"
   ],
   "attachments":{
    
   },
   "metadata":{
    "datalore":{
     "node_id":"ngnqZ259JGUJYucWsuxsju",
     "type":"MD",
     "hide_input_from_viewers":false,
     "hide_output_from_viewers":false,
     "report_properties":{
      "rowId":"7608p4XbHSdCLZohDD6wRw"
     }
    }
   }
  },
  {
   "cell_type":"code",
   "source":[
    "from sklearn.ensemble import RandomForestClassifier\n",
    "\n",
    "# реалізація bagging\n",
    "\n",
    "# criterion - критерій  (gini, entropy) \n",
    "# max_depth - глубина дерева\n",
    "# min_samples_split - мінімальна кількість елементів, необхідних для розділення вузла\n",
    "# n_еstimatоrs - кількість дерев\n",
    "\n",
    "\n",
    "X_train, X_test, y_train, y_test = train_test_split(X, y, random_state=1)\n",
    "\n",
    "model = RandomForestClassifier()\n",
    "model.fit(X_train, y_train)\n",
    "\n",
    "print('Score на трейні', model.score(X_train,y_train))\n",
    "print('Score на тесті', model.score(X_test,y_test))"
   ],
   "execution_count":117,
   "outputs":[
    {
     "name":"stdout",
     "text":[
      "Score на трейні 0.9446107784431138\n",
      "Score на тесті 0.8161434977578476\n"
     ],
     "output_type":"stream"
    }
   ],
   "metadata":{
    "datalore":{
     "node_id":"B4AuQaTiGF9HpGTQlHZIX1",
     "type":"CODE",
     "hide_input_from_viewers":false,
     "hide_output_from_viewers":false,
     "report_properties":{
      "rowId":"8GAgovJ0WW0cesBKDDYydh"
     }
    }
   }
  },
  {
   "cell_type":"code",
   "source":[
    "for i in range(1, 100, 10):\n",
    "    model = RandomForestClassifier(n_estimators=i, random_state=1)\n",
    "    model.fit(X_train, y_train)\n",
    "    print(i, model.score(X_test, y_test))\n",
    "    "
   ],
   "execution_count":118,
   "outputs":[
    {
     "name":"stdout",
     "text":[
      "1 0.7488789237668162\n",
      "11 0.8161434977578476\n",
      "21 0.8161434977578476\n",
      "31 0.8071748878923767\n",
      "41 0.8071748878923767\n",
      "51 0.8161434977578476\n",
      "61 0.8161434977578476\n",
      "71 0.8161434977578476\n",
      "81 0.8071748878923767\n",
      "91 0.8161434977578476\n"
     ],
     "output_type":"stream"
    }
   ],
   "metadata":{
    "datalore":{
     "node_id":"MknNLErfKmPXRi5zCenmbO",
     "type":"CODE",
     "hide_input_from_viewers":false,
     "hide_output_from_viewers":false,
     "report_properties":{
      "rowId":"DMHgbGiKhRAePMSTUqGHBw"
     }
    }
   }
  },
  {
   "cell_type":"code",
   "source":[
    "model.score(X_test, y_test)"
   ],
   "execution_count":null,
   "outputs":[
    {
     "data":{
      "text\/plain":[
       "0.8026905829596412"
      ]
     },
     "metadata":{
      
     },
     "output_type":"display_data"
    }
   ],
   "metadata":{
    "datalore":{
     "node_id":"Cnb4nWqtlSG9oFgt8T3S5p",
     "type":"CODE",
     "hide_input_from_viewers":false,
     "hide_output_from_viewers":false,
     "report_properties":{
      "rowId":"l3K8BEjs5Gg0qQxNwKY9Ou"
     }
    }
   }
  },
  {
   "cell_type":"markdown",
   "source":[
    "# Варіант 8"
   ],
   "attachments":{
    
   },
   "metadata":{
    "datalore":{
     "node_id":"L7R5JHoWxtJCHBJcikwdNB",
     "type":"MD",
     "hide_input_from_viewers":false,
     "hide_output_from_viewers":false,
     "report_properties":{
      "rowId":"bmurCwR3iKufQBSmNTVpYZ"
     }
    }
   }
  },
  {
   "cell_type":"markdown",
   "source":[
    "XGBoost - це популярна бібліотека, відмінна від Scikitlearn.\n",
    "Вона створює слабке дерево (weak tree), а потім \"бустує\" настпуні дерева, щоб зменшити помилки.\n",
    "\n",
    "\n",
    "Обробка даних:  категоріальні дані потрібно кодувати.\n",
    "\n",
    "\n",
    "Для зупинки навчання може бути встановлений параметр early_stoppping_rounds=N, якщо після N раундів покращення не відбувається. Регуляція Ll і L2 контролюється reg_alpha і reg_lambda відповідно. "
   ],
   "attachments":{
    
   },
   "metadata":{
    "datalore":{
     "node_id":"ohEZeHDKOlqVm8gwNDHrwh",
     "type":"MD",
     "hide_input_from_viewers":false,
     "hide_output_from_viewers":false,
     "report_properties":{
      "rowId":"6f7ehT1O5f6NKEQwZLaLGk"
     }
    }
   }
  },
  {
   "cell_type":"code",
   "source":[
    "import xgboost as xgb\n",
    "xgb_class = xgb.XGBClassifier()"
   ],
   "execution_count":119,
   "outputs":[
    
   ],
   "metadata":{
    "datalore":{
     "node_id":"nNjNsavDTzPnCf2wtZZI6E",
     "type":"CODE",
     "hide_input_from_viewers":false,
     "hide_output_from_viewers":false,
     "report_properties":{
      "rowId":"Xe1sI74z3LHRcG2jhGy4mv"
     }
    }
   }
  },
  {
   "cell_type":"code",
   "source":[
    "xgb_class.fit(X_train, y_train)"
   ],
   "execution_count":120,
   "outputs":[
    {
     "name":"stdout",
     "text":[
      "[18:12:42] WARNING: ..\/src\/learner.cc:1115: Starting in XGBoost 1.3.0, the default evaluation metric used with the objective 'binary:logistic' was changed from 'error' to 'logloss'. Explicitly set eval_metric if you'd like to restore the old behavior.\n"
     ],
     "output_type":"stream"
    },
    {
     "name":"stderr",
     "text":[
      "\/opt\/python\/envs\/default\/lib\/python3.8\/site-packages\/xgboost\/sklearn.py:1224: UserWarning: The use of label encoder in XGBClassifier is deprecated and will be removed in a future release. To remove this warning, do the following: 1) Pass option use_label_encoder=False when constructing XGBClassifier object; and 2) Encode your labels (y) as integers starting with 0, i.e. 0, 1, 2, ..., [num_class - 1].\n",
      "  warnings.warn(label_encoder_deprecation_msg, UserWarning)\n"
     ],
     "output_type":"stream"
    },
    {
     "data":{
      "text\/plain":[
       "XGBClassifier(base_score=0.5, booster='gbtree', colsample_bylevel=1,\n",
       "              colsample_bynode=1, colsample_bytree=1, enable_categorical=False,\n",
       "              gamma=0, gpu_id=-1, importance_type=None,\n",
       "              interaction_constraints='', learning_rate=0.300000012,\n",
       "              max_delta_step=0, max_depth=6, min_child_weight=1, missing=nan,\n",
       "              monotone_constraints='()', n_estimators=100, n_jobs=2,\n",
       "              num_parallel_tree=1, predictor='auto', random_state=0,\n",
       "              reg_alpha=0, reg_lambda=1, scale_pos_weight=1, subsample=1,\n",
       "              tree_method='exact', validate_parameters=1, verbosity=None)"
      ]
     },
     "metadata":{
      
     },
     "output_type":"display_data"
    }
   ],
   "metadata":{
    "datalore":{
     "node_id":"6fie2Agpqj2AqQ89WTvlRQ",
     "type":"CODE",
     "hide_input_from_viewers":false,
     "hide_output_from_viewers":false,
     "report_properties":{
      "rowId":"VxxAX2w2FQphQebadxHuk8"
     }
    }
   }
  },
  {
   "cell_type":"code",
   "source":[
    "xgb_class.score(X_train, y_train)"
   ],
   "execution_count":125,
   "outputs":[
    {
     "data":{
      "text\/plain":[
       "0.9296407185628742"
      ]
     },
     "metadata":{
      
     },
     "output_type":"display_data"
    }
   ],
   "metadata":{
    "datalore":{
     "node_id":"vUqqUybsMLGZSEyBtK7PDa",
     "type":"CODE",
     "hide_input_from_viewers":true,
     "hide_output_from_viewers":true
    }
   }
  },
  {
   "cell_type":"code",
   "source":[
    "xgb_class.score(X_test, y_test)"
   ],
   "execution_count":121,
   "outputs":[
    {
     "data":{
      "text\/plain":[
       "0.7982062780269058"
      ]
     },
     "metadata":{
      
     },
     "output_type":"display_data"
    }
   ],
   "metadata":{
    "datalore":{
     "node_id":"vajlApUqzEjhOzIVkTPSs2",
     "type":"CODE",
     "hide_input_from_viewers":false,
     "hide_output_from_viewers":false,
     "report_properties":{
      "rowId":"oVTd1MfEuEOiS5OgRrA1qw"
     }
    }
   }
  },
  {
   "cell_type":"code",
   "source":[
    "xgb_class.feature_importances_"
   ],
   "execution_count":63,
   "outputs":[
    {
     "data":{
      "text\/html":[
       "<pre>array([0.625137  , 0.03076593, 0.0439873 , 0.03091952, 0.26919028],\n",
       "      dtype=float32)<\/pre>"
      ]
     },
     "metadata":{
      
     },
     "output_type":"display_data"
    }
   ],
   "metadata":{
    "datalore":{
     "node_id":"IIcocolYwKYxUg3Vb2z13O",
     "type":"CODE",
     "hide_input_from_viewers":false,
     "hide_output_from_viewers":false,
     "report_properties":{
      "rowId":"5HXXussIwDK7jtDG5janlD"
     }
    }
   }
  },
  {
   "cell_type":"code",
   "source":[
    "# скільки разів фіча зустрічається в деревах\n",
    "xgb.plot_importance(xgb_class)"
   ],
   "execution_count":122,
   "outputs":[
    {
     "data":{
      "text\/plain":[
       "<AxesSubplot:title={'center':'Feature importance'}, xlabel='F score', ylabel='Features'>"
      ]
     },
     "metadata":{
      
     },
     "output_type":"display_data"
    },
    {
     "data":{
      "image\/png":"[encoded data removed]"
     },
     "metadata":{
      "image\/png":{
       
      }
     },
     "output_type":"display_data"
    }
   ],
   "metadata":{
    "datalore":{
     "node_id":"UIlTpWDo3PJwMHQKWHk02Z",
     "type":"CODE",
     "hide_input_from_viewers":false,
     "hide_output_from_viewers":false,
     "report_properties":{
      "rowId":"hHwysc6W4krCcGWpSuv4GH"
     }
    }
   }
  },
  {
   "cell_type":"code",
   "source":[
    "booster = xgb_class.get_booster()\n",
    "print(booster.get_dump()[0])"
   ],
   "execution_count":123,
   "outputs":[
    {
     "name":"stdout",
     "text":[
      "0:[Sex_code<1] yes=1,no=2,missing=1\n",
      "\t1:[New age<1] yes=3,no=4,missing=3\n",
      "\t\t3:[3rd_class<1] yes=7,no=8,missing=7\n",
      "\t\t\t7:leaf=0.388235331\n",
      "\t\t\t8:[Fare<20.8250008] yes=13,no=14,missing=13\n",
      "\t\t\t\t13:[Fare<10.3166504] yes=19,no=20,missing=19\n",
      "\t\t\t\t\t19:leaf=-0.280000001\n",
      "\t\t\t\t\t20:[Fare<16.9500008] yes=29,no=30,missing=29\n",
      "\t\t\t\t\t\t29:leaf=0.333333373\n",
      "\t\t\t\t\t\t30:leaf=-0\n",
      "\t\t\t\t14:leaf=-0.388235331\n",
      "\t\t4:[Fare<26.2687492] yes=9,no=10,missing=9\n",
      "\t\t\t9:leaf=-0.482828289\n",
      "\t\t\t10:[Fare<26.7749996] yes=15,no=16,missing=15\n",
      "\t\t\t\t15:[New age<4] yes=21,no=22,missing=21\n",
      "\t\t\t\t\t21:leaf=0.300000012\n",
      "\t\t\t\t\t22:leaf=-0.333333373\n",
      "\t\t\t\t16:[2nd_class<1] yes=23,no=24,missing=23\n",
      "\t\t\t\t\t23:[New age<3] yes=31,no=32,missing=31\n",
      "\t\t\t\t\t\t31:leaf=-0.138461545\n",
      "\t\t\t\t\t\t32:leaf=-0.285714298\n",
      "\t\t\t\t\t24:leaf=-0.428571463\n",
      "\t2:[3rd_class<1] yes=5,no=6,missing=5\n",
      "\t\t5:leaf=0.51692313\n",
      "\t\t6:[Fare<23.3500004] yes=11,no=12,missing=11\n",
      "\t\t\t11:[New age<4] yes=17,no=18,missing=17\n",
      "\t\t\t\t17:[New age<2] yes=25,no=26,missing=25\n",
      "\t\t\t\t\t25:[New age<1] yes=33,no=34,missing=33\n",
      "\t\t\t\t\t\t33:leaf=0.257142872\n",
      "\t\t\t\t\t\t34:leaf=-0\n",
      "\t\t\t\t\t26:[Fare<16.75] yes=35,no=36,missing=35\n",
      "\t\t\t\t\t\t35:leaf=-0.314285755\n",
      "\t\t\t\t\t\t36:leaf=-0\n",
      "\t\t\t\t18:[Fare<15.3729] yes=27,no=28,missing=27\n",
      "\t\t\t\t\t27:[Fare<7.96460009] yes=37,no=38,missing=37\n",
      "\t\t\t\t\t\t37:leaf=0.24000001\n",
      "\t\t\t\t\t\t38:leaf=-0.200000018\n",
      "\t\t\t\t\t28:leaf=0.381818205\n",
      "\t\t\t12:leaf=-0.408000022\n",
      "\n"
     ],
     "output_type":"stream"
    }
   ],
   "metadata":{
    "datalore":{
     "node_id":"Qo9Ln96oKRiUCpynqjBoy1",
     "type":"CODE",
     "hide_input_from_viewers":false,
     "hide_output_from_viewers":false,
     "report_properties":{
      "rowId":"ML4krP93tXeVBZzc2K29kZ"
     }
    }
   }
  },
  {
   "cell_type":"code",
   "source":[
    "# import os\n",
    "# os.environ[\"PATH\"] += os.pathsep + 'D:\/Program Files (x86)\/Graphviz2.38\/bin\/'\n",
    "\n",
    "xgb.plot_tree(xgb_class)"
   ],
   "execution_count":124,
   "outputs":[
    {
     "ename":"ImportError",
     "evalue":"ImportError: You must install graphviz to plot tree",
     "traceback":[
      "\u001b[0;31m---------------------------------------------------------------------------",
      "Traceback (most recent call last)",
      "    at line 4 in <module>",
      "    at line 247 in plot_tree(booster, fmap, num_trees, rankdir, ax, **kwargs)",
      "    at line 173 in to_graphviz(booster, fmap, num_trees, rankdir, yes_color, no_color, condition_node_params, leaf_node_params, **kwargs)",
      "ImportError: You must install graphviz to plot tree"
     ],
     "output_type":"error"
    },
    {
     "data":{
      "image\/png":"[encoded data removed]"
     },
     "metadata":{
      "image\/png":{
       
      }
     },
     "output_type":"display_data"
    }
   ],
   "metadata":{
    "datalore":{
     "node_id":"O29h9qtirtjbVeePEyEE6n",
     "type":"CODE",
     "hide_input_from_viewers":false,
     "hide_output_from_viewers":false,
     "report_properties":{
      "rowId":"ylE2lvjAPpwYwDRAkkK2hK"
     }
    }
   }
  },
  {
   "cell_type":"code",
   "source":[
    
   ],
   "execution_count":null,
   "outputs":[
    
   ],
   "metadata":{
    "datalore":{
     "node_id":"6dwBm8zTW1Vezkar64Z6iN",
     "type":"CODE",
     "hide_input_from_viewers":true,
     "hide_output_from_viewers":true
    }
   }
  }
 ],
 "metadata":{
  "kernelspec":{
   "display_name":"Python",
   "language":"python",
   "name":"python"
  },
  "datalore":{
   "computation_mode":"JUPYTER",
   "package_manager":"pip",
   "base_environment":"default",
   "packages":[
    
   ],
   "report_row_ids":[
    "iXQO7tVephfUhjz8MtUcMw",
    "fjzBHZawNsAtTCVyAcYFs7",
    "Ib7GLfNYiFPlfqNRbVGfmo",
    "RZoz6gz6sSCOsobsX3VcPg",
    "7HMCGAtgB5TveQkbwE850t",
    "pLseygMC3sdmTmQqdEnTMO",
    "pnp5JfBekYkQoxWYN6EFBI",
    "ik6gDGb33RfLckKyjGmMvL",
    "OmjYr8hU5uwTU7RqK1BWiV",
    "xb02t1AIITadQWvgG23CaB",
    "10A0u0QHTrSzRX5HZOEz5K",
    "lyoFC4lB7HIclS4oLdTMv9",
    "DK5ujX51PEfamXEViDKRVQ",
    "ZffZqITCDpUzWzarEzMUmQ",
    "OsmWyI2yCzcQtaa6OXhaOS",
    "wSqPjr7S6bjl48YeFp6PNg",
    "PgXcxQ6zzj4WF5lyEGiCHD",
    "eyL5mE4hPFYuIlcJX8iKNz",
    "JuisOYHtBgTvbA0SzTLW6N",
    "9uUlmYlZTjbz0HxlWmy7tp",
    "c3fzoec8asP5vNomDU2QOt",
    "vVrnnWHBbHVwCYisznSLLg",
    "yeS6kfdSG1Fjmu3WAtsVC7",
    "t6EGTiqtZ54yfZ3qa6DgCx",
    "271Tlf0F6VGhz16rVVXJIC",
    "eMIMW4hA5HERC3JOyA4rbb",
    "eSED2TTjMz4UBcZvMax9LN",
    "z2mzqMAV0n0mFq9R8RboE6",
    "8DNbwubFV0tueTpvY5z1lJ",
    "Lyi4whZc3GnXfg6usCTX8d",
    "NOB7n1fwtdZz5oLZ4aelb5",
    "A6bTgbdEuJw4Vri3ZSn6np",
    "vaXjDDTAoiZws5fxZDcrcP",
    "LG9SgJra41NM3NtELlwCnv",
    "3k6WNkABHMByswn7zVXCKU",
    "GDyHJY6gDJgYj1NHk62eVT",
    "gUcWo0LYhtbORo1IdnS6jQ",
    "T70s0UuZMgTFsYEB1HvWWf",
    "VwLXtOjWDDa7gJ6EeFkQI7",
    "6NB1QHM2UgEkOn0QIajDQx",
    "ws5iXbFEQIEalED6Wd6XRq",
    "i5VBYYuxfmJuC3jV0225ET",
    "Oulv7IYcaVuGLvOkHDrbiP",
    "muSIjuiN2zhqoiaqLN5Bj2",
    "tQoItkJIB0H8PtK7lUhXyg",
    "hIenfZ056GfXYrnGYkRrNn",
    "euoAMLwDXQwp21j5nIVNzW",
    "7aMRjhVedEL8Ifde033abK",
    "1lbo4vcBwBKaRb9mqFGag7",
    "Jj6C8gTlYzBKb3jSdnnFA0",
    "2M7pv9GGydrIzHbiEojKyR",
    "oyUnkXTD1oLz36AvkTHpAk",
    "hPGgkPJwqD2VXFSLn3sRNA",
    "IsYZMG3r5tr4GERQKmOML6",
    "Hj1stH3zisB2zzt2qzrDnU",
    "vN5WKOJCEN9n71cfSsy19Z",
    "yIuy7pmS4hWz55I94ys84p",
    "7IpaDdt0L5pyR5fiMvfT8I",
    "xKFmUJ5CiD0MClwbzTomVO",
    "gcXlgrcamOEZQZwqucLwhT",
    "EMYazizKyPtcJJiSKtjKhA",
    "bN1iMCkGuENOMaJwELjatK",
    "esX6ih8odEH4JZan7SMn9u",
    "XQ1lk3YNHHtB7SzAT8tpmI",
    "7608p4XbHSdCLZohDD6wRw",
    "8GAgovJ0WW0cesBKDDYydh",
    "DMHgbGiKhRAePMSTUqGHBw",
    "l3K8BEjs5Gg0qQxNwKY9Ou",
    "bmurCwR3iKufQBSmNTVpYZ",
    "6f7ehT1O5f6NKEQwZLaLGk",
    "Xe1sI74z3LHRcG2jhGy4mv",
    "VxxAX2w2FQphQebadxHuk8",
    "oVTd1MfEuEOiS5OgRrA1qw",
    "5HXXussIwDK7jtDG5janlD",
    "hHwysc6W4krCcGWpSuv4GH",
    "ML4krP93tXeVBZzc2K29kZ",
    "ylE2lvjAPpwYwDRAkkK2hK"
   ],
   "version":3
  }
 },
 "nbformat":4,
 "nbformat_minor":4
}