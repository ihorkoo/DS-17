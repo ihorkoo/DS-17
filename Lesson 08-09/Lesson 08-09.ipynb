{
 "cells":[
  {
   "cell_type":"code",
   "source":[
    "import sys\n",
    "sys.path"
   ],
   "execution_count":1,
   "outputs":[
    {
     "data":{
      "text\/plain":[
       "['\/data\/notebook_files',\n",
       " '\/opt\/datalore\/bin',\n",
       " '\/opt\/datalore\/lib',\n",
       " '\/opt\/datalore\/python',\n",
       " '\/var\/datalore\/manager\/.pip',\n",
       " '\/data\/workspace_files',\n",
       " '\/opt\/python\/lib\/python38.zip',\n",
       " '\/opt\/python\/lib\/python3.8',\n",
       " '\/opt\/python\/lib\/python3.8\/lib-dynload',\n",
       " '',\n",
       " '\/opt\/python\/envs\/default\/lib\/python3.8\/site-packages',\n",
       " '\/opt\/python\/envs\/default\/lib\/python3.8\/site-packages\/IPython\/extensions',\n",
       " '\/home\/datalore\/.ipython']"
      ]
     },
     "metadata":{
      
     },
     "output_type":"display_data"
    }
   ],
   "metadata":{
    "datalore":{
     "node_id":"IameFb0f6zP8XOBcfPF3Mp",
     "type":"CODE",
     "hide_input_from_viewers":false,
     "hide_output_from_viewers":false
    }
   }
  },
  {
   "cell_type":"code",
   "source":[
    "import math"
   ],
   "execution_count":2,
   "outputs":[
    
   ],
   "metadata":{
    "datalore":{
     "node_id":"nKMHYy3TkHhgSKuMcj9yIw",
     "type":"CODE",
     "hide_input_from_viewers":false,
     "hide_output_from_viewers":false
    }
   }
  },
  {
   "cell_type":"code",
   "source":[
    "import datetime\n",
    "\n",
    "#Датами\n",
    "today = datetime.date.today()"
   ],
   "execution_count":4,
   "outputs":[
    
   ],
   "metadata":{
    "datalore":{
     "node_id":"EMVd9Mo4uyDx1vvwLGYiN7",
     "type":"CODE",
     "hide_input_from_viewers":false,
     "hide_output_from_viewers":false
    }
   }
  },
  {
   "cell_type":"code",
   "source":[
    "today.day"
   ],
   "execution_count":7,
   "outputs":[
    {
     "data":{
      "text\/plain":[
       "2"
      ]
     },
     "metadata":{
      
     },
     "output_type":"display_data"
    }
   ],
   "metadata":{
    "datalore":{
     "node_id":"u3OXchlzFBqs9SIFCPFmPp",
     "type":"CODE",
     "hide_input_from_viewers":false,
     "hide_output_from_viewers":false
    }
   }
  },
  {
   "cell_type":"code",
   "source":[
    "today.year"
   ],
   "execution_count":8,
   "outputs":[
    {
     "data":{
      "text\/plain":[
       "2023"
      ]
     },
     "metadata":{
      
     },
     "output_type":"display_data"
    }
   ],
   "metadata":{
    "datalore":{
     "node_id":"0ZQOYdt7RyUInoBs7Z1QjA",
     "type":"CODE",
     "hide_input_from_viewers":false,
     "hide_output_from_viewers":false
    }
   }
  },
  {
   "cell_type":"code",
   "source":[
    "today.strftime('%Y-%m-%d')"
   ],
   "execution_count":12,
   "outputs":[
    {
     "data":{
      "text\/plain":[
       "'2023-03-02'"
      ]
     },
     "metadata":{
      
     },
     "output_type":"display_data"
    }
   ],
   "metadata":{
    "datalore":{
     "node_id":"BTGIJoLOiPdafLp34Ebdmd",
     "type":"CODE",
     "hide_input_from_viewers":false,
     "hide_output_from_viewers":false
    }
   }
  },
  {
   "cell_type":"code",
   "source":[
    "help(today.strftime)"
   ],
   "execution_count":14,
   "outputs":[
    {
     "name":"stdout",
     "text":[
      "Help on built-in function strftime:\n",
      "\n",
      "strftime(...) method of datetime.date instance\n",
      "    format -> strftime() style string.\n",
      "\n"
     ],
     "output_type":"stream"
    }
   ],
   "metadata":{
    "datalore":{
     "node_id":"sMi6wcU0PujqEkTQXOWjal",
     "type":"CODE",
     "hide_input_from_viewers":false,
     "hide_output_from_viewers":false
    }
   }
  },
  {
   "cell_type":"code",
   "source":[
    "date = '2022\/10\/11'\n",
    "\n",
    "date = datetime.datetime.strptime(date, \"%Y\/%m\/%d\")\n",
    "date"
   ],
   "execution_count":16,
   "outputs":[
    {
     "data":{
      "text\/plain":[
       "datetime.datetime(2022, 10, 11, 0, 0)"
      ]
     },
     "metadata":{
      
     },
     "output_type":"display_data"
    }
   ],
   "metadata":{
    "datalore":{
     "node_id":"mh8Sk5iDF88GuOv2OLNn77",
     "type":"CODE",
     "hide_input_from_viewers":false,
     "hide_output_from_viewers":false
    }
   }
  },
  {
   "cell_type":"code",
   "source":[
    "today = datetime.datetime.now()\n",
    "today"
   ],
   "execution_count":18,
   "outputs":[
    {
     "data":{
      "text\/plain":[
       "datetime.datetime(2023, 3, 2, 17, 46, 26, 846183)"
      ]
     },
     "metadata":{
      
     },
     "output_type":"display_data"
    }
   ],
   "metadata":{
    "datalore":{
     "node_id":"a9Ym3bGFVIHxlqxIneCsXh",
     "type":"CODE",
     "hide_input_from_viewers":false,
     "hide_output_from_viewers":false
    }
   }
  },
  {
   "cell_type":"code",
   "source":[
    "today + datetime.timedelta(days=5)"
   ],
   "execution_count":19,
   "outputs":[
    {
     "data":{
      "text\/plain":[
       "datetime.datetime(2023, 3, 7, 17, 46, 26, 846183)"
      ]
     },
     "metadata":{
      
     },
     "output_type":"display_data"
    }
   ],
   "metadata":{
    "datalore":{
     "node_id":"VKVkkZPMWYhcUGxKgzXbFo",
     "type":"CODE",
     "hide_input_from_viewers":false,
     "hide_output_from_viewers":false
    }
   }
  },
  {
   "cell_type":"markdown",
   "source":[
    "Пусть курс по Python начался 1 января 2022 года. Каждое следующее занятие будет проводиться через 3 дня. Выведите все даты последующих занятий, если курс рассчитан на 15 занятий."
   ],
   "attachments":{
    
   },
   "metadata":{
    "datalore":{
     "node_id":"X1dBuwlEo5sFlhRMVv8oJj",
     "type":"MD",
     "hide_input_from_viewers":false,
     "hide_output_from_viewers":false
    }
   }
  },
  {
   "cell_type":"code",
   "source":[
    "nextLesson = datetime.date(2023, 3, 2)\n",
    "schedule = [nextLesson, ]\n",
    "for i in range(29-8-1):\n",
    "    nextLesson = nextLesson + datetime.timedelta(days=3)\n",
    "    schedule.append(nextLesson)\n",
    "\n",
    "schedule"
   ],
   "execution_count":22,
   "outputs":[
    {
     "data":{
      "text\/plain":[
       "[datetime.date(2023, 3, 2),\n",
       " datetime.date(2023, 3, 5),\n",
       " datetime.date(2023, 3, 8),\n",
       " datetime.date(2023, 3, 11),\n",
       " datetime.date(2023, 3, 14),\n",
       " datetime.date(2023, 3, 17),\n",
       " datetime.date(2023, 3, 20),\n",
       " datetime.date(2023, 3, 23),\n",
       " datetime.date(2023, 3, 26),\n",
       " datetime.date(2023, 3, 29),\n",
       " datetime.date(2023, 4, 1),\n",
       " datetime.date(2023, 4, 4),\n",
       " datetime.date(2023, 4, 7),\n",
       " datetime.date(2023, 4, 10),\n",
       " datetime.date(2023, 4, 13),\n",
       " datetime.date(2023, 4, 16),\n",
       " datetime.date(2023, 4, 19),\n",
       " datetime.date(2023, 4, 22),\n",
       " datetime.date(2023, 4, 25),\n",
       " datetime.date(2023, 4, 28),\n",
       " datetime.date(2023, 5, 1)]"
      ]
     },
     "metadata":{
      
     },
     "output_type":"display_data"
    }
   ],
   "metadata":{
    "datalore":{
     "node_id":"Q956wU54gVb8zkvQmhKYh1",
     "type":"CODE",
     "hide_input_from_viewers":false,
     "hide_output_from_viewers":false
    }
   }
  },
  {
   "cell_type":"code",
   "source":[
    "!pip install requests"
   ],
   "execution_count":23,
   "outputs":[
    {
     "name":"stdout",
     "text":[
      "Requirement already satisfied: requests in \/opt\/python\/envs\/default\/lib\/python3.8\/site-packages (2.26.0)\r\n",
      "Requirement already satisfied: charset-normalizer~=2.0.0 in \/opt\/python\/envs\/default\/lib\/python3.8\/site-packages (from requests) (2.0.12)\r\n",
      "Requirement already satisfied: certifi>=2017.4.17 in \/opt\/python\/envs\/default\/lib\/python3.8\/site-packages (from requests) (2022.12.7)\r\n",
      "Requirement already satisfied: idna<4,>=2.5 in \/opt\/python\/envs\/default\/lib\/python3.8\/site-packages (from requests) (3.4)\r\n",
      "Requirement already satisfied: urllib3<1.27,>=1.21.1 in \/opt\/python\/envs\/default\/lib\/python3.8\/site-packages (from requests) (1.26.14)\r\n"
     ],
     "output_type":"stream"
    }
   ],
   "metadata":{
    "datalore":{
     "node_id":"9pU0Vma9uQSLjUSuMfR4s1",
     "type":"CODE",
     "hide_input_from_viewers":false,
     "hide_output_from_viewers":false
    }
   }
  },
  {
   "cell_type":"code",
   "source":[
    "import requests"
   ],
   "execution_count":24,
   "outputs":[
    
   ],
   "metadata":{
    "datalore":{
     "node_id":"SAzSB0IU9Dv0seKibb7FTs",
     "type":"CODE",
     "hide_input_from_viewers":false,
     "hide_output_from_viewers":false
    }
   }
  },
  {
   "cell_type":"code",
   "source":[
    "help(requests)\n",
    "# get\n",
    "# post\n",
    "# delete\n",
    "...\n",
    "\n",
    "# code: 200, 404"
   ],
   "execution_count":25,
   "outputs":[
    {
     "name":"stdout",
     "text":[
      "Help on package requests:\n",
      "\n",
      "NAME\n",
      "    requests\n",
      "\n",
      "DESCRIPTION\n",
      "    Requests HTTP Library\n",
      "    ~~~~~~~~~~~~~~~~~~~~~\n",
      "    \n",
      "    Requests is an HTTP library, written in Python, for human beings.\n",
      "    Basic GET usage:\n",
      "    \n",
      "       >>> import requests\n",
      "       >>> r = requests.get('https:\/\/www.python.org')\n",
      "       >>> r.status_code\n",
      "       200\n",
      "       >>> b'Python is a programming language' in r.content\n",
      "       True\n",
      "    \n",
      "    ... or POST:\n",
      "    \n",
      "       >>> payload = dict(key1='value1', key2='value2')\n",
      "       >>> r = requests.post('https:\/\/httpbin.org\/post', data=payload)\n",
      "       >>> print(r.text)\n",
      "       {\n",
      "         ...\n",
      "         \"form\": {\n",
      "           \"key1\": \"value1\",\n",
      "           \"key2\": \"value2\"\n",
      "         },\n",
      "         ...\n",
      "       }\n",
      "    \n",
      "    The other HTTP methods are supported - see `requests.api`. Full documentation\n",
      "    is at <https:\/\/requests.readthedocs.io>.\n",
      "    \n",
      "    :copyright: (c) 2017 by Kenneth Reitz.\n",
      "    :license: Apache 2.0, see LICENSE for more details.\n",
      "\n",
      "PACKAGE CONTENTS\n",
      "    __version__\n",
      "    _internal_utils\n",
      "    adapters\n",
      "    api\n",
      "    auth\n",
      "    certs\n",
      "    compat\n",
      "    cookies\n",
      "    exceptions\n",
      "    help\n",
      "    hooks\n",
      "    models\n",
      "    packages\n",
      "    sessions\n",
      "    status_codes\n",
      "    structures\n",
      "    utils\n",
      "\n",
      "FUNCTIONS\n",
      "    check_compatibility(urllib3_version, chardet_version, charset_normalizer_version)\n",
      "\n",
      "DATA\n",
      "    __author_email__ = 'me@kennethreitz.org'\n",
      "    __build__ = 140800\n",
      "    __cake__ = '✨ 🍰 ✨'\n",
      "    __copyright__ = 'Copyright 2020 Kenneth Reitz'\n",
      "    __description__ = 'Python HTTP for Humans.'\n",
      "    __license__ = 'Apache 2.0'\n",
      "    __title__ = 'requests'\n",
      "    __url__ = 'https:\/\/requests.readthedocs.io'\n",
      "    chardet_version = None\n",
      "    charset_normalizer_version = '2.0.12'\n",
      "    codes = <lookup 'status_codes'>\n",
      "\n",
      "VERSION\n",
      "    2.26.0\n",
      "\n",
      "AUTHOR\n",
      "    Kenneth Reitz\n",
      "\n",
      "FILE\n",
      "    \/opt\/python\/envs\/default\/lib\/python3.8\/site-packages\/requests\/__init__.py\n",
      "\n",
      "\n"
     ],
     "output_type":"stream"
    }
   ],
   "metadata":{
    "datalore":{
     "node_id":"u8BNUBDLIxFMAodz1lMtb6",
     "type":"CODE",
     "hide_input_from_viewers":false,
     "hide_output_from_viewers":false
    }
   }
  },
  {
   "cell_type":"code",
   "source":[
    "import requests\n",
    "\n",
    "r = requests.get('https:\/\/bank.gov.ua\/NBUStatService\/v1\/statdirectory\/exchange?json')"
   ],
   "execution_count":26,
   "outputs":[
    
   ],
   "metadata":{
    "datalore":{
     "node_id":"SFOy0i79L0v1rtLuatbxRR",
     "type":"CODE",
     "hide_input_from_viewers":false,
     "hide_output_from_viewers":false
    }
   }
  },
  {
   "cell_type":"code",
   "source":[
    "r"
   ],
   "execution_count":27,
   "outputs":[
    {
     "data":{
      "text\/plain":[
       "<Response [200]>"
      ]
     },
     "metadata":{
      
     },
     "output_type":"display_data"
    }
   ],
   "metadata":{
    "datalore":{
     "node_id":"NbtmHX6BsyIcPvRPki7zrV",
     "type":"CODE",
     "hide_input_from_viewers":false,
     "hide_output_from_viewers":false
    }
   }
  },
  {
   "cell_type":"code",
   "source":[
    "r.status_code"
   ],
   "execution_count":28,
   "outputs":[
    {
     "data":{
      "text\/plain":[
       "200"
      ]
     },
     "metadata":{
      
     },
     "output_type":"display_data"
    }
   ],
   "metadata":{
    "datalore":{
     "node_id":"0mDu2K4ZQl6Ozglnje0HIJ",
     "type":"CODE",
     "hide_input_from_viewers":false,
     "hide_output_from_viewers":false
    }
   }
  },
  {
   "cell_type":"code",
   "source":[
    "result = r.json()"
   ],
   "execution_count":31,
   "outputs":[
    
   ],
   "metadata":{
    "datalore":{
     "node_id":"hlCf8CIyxpAEo73lHGMlRw",
     "type":"CODE",
     "hide_input_from_viewers":false,
     "hide_output_from_viewers":false
    }
   }
  },
  {
   "cell_type":"code",
   "source":[
    "len(result)"
   ],
   "execution_count":32,
   "outputs":[
    {
     "data":{
      "text\/plain":[
       "61"
      ]
     },
     "metadata":{
      
     },
     "output_type":"display_data"
    }
   ],
   "metadata":{
    "datalore":{
     "node_id":"bvb0srVIPt81ywFius7n8u",
     "type":"CODE",
     "hide_input_from_viewers":false,
     "hide_output_from_viewers":false
    }
   }
  },
  {
   "cell_type":"code",
   "source":[
    "result[1]"
   ],
   "execution_count":34,
   "outputs":[
    {
     "data":{
      "text\/plain":[
       "{'r030': 124,\n",
       " 'txt': 'Канадський долар',\n",
       " 'rate': 26.8462,\n",
       " 'cc': 'CAD',\n",
       " 'exchangedate': '03.03.2023'}"
      ]
     },
     "metadata":{
      
     },
     "output_type":"display_data"
    }
   ],
   "metadata":{
    "datalore":{
     "node_id":"7zomms6UuQHlZokS53SrAl",
     "type":"CODE",
     "hide_input_from_viewers":false,
     "hide_output_from_viewers":false
    }
   }
  },
  {
   "cell_type":"code",
   "source":[
    "import requests\n",
    "\n",
    "r = requests.get('https:\/\/bank.gov.ua\/NBUStatService\/v1\/statdirectory\/exchange?json').json()\n",
    "\n",
    "for i in r:\n",
    "    if i['cc'] == 'USD':\n",
    "        print(i['rate'])"
   ],
   "execution_count":35,
   "outputs":[
    {
     "name":"stdout",
     "text":[
      "36.5686\n"
     ],
     "output_type":"stream"
    }
   ],
   "metadata":{
    "datalore":{
     "node_id":"8y90mOnbh8xYi4e9zrgzei",
     "type":"CODE",
     "hide_input_from_viewers":false,
     "hide_output_from_viewers":false
    }
   }
  },
  {
   "cell_type":"code",
   "source":[
    "[{'name':i['cc'], 'rate': i['rate'] } for i in r if i['cc'] == 'USD']"
   ],
   "execution_count":38,
   "outputs":[
    {
     "data":{
      "text\/plain":[
       "[{'name': 'USD', 'rate': 36.5686}]"
      ]
     },
     "metadata":{
      
     },
     "output_type":"display_data"
    }
   ],
   "metadata":{
    "datalore":{
     "node_id":"YQaoZ6d9lRwXfEfrvREmgS",
     "type":"CODE",
     "hide_input_from_viewers":false,
     "hide_output_from_viewers":false
    }
   }
  },
  {
   "cell_type":"code",
   "source":[
    "import datetime\n",
    "start =  datetime.date(2020, 3, 2)\n",
    "for i in range(3):\n",
    "    date = start + datetime.timedelta(days=i)\n",
    "    r = requests.get(f'https:\/\/bank.gov.ua\/NBUStatService\/v1\/statdirectory\/exchange?date={date.strftime(\"%Y%m%d\")}&json')\n",
    "    print(r.json())"
   ],
   "execution_count":43,
   "outputs":[
    {
     "name":"stdout",
     "text":[
      "[{'r030': 36, 'txt': 'Австралійський долар', 'rate': 15.9946, 'cc': 'AUD', 'exchangedate': '02.03.2020'}, {'r030': 124, 'txt': 'Канадський долар', 'rate': 18.3002, 'cc': 'CAD', 'exchangedate': '02.03.2020'}, {'r030': 156, 'txt': 'Юань Женьмiньбi', 'rate': 3.5199, 'cc': 'CNY', 'exchangedate': '02.03.2020'}, {'r030': 191, 'txt': 'Куна', 'rate': 3.6122, 'cc': 'HRK', 'exchangedate': '02.03.2020'}, {'r030': 203, 'txt': 'Чеська крона', 'rate': 1.0624, 'cc': 'CZK', 'exchangedate': '02.03.2020'}, {'r030': 208, 'txt': 'Данська крона', 'rate': 3.6106, 'cc': 'DKK', 'exchangedate': '02.03.2020'}, {'r030': 344, 'txt': 'Гонконгівський долар', 'rate': 3.1548, 'cc': 'HKD', 'exchangedate': '02.03.2020'}, {'r030': 348, 'txt': 'Форинт', 'rate': 0.079931, 'cc': 'HUF', 'exchangedate': '02.03.2020'}, {'r030': 356, 'txt': 'Індійська рупія', 'rate': 0.34075, 'cc': 'INR', 'exchangedate': '02.03.2020'}, {'r030': 360, 'txt': 'Рупія', 'rate': 0.0017221, 'cc': 'IDR', 'exchangedate': '02.03.2020'}, {'r030': 376, 'txt': 'Новий ізраїльський шекель', 'rate': 7.0946, 'cc': 'ILS', 'exchangedate': '02.03.2020'}, {'r030': 392, 'txt': 'Єна', 'rate': 0.22628, 'cc': 'JPY', 'exchangedate': '02.03.2020'}, {'r030': 398, 'txt': 'Теньге', 'rate': 0.064422, 'cc': 'KZT', 'exchangedate': '02.03.2020'}, {'r030': 410, 'txt': 'Вона', 'rate': 0.020237, 'cc': 'KRW', 'exchangedate': '02.03.2020'}, {'r030': 484, 'txt': 'Мексиканське песо', 'rate': 1.2424, 'cc': 'MXN', 'exchangedate': '02.03.2020'}, {'r030': 498, 'txt': 'Молдовський лей', 'rate': 1.3837, 'cc': 'MDL', 'exchangedate': '02.03.2020'}, {'r030': 554, 'txt': 'Новозеландський долар', 'rate': 15.3343, 'cc': 'NZD', 'exchangedate': '02.03.2020'}, {'r030': 578, 'txt': 'Норвезька крона', 'rate': 2.5961, 'cc': 'NOK', 'exchangedate': '02.03.2020'}, {'r030': 643, 'txt': 'Російський рубль', 'rate': 0.36626, 'cc': 'RUB', 'exchangedate': '02.03.2020'}, {'r030': 682, 'txt': 'Саудівський рiял', 'rate': 6.5547, 'cc': 'SAR', 'exchangedate': '02.03.2020'}, {'r030': 702, 'txt': 'Сінгапурський долар', 'rate': 17.626, 'cc': 'SGD', 'exchangedate': '02.03.2020'}, {'r030': 710, 'txt': 'Ренд', 'rate': 1.5777, 'cc': 'ZAR', 'exchangedate': '02.03.2020'}, {'r030': 752, 'txt': 'Шведська крона', 'rate': 2.527, 'cc': 'SEK', 'exchangedate': '02.03.2020'}, {'r030': 756, 'txt': 'Швейцарський франк', 'rate': 25.4384, 'cc': 'CHF', 'exchangedate': '02.03.2020'}, {'r030': 818, 'txt': 'Єгипетський фунт', 'rate': 1.5728, 'cc': 'EGP', 'exchangedate': '02.03.2020'}, {'r030': 826, 'txt': 'Фунт стерлінгів', 'rate': 31.6486, 'cc': 'GBP', 'exchangedate': '02.03.2020'}, {'r030': 840, 'txt': 'Долар США', 'rate': 24.59, 'cc': 'USD', 'exchangedate': '02.03.2020'}, {'r030': 933, 'txt': 'Бiлоруський рубль', 'rate': 10.9998, 'cc': 'BYN', 'exchangedate': '02.03.2020'}, {'r030': 944, 'txt': 'Азербайджанський манат', 'rate': 14.4826, 'cc': 'AZN', 'exchangedate': '02.03.2020'}, {'r030': 946, 'txt': 'Румунський лей', 'rate': 5.6051, 'cc': 'RON', 'exchangedate': '02.03.2020'}, {'r030': 949, 'txt': 'Турецька ліра', 'rate': 3.9463, 'cc': 'TRY', 'exchangedate': '02.03.2020'}, {'r030': 960, 'txt': 'СПЗ (спеціальні права запозичення)', 'rate': 33.7512, 'cc': 'XDR', 'exchangedate': '02.03.2020'}, {'r030': 975, 'txt': 'Болгарський лев', 'rate': 13.8053, 'cc': 'BGN', 'exchangedate': '02.03.2020'}, {'r030': 978, 'txt': 'Євро', 'rate': 26.9789, 'cc': 'EUR', 'exchangedate': '02.03.2020'}, {'r030': 985, 'txt': 'Злотий', 'rate': 6.237, 'cc': 'PLN', 'exchangedate': '02.03.2020'}, {'r030': 12, 'txt': 'Алжирський динар', 'rate': 0.20442, 'cc': 'DZD', 'exchangedate': '02.03.2020'}, {'r030': 50, 'txt': 'Така', 'rate': 0.28946, 'cc': 'BDT', 'exchangedate': '02.03.2020'}, {'r030': 51, 'txt': 'Вірменський драм', 'rate': 0.051379, 'cc': 'AMD', 'exchangedate': '02.03.2020'}, {'r030': 364, 'txt': 'Іранський ріал', 'rate': 0.00058548, 'cc': 'IRR', 'exchangedate': '02.03.2020'}, {'r030': 368, 'txt': 'Іракський динар', 'rate': 0.020664, 'cc': 'IQD', 'exchangedate': '02.03.2020'}, {'r030': 417, 'txt': 'Сом', 'rate': 0.35204, 'cc': 'KGS', 'exchangedate': '02.03.2020'}, {'r030': 422, 'txt': 'Ліванський фунт', 'rate': 0.016312, 'cc': 'LBP', 'exchangedate': '02.03.2020'}, {'r030': 434, 'txt': 'Лівійський динар', 'rate': 17.415, 'cc': 'LYD', 'exchangedate': '02.03.2020'}, {'r030': 458, 'txt': 'Малайзійський ринггіт', 'rate': 5.8341, 'cc': 'MYR', 'exchangedate': '02.03.2020'}, {'r030': 504, 'txt': 'Марокканський дирхам', 'rate': 2.5537, 'cc': 'MAD', 'exchangedate': '02.03.2020'}, {'r030': 608, 'txt': 'Філіппінське песо', 'rate': 0.48228, 'cc': 'PHP', 'exchangedate': '02.03.2020'}, {'r030': 704, 'txt': 'Донг', 'rate': 0.0010581, 'cc': 'VND', 'exchangedate': '02.03.2020'}, {'r030': 764, 'txt': 'Бат', 'rate': 0.77962, 'cc': 'THB', 'exchangedate': '02.03.2020'}, {'r030': 784, 'txt': 'Дирхам ОАЕ', 'rate': 6.6948, 'cc': 'AED', 'exchangedate': '02.03.2020'}, {'r030': 788, 'txt': 'Туніський динар', 'rate': 8.6081, 'cc': 'TND', 'exchangedate': '02.03.2020'}, {'r030': 860, 'txt': 'Узбецький сум', 'rate': 0.0025813, 'cc': 'UZS', 'exchangedate': '02.03.2020'}, {'r030': 901, 'txt': 'Новий тайванський долар', 'rate': 0.8119, 'cc': 'TWD', 'exchangedate': '02.03.2020'}, {'r030': 934, 'txt': 'Туркменський новий манат', 'rate': 7.0257, 'cc': 'TMT', 'exchangedate': '02.03.2020'}, {'r030': 936, 'txt': 'Ганське седі', 'rate': 4.4547, 'cc': 'GHS', 'exchangedate': '02.03.2020'}, {'r030': 941, 'txt': 'Сербський динар', 'rate': 0.22954, 'cc': 'RSD', 'exchangedate': '02.03.2020'}, {'r030': 972, 'txt': 'Сомоні', 'rate': 2.5403, 'cc': 'TJS', 'exchangedate': '02.03.2020'}, {'r030': 981, 'txt': 'Ларі', 'rate': 8.8533, 'cc': 'GEL', 'exchangedate': '02.03.2020'}, {'r030': 986, 'txt': 'Бразильський реал', 'rate': 5.4721, 'cc': 'BRL', 'exchangedate': '02.03.2020'}, {'r030': 959, 'txt': 'Золото', 'rate': 39881.29, 'cc': 'XAU', 'exchangedate': '02.03.2020'}, {'r030': 961, 'txt': 'Срiбло', 'rate': 422.94, 'cc': 'XAG', 'exchangedate': '02.03.2020'}, {'r030': 962, 'txt': 'Платина', 'rate': 21494.61, 'cc': 'XPT', 'exchangedate': '02.03.2020'}, {'r030': 964, 'txt': 'Паладiй', 'rate': 66796.52, 'cc': 'XPD', 'exchangedate': '02.03.2020'}]\n",
      "[{'r030': 36, 'txt': 'Австралійський долар', 'rate': 16.2272, 'cc': 'AUD', 'exchangedate': '03.03.2020'}, {'r030': 124, 'txt': 'Канадський долар', 'rate': 18.5534, 'cc': 'CAD', 'exchangedate': '03.03.2020'}, {'r030': 156, 'txt': 'Юань Женьмiньбi', 'rate': 3.5638, 'cc': 'CNY', 'exchangedate': '03.03.2020'}, {'r030': 191, 'txt': 'Куна', 'rate': 3.6893, 'cc': 'HRK', 'exchangedate': '03.03.2020'}, {'r030': 203, 'txt': 'Чеська крона', 'rate': 1.0809, 'cc': 'CZK', 'exchangedate': '03.03.2020'}, {'r030': 208, 'txt': 'Данська крона', 'rate': 3.6943, 'cc': 'DKK', 'exchangedate': '03.03.2020'}, {'r030': 344, 'txt': 'Гонконгівський долар', 'rate': 3.19, 'cc': 'HKD', 'exchangedate': '03.03.2020'}, {'r030': 348, 'txt': 'Форинт', 'rate': 0.081862, 'cc': 'HUF', 'exchangedate': '03.03.2020'}, {'r030': 356, 'txt': 'Індійська рупія', 'rate': 0.34261, 'cc': 'INR', 'exchangedate': '03.03.2020'}, {'r030': 360, 'txt': 'Рупія', 'rate': 0.0017398, 'cc': 'IDR', 'exchangedate': '03.03.2020'}, {'r030': 376, 'txt': 'Новий ізраїльський шекель', 'rate': 7.1089, 'cc': 'ILS', 'exchangedate': '03.03.2020'}, {'r030': 392, 'txt': 'Єна', 'rate': 0.23051, 'cc': 'JPY', 'exchangedate': '03.03.2020'}, {'r030': 398, 'txt': 'Теньге', 'rate': 0.065047, 'cc': 'KZT', 'exchangedate': '03.03.2020'}, {'r030': 410, 'txt': 'Вона', 'rate': 0.020796, 'cc': 'KRW', 'exchangedate': '03.03.2020'}, {'r030': 484, 'txt': 'Мексиканське песо', 'rate': 1.2525, 'cc': 'MXN', 'exchangedate': '03.03.2020'}, {'r030': 498, 'txt': 'Молдовський лей', 'rate': 1.4018, 'cc': 'MDL', 'exchangedate': '03.03.2020'}, {'r030': 554, 'txt': 'Новозеландський долар', 'rate': 15.546, 'cc': 'NZD', 'exchangedate': '03.03.2020'}, {'r030': 578, 'txt': 'Норвезька крона', 'rate': 2.649, 'cc': 'NOK', 'exchangedate': '03.03.2020'}, {'r030': 643, 'txt': 'Російський рубль', 'rate': 0.36905, 'cc': 'RUB', 'exchangedate': '03.03.2020'}, {'r030': 682, 'txt': 'Саудівський рiял', 'rate': 6.6155, 'cc': 'SAR', 'exchangedate': '03.03.2020'}, {'r030': 702, 'txt': 'Сінгапурський долар', 'rate': 17.8624, 'cc': 'SGD', 'exchangedate': '03.03.2020'}, {'r030': 710, 'txt': 'Ренд', 'rate': 1.5794, 'cc': 'ZAR', 'exchangedate': '03.03.2020'}, {'r030': 752, 'txt': 'Шведська крона', 'rate': 2.6003, 'cc': 'SEK', 'exchangedate': '03.03.2020'}, {'r030': 756, 'txt': 'Швейцарський франк', 'rate': 25.9182, 'cc': 'CHF', 'exchangedate': '03.03.2020'}, {'r030': 818, 'txt': 'Єгипетський фунт', 'rate': 1.583, 'cc': 'EGP', 'exchangedate': '03.03.2020'}, {'r030': 826, 'txt': 'Фунт стерлінгів', 'rate': 31.6913, 'cc': 'GBP', 'exchangedate': '03.03.2020'}, {'r030': 840, 'txt': 'Долар США', 'rate': 24.818, 'cc': 'USD', 'exchangedate': '03.03.2020'}, {'r030': 933, 'txt': 'Бiлоруський рубль', 'rate': 11.0824, 'cc': 'BYN', 'exchangedate': '03.03.2020'}, {'r030': 944, 'txt': 'Азербайджанський манат', 'rate': 14.6152, 'cc': 'AZN', 'exchangedate': '03.03.2020'}, {'r030': 946, 'txt': 'Румунський лей', 'rate': 5.7389, 'cc': 'RON', 'exchangedate': '03.03.2020'}, {'r030': 949, 'txt': 'Турецька ліра', 'rate': 3.9847, 'cc': 'TRY', 'exchangedate': '03.03.2020'}, {'r030': 960, 'txt': 'СПЗ (спеціальні права запозичення)', 'rate': 34.2257, 'cc': 'XDR', 'exchangedate': '03.03.2020'}, {'r030': 975, 'txt': 'Болгарський лев', 'rate': 14.1116, 'cc': 'BGN', 'exchangedate': '03.03.2020'}, {'r030': 978, 'txt': 'Євро', 'rate': 27.6075, 'cc': 'EUR', 'exchangedate': '03.03.2020'}, {'r030': 985, 'txt': 'Злотий', 'rate': 6.3709, 'cc': 'PLN', 'exchangedate': '03.03.2020'}, {'r030': 12, 'txt': 'Алжирський динар', 'rate': 0.20442, 'cc': 'DZD', 'exchangedate': '03.03.2020'}, {'r030': 50, 'txt': 'Така', 'rate': 0.28946, 'cc': 'BDT', 'exchangedate': '03.03.2020'}, {'r030': 51, 'txt': 'Вірменський драм', 'rate': 0.051379, 'cc': 'AMD', 'exchangedate': '03.03.2020'}, {'r030': 364, 'txt': 'Іранський ріал', 'rate': 0.00058548, 'cc': 'IRR', 'exchangedate': '03.03.2020'}, {'r030': 368, 'txt': 'Іракський динар', 'rate': 0.020664, 'cc': 'IQD', 'exchangedate': '03.03.2020'}, {'r030': 417, 'txt': 'Сом', 'rate': 0.35204, 'cc': 'KGS', 'exchangedate': '03.03.2020'}, {'r030': 422, 'txt': 'Ліванський фунт', 'rate': 0.016312, 'cc': 'LBP', 'exchangedate': '03.03.2020'}, {'r030': 434, 'txt': 'Лівійський динар', 'rate': 17.415, 'cc': 'LYD', 'exchangedate': '03.03.2020'}, {'r030': 458, 'txt': 'Малайзійський ринггіт', 'rate': 5.8341, 'cc': 'MYR', 'exchangedate': '03.03.2020'}, {'r030': 504, 'txt': 'Марокканський дирхам', 'rate': 2.5537, 'cc': 'MAD', 'exchangedate': '03.03.2020'}, {'r030': 608, 'txt': 'Філіппінське песо', 'rate': 0.48228, 'cc': 'PHP', 'exchangedate': '03.03.2020'}, {'r030': 704, 'txt': 'Донг', 'rate': 0.0010581, 'cc': 'VND', 'exchangedate': '03.03.2020'}, {'r030': 764, 'txt': 'Бат', 'rate': 0.77962, 'cc': 'THB', 'exchangedate': '03.03.2020'}, {'r030': 784, 'txt': 'Дирхам ОАЕ', 'rate': 6.6948, 'cc': 'AED', 'exchangedate': '03.03.2020'}, {'r030': 788, 'txt': 'Туніський динар', 'rate': 8.6081, 'cc': 'TND', 'exchangedate': '03.03.2020'}, {'r030': 860, 'txt': 'Узбецький сум', 'rate': 0.0025813, 'cc': 'UZS', 'exchangedate': '03.03.2020'}, {'r030': 901, 'txt': 'Новий тайванський долар', 'rate': 0.8119, 'cc': 'TWD', 'exchangedate': '03.03.2020'}, {'r030': 934, 'txt': 'Туркменський новий манат', 'rate': 7.0257, 'cc': 'TMT', 'exchangedate': '03.03.2020'}, {'r030': 936, 'txt': 'Ганське седі', 'rate': 4.4547, 'cc': 'GHS', 'exchangedate': '03.03.2020'}, {'r030': 941, 'txt': 'Сербський динар', 'rate': 0.22954, 'cc': 'RSD', 'exchangedate': '03.03.2020'}, {'r030': 972, 'txt': 'Сомоні', 'rate': 2.5403, 'cc': 'TJS', 'exchangedate': '03.03.2020'}, {'r030': 981, 'txt': 'Ларі', 'rate': 8.8533, 'cc': 'GEL', 'exchangedate': '03.03.2020'}, {'r030': 986, 'txt': 'Бразильський реал', 'rate': 5.4721, 'cc': 'BRL', 'exchangedate': '03.03.2020'}, {'r030': 959, 'txt': 'Золото', 'rate': 39665.37, 'cc': 'XAU', 'exchangedate': '03.03.2020'}, {'r030': 961, 'txt': 'Срiбло', 'rate': 414.59, 'cc': 'XAG', 'exchangedate': '03.03.2020'}, {'r030': 962, 'txt': 'Платина', 'rate': 21428.36, 'cc': 'XPT', 'exchangedate': '03.03.2020'}, {'r030': 964, 'txt': 'Паладiй', 'rate': 64393.28, 'cc': 'XPD', 'exchangedate': '03.03.2020'}]\n",
      "[{'r030': 36, 'txt': 'Австралійський долар', 'rate': 16.3784, 'cc': 'AUD', 'exchangedate': '04.03.2020'}, {'r030': 124, 'txt': 'Канадський долар', 'rate': 18.6771, 'cc': 'CAD', 'exchangedate': '04.03.2020'}, {'r030': 156, 'txt': 'Юань Женьмiньбi', 'rate': 3.574, 'cc': 'CNY', 'exchangedate': '04.03.2020'}, {'r030': 191, 'txt': 'Куна', 'rate': 3.699, 'cc': 'HRK', 'exchangedate': '04.03.2020'}, {'r030': 203, 'txt': 'Чеська крона', 'rate': 1.0866, 'cc': 'CZK', 'exchangedate': '04.03.2020'}, {'r030': 208, 'txt': 'Данська крона', 'rate': 3.7049, 'cc': 'DKK', 'exchangedate': '04.03.2020'}, {'r030': 344, 'txt': 'Гонконгівський долар', 'rate': 3.2062, 'cc': 'HKD', 'exchangedate': '04.03.2020'}, {'r030': 348, 'txt': 'Форинт', 'rate': 0.082259, 'cc': 'HUF', 'exchangedate': '04.03.2020'}, {'r030': 356, 'txt': 'Індійська рупія', 'rate': 0.34111, 'cc': 'INR', 'exchangedate': '04.03.2020'}, {'r030': 360, 'txt': 'Рупія', 'rate': 0.001746, 'cc': 'IDR', 'exchangedate': '04.03.2020'}, {'r030': 376, 'txt': 'Новий ізраїльський шекель', 'rate': 7.2096, 'cc': 'ILS', 'exchangedate': '04.03.2020'}, {'r030': 392, 'txt': 'Єна', 'rate': 0.23114, 'cc': 'JPY', 'exchangedate': '04.03.2020'}, {'r030': 398, 'txt': 'Теньге', 'rate': 0.065561, 'cc': 'KZT', 'exchangedate': '04.03.2020'}, {'r030': 410, 'txt': 'Вона', 'rate': 0.020872, 'cc': 'KRW', 'exchangedate': '04.03.2020'}, {'r030': 484, 'txt': 'Мексиканське песо', 'rate': 1.2788, 'cc': 'MXN', 'exchangedate': '04.03.2020'}, {'r030': 498, 'txt': 'Молдовський лей', 'rate': 1.4142, 'cc': 'MDL', 'exchangedate': '04.03.2020'}, {'r030': 554, 'txt': 'Новозеландський долар', 'rate': 15.6278, 'cc': 'NZD', 'exchangedate': '04.03.2020'}, {'r030': 578, 'txt': 'Норвезька крона', 'rate': 2.6819, 'cc': 'NOK', 'exchangedate': '04.03.2020'}, {'r030': 643, 'txt': 'Російський рубль', 'rate': 0.37511, 'cc': 'RUB', 'exchangedate': '04.03.2020'}, {'r030': 682, 'txt': 'Саудівський рiял', 'rate': 6.6471, 'cc': 'SAR', 'exchangedate': '04.03.2020'}, {'r030': 702, 'txt': 'Сінгапурський долар', 'rate': 17.9015, 'cc': 'SGD', 'exchangedate': '04.03.2020'}, {'r030': 710, 'txt': 'Ренд', 'rate': 1.6009, 'cc': 'ZAR', 'exchangedate': '04.03.2020'}, {'r030': 752, 'txt': 'Шведська крона', 'rate': 2.6231, 'cc': 'SEK', 'exchangedate': '04.03.2020'}, {'r030': 756, 'txt': 'Швейцарський франк', 'rate': 26.0224, 'cc': 'CHF', 'exchangedate': '04.03.2020'}, {'r030': 818, 'txt': 'Єгипетський фунт', 'rate': 1.5935, 'cc': 'EGP', 'exchangedate': '04.03.2020'}, {'r030': 826, 'txt': 'Фунт стерлінгів', 'rate': 31.8478, 'cc': 'GBP', 'exchangedate': '04.03.2020'}, {'r030': 840, 'txt': 'Долар США', 'rate': 24.9386, 'cc': 'USD', 'exchangedate': '04.03.2020'}, {'r030': 933, 'txt': 'Бiлоруський рубль', 'rate': 11.1592, 'cc': 'BYN', 'exchangedate': '04.03.2020'}, {'r030': 944, 'txt': 'Азербайджанський манат', 'rate': 14.6879, 'cc': 'AZN', 'exchangedate': '04.03.2020'}, {'r030': 946, 'txt': 'Румунський лей', 'rate': 5.7574, 'cc': 'RON', 'exchangedate': '04.03.2020'}, {'r030': 949, 'txt': 'Турецька ліра', 'rate': 4.0466, 'cc': 'TRY', 'exchangedate': '04.03.2020'}, {'r030': 960, 'txt': 'СПЗ (спеціальні права запозичення)', 'rate': 34.3575, 'cc': 'XDR', 'exchangedate': '04.03.2020'}, {'r030': 975, 'txt': 'Болгарський лев', 'rate': 14.1672, 'cc': 'BGN', 'exchangedate': '04.03.2020'}, {'r030': 978, 'txt': 'Євро', 'rate': 27.6856, 'cc': 'EUR', 'exchangedate': '04.03.2020'}, {'r030': 985, 'txt': 'Злотий', 'rate': 6.4161, 'cc': 'PLN', 'exchangedate': '04.03.2020'}, {'r030': 12, 'txt': 'Алжирський динар', 'rate': 0.20442, 'cc': 'DZD', 'exchangedate': '04.03.2020'}, {'r030': 50, 'txt': 'Така', 'rate': 0.28946, 'cc': 'BDT', 'exchangedate': '04.03.2020'}, {'r030': 51, 'txt': 'Вірменський драм', 'rate': 0.051379, 'cc': 'AMD', 'exchangedate': '04.03.2020'}, {'r030': 364, 'txt': 'Іранський ріал', 'rate': 0.00058548, 'cc': 'IRR', 'exchangedate': '04.03.2020'}, {'r030': 368, 'txt': 'Іракський динар', 'rate': 0.020664, 'cc': 'IQD', 'exchangedate': '04.03.2020'}, {'r030': 417, 'txt': 'Сом', 'rate': 0.35204, 'cc': 'KGS', 'exchangedate': '04.03.2020'}, {'r030': 422, 'txt': 'Ліванський фунт', 'rate': 0.016312, 'cc': 'LBP', 'exchangedate': '04.03.2020'}, {'r030': 434, 'txt': 'Лівійський динар', 'rate': 17.415, 'cc': 'LYD', 'exchangedate': '04.03.2020'}, {'r030': 458, 'txt': 'Малайзійський ринггіт', 'rate': 5.8341, 'cc': 'MYR', 'exchangedate': '04.03.2020'}, {'r030': 504, 'txt': 'Марокканський дирхам', 'rate': 2.5537, 'cc': 'MAD', 'exchangedate': '04.03.2020'}, {'r030': 608, 'txt': 'Філіппінське песо', 'rate': 0.48228, 'cc': 'PHP', 'exchangedate': '04.03.2020'}, {'r030': 704, 'txt': 'Донг', 'rate': 0.0010581, 'cc': 'VND', 'exchangedate': '04.03.2020'}, {'r030': 764, 'txt': 'Бат', 'rate': 0.77962, 'cc': 'THB', 'exchangedate': '04.03.2020'}, {'r030': 784, 'txt': 'Дирхам ОАЕ', 'rate': 6.6948, 'cc': 'AED', 'exchangedate': '04.03.2020'}, {'r030': 788, 'txt': 'Туніський динар', 'rate': 8.6081, 'cc': 'TND', 'exchangedate': '04.03.2020'}, {'r030': 860, 'txt': 'Узбецький сум', 'rate': 0.0025813, 'cc': 'UZS', 'exchangedate': '04.03.2020'}, {'r030': 901, 'txt': 'Новий тайванський долар', 'rate': 0.8119, 'cc': 'TWD', 'exchangedate': '04.03.2020'}, {'r030': 934, 'txt': 'Туркменський новий манат', 'rate': 7.0257, 'cc': 'TMT', 'exchangedate': '04.03.2020'}, {'r030': 936, 'txt': 'Ганське седі', 'rate': 4.4547, 'cc': 'GHS', 'exchangedate': '04.03.2020'}, {'r030': 941, 'txt': 'Сербський динар', 'rate': 0.22954, 'cc': 'RSD', 'exchangedate': '04.03.2020'}, {'r030': 972, 'txt': 'Сомоні', 'rate': 2.5403, 'cc': 'TJS', 'exchangedate': '04.03.2020'}, {'r030': 981, 'txt': 'Ларі', 'rate': 8.8533, 'cc': 'GEL', 'exchangedate': '04.03.2020'}, {'r030': 986, 'txt': 'Бразильський реал', 'rate': 5.4721, 'cc': 'BRL', 'exchangedate': '04.03.2020'}, {'r030': 959, 'txt': 'Золото', 'rate': 39940.91, 'cc': 'XAU', 'exchangedate': '04.03.2020'}, {'r030': 961, 'txt': 'Срiбло', 'rate': 419.35, 'cc': 'XAG', 'exchangedate': '04.03.2020'}, {'r030': 962, 'txt': 'Платина', 'rate': 21626.5, 'cc': 'XPT', 'exchangedate': '04.03.2020'}, {'r030': 964, 'txt': 'Паладiй', 'rate': 62662.47, 'cc': 'XPD', 'exchangedate': '04.03.2020'}]\n"
     ],
     "output_type":"stream"
    }
   ],
   "metadata":{
    "datalore":{
     "node_id":"ZqeJDxlsc36pf7rEEdaQMz",
     "type":"CODE",
     "hide_input_from_viewers":false,
     "hide_output_from_viewers":false
    }
   }
  },
  {
   "cell_type":"code",
   "source":[
    "import datetime\n",
    "start =  datetime.date(2020, 3, 2)\n",
    "for i in range(3):\n",
    "    date = start + datetime.timedelta(days=i)\n",
    "    params = {\n",
    "        \"date\": date.strftime(\"%Y%m%d\"),\n",
    "        \"json\": \"json\"\n",
    "    }\n",
    "    r = requests.get('https:\/\/bank.gov.ua\/NBUStatService\/v1\/statdirectory\/exchange', params=params)\n",
    "    print(r.json())"
   ],
   "execution_count":46,
   "outputs":[
    {
     "name":"stdout",
     "text":[
      "[{'r030': 36, 'txt': 'Австралійський долар', 'rate': 15.9946, 'cc': 'AUD', 'exchangedate': '02.03.2020'}, {'r030': 124, 'txt': 'Канадський долар', 'rate': 18.3002, 'cc': 'CAD', 'exchangedate': '02.03.2020'}, {'r030': 156, 'txt': 'Юань Женьмiньбi', 'rate': 3.5199, 'cc': 'CNY', 'exchangedate': '02.03.2020'}, {'r030': 191, 'txt': 'Куна', 'rate': 3.6122, 'cc': 'HRK', 'exchangedate': '02.03.2020'}, {'r030': 203, 'txt': 'Чеська крона', 'rate': 1.0624, 'cc': 'CZK', 'exchangedate': '02.03.2020'}, {'r030': 208, 'txt': 'Данська крона', 'rate': 3.6106, 'cc': 'DKK', 'exchangedate': '02.03.2020'}, {'r030': 344, 'txt': 'Гонконгівський долар', 'rate': 3.1548, 'cc': 'HKD', 'exchangedate': '02.03.2020'}, {'r030': 348, 'txt': 'Форинт', 'rate': 0.079931, 'cc': 'HUF', 'exchangedate': '02.03.2020'}, {'r030': 356, 'txt': 'Індійська рупія', 'rate': 0.34075, 'cc': 'INR', 'exchangedate': '02.03.2020'}, {'r030': 360, 'txt': 'Рупія', 'rate': 0.0017221, 'cc': 'IDR', 'exchangedate': '02.03.2020'}, {'r030': 376, 'txt': 'Новий ізраїльський шекель', 'rate': 7.0946, 'cc': 'ILS', 'exchangedate': '02.03.2020'}, {'r030': 392, 'txt': 'Єна', 'rate': 0.22628, 'cc': 'JPY', 'exchangedate': '02.03.2020'}, {'r030': 398, 'txt': 'Теньге', 'rate': 0.064422, 'cc': 'KZT', 'exchangedate': '02.03.2020'}, {'r030': 410, 'txt': 'Вона', 'rate': 0.020237, 'cc': 'KRW', 'exchangedate': '02.03.2020'}, {'r030': 484, 'txt': 'Мексиканське песо', 'rate': 1.2424, 'cc': 'MXN', 'exchangedate': '02.03.2020'}, {'r030': 498, 'txt': 'Молдовський лей', 'rate': 1.3837, 'cc': 'MDL', 'exchangedate': '02.03.2020'}, {'r030': 554, 'txt': 'Новозеландський долар', 'rate': 15.3343, 'cc': 'NZD', 'exchangedate': '02.03.2020'}, {'r030': 578, 'txt': 'Норвезька крона', 'rate': 2.5961, 'cc': 'NOK', 'exchangedate': '02.03.2020'}, {'r030': 643, 'txt': 'Російський рубль', 'rate': 0.36626, 'cc': 'RUB', 'exchangedate': '02.03.2020'}, {'r030': 682, 'txt': 'Саудівський рiял', 'rate': 6.5547, 'cc': 'SAR', 'exchangedate': '02.03.2020'}, {'r030': 702, 'txt': 'Сінгапурський долар', 'rate': 17.626, 'cc': 'SGD', 'exchangedate': '02.03.2020'}, {'r030': 710, 'txt': 'Ренд', 'rate': 1.5777, 'cc': 'ZAR', 'exchangedate': '02.03.2020'}, {'r030': 752, 'txt': 'Шведська крона', 'rate': 2.527, 'cc': 'SEK', 'exchangedate': '02.03.2020'}, {'r030': 756, 'txt': 'Швейцарський франк', 'rate': 25.4384, 'cc': 'CHF', 'exchangedate': '02.03.2020'}, {'r030': 818, 'txt': 'Єгипетський фунт', 'rate': 1.5728, 'cc': 'EGP', 'exchangedate': '02.03.2020'}, {'r030': 826, 'txt': 'Фунт стерлінгів', 'rate': 31.6486, 'cc': 'GBP', 'exchangedate': '02.03.2020'}, {'r030': 840, 'txt': 'Долар США', 'rate': 24.59, 'cc': 'USD', 'exchangedate': '02.03.2020'}, {'r030': 933, 'txt': 'Бiлоруський рубль', 'rate': 10.9998, 'cc': 'BYN', 'exchangedate': '02.03.2020'}, {'r030': 944, 'txt': 'Азербайджанський манат', 'rate': 14.4826, 'cc': 'AZN', 'exchangedate': '02.03.2020'}, {'r030': 946, 'txt': 'Румунський лей', 'rate': 5.6051, 'cc': 'RON', 'exchangedate': '02.03.2020'}, {'r030': 949, 'txt': 'Турецька ліра', 'rate': 3.9463, 'cc': 'TRY', 'exchangedate': '02.03.2020'}, {'r030': 960, 'txt': 'СПЗ (спеціальні права запозичення)', 'rate': 33.7512, 'cc': 'XDR', 'exchangedate': '02.03.2020'}, {'r030': 975, 'txt': 'Болгарський лев', 'rate': 13.8053, 'cc': 'BGN', 'exchangedate': '02.03.2020'}, {'r030': 978, 'txt': 'Євро', 'rate': 26.9789, 'cc': 'EUR', 'exchangedate': '02.03.2020'}, {'r030': 985, 'txt': 'Злотий', 'rate': 6.237, 'cc': 'PLN', 'exchangedate': '02.03.2020'}, {'r030': 12, 'txt': 'Алжирський динар', 'rate': 0.20442, 'cc': 'DZD', 'exchangedate': '02.03.2020'}, {'r030': 50, 'txt': 'Така', 'rate': 0.28946, 'cc': 'BDT', 'exchangedate': '02.03.2020'}, {'r030': 51, 'txt': 'Вірменський драм', 'rate': 0.051379, 'cc': 'AMD', 'exchangedate': '02.03.2020'}, {'r030': 364, 'txt': 'Іранський ріал', 'rate': 0.00058548, 'cc': 'IRR', 'exchangedate': '02.03.2020'}, {'r030': 368, 'txt': 'Іракський динар', 'rate': 0.020664, 'cc': 'IQD', 'exchangedate': '02.03.2020'}, {'r030': 417, 'txt': 'Сом', 'rate': 0.35204, 'cc': 'KGS', 'exchangedate': '02.03.2020'}, {'r030': 422, 'txt': 'Ліванський фунт', 'rate': 0.016312, 'cc': 'LBP', 'exchangedate': '02.03.2020'}, {'r030': 434, 'txt': 'Лівійський динар', 'rate': 17.415, 'cc': 'LYD', 'exchangedate': '02.03.2020'}, {'r030': 458, 'txt': 'Малайзійський ринггіт', 'rate': 5.8341, 'cc': 'MYR', 'exchangedate': '02.03.2020'}, {'r030': 504, 'txt': 'Марокканський дирхам', 'rate': 2.5537, 'cc': 'MAD', 'exchangedate': '02.03.2020'}, {'r030': 608, 'txt': 'Філіппінське песо', 'rate': 0.48228, 'cc': 'PHP', 'exchangedate': '02.03.2020'}, {'r030': 704, 'txt': 'Донг', 'rate': 0.0010581, 'cc': 'VND', 'exchangedate': '02.03.2020'}, {'r030': 764, 'txt': 'Бат', 'rate': 0.77962, 'cc': 'THB', 'exchangedate': '02.03.2020'}, {'r030': 784, 'txt': 'Дирхам ОАЕ', 'rate': 6.6948, 'cc': 'AED', 'exchangedate': '02.03.2020'}, {'r030': 788, 'txt': 'Туніський динар', 'rate': 8.6081, 'cc': 'TND', 'exchangedate': '02.03.2020'}, {'r030': 860, 'txt': 'Узбецький сум', 'rate': 0.0025813, 'cc': 'UZS', 'exchangedate': '02.03.2020'}, {'r030': 901, 'txt': 'Новий тайванський долар', 'rate': 0.8119, 'cc': 'TWD', 'exchangedate': '02.03.2020'}, {'r030': 934, 'txt': 'Туркменський новий манат', 'rate': 7.0257, 'cc': 'TMT', 'exchangedate': '02.03.2020'}, {'r030': 936, 'txt': 'Ганське седі', 'rate': 4.4547, 'cc': 'GHS', 'exchangedate': '02.03.2020'}, {'r030': 941, 'txt': 'Сербський динар', 'rate': 0.22954, 'cc': 'RSD', 'exchangedate': '02.03.2020'}, {'r030': 972, 'txt': 'Сомоні', 'rate': 2.5403, 'cc': 'TJS', 'exchangedate': '02.03.2020'}, {'r030': 981, 'txt': 'Ларі', 'rate': 8.8533, 'cc': 'GEL', 'exchangedate': '02.03.2020'}, {'r030': 986, 'txt': 'Бразильський реал', 'rate': 5.4721, 'cc': 'BRL', 'exchangedate': '02.03.2020'}, {'r030': 959, 'txt': 'Золото', 'rate': 39881.29, 'cc': 'XAU', 'exchangedate': '02.03.2020'}, {'r030': 961, 'txt': 'Срiбло', 'rate': 422.94, 'cc': 'XAG', 'exchangedate': '02.03.2020'}, {'r030': 962, 'txt': 'Платина', 'rate': 21494.61, 'cc': 'XPT', 'exchangedate': '02.03.2020'}, {'r030': 964, 'txt': 'Паладiй', 'rate': 66796.52, 'cc': 'XPD', 'exchangedate': '02.03.2020'}]\n",
      "[{'r030': 36, 'txt': 'Австралійський долар', 'rate': 16.2272, 'cc': 'AUD', 'exchangedate': '03.03.2020'}, {'r030': 124, 'txt': 'Канадський долар', 'rate': 18.5534, 'cc': 'CAD', 'exchangedate': '03.03.2020'}, {'r030': 156, 'txt': 'Юань Женьмiньбi', 'rate': 3.5638, 'cc': 'CNY', 'exchangedate': '03.03.2020'}, {'r030': 191, 'txt': 'Куна', 'rate': 3.6893, 'cc': 'HRK', 'exchangedate': '03.03.2020'}, {'r030': 203, 'txt': 'Чеська крона', 'rate': 1.0809, 'cc': 'CZK', 'exchangedate': '03.03.2020'}, {'r030': 208, 'txt': 'Данська крона', 'rate': 3.6943, 'cc': 'DKK', 'exchangedate': '03.03.2020'}, {'r030': 344, 'txt': 'Гонконгівський долар', 'rate': 3.19, 'cc': 'HKD', 'exchangedate': '03.03.2020'}, {'r030': 348, 'txt': 'Форинт', 'rate': 0.081862, 'cc': 'HUF', 'exchangedate': '03.03.2020'}, {'r030': 356, 'txt': 'Індійська рупія', 'rate': 0.34261, 'cc': 'INR', 'exchangedate': '03.03.2020'}, {'r030': 360, 'txt': 'Рупія', 'rate': 0.0017398, 'cc': 'IDR', 'exchangedate': '03.03.2020'}, {'r030': 376, 'txt': 'Новий ізраїльський шекель', 'rate': 7.1089, 'cc': 'ILS', 'exchangedate': '03.03.2020'}, {'r030': 392, 'txt': 'Єна', 'rate': 0.23051, 'cc': 'JPY', 'exchangedate': '03.03.2020'}, {'r030': 398, 'txt': 'Теньге', 'rate': 0.065047, 'cc': 'KZT', 'exchangedate': '03.03.2020'}, {'r030': 410, 'txt': 'Вона', 'rate': 0.020796, 'cc': 'KRW', 'exchangedate': '03.03.2020'}, {'r030': 484, 'txt': 'Мексиканське песо', 'rate': 1.2525, 'cc': 'MXN', 'exchangedate': '03.03.2020'}, {'r030': 498, 'txt': 'Молдовський лей', 'rate': 1.4018, 'cc': 'MDL', 'exchangedate': '03.03.2020'}, {'r030': 554, 'txt': 'Новозеландський долар', 'rate': 15.546, 'cc': 'NZD', 'exchangedate': '03.03.2020'}, {'r030': 578, 'txt': 'Норвезька крона', 'rate': 2.649, 'cc': 'NOK', 'exchangedate': '03.03.2020'}, {'r030': 643, 'txt': 'Російський рубль', 'rate': 0.36905, 'cc': 'RUB', 'exchangedate': '03.03.2020'}, {'r030': 682, 'txt': 'Саудівський рiял', 'rate': 6.6155, 'cc': 'SAR', 'exchangedate': '03.03.2020'}, {'r030': 702, 'txt': 'Сінгапурський долар', 'rate': 17.8624, 'cc': 'SGD', 'exchangedate': '03.03.2020'}, {'r030': 710, 'txt': 'Ренд', 'rate': 1.5794, 'cc': 'ZAR', 'exchangedate': '03.03.2020'}, {'r030': 752, 'txt': 'Шведська крона', 'rate': 2.6003, 'cc': 'SEK', 'exchangedate': '03.03.2020'}, {'r030': 756, 'txt': 'Швейцарський франк', 'rate': 25.9182, 'cc': 'CHF', 'exchangedate': '03.03.2020'}, {'r030': 818, 'txt': 'Єгипетський фунт', 'rate': 1.583, 'cc': 'EGP', 'exchangedate': '03.03.2020'}, {'r030': 826, 'txt': 'Фунт стерлінгів', 'rate': 31.6913, 'cc': 'GBP', 'exchangedate': '03.03.2020'}, {'r030': 840, 'txt': 'Долар США', 'rate': 24.818, 'cc': 'USD', 'exchangedate': '03.03.2020'}, {'r030': 933, 'txt': 'Бiлоруський рубль', 'rate': 11.0824, 'cc': 'BYN', 'exchangedate': '03.03.2020'}, {'r030': 944, 'txt': 'Азербайджанський манат', 'rate': 14.6152, 'cc': 'AZN', 'exchangedate': '03.03.2020'}, {'r030': 946, 'txt': 'Румунський лей', 'rate': 5.7389, 'cc': 'RON', 'exchangedate': '03.03.2020'}, {'r030': 949, 'txt': 'Турецька ліра', 'rate': 3.9847, 'cc': 'TRY', 'exchangedate': '03.03.2020'}, {'r030': 960, 'txt': 'СПЗ (спеціальні права запозичення)', 'rate': 34.2257, 'cc': 'XDR', 'exchangedate': '03.03.2020'}, {'r030': 975, 'txt': 'Болгарський лев', 'rate': 14.1116, 'cc': 'BGN', 'exchangedate': '03.03.2020'}, {'r030': 978, 'txt': 'Євро', 'rate': 27.6075, 'cc': 'EUR', 'exchangedate': '03.03.2020'}, {'r030': 985, 'txt': 'Злотий', 'rate': 6.3709, 'cc': 'PLN', 'exchangedate': '03.03.2020'}, {'r030': 12, 'txt': 'Алжирський динар', 'rate': 0.20442, 'cc': 'DZD', 'exchangedate': '03.03.2020'}, {'r030': 50, 'txt': 'Така', 'rate': 0.28946, 'cc': 'BDT', 'exchangedate': '03.03.2020'}, {'r030': 51, 'txt': 'Вірменський драм', 'rate': 0.051379, 'cc': 'AMD', 'exchangedate': '03.03.2020'}, {'r030': 364, 'txt': 'Іранський ріал', 'rate': 0.00058548, 'cc': 'IRR', 'exchangedate': '03.03.2020'}, {'r030': 368, 'txt': 'Іракський динар', 'rate': 0.020664, 'cc': 'IQD', 'exchangedate': '03.03.2020'}, {'r030': 417, 'txt': 'Сом', 'rate': 0.35204, 'cc': 'KGS', 'exchangedate': '03.03.2020'}, {'r030': 422, 'txt': 'Ліванський фунт', 'rate': 0.016312, 'cc': 'LBP', 'exchangedate': '03.03.2020'}, {'r030': 434, 'txt': 'Лівійський динар', 'rate': 17.415, 'cc': 'LYD', 'exchangedate': '03.03.2020'}, {'r030': 458, 'txt': 'Малайзійський ринггіт', 'rate': 5.8341, 'cc': 'MYR', 'exchangedate': '03.03.2020'}, {'r030': 504, 'txt': 'Марокканський дирхам', 'rate': 2.5537, 'cc': 'MAD', 'exchangedate': '03.03.2020'}, {'r030': 608, 'txt': 'Філіппінське песо', 'rate': 0.48228, 'cc': 'PHP', 'exchangedate': '03.03.2020'}, {'r030': 704, 'txt': 'Донг', 'rate': 0.0010581, 'cc': 'VND', 'exchangedate': '03.03.2020'}, {'r030': 764, 'txt': 'Бат', 'rate': 0.77962, 'cc': 'THB', 'exchangedate': '03.03.2020'}, {'r030': 784, 'txt': 'Дирхам ОАЕ', 'rate': 6.6948, 'cc': 'AED', 'exchangedate': '03.03.2020'}, {'r030': 788, 'txt': 'Туніський динар', 'rate': 8.6081, 'cc': 'TND', 'exchangedate': '03.03.2020'}, {'r030': 860, 'txt': 'Узбецький сум', 'rate': 0.0025813, 'cc': 'UZS', 'exchangedate': '03.03.2020'}, {'r030': 901, 'txt': 'Новий тайванський долар', 'rate': 0.8119, 'cc': 'TWD', 'exchangedate': '03.03.2020'}, {'r030': 934, 'txt': 'Туркменський новий манат', 'rate': 7.0257, 'cc': 'TMT', 'exchangedate': '03.03.2020'}, {'r030': 936, 'txt': 'Ганське седі', 'rate': 4.4547, 'cc': 'GHS', 'exchangedate': '03.03.2020'}, {'r030': 941, 'txt': 'Сербський динар', 'rate': 0.22954, 'cc': 'RSD', 'exchangedate': '03.03.2020'}, {'r030': 972, 'txt': 'Сомоні', 'rate': 2.5403, 'cc': 'TJS', 'exchangedate': '03.03.2020'}, {'r030': 981, 'txt': 'Ларі', 'rate': 8.8533, 'cc': 'GEL', 'exchangedate': '03.03.2020'}, {'r030': 986, 'txt': 'Бразильський реал', 'rate': 5.4721, 'cc': 'BRL', 'exchangedate': '03.03.2020'}, {'r030': 959, 'txt': 'Золото', 'rate': 39665.37, 'cc': 'XAU', 'exchangedate': '03.03.2020'}, {'r030': 961, 'txt': 'Срiбло', 'rate': 414.59, 'cc': 'XAG', 'exchangedate': '03.03.2020'}, {'r030': 962, 'txt': 'Платина', 'rate': 21428.36, 'cc': 'XPT', 'exchangedate': '03.03.2020'}, {'r030': 964, 'txt': 'Паладiй', 'rate': 64393.28, 'cc': 'XPD', 'exchangedate': '03.03.2020'}]\n",
      "[{'r030': 36, 'txt': 'Австралійський долар', 'rate': 16.3784, 'cc': 'AUD', 'exchangedate': '04.03.2020'}, {'r030': 124, 'txt': 'Канадський долар', 'rate': 18.6771, 'cc': 'CAD', 'exchangedate': '04.03.2020'}, {'r030': 156, 'txt': 'Юань Женьмiньбi', 'rate': 3.574, 'cc': 'CNY', 'exchangedate': '04.03.2020'}, {'r030': 191, 'txt': 'Куна', 'rate': 3.699, 'cc': 'HRK', 'exchangedate': '04.03.2020'}, {'r030': 203, 'txt': 'Чеська крона', 'rate': 1.0866, 'cc': 'CZK', 'exchangedate': '04.03.2020'}, {'r030': 208, 'txt': 'Данська крона', 'rate': 3.7049, 'cc': 'DKK', 'exchangedate': '04.03.2020'}, {'r030': 344, 'txt': 'Гонконгівський долар', 'rate': 3.2062, 'cc': 'HKD', 'exchangedate': '04.03.2020'}, {'r030': 348, 'txt': 'Форинт', 'rate': 0.082259, 'cc': 'HUF', 'exchangedate': '04.03.2020'}, {'r030': 356, 'txt': 'Індійська рупія', 'rate': 0.34111, 'cc': 'INR', 'exchangedate': '04.03.2020'}, {'r030': 360, 'txt': 'Рупія', 'rate': 0.001746, 'cc': 'IDR', 'exchangedate': '04.03.2020'}, {'r030': 376, 'txt': 'Новий ізраїльський шекель', 'rate': 7.2096, 'cc': 'ILS', 'exchangedate': '04.03.2020'}, {'r030': 392, 'txt': 'Єна', 'rate': 0.23114, 'cc': 'JPY', 'exchangedate': '04.03.2020'}, {'r030': 398, 'txt': 'Теньге', 'rate': 0.065561, 'cc': 'KZT', 'exchangedate': '04.03.2020'}, {'r030': 410, 'txt': 'Вона', 'rate': 0.020872, 'cc': 'KRW', 'exchangedate': '04.03.2020'}, {'r030': 484, 'txt': 'Мексиканське песо', 'rate': 1.2788, 'cc': 'MXN', 'exchangedate': '04.03.2020'}, {'r030': 498, 'txt': 'Молдовський лей', 'rate': 1.4142, 'cc': 'MDL', 'exchangedate': '04.03.2020'}, {'r030': 554, 'txt': 'Новозеландський долар', 'rate': 15.6278, 'cc': 'NZD', 'exchangedate': '04.03.2020'}, {'r030': 578, 'txt': 'Норвезька крона', 'rate': 2.6819, 'cc': 'NOK', 'exchangedate': '04.03.2020'}, {'r030': 643, 'txt': 'Російський рубль', 'rate': 0.37511, 'cc': 'RUB', 'exchangedate': '04.03.2020'}, {'r030': 682, 'txt': 'Саудівський рiял', 'rate': 6.6471, 'cc': 'SAR', 'exchangedate': '04.03.2020'}, {'r030': 702, 'txt': 'Сінгапурський долар', 'rate': 17.9015, 'cc': 'SGD', 'exchangedate': '04.03.2020'}, {'r030': 710, 'txt': 'Ренд', 'rate': 1.6009, 'cc': 'ZAR', 'exchangedate': '04.03.2020'}, {'r030': 752, 'txt': 'Шведська крона', 'rate': 2.6231, 'cc': 'SEK', 'exchangedate': '04.03.2020'}, {'r030': 756, 'txt': 'Швейцарський франк', 'rate': 26.0224, 'cc': 'CHF', 'exchangedate': '04.03.2020'}, {'r030': 818, 'txt': 'Єгипетський фунт', 'rate': 1.5935, 'cc': 'EGP', 'exchangedate': '04.03.2020'}, {'r030': 826, 'txt': 'Фунт стерлінгів', 'rate': 31.8478, 'cc': 'GBP', 'exchangedate': '04.03.2020'}, {'r030': 840, 'txt': 'Долар США', 'rate': 24.9386, 'cc': 'USD', 'exchangedate': '04.03.2020'}, {'r030': 933, 'txt': 'Бiлоруський рубль', 'rate': 11.1592, 'cc': 'BYN', 'exchangedate': '04.03.2020'}, {'r030': 944, 'txt': 'Азербайджанський манат', 'rate': 14.6879, 'cc': 'AZN', 'exchangedate': '04.03.2020'}, {'r030': 946, 'txt': 'Румунський лей', 'rate': 5.7574, 'cc': 'RON', 'exchangedate': '04.03.2020'}, {'r030': 949, 'txt': 'Турецька ліра', 'rate': 4.0466, 'cc': 'TRY', 'exchangedate': '04.03.2020'}, {'r030': 960, 'txt': 'СПЗ (спеціальні права запозичення)', 'rate': 34.3575, 'cc': 'XDR', 'exchangedate': '04.03.2020'}, {'r030': 975, 'txt': 'Болгарський лев', 'rate': 14.1672, 'cc': 'BGN', 'exchangedate': '04.03.2020'}, {'r030': 978, 'txt': 'Євро', 'rate': 27.6856, 'cc': 'EUR', 'exchangedate': '04.03.2020'}, {'r030': 985, 'txt': 'Злотий', 'rate': 6.4161, 'cc': 'PLN', 'exchangedate': '04.03.2020'}, {'r030': 12, 'txt': 'Алжирський динар', 'rate': 0.20442, 'cc': 'DZD', 'exchangedate': '04.03.2020'}, {'r030': 50, 'txt': 'Така', 'rate': 0.28946, 'cc': 'BDT', 'exchangedate': '04.03.2020'}, {'r030': 51, 'txt': 'Вірменський драм', 'rate': 0.051379, 'cc': 'AMD', 'exchangedate': '04.03.2020'}, {'r030': 364, 'txt': 'Іранський ріал', 'rate': 0.00058548, 'cc': 'IRR', 'exchangedate': '04.03.2020'}, {'r030': 368, 'txt': 'Іракський динар', 'rate': 0.020664, 'cc': 'IQD', 'exchangedate': '04.03.2020'}, {'r030': 417, 'txt': 'Сом', 'rate': 0.35204, 'cc': 'KGS', 'exchangedate': '04.03.2020'}, {'r030': 422, 'txt': 'Ліванський фунт', 'rate': 0.016312, 'cc': 'LBP', 'exchangedate': '04.03.2020'}, {'r030': 434, 'txt': 'Лівійський динар', 'rate': 17.415, 'cc': 'LYD', 'exchangedate': '04.03.2020'}, {'r030': 458, 'txt': 'Малайзійський ринггіт', 'rate': 5.8341, 'cc': 'MYR', 'exchangedate': '04.03.2020'}, {'r030': 504, 'txt': 'Марокканський дирхам', 'rate': 2.5537, 'cc': 'MAD', 'exchangedate': '04.03.2020'}, {'r030': 608, 'txt': 'Філіппінське песо', 'rate': 0.48228, 'cc': 'PHP', 'exchangedate': '04.03.2020'}, {'r030': 704, 'txt': 'Донг', 'rate': 0.0010581, 'cc': 'VND', 'exchangedate': '04.03.2020'}, {'r030': 764, 'txt': 'Бат', 'rate': 0.77962, 'cc': 'THB', 'exchangedate': '04.03.2020'}, {'r030': 784, 'txt': 'Дирхам ОАЕ', 'rate': 6.6948, 'cc': 'AED', 'exchangedate': '04.03.2020'}, {'r030': 788, 'txt': 'Туніський динар', 'rate': 8.6081, 'cc': 'TND', 'exchangedate': '04.03.2020'}, {'r030': 860, 'txt': 'Узбецький сум', 'rate': 0.0025813, 'cc': 'UZS', 'exchangedate': '04.03.2020'}, {'r030': 901, 'txt': 'Новий тайванський долар', 'rate': 0.8119, 'cc': 'TWD', 'exchangedate': '04.03.2020'}, {'r030': 934, 'txt': 'Туркменський новий манат', 'rate': 7.0257, 'cc': 'TMT', 'exchangedate': '04.03.2020'}, {'r030': 936, 'txt': 'Ганське седі', 'rate': 4.4547, 'cc': 'GHS', 'exchangedate': '04.03.2020'}, {'r030': 941, 'txt': 'Сербський динар', 'rate': 0.22954, 'cc': 'RSD', 'exchangedate': '04.03.2020'}, {'r030': 972, 'txt': 'Сомоні', 'rate': 2.5403, 'cc': 'TJS', 'exchangedate': '04.03.2020'}, {'r030': 981, 'txt': 'Ларі', 'rate': 8.8533, 'cc': 'GEL', 'exchangedate': '04.03.2020'}, {'r030': 986, 'txt': 'Бразильський реал', 'rate': 5.4721, 'cc': 'BRL', 'exchangedate': '04.03.2020'}, {'r030': 959, 'txt': 'Золото', 'rate': 39940.91, 'cc': 'XAU', 'exchangedate': '04.03.2020'}, {'r030': 961, 'txt': 'Срiбло', 'rate': 419.35, 'cc': 'XAG', 'exchangedate': '04.03.2020'}, {'r030': 962, 'txt': 'Платина', 'rate': 21626.5, 'cc': 'XPT', 'exchangedate': '04.03.2020'}, {'r030': 964, 'txt': 'Паладiй', 'rate': 62662.47, 'cc': 'XPD', 'exchangedate': '04.03.2020'}]\n"
     ],
     "output_type":"stream"
    }
   ],
   "metadata":{
    "datalore":{
     "node_id":"bx16rI0zXaTmRGapWr4cyS",
     "type":"CODE",
     "hide_input_from_viewers":false,
     "hide_output_from_viewers":false
    }
   }
  },
  {
   "cell_type":"code",
   "source":[
    "l = ['puthon', 'jjava', 'javascrept']\n",
    "l_new = []\n",
    "\n",
    "import requests\n",
    "\n",
    "\n",
    "headers = {\n",
    "    'authority': 'www.google.com',\n",
    "    'cache-control': 'max-age=0',\n",
    "    'sec-ch-ua': '\"Google Chrome\";v=\"87\", \" Not;A Brand\";v=\"99\", \"Chromium\";v=\"87\"',\n",
    "    'sec-ch-ua-mobile': '?0',\n",
    "    'upgrade-insecure-requests': '1',\n",
    "    'user-agent': 'Mozilla\/5.0 (Windows NT 10.0; Win64; x64) AppleWebKit\/537.36 (KHTML, like Gecko) Chrome\/87.0.4280.88 Safari\/537.36',\n",
    "    'accept': 'text\/html,application\/xhtml+xml,application\/xml;q=0.9,image\/avif,image\/webp,image\/apng,*\/*;q=0.8,application\/signed-exchange;v=b3;q=0.9',\n",
    "    'x-client-data': 'CIu2yQEIorbJAQjBtskBCKmdygEIrMfKAQj4x8oBCKPNygEI3NXKAQin+csB',\n",
    "    'sec-fetch-site': 'same-origin',\n",
    "    'sec-fetch-mode': 'navigate',\n",
    "    'sec-fetch-user': '?1',\n",
    "    'sec-fetch-dest': 'document',\n",
    "    'accept-language': 'uk'\n",
    "}\n",
    "for i in l:\n",
    "    r = requests.get('https:\/\/www.google.com\/search', headers=headers, params={'q': i})\n",
    "    result =  r.text\n",
    "    sl1 = result.find('Відображення результатів для запиту:')\n",
    "    sl2 = result[sl1: ].find('q=')+2\n",
    "    sl3 = result[sl1: ][sl2: ].find(\"&\")\n",
    "    word = result[sl1: ][sl2: ][:sl3]\n",
    "    l_new.append(word)\n",
    "\n",
    "\n",
    "l_new"
   ],
   "execution_count":76,
   "outputs":[
    {
     "data":{
      "text\/plain":[
       "['python', 'java', 'javascript']"
      ]
     },
     "metadata":{
      
     },
     "output_type":"display_data"
    }
   ],
   "metadata":{
    "datalore":{
     "node_id":"wTsADVPwbvecjroFDddy8x",
     "type":"CODE",
     "hide_input_from_viewers":false,
     "hide_output_from_viewers":false
    }
   }
  },
  {
   "cell_type":"code",
   "source":[
    "from bs4 import BeautifulSoup\n",
    "import requests \n",
    "\n",
    "headers = {\n",
    "    'cache-control': 'max-age=0',\n",
    "    'sec-ch-ua': '\"Google Chrome\";v=\"87\", \" Not;A Brand\";v=\"99\", \"Chromium\";v=\"87\"',\n",
    "    'sec-ch-ua-mobile': '?0',\n",
    "    'upgrade-insecure-requests': '1',\n",
    "    'user-agent': 'Mozilla\/5.0 (Windows NT 10.0; Win64; x64) AppleWebKit\/537.36 (KHTML, like Gecko) Chrome\/87.0.4280.88 Safari\/537.36',\n",
    "    'accept': 'text\/html,application\/xhtml+xml,application\/xml;q=0.9,image\/avif,image\/webp,image\/apng,*\/*;q=0.8,application\/signed-exchange;v=b3;q=0.9',\n",
    "    \n",
    "}\n",
    "\n",
    "r = requests.get('https:\/\/www.ukr.net\/ua\/')"
   ],
   "execution_count":9,
   "outputs":[
    
   ],
   "metadata":{
    "datalore":{
     "node_id":"74bylXBEWOzeYUSkkgPelY",
     "type":"CODE",
     "hide_input_from_viewers":false,
     "hide_output_from_viewers":false
    }
   }
  },
  {
   "cell_type":"code",
   "source":[
    "print(r.text)"
   ],
   "execution_count":10,
   "outputs":[
    {
     "name":"stdout",
     "text":[
      "<!DOCTYPE html>\n",
      "<html lang=\"en-US\">\n",
      "   <head>\n",
      "      <title>Access denied<\/title>\n",
      "      <meta http-equiv=\"X-UA-Compatible\" content=\"IE=Edge\" \/>\n",
      "      <meta name=\"robots\" content=\"noindex, nofollow\" \/>\n",
      "      <meta name=\"viewport\" content=\"width=device-width,initial-scale=1\" \/>\n",
      "      <link rel=\"stylesheet\" href=\"\/cdn-cgi\/styles\/errors.css\" media=\"screen\" \/>\n",
      "      <script>\n",
      "(function(){if(document.addEventListener&&window.XMLHttpRequest&&JSON&&JSON.stringify){var e=function(a){var c=document.getElementById(\"error-feedback-survey\"),d=document.getElementById(\"error-feedback-success\"),b=new XMLHttpRequest;a={event:\"feedback clicked\",properties:{errorCode:1020,helpful:a,version:5}};b.open(\"POST\",\"https:\/\/sparrow.cloudflare.com\/api\/v1\/event\");b.setRequestHeader(\"Content-Type\",\"application\/json\");b.setRequestHeader(\"Sparrow-Source-Key\",\"c771f0e4b54944bebf4261d44bd79a1e\");\n",
      "b.send(JSON.stringify(a));c.classList.add(\"feedback-hidden\");d.classList.remove(\"feedback-hidden\")};document.addEventListener(\"DOMContentLoaded\",function(){var a=document.getElementById(\"error-feedback\"),c=document.getElementById(\"feedback-button-yes\"),d=document.getElementById(\"feedback-button-no\");\"classList\"in a&&(a.classList.remove(\"feedback-hidden\"),c.addEventListener(\"click\",function(){e(!0)}),d.addEventListener(\"click\",function(){e(!1)}))})}})();\n",
      "<\/script>\n",
      "\n",
      "      <script>\n",
      "      (function(){function d(c){var b=document.getElementById(\"copy-label\"),a=document.getElementById(\"cf-details-wrapper-expandable\");c.target.checked?a.classList.add(\"expanded\"):(a.classList.remove(\"expanded\"),b.innerText=\"Click to copy\")}if(document.addEventListener){var e=function(){var c=document.getElementById(\"copy-label\");var b=document.getElementById(\"error-details\").textContent;if(navigator.clipboard)navigator.clipboard.writeText(b);else{var a=document.createElement(\"textarea\");a.value=b;a.style.top=\"0\";a.style.left=\"0\";a.style.position=\"fixed\";document.body.appendChild(a);a.focus();a.select();document.execCommand(\"copy\");document.body.removeChild(a)}c.innerText=\"Copied text to clipboard\"};document.addEventListener(\"DOMContentLoaded\",function(){var c=document.getElementById(\"error-details-checkbox\"),b=document.getElementById(\"click-to-copy-btn\");document.getElementById(\"copy-label\").classList.remove(\"hidden\");c.addEventListener(\"change\",d);b.addEventListener(\"click\",e)})}})();\n",
      "      <\/script>\n",
      "      <script defer src=\"https:\/\/performance.radar.cloudflare.com\/beacon.js\"><\/script>\n",
      "   <\/head>\n",
      "   <body>\n",
      "   <div class=\"cf-main-wrapper\" role=\"main\">\n",
      "      <div class=\"cf-header cf-section\">\n",
      "         <div class=\"cf-error-title\">\n",
      "            <h1>Access denied<\/h1>\n",
      "            <span class=\"cf-code-label\">Error code <span>1020<\/span><\/span>\n",
      "         <\/div>\n",
      "         <div class=\"cf-error-description\">\n",
      "            <p>You do not have access to www.ukr.net.<\/p><p>The site owner may have set restrictions that prevent you from accessing the site.<\/p>\n",
      "         <\/div>\n",
      "      <\/div>\n",
      "   <\/div>\n",
      "\n",
      "   <div class=\"cf-details-wrapper\">\n",
      "      <div class=\"cf-section\" role=\"region\">\n",
      "         <div class=\"cf-expandable\" id=\"cf-details-wrapper-expandable\">\n",
      "            <label for=\"error-details-checkbox\" title=\"Error details\" class=\"cf-expandable-btn\">\n",
      "               <p class=\"cf-dropdown-title\">Error details<\/p>\n",
      "               <img src=\"data:image\/png;base64,iVBORw0KGgoAAAANSUhEUgAAACAAAAAgBAMAAACBVGfHAAAAElBMVEUAAAAwMDAxMTEyMjIwMDAxMTF+89HTAAAABXRSTlMAf2CAMKS61bwAAABTSURBVCjPzcq7DcAgFENR5zMATfo06TNCViAS+6+CeFi6gglw4eLqaPVtaQpXnkApaQT\/k0dw70EAUhCA1AnABGACMAGYAEwAkCOAydv+I5xaZhXWbQrD80TkkQAAAABJRU5ErkJggg==\"\n",
      "               class=\"cf-caret-icon\" id=\"caret-icon\" alt=\"Caret icon\" \/>\n",
      "            <\/label>\n",
      "\n",
      "            <input id=\"error-details-checkbox\" class=\"hidden\" type=\"checkbox\">\n",
      "\n",
      "            <div class=\"cf-expandable-error-info hidden\">\n",
      "               <p class=\"cf-error-copy-description\">Provide the site owner this information.<\/p>\n",
      "               <button class=\"cf-click-to-copy-btn\" id=\"click-to-copy-btn\" title=\"Click to copy\" type=\"button\">\n",
      "<div class=\"cf-error-wrapper\" id=\"error-details\"><p class=\"cf-error-details-endpoint\">I got an error when visiting www.ukr.net\/ua\/.<\/p>\n",
      "\n",
      "<p>Error code: 1020<\/p>\n",
      "<p>Ray ID: 7a448274cd069552<\/p>\n",
      "<p>Country: IE<\/p>\n",
      "<p>Data center: dub01<\/p>\n",
      "<p>IP: 54.170.53.67<\/p>\n",
      "<p>Timestamp: 2023-03-07 17:20:31 UTC<\/p>\n",
      "<\/div>\n",
      "                  <p class=\"cf-copy-label hidden\" id=\"copy-label\">Click to copy<\/p>\n",
      "               <\/button>\n",
      "            <\/div>\n",
      "         <\/div>\n",
      "      <\/div>\n",
      "\n",
      "      <div class=\"clearfix cf-footer cf-section\" role=\"contentinfo\">\n",
      "      <div class=\"cf-column\">\n",
      "           <div class=\"feedback-hidden py-8 text-center\" id=\"error-feedback\">\n",
      "    <div id=\"error-feedback-survey\" class=\"footer-line-wrapper\">\n",
      "        Was this page helpful?\n",
      "        <button class=\"border border-solid bg-white cf-button cursor-pointer ml-4 px-4 py-2 rounded\" id=\"feedback-button-yes\" type=\"button\">Yes<\/button>\n",
      "        <button class=\"border border-solid bg-white cf-button cursor-pointer ml-4 px-4 py-2 rounded\" id=\"feedback-button-no\" type=\"button\">No<\/button>\n",
      "    <\/div>\n",
      "    <div class=\"feedback-success feedback-hidden\" id=\"error-feedback-success\">\n",
      "        Thank you for your feedback!\n",
      "    <\/div>\n",
      "<\/div>\n",
      "\n",
      "      <\/div>\n",
      "         <div class=\"cf-column cf-footer-line-wrapper text-center\">\n",
      "            <p>\n",
      "               Performance &amp; security by <a rel=\"noopener noreferrer\" href=\"https:\/\/www.cloudflare.com?utm_source=1020_error\" target=\"_blank\">Cloudflare <img class=\"external-link\" title=\"Opens in new tab\" src=\"\/cdn-cgi\/images\/external.png\" alt=\"External link\"><\/a>\n",
      "            <\/p>\n",
      "         <\/div>\n",
      "      <\/div>\n",
      "   <\/div>\n",
      "<script defer src=\"https:\/\/static.cloudflareinsights.com\/beacon.min.js\/vaafb692b2aea4879b33c060e79fe94621666317369993\" integrity=\"sha512-0ahDYl866UMhKuYcW078ScMalXqtFJggm7TmlUtp0UlD4eQk0Ixfnm5ykXKvGJNFjLMoortdseTfsRT8oCfgGA==\" data-cf-beacon='{\"rayId\":\"7a448274cd069552\",\"token\":\"3ef59cf048884d87be7b54d73f9280fe\",\"version\":\"2023.2.0\",\"si\":100}' crossorigin=\"anonymous\"><\/script>\n",
      "<\/body>\n",
      "<\/html>\n",
      "\n"
     ],
     "output_type":"stream"
    }
   ],
   "metadata":{
    "datalore":{
     "node_id":"ele3HAhODc4SsaBAKfWXng",
     "type":"CODE",
     "hide_input_from_viewers":false,
     "hide_output_from_viewers":false
    }
   }
  },
  {
   "cell_type":"code",
   "source":[
    "len(TEXT)\n",
    "#r.text"
   ],
   "execution_count":13,
   "outputs":[
    {
     "data":{
      "text\/plain":[
       "282072"
      ]
     },
     "metadata":{
      
     },
     "output_type":"display_data"
    }
   ],
   "metadata":{
    "datalore":{
     "node_id":"YnwAwPEZzAhTBODWlC2Zup",
     "type":"CODE",
     "hide_input_from_viewers":false,
     "hide_output_from_viewers":false
    }
   }
  },
  {
   "cell_type":"code",
   "source":[
    "from bs4 import BeautifulSoup\n",
    "soup = BeautifulSoup(TEXT,\"lxml\")"
   ],
   "execution_count":14,
   "outputs":[
    
   ],
   "metadata":{
    "datalore":{
     "node_id":"TFbtU4fi4yrdQ2TTJcCKRj",
     "type":"CODE",
     "hide_input_from_viewers":false,
     "hide_output_from_viewers":false
    }
   }
  },
  {
   "cell_type":"code",
   "source":[
    "soup.title.text"
   ],
   "execution_count":19,
   "outputs":[
    {
     "data":{
      "text\/plain":[
       "'UKR.NET: Всі новини України, останні новини дня в Україні та Світі'"
      ]
     },
     "metadata":{
      
     },
     "output_type":"display_data"
    }
   ],
   "metadata":{
    "datalore":{
     "node_id":"HWbHAwFiLZ12uXfyRAjbOP",
     "type":"CODE",
     "hide_input_from_viewers":false,
     "hide_output_from_viewers":false
    }
   }
  },
  {
   "cell_type":"code",
   "source":[
    "soup.a.get('href')"
   ],
   "execution_count":23,
   "outputs":[
    {
     "data":{
      "text\/plain":[
       "'javascript:void(0)'"
      ]
     },
     "metadata":{
      
     },
     "output_type":"display_data"
    }
   ],
   "metadata":{
    "datalore":{
     "node_id":"uSGNBaXEKWEopCcPyifIx3",
     "type":"CODE",
     "hide_input_from_viewers":false,
     "hide_output_from_viewers":false
    }
   }
  },
  {
   "cell_type":"code",
   "source":[
    "res = soup.find_all('article', class_='feed')"
   ],
   "execution_count":32,
   "outputs":[
    
   ],
   "metadata":{
    "datalore":{
     "node_id":"q57yaHpUKA71M2dLhIWuc1",
     "type":"CODE",
     "hide_input_from_viewers":false,
     "hide_output_from_viewers":false
    }
   }
  },
  {
   "cell_type":"code",
   "source":[
    "len(res)"
   ],
   "execution_count":34,
   "outputs":[
    {
     "data":{
      "text\/plain":[
       "1"
      ]
     },
     "metadata":{
      
     },
     "output_type":"display_data"
    }
   ],
   "metadata":{
    "datalore":{
     "node_id":"Kaq0xzsCfCI1BMOjbEDr2H",
     "type":"CODE",
     "hide_input_from_viewers":false,
     "hide_output_from_viewers":false
    }
   }
  },
  {
   "cell_type":"code",
   "source":[
    "for i in soup.find('article', class_='feed').find_all('h2', class_=\"feed__section--title\"):\n",
    "    print(i.a.text)"
   ],
   "execution_count":38,
   "outputs":[
    {
     "name":"stdout",
     "text":[
      "Головне\n",
      "Війна РФ проти України\n",
      "Політика\n",
      "Економіка\n",
      "Події\n",
      "Суспільство\n",
      "Київські новини\n",
      "Технології\n",
      "Наука\n",
      "Авто\n",
      "Спорт\n",
      "Здоров’я\n",
      "Шоу-бізнес\n",
      "За кордоном\n",
      "Курйози\n",
      "Фоторепортаж\n",
      "Відео\n",
      "Lifestyle\n",
      "Все про їжу\n"
     ],
     "output_type":"stream"
    }
   ],
   "metadata":{
    "datalore":{
     "node_id":"zypGPuElvhwqW1JxYWlJxI",
     "type":"CODE",
     "hide_input_from_viewers":false,
     "hide_output_from_viewers":false
    }
   }
  },
  {
   "cell_type":"code",
   "source":[
    "for i in soup.find('article', class_='feed').find_all('h2', class_=\"feed__section--title\"):\n",
    "    print(i.a.text)"
   ],
   "execution_count":null,
   "outputs":[
    
   ],
   "metadata":{
    "datalore":{
     "node_id":"a25QieSg93DUjX5Uj91Zar",
     "type":"CODE",
     "hide_input_from_viewers":false,
     "hide_output_from_viewers":false
    }
   }
  },
  {
   "cell_type":"code",
   "source":[
    "# class=\"feed__section--top\"\n",
    "DB = []\n",
    "for i in soup.find('article', class_='feed').find_all('div', class_=\"feed__item--title\"):\n",
    "    print(i.a.text, i.a.get('href'))\n",
    "    DB.append(\n",
    "        {\n",
    "        'name' : i.a.text,\n",
    "        'link':  i.a.get('href')\n",
    "        }\n",
    "    )"
   ],
   "execution_count":46,
   "outputs":[
    {
     "name":"stdout",
     "text":[
      "У бою за Україну загинув легендарний комбат \"Да Вінчі\", - Зеленський https:\/\/hvylya.net\/uk\/news\/268767-v-boyu-za-ukrainu-pogib-legendarnyy-kombat-da-vinchi-zelenskiy\n",
      "Чоловік підірвався на міні просто на власному подвір’ї https:\/\/ua.news\/ua\/war-vs-rf\/muzhchyna-podorvalsya-na-myne-pryamo-v-sobstvennom-dvore\n",
      "Окупанти продовжують спроби наступу на п'яти напрямках, на двох - обороняються - Генштаб ЗСУ https:\/\/interfax.com.ua\/news\/general\/896039.html\n",
      "Наймолодшому ще не виповнився 21 рік: омбудсмен озвучив деталі нового обміну полоненими https:\/\/www.slovoidilo.ua\/2023\/03\/07\/novyna\/suspilstvo\/najmolodshomu-shhe-ne-vypovnyvsya-21-rik-ombudsmen-ozvuchyv-detali-novoho-obminu-polonenymy\n",
      "Не завжди можна встигнути ввімкнути повітряну тривогу: Нікополь — під постійними обстрілами росіян (ВІДЕО) https:\/\/uatv.ua\/uk\/ne-zavzhdy-mozhna-vstygnuty-vvimknuty-povitryanu-tryvogu-nikopol-pid-postijnymy-obstrilamy-rosiyan-video\/\n",
      "ДБР співпрацюватиме з чехами: отримуватимуть дані щодо проросійського бізнесу в країні https:\/\/ua.news\/ua\/ukraine\/gbr-budet-sotrudnychat-s-chehamy-budut-poluchat-dannye-o-prorossyjskom-byznese-v-strane\n",
      "Нужный зверь: Польша передаст Украине еще 10 танков Leopard 2 https:\/\/flot2017.com\/nuzhnyj-zver-polsha-peredast-ukraine-eshhe-10-tankov-leopard-2\/\n",
      "ЄС запровадив санкції проти російських військових та силовиків за насильство над жінками в Україні та Росії https:\/\/www.radiosvoboda.org\/a\/news-es-sankciji-rosijski-vijskovi-nasylstvo-shchodo-zhinok\/32307272.html\n",
      "Влада Грузії хоче позбавляти громадянства тих, хто воює за Україну, - ЗМІ https:\/\/censor.net\/ua\/news\/3404270\/vlada_gruziyi_hoche_pozbavlyaty_gromadyanstva_tyh_hto_voyuye_za_ukrayinu_zmi\n",
      "Як визначити, хто є колаборантами у Криму? Думка прокуратури АРК https:\/\/hromadske.radio\/podcast-episodes\/yak-vyznachyty-khto-ie-kolaborantamy-u-krymu-dumka-prokuratury-ark\/\n",
      "Заявки на визначення агропідприємств критично важливими будуть прийматися тільки через ДАР http:\/\/agro-business.com.ua\/agrobusiness\/item\/26337-zaiavky-na-vyznachennia-ahropidpryiemstv-krytychno-vazhlyvymy-budut-pryimatysia-tilky-cherez-dar.html\n",
      "\"Укрпошта\" запустила пілотний проєкт \"листоноші на електробайках\" https:\/\/delo.ua\/society\/ukrposta-zapustila-pilotnii-projekt-listonosi-na-elektrobaikax-412271\/\n",
      "Індексація пенсій: хто отримає всього 100 грн надбавки https:\/\/socportal.info\/ua\/news\/indeksatciya-pensii-khto-otrimae-vsogo-100-grn-nadbavki\/\n",
      "Е-резиденти тепер можуть відкрити поточний рахунок в банку — НБУ https:\/\/psm7.com\/uk\/company\/nbu\/e-rezidenty-teper-mogut-otkryt-tekushhij-schet-v-banke-nbu.html\n",
      "Імпорт та експорт України: порівняння http:\/\/businessua.com\/finance\/83354import-ta-eksport-ukraini-porivnyannya.html\n",
      "Підбурював мера Очакова до здачі міста окупантам: раднику повідомили про підозру у державній зраді https:\/\/sud.ua\/uk\/news\/ukraine\/263890-pidburyuvav-mera-ochakova-do-zdachi-mista-okupantam-radniku-povidomili-pro-pidozru-u-derzhavniy-zradi\n",
      "Колишню голову ОПЗЖ у Львові судитимуть за держзраду – ОГП https:\/\/sprotyv.info\/obshchestvo\/kolishnyu-golovu-opzzh-u-lvovi-suditimut-za-derzhzradu-ogp\/\n",
      "Мешканець Запоріжжя намагався продати автівку, яку привезли із-за кордону для ЗСУ https:\/\/internetua.com\/meshkanec-zaporijjya-namagavsya-prodati-avtivku-yaku-privezli-iz-za-kordonu-dlya-zsu\n",
      "Росіяни зґвалтували маму і доньку, а батька змусили дивитися: окупантам повідомлено про підозру https:\/\/ukrayina.pl\/ukrayina\/7,183471,29533744,1056-1086-1089-1110-1103-1085-1080-1079-1169-1074-1072-1083-1090-1091-1074-1072-1083-1080.html\n",
      "На Одещині засуджено чоловіка, який вбив дружину та спокійно ліг спати http:\/\/magnolia-tv.com\/news\/87005-na-odeshchyni-zasudzheno-cholovika-yakyy-vbyv-druzhynu-ta-spokiyno-lih-spaty?prov=ukrnet\n",
      "Дітей із зони бойових дій евакуюватимуть примусово https:\/\/social.com.ua\/vijna\/vpo\/ditej-iz-zony-bojovyh-dij-evakuyuvatymut-prymusovo\/\n",
      "У Міноборони Угорщини заявили, що тренують українських військових медиків https:\/\/babel.ua\/news\/91320-u-minoboroni-ugorshchini-zayavili-shcho-trenuyut-ukrajinskih-viyskovih-medikiv\n",
      "Реєстрацію одностатевих партнерств можуть дозволити в Україні – що відомо https:\/\/ukraine.progroshi.news\/news\/suspilstvo\/reyestraciyu-odnostatevih-partnerstv-mozhut-dozvoliti-v-ukrajini-shcho-vidomo-472.html\n",
      "Стало відомо, скільки жінок подали заявки на вступ до «Гвардії наступу» https:\/\/vsviti.com.ua\/news\/147956\n",
      "У населення має бути зброя. Резніков розповів про своє бачення України після перемоги https:\/\/kontrakty.ua\/article\/213610\n",
      "У Чорнобильській зоні встановили нову автоматичну метеостанцію https:\/\/www.kyivschina24.com\/news\/u-chornobilskij-zoni-vstanovili-novu-avtomatichnu-meteostancziyu\/\n",
      "Київ очолює антирейтинг порушників мовного закону https:\/\/nashkiev.ua\/news\/kiiv-ocholyue-antireiting-porushnikiv-movnogo-zakonu\n",
      "Сьогодні Київ прощався з двома Героями-льотчиками, які загинули під час виконання бойового завдання, — Кличко https:\/\/ukranews.com\/ua\/news\/919441-sogodni-kyyiv-proshhavsya-z-dvoma-geroyamy-lotchykamy-yaki-zagynuly-pid-chas-vykonannya-bojovogo\n",
      "«Армія відновлення»: нині залучили 8,5 тисячі безробітних – якими є виплати https:\/\/ua.news\/ua\/money\/armyya-vosstanovlenyya-sejchas-pryvlekly-8-5-tysyachy-bezrabotnyh-kakovy-vyplaty\n",
      "«Лють»: добровольці Броварщини активно перетворюють лють на зброю https:\/\/brovary.net.ua\/liut-dobrovoltsi-brovarshchyny-aktyvno-peretvoriuiut-liut-na-zbroiu\/\n",
      "Apple представила iPhone 14 і 14 Plus у жовтому кольорі https:\/\/ilenta.com\/uk\/news\/smartphone\/smartphone_3505.html\n",
      "Україномовний Twitch за рік великої війни зріс у шість разів - дослідження https:\/\/tech.liga.net\/ua\/technology\/novosti\/ukrainoyazychnyy-twitch-za-god-bolshoy-voyny-vyros-v-shest-raz-issledovanie\n",
      "Офіційно представлено смартфон Nubia Z50 Ultra з “ідеальним” екраном та потужним залізом https:\/\/tehnofan.com.ua\/2023\/03\/07\/nubia-z50-ultra-bula-osnashchena-ideal%ca%b9nym-ekranom-ta-potuzhnym-zalizo\/\n",
      "Стало відомо, що Android 15 матиме назву Vanilla Ice Cream. Це вже третій вид морозива в історії ОС https:\/\/hi-tech.ua\/stalo-vidomo-shho-android-15-matime-nazvu-vanilla-ice-cream-cze-vzhe-tretij-vid-moroziva-v-istori%d1%97-os\/\n",
      "Розробники Google працюють над створенням штучного інтелекту, що розумітиме понад 1000 мов https:\/\/noworries.news\/rozrobnyky-google-praczyuyut-nad-stvorennyam-shtuchnogo-intelektu-shho-rozumityme-ponad-1000-mov\/\n",
      "Японія знищила нову ракету під час запуску https:\/\/nnews.com.ua\/yaponiya-znyshhyla-novu-raketu-pid-chas-zapusku.html\n",
      "Стартує нова українська експедиція в Антарктику: цього разу без жінок https:\/\/bigkyiv.com.ua\/startuye-nova-ukrayinska-ekspedycziya-v-antarktyku-czogo-razu-bez-zhinok\/\n",
      "Вчені США та Великобританії шукатимуть інопланетян: для чого їм це потрібно https:\/\/novyny.live\/space\/vcheni-ssha-ta-velikobritaniyi-shukatimut-inoplanetian-dlia-chogo-yim-tse-potribno-81142.html\n",
      "На Сонці зафіксовано одразу 52 плями: чи становить це небезпеку для Землі https:\/\/internetua.com\/na-sonci-zafiksovano-odrazu-52-plyami-csi-stanovit-ce-nebezpeku-dlya-zemli\n",
      "Вперше в історії: марсохід зняв сонячні промені під час заходу сонця на Марсі (фото, відео) https:\/\/focus.ua\/uk\/technologies\/553718-vpervye-v-istorii-marsohod-zapechetlel-solnechnye-luchi-vo-vremya-zakata-na-marse-foto-video\n",
      "Українці зможуть замовляти номерні знаки на авто онлайн: в МВС назвали терміни https:\/\/kurs.com.ua\/novost\/1003667-ukrainci-smogut-zakazivat-nomernie-znaki-na-avto-onlain-v-mvd-nazvali-termini?source=ukrnet\n",
      "В Україні вдвоє впав попит на вживані іномарки. П'ятірка моделей лютого https:\/\/internetua.com\/v-ukrayini-vdvoye-vpav-popit-na-vjivani-inomarki-p-yatirka-modelei-luatogo\n",
      "Кросовер Honda заскочив на інший автомобіль, бо водій «переплутав машину з бордюром» https:\/\/wheel-news.com\/3820-krosover-honda-zaskochyv-na-inshyy-avtomobil-bo-vodiy-pereplutav-mashynu-z-bordiurom\n",
      "Верховна Рада ухвалила новий закон, який стимулює українців відмовлятися від автомобілів https:\/\/autotheme.info\/news\/185313-verhovna-rada-uhvalila-novij-zakon-yakij-stimulyuye-ukrayintsiv-vidmovlyatisya-vid-avtomobiliv.html\n",
      "Названо штраф за їзду без важливого документа в 2023 році https:\/\/uamotors.com.ua\/news\/88901\n",
      "Однією з умов вступу «Прометея» до чемпіонату Польщі може стати зобов’язання мати у складі місцевого баскетболіста https:\/\/ua.tribuna.com\/uk\/basketball\/1000000050898-odnim-iz-uslovij-vstupleniya-prometeya-v-chempionat-pols\/\n",
      "Промоутер Джошуа: «Энтони считает второй бой с Усиком катастрофой» http:\/\/sport.ua\/news\/617561-promouter-dzhoshua-entoni-schitaet-vtoroy-boy-s-usikom-katastrofoy\n",
      "Едін Терзіч проти переходу Джуда Беллінгхема до АПЛ https:\/\/terrikon.com\/posts\/431544\n",
      "Челсі готовий продати хавбека в Мілан за 25 млн євро http:\/\/footballtransfer.com.ua\/it-en\/news-117217.html\n",
      "Марта Костюк: Я відразу попередила WTA, що не тиснутиму руку Грачовій https:\/\/www.ua-football.com\/ua\/sport\/tennis\/1678206109-marta-kostyuk-ya-vidrazu-poperedila-wta-scho-ne-tisnutimu-ruku-grachoviy.html?utm_source=ukrnet&utm_medium=cpc&utm_campaign=uanewsukrnet\n",
      "Названі продукти, які найсильніше уповільнюють метаболізм https:\/\/zhenskiy.kyiv.ua\/zdorovya\/nazvani-produkti-yaki-najsilnishe-upovilnyuyut-metabolizm\/\n",
      "5 практичних речей проти болю при циститі https:\/\/novamed.com.ua\/novini\/5-praktichnih-rechej-proti-bolyu-pri-tsistiti\/\n",
      "Може бути симптомом серйозної хвороби: коли потрібно звернутися до лікаря якщо болить живіт https:\/\/meta.ua\/uk\/news\/health\/68943-mozhe-buti-simptomom-serioznoyi-hvorobi-koli-potribno-zvernutisya-do-likarya-yakscho-bolit-zhivit\/\n",
      "Лікарі розповіли яка картопля знижує, а яка – підвищує рівень цукру в крові https:\/\/glamour.kyiv.ua\/pilates\/likari-rozpovili-yaka-kartoplya-znizhuye-a-yaka-pidvishhuye-riven-tsukru-v-krovi\/\n",
      "Про небезпеку розігрітої в мікрохвильовці їжі розповіли експерти https:\/\/womanlife.kyiv.ua\/zdorovya\/pro-nebezpeku-rozigritoyi-v-mikrohvilovtsi-yizhi-rozpovili-eksperti\/\n",
      "Квитки на Євробачення у Великій Британії розкупили менше ніж за 2 години https:\/\/internetua.com\/kvitki-na-yevrobacsennya-u-velikii-britaniyi-rozkupili-menshe-nij-za-2-godini\n",
      "46-річна Керрі Вашингтон підкреслила струнку фігуру червоною сукнею, яку одягала Вітні Г’юстон https:\/\/newsyou.info\/2023\/03\/46-richna-kerri-vashington-pidkreslila-strunku-figuru-chervonoyu-sukneyu-yaku-odyagala-vitni-gyuston\n",
      "Кріс Рок жорстко пожартував про Вілла Сміта та його дружину: “Вона переспала з другом сина” https:\/\/ua-novosti.info\/shoubiznes\/kris-rok-zhorstko-pozhartuvav-pro-villa-smita-ta-jogo-druzhinu-vona-perespala-z-drugom-sina.html\n",
      "Екснаречена Кличка зробила операцію зі зменшення грудей: як змінилася акторка та чому наважилася на пластику. Фото https:\/\/news.obozrevatel.com\/show\/people\/eks-nevesta-klichko-sdelala-operatsiyu-po-umensheniyu-grudi-kak-izmenilas-aktrisa-i-pochemu-reshalis-na-plastiku-foto.htm?lang=ua\n",
      "Гонконгці запустили петицію проти актора Донні Єна за його пропекінську позицію https:\/\/www.epochtimes.com.ua\/novyny-svitu\/gonkongci-zapustyly-petyciyu-proty-aktora-donni-yena-za-yogo-propekinsku-pozyciyu-149827\n",
      "Дыра в бюджете России растет. Как Минфин РФ «работает с огоньком» https:\/\/ru.krymr.com\/a\/rossiya-ekonomika-sanktsii-bednost-kurs-rublya\/32307053.html\n",
      "Збитки від землетрусів у Туреччині можуть перевищувати $100 млрд – ООН https:\/\/www.eurointegration.com.ua\/news\/2023\/03\/7\/7157514\/\n",
      "Головний офіс російської поліції на Петрівці у Москві охопила пожежа https:\/\/aspi.com.ua\/news\/podii\/golovniy-ofis-rosiyskoi-policii-na-petrivci-u-moskvi-okhopila-pozhezha\n",
      "NYT: Західна розвідка припускає, що проукраїнська група може бути причетна до підриву газопроводів Nord Stream https:\/\/bykvu.com\/ua\/bukvy\/nyt-zakhidna-rozvidka-prypuskaie-shcho-proukrainska-hrupa-mozhe-buty-prychetna-do-pidryvu-hazoprovodiv-nord-stream\/\n",
      "В Ірані заявили про створення гіперзвукової ракети https:\/\/newsyou.info\/2023\/03\/v-irani-zayavili-pro-stvorennya-giperzvukovo%d1%97-raketi\n",
      "Хочу танк – у господарстві знадобиться: яскраві меми та фотожаби про 8 березня https:\/\/newsyou.info\/2023\/03\/xochu-tank-u-gospodarstvi-znadobitsya-yaskravi-memi-ta-fotozhabi-pro-8-bereznya\n",
      "Скабєєва розповіла про \"голод\" у Великій Британії: \"Начали жрать белок, но гаубицы Украине поставят\" https:\/\/u-news.com.ua\/142896-skabyeyeva-rozpovila-pro-golod-u-velikij-britaniji-nachali-zhrat-belok-no-gaubicy-ukraine-postavjat.html\n",
      "Російський депутат отруївся мухоморами під час розваг з 27-річною коханкою: фото https:\/\/tsn.ua\/tsikavinki\/rosiyskiy-deputat-otruyivsya-muhomorami-pid-chas-rozvag-z-27-richnoyu-kohankoyu-foto-2280337.html\n",
      "Новий хіт: закоханий у пиво вболівальник став зіркою Мережі (відео) https:\/\/novosti-n.org\/ua\/ukraine\/Novyj-hit-zakohanyj-u-pyvo-vbolivalnyk-stav-zirkoyu-Merezhi-video--301315\n",
      "60-річний чоловік зробив понад тисячу відтискань за годину, щоб побити рекорд Гіннеса https:\/\/internetua.com\/60-ricsnii-csolovik-zrobiv-ponad-tisyacsu-vidtiskan-za-godinu-sxob-pobiti-rekord-ginnesa\n",
      "СБУ показала ексклюзивні кадри повернення українських військових з полону https:\/\/hronikers.com\/2023\/03\/07\/sbu-pokazala-ekskliuzyvni-kadry-povernennia-ukrainskykh-viyskovykh-z-polonu\/\n",
      "Рідкого лісового кота зустріли в Тарутинському степу (фото) https:\/\/usionline.com\/ridkoho-lisovoho-kota-zustrily-v-tarutynskomu-stepu-foto\/\n",
      "Зендея, Алісія Вікандер, Ана де Армас та інші на показі Louis Vuitton в Парижі (фото) https:\/\/newsyou.info\/2023\/03\/zendeya-alisiya-vikander-ana-de-armas-ta-inshi-na-pokazi-louis-vuitton-v-parizhi-foto\n",
      "Несподівано: принцеса Кейт підібрала до образу аксесуар, як у Меган Маркл https:\/\/tsn.ua\/lady\/news\/obschestvo\/nespodivano-princesa-keyt-pidibrala-do-obrazu-aksesuar-yak-u-megan-markl-2280280.html\n",
      "Росіяни зменшили кількість носіїв «Калібрів» у Середземному морі https:\/\/bykvu.com\/ua\/bukvy\/rosiiany-zmenshyly-kilkist-nosiiv-kalibriv-u-seredzemnomu-mori\/\n",
      "В росії оприлюднили імена чиновників, діти яких не потрапили на війну. ВІДЕО https:\/\/kriminal.tv\/news\/v_rosiji_opriljudnili_imena_chinovnikiv_diti_jakih_ne_potrapili_na_vijnu_video.html\n",
      "В Очакові затримано агента головного управління генерального штабу зс рф http:\/\/mayupravo.com\/news\/view\/v-ochakovi-zatrimano-agenta-golovnogo-upravlinnya-generalnogo-shtabu-zs-rf-a74271\/\n",
      "Прикордонники знищили ворожий бліндаж з окупантами у Луганській області (відео) https:\/\/www.rbc.ua\/rus\/news\/prikordonniki-znishchili-vorozhiy-blindazh-1678207442.html\n",
      "Біля Рима зіштовхнулися два літаки: є загиблі https:\/\/weukraine.tv\/bilya-ryma-zishtovhnulysya-dva-litaky-ye-zagybli\/\n",
      "Воїни денацифікували дві групи росіян на Бахмутському напрямку (ВІДЕО) https:\/\/racurs.ua\/ua\/n180667-voyiny-denacyfikuvaly-dvi-grupy-rosiyan-na-bahmutskomu-napryamku-video.html\n",
      "Астрологи розповіли, представницям яких знаків Зодіаку пощастить вже 8 березня https:\/\/internetua.com\/astrologi-rozpovili-predstavnicyam-yakih-znakiv-zodiaku-posxastit-vje-8-bereznya\n",
      "Чотири прийоми у макіяжі, які давно застаріли: таких помилок варто уникати. Фото https:\/\/news.obozrevatel.com\/lady\/beauty\/chetyire-priema-v-makiyazhe-kotoryie-davno-ustareli-takih-oshibok-stoit-izbegat-foto.htm?lang=ua\n",
      "Фільми, які має подивитися кожна жінка https:\/\/mediasat.info\/uk\/2023\/03\/07\/fillmy-yaki-maye-podyvytysya-kozhna-zhinka\/\n",
      "Як зробити густішими тонкі та рідкі брови: експерти дали 6 порад https:\/\/apostrophe.ua\/ua\/article\/50858\n",
      "Як боротися з личинками хруща без хімікатів https:\/\/prostoway.com\/36438-yak-borotysya-z-lychynkamy-hrushha-bez-himikativ\n",
      "Смачні та соковиті котлети за незвичайним рецептом: саме такі раніше готували наші бабусі https:\/\/internetua.com\/smacsni-ta-sokoviti-kotleti-za-nezvicsainim-receptom-same-taki-ranishe-gotuvali-nashi-babusi\n",
      "Покроковий рецепт домашньої ухи: обід за 30 хвилин https:\/\/sensatsiya.com\/kulinariya\/pershi-stravy\/62681-domashnya-uha-za-pivgodyny-cei-rybnyi-sup-pidkoryt-svoim-smakom-i-prostotou-recept-pravylnoi-uhy\/?utm_source=ukr.net\n",
      "Новинка у світі рому — тепер він дуже пряний https:\/\/shuba.life\/articles\/11401-novinka-v-sviti-romu-teper-vin-duzhe-pryanij\n",
      "Краще, ніж піца: а-ля хот-доги нашвидкуруч у духовці https:\/\/newsyou.info\/2023\/03\/krashhe-nizh-pica-a-lya-xot-dogi-nashvidkuruch-u-duxovci\n",
      "Навіщо господині залишають ложку у борошні: хитрість, перевірена роками https:\/\/pixelinform.com\/home\/navishho-gospodyni-zalyshayut-lozhku-u-boroshni-hytrist-perevirena-rokamy\/\n"
     ],
     "output_type":"stream"
    }
   ],
   "metadata":{
    "datalore":{
     "node_id":"DFCuiNWQkc488csbYQal6u",
     "type":"CODE",
     "hide_input_from_viewers":false,
     "hide_output_from_viewers":false
    }
   }
  },
  {
   "cell_type":"code",
   "source":[
    "DB"
   ],
   "execution_count":47,
   "outputs":[
    {
     "data":{
      "text\/plain":[
       "[{'name': 'У бою за Україну загинув легендарний комбат \"Да Вінчі\", - Зеленський',\n",
       "  'link': 'https:\/\/hvylya.net\/uk\/news\/268767-v-boyu-za-ukrainu-pogib-legendarnyy-kombat-da-vinchi-zelenskiy'},\n",
       " {'name': 'Чоловік підірвався на міні просто на власному подвір’ї',\n",
       "  'link': 'https:\/\/ua.news\/ua\/war-vs-rf\/muzhchyna-podorvalsya-na-myne-pryamo-v-sobstvennom-dvore'},\n",
       " {'name': \"Окупанти продовжують спроби наступу на п'яти напрямках, на двох - обороняються - Генштаб ЗСУ\",\n",
       "  'link': 'https:\/\/interfax.com.ua\/news\/general\/896039.html'},\n",
       " {'name': 'Наймолодшому ще не виповнився 21 рік: омбудсмен озвучив деталі нового обміну полоненими',\n",
       "  'link': 'https:\/\/www.slovoidilo.ua\/2023\/03\/07\/novyna\/suspilstvo\/najmolodshomu-shhe-ne-vypovnyvsya-21-rik-ombudsmen-ozvuchyv-detali-novoho-obminu-polonenymy'},\n",
       " {'name': 'Не завжди можна встигнути ввімкнути повітряну тривогу: Нікополь — під постійними обстрілами росіян (ВІДЕО)',\n",
       "  'link': 'https:\/\/uatv.ua\/uk\/ne-zavzhdy-mozhna-vstygnuty-vvimknuty-povitryanu-tryvogu-nikopol-pid-postijnymy-obstrilamy-rosiyan-video\/'},\n",
       " {'name': 'ДБР співпрацюватиме з чехами: отримуватимуть дані щодо проросійського бізнесу в країні',\n",
       "  'link': 'https:\/\/ua.news\/ua\/ukraine\/gbr-budet-sotrudnychat-s-chehamy-budut-poluchat-dannye-o-prorossyjskom-byznese-v-strane'},\n",
       " {'name': 'Нужный зверь: Польша передаст Украине еще 10 танков Leopard 2',\n",
       "  'link': 'https:\/\/flot2017.com\/nuzhnyj-zver-polsha-peredast-ukraine-eshhe-10-tankov-leopard-2\/'},\n",
       " {'name': 'ЄС запровадив санкції проти російських військових та силовиків за насильство над жінками в Україні та Росії',\n",
       "  'link': 'https:\/\/www.radiosvoboda.org\/a\/news-es-sankciji-rosijski-vijskovi-nasylstvo-shchodo-zhinok\/32307272.html'},\n",
       " {'name': 'Влада Грузії хоче позбавляти громадянства тих, хто воює за Україну, - ЗМІ',\n",
       "  'link': 'https:\/\/censor.net\/ua\/news\/3404270\/vlada_gruziyi_hoche_pozbavlyaty_gromadyanstva_tyh_hto_voyuye_za_ukrayinu_zmi'},\n",
       " {'name': 'Як визначити, хто є колаборантами у Криму? Думка прокуратури АРК',\n",
       "  'link': 'https:\/\/hromadske.radio\/podcast-episodes\/yak-vyznachyty-khto-ie-kolaborantamy-u-krymu-dumka-prokuratury-ark\/'},\n",
       " {'name': 'Заявки на визначення агропідприємств критично важливими будуть прийматися тільки через ДАР',\n",
       "  'link': 'http:\/\/agro-business.com.ua\/agrobusiness\/item\/26337-zaiavky-na-vyznachennia-ahropidpryiemstv-krytychno-vazhlyvymy-budut-pryimatysia-tilky-cherez-dar.html'},\n",
       " {'name': '\"Укрпошта\" запустила пілотний проєкт \"листоноші на електробайках\"',\n",
       "  'link': 'https:\/\/delo.ua\/society\/ukrposta-zapustila-pilotnii-projekt-listonosi-na-elektrobaikax-412271\/'},\n",
       " {'name': 'Індексація пенсій: хто отримає всього 100 грн надбавки',\n",
       "  'link': 'https:\/\/socportal.info\/ua\/news\/indeksatciya-pensii-khto-otrimae-vsogo-100-grn-nadbavki\/'},\n",
       " {'name': 'Е-резиденти тепер можуть відкрити поточний рахунок в банку — НБУ',\n",
       "  'link': 'https:\/\/psm7.com\/uk\/company\/nbu\/e-rezidenty-teper-mogut-otkryt-tekushhij-schet-v-banke-nbu.html'},\n",
       " {'name': 'Імпорт та експорт України: порівняння',\n",
       "  'link': 'http:\/\/businessua.com\/finance\/83354import-ta-eksport-ukraini-porivnyannya.html'},\n",
       " {'name': 'Підбурював мера Очакова до здачі міста окупантам: раднику повідомили про підозру у державній зраді',\n",
       "  'link': 'https:\/\/sud.ua\/uk\/news\/ukraine\/263890-pidburyuvav-mera-ochakova-do-zdachi-mista-okupantam-radniku-povidomili-pro-pidozru-u-derzhavniy-zradi'},\n",
       " {'name': 'Колишню голову ОПЗЖ у Львові судитимуть за держзраду – ОГП',\n",
       "  'link': 'https:\/\/sprotyv.info\/obshchestvo\/kolishnyu-golovu-opzzh-u-lvovi-suditimut-za-derzhzradu-ogp\/'},\n",
       " {'name': 'Мешканець Запоріжжя намагався продати автівку, яку привезли із-за кордону для ЗСУ',\n",
       "  'link': 'https:\/\/internetua.com\/meshkanec-zaporijjya-namagavsya-prodati-avtivku-yaku-privezli-iz-za-kordonu-dlya-zsu'},\n",
       " {'name': 'Росіяни зґвалтували маму і доньку, а батька змусили дивитися: окупантам повідомлено про підозру',\n",
       "  'link': 'https:\/\/ukrayina.pl\/ukrayina\/7,183471,29533744,1056-1086-1089-1110-1103-1085-1080-1079-1169-1074-1072-1083-1090-1091-1074-1072-1083-1080.html'},\n",
       " {'name': 'На Одещині засуджено чоловіка, який вбив дружину та спокійно ліг спати',\n",
       "  'link': 'http:\/\/magnolia-tv.com\/news\/87005-na-odeshchyni-zasudzheno-cholovika-yakyy-vbyv-druzhynu-ta-spokiyno-lih-spaty?prov=ukrnet'},\n",
       " {'name': 'Дітей із зони бойових дій евакуюватимуть примусово',\n",
       "  'link': 'https:\/\/social.com.ua\/vijna\/vpo\/ditej-iz-zony-bojovyh-dij-evakuyuvatymut-prymusovo\/'},\n",
       " {'name': 'У Міноборони Угорщини заявили, що тренують українських військових медиків',\n",
       "  'link': 'https:\/\/babel.ua\/news\/91320-u-minoboroni-ugorshchini-zayavili-shcho-trenuyut-ukrajinskih-viyskovih-medikiv'},\n",
       " {'name': 'Реєстрацію одностатевих партнерств можуть дозволити в Україні – що відомо',\n",
       "  'link': 'https:\/\/ukraine.progroshi.news\/news\/suspilstvo\/reyestraciyu-odnostatevih-partnerstv-mozhut-dozvoliti-v-ukrajini-shcho-vidomo-472.html'},\n",
       " {'name': 'Стало відомо, скільки жінок подали заявки на вступ до «Гвардії наступу»',\n",
       "  'link': 'https:\/\/vsviti.com.ua\/news\/147956'},\n",
       " {'name': 'У населення має бути зброя. Резніков розповів про своє бачення України після перемоги',\n",
       "  'link': 'https:\/\/kontrakty.ua\/article\/213610'},\n",
       " {'name': 'У Чорнобильській зоні встановили нову автоматичну метеостанцію',\n",
       "  'link': 'https:\/\/www.kyivschina24.com\/news\/u-chornobilskij-zoni-vstanovili-novu-avtomatichnu-meteostancziyu\/'},\n",
       " {'name': 'Київ очолює антирейтинг порушників мовного закону',\n",
       "  'link': 'https:\/\/nashkiev.ua\/news\/kiiv-ocholyue-antireiting-porushnikiv-movnogo-zakonu'},\n",
       " {'name': 'Сьогодні Київ прощався з двома Героями-льотчиками, які загинули під час виконання бойового завдання, — Кличко',\n",
       "  'link': 'https:\/\/ukranews.com\/ua\/news\/919441-sogodni-kyyiv-proshhavsya-z-dvoma-geroyamy-lotchykamy-yaki-zagynuly-pid-chas-vykonannya-bojovogo'},\n",
       " {'name': '«Армія відновлення»: нині залучили 8,5 тисячі безробітних – якими є виплати',\n",
       "  'link': 'https:\/\/ua.news\/ua\/money\/armyya-vosstanovlenyya-sejchas-pryvlekly-8-5-tysyachy-bezrabotnyh-kakovy-vyplaty'},\n",
       " {'name': '«Лють»: добровольці Броварщини активно перетворюють лють на зброю',\n",
       "  'link': 'https:\/\/brovary.net.ua\/liut-dobrovoltsi-brovarshchyny-aktyvno-peretvoriuiut-liut-na-zbroiu\/'},\n",
       " {'name': 'Apple представила iPhone 14 і 14 Plus у жовтому кольорі',\n",
       "  'link': 'https:\/\/ilenta.com\/uk\/news\/smartphone\/smartphone_3505.html'},\n",
       " {'name': 'Україномовний Twitch за рік великої війни зріс у шість разів - дослідження',\n",
       "  'link': 'https:\/\/tech.liga.net\/ua\/technology\/novosti\/ukrainoyazychnyy-twitch-za-god-bolshoy-voyny-vyros-v-shest-raz-issledovanie'},\n",
       " {'name': 'Офіційно представлено смартфон Nubia Z50 Ultra з “ідеальним” екраном та потужним залізом',\n",
       "  'link': 'https:\/\/tehnofan.com.ua\/2023\/03\/07\/nubia-z50-ultra-bula-osnashchena-ideal%ca%b9nym-ekranom-ta-potuzhnym-zalizo\/'},\n",
       " {'name': 'Стало відомо, що Android 15 матиме назву Vanilla Ice Cream. Це вже третій вид морозива в історії ОС',\n",
       "  'link': 'https:\/\/hi-tech.ua\/stalo-vidomo-shho-android-15-matime-nazvu-vanilla-ice-cream-cze-vzhe-tretij-vid-moroziva-v-istori%d1%97-os\/'},\n",
       " {'name': 'Розробники Google працюють над створенням штучного інтелекту, що розумітиме понад 1000 мов',\n",
       "  'link': 'https:\/\/noworries.news\/rozrobnyky-google-praczyuyut-nad-stvorennyam-shtuchnogo-intelektu-shho-rozumityme-ponad-1000-mov\/'},\n",
       " {'name': 'Японія знищила нову ракету під час запуску',\n",
       "  'link': 'https:\/\/nnews.com.ua\/yaponiya-znyshhyla-novu-raketu-pid-chas-zapusku.html'},\n",
       " {'name': 'Стартує нова українська експедиція в Антарктику: цього разу без жінок',\n",
       "  'link': 'https:\/\/bigkyiv.com.ua\/startuye-nova-ukrayinska-ekspedycziya-v-antarktyku-czogo-razu-bez-zhinok\/'},\n",
       " {'name': 'Вчені США та Великобританії шукатимуть інопланетян: для чого їм це потрібно',\n",
       "  'link': 'https:\/\/novyny.live\/space\/vcheni-ssha-ta-velikobritaniyi-shukatimut-inoplanetian-dlia-chogo-yim-tse-potribno-81142.html'},\n",
       " {'name': 'На Сонці зафіксовано одразу 52 плями: чи становить це небезпеку для Землі',\n",
       "  'link': 'https:\/\/internetua.com\/na-sonci-zafiksovano-odrazu-52-plyami-csi-stanovit-ce-nebezpeku-dlya-zemli'},\n",
       " {'name': 'Вперше в історії: марсохід зняв сонячні промені під час заходу сонця на Марсі (фото, відео)',\n",
       "  'link': 'https:\/\/focus.ua\/uk\/technologies\/553718-vpervye-v-istorii-marsohod-zapechetlel-solnechnye-luchi-vo-vremya-zakata-na-marse-foto-video'},\n",
       " {'name': 'Українці зможуть замовляти номерні знаки на авто онлайн: в МВС назвали терміни',\n",
       "  'link': 'https:\/\/kurs.com.ua\/novost\/1003667-ukrainci-smogut-zakazivat-nomernie-znaki-na-avto-onlain-v-mvd-nazvali-termini?source=ukrnet'},\n",
       " {'name': \"В Україні вдвоє впав попит на вживані іномарки. П'ятірка моделей лютого\",\n",
       "  'link': 'https:\/\/internetua.com\/v-ukrayini-vdvoye-vpav-popit-na-vjivani-inomarki-p-yatirka-modelei-luatogo'},\n",
       " {'name': 'Кросовер Honda заскочив на інший автомобіль, бо водій «переплутав машину з бордюром»',\n",
       "  'link': 'https:\/\/wheel-news.com\/3820-krosover-honda-zaskochyv-na-inshyy-avtomobil-bo-vodiy-pereplutav-mashynu-z-bordiurom'},\n",
       " {'name': 'Верховна Рада ухвалила новий закон, який стимулює українців відмовлятися від автомобілів',\n",
       "  'link': 'https:\/\/autotheme.info\/news\/185313-verhovna-rada-uhvalila-novij-zakon-yakij-stimulyuye-ukrayintsiv-vidmovlyatisya-vid-avtomobiliv.html'},\n",
       " {'name': 'Названо штраф за їзду без важливого документа в 2023 році',\n",
       "  'link': 'https:\/\/uamotors.com.ua\/news\/88901'},\n",
       " {'name': 'Однією з умов вступу «Прометея» до чемпіонату Польщі може стати зобов’язання мати у складі місцевого баскетболіста',\n",
       "  'link': 'https:\/\/ua.tribuna.com\/uk\/basketball\/1000000050898-odnim-iz-uslovij-vstupleniya-prometeya-v-chempionat-pols\/'},\n",
       " {'name': 'Промоутер Джошуа: «Энтони считает второй бой с Усиком катастрофой»',\n",
       "  'link': 'http:\/\/sport.ua\/news\/617561-promouter-dzhoshua-entoni-schitaet-vtoroy-boy-s-usikom-katastrofoy'},\n",
       " {'name': 'Едін Терзіч проти переходу Джуда Беллінгхема до АПЛ',\n",
       "  'link': 'https:\/\/terrikon.com\/posts\/431544'},\n",
       " {'name': 'Челсі готовий продати хавбека в Мілан за 25 млн євро',\n",
       "  'link': 'http:\/\/footballtransfer.com.ua\/it-en\/news-117217.html'},\n",
       " {'name': 'Марта Костюк: Я відразу попередила WTA, що не тиснутиму руку Грачовій',\n",
       "  'link': 'https:\/\/www.ua-football.com\/ua\/sport\/tennis\/1678206109-marta-kostyuk-ya-vidrazu-poperedila-wta-scho-ne-tisnutimu-ruku-grachoviy.html?utm_source=ukrnet&utm_medium=cpc&utm_campaign=uanewsukrnet'},\n",
       " {'name': 'Названі продукти, які найсильніше уповільнюють метаболізм',\n",
       "  'link': 'https:\/\/zhenskiy.kyiv.ua\/zdorovya\/nazvani-produkti-yaki-najsilnishe-upovilnyuyut-metabolizm\/'},\n",
       " {'name': '5 практичних речей проти болю при циститі',\n",
       "  'link': 'https:\/\/novamed.com.ua\/novini\/5-praktichnih-rechej-proti-bolyu-pri-tsistiti\/'},\n",
       " {'name': 'Може бути симптомом серйозної хвороби: коли потрібно звернутися до лікаря якщо болить живіт',\n",
       "  'link': 'https:\/\/meta.ua\/uk\/news\/health\/68943-mozhe-buti-simptomom-serioznoyi-hvorobi-koli-potribno-zvernutisya-do-likarya-yakscho-bolit-zhivit\/'},\n",
       " {'name': 'Лікарі розповіли яка картопля знижує, а яка – підвищує рівень цукру в крові',\n",
       "  'link': 'https:\/\/glamour.kyiv.ua\/pilates\/likari-rozpovili-yaka-kartoplya-znizhuye-a-yaka-pidvishhuye-riven-tsukru-v-krovi\/'},\n",
       " {'name': 'Про небезпеку розігрітої в мікрохвильовці їжі розповіли експерти',\n",
       "  'link': 'https:\/\/womanlife.kyiv.ua\/zdorovya\/pro-nebezpeku-rozigritoyi-v-mikrohvilovtsi-yizhi-rozpovili-eksperti\/'},\n",
       " {'name': 'Квитки на Євробачення у Великій Британії розкупили менше ніж за 2 години',\n",
       "  'link': 'https:\/\/internetua.com\/kvitki-na-yevrobacsennya-u-velikii-britaniyi-rozkupili-menshe-nij-za-2-godini'},\n",
       " {'name': '46-річна Керрі Вашингтон підкреслила струнку фігуру червоною сукнею, яку одягала Вітні Г’юстон',\n",
       "  'link': 'https:\/\/newsyou.info\/2023\/03\/46-richna-kerri-vashington-pidkreslila-strunku-figuru-chervonoyu-sukneyu-yaku-odyagala-vitni-gyuston'},\n",
       " {'name': 'Кріс Рок жорстко пожартував про Вілла Сміта та його дружину: “Вона переспала з другом сина”',\n",
       "  'link': 'https:\/\/ua-novosti.info\/shoubiznes\/kris-rok-zhorstko-pozhartuvav-pro-villa-smita-ta-jogo-druzhinu-vona-perespala-z-drugom-sina.html'},\n",
       " {'name': 'Екснаречена Кличка зробила операцію зі зменшення грудей: як змінилася акторка та чому наважилася на пластику. Фото',\n",
       "  'link': 'https:\/\/news.obozrevatel.com\/show\/people\/eks-nevesta-klichko-sdelala-operatsiyu-po-umensheniyu-grudi-kak-izmenilas-aktrisa-i-pochemu-reshalis-na-plastiku-foto.htm?lang=ua'},\n",
       " {'name': 'Гонконгці запустили петицію проти актора Донні Єна за його пропекінську позицію',\n",
       "  'link': 'https:\/\/www.epochtimes.com.ua\/novyny-svitu\/gonkongci-zapustyly-petyciyu-proty-aktora-donni-yena-za-yogo-propekinsku-pozyciyu-149827'},\n",
       " {'name': 'Дыра в бюджете России растет. Как Минфин РФ «работает с огоньком»',\n",
       "  'link': 'https:\/\/ru.krymr.com\/a\/rossiya-ekonomika-sanktsii-bednost-kurs-rublya\/32307053.html'},\n",
       " {'name': 'Збитки від землетрусів у Туреччині можуть перевищувати $100 млрд – ООН',\n",
       "  'link': 'https:\/\/www.eurointegration.com.ua\/news\/2023\/03\/7\/7157514\/'},\n",
       " {'name': 'Головний офіс російської поліції на Петрівці у Москві охопила пожежа',\n",
       "  'link': 'https:\/\/aspi.com.ua\/news\/podii\/golovniy-ofis-rosiyskoi-policii-na-petrivci-u-moskvi-okhopila-pozhezha'},\n",
       " {'name': 'NYT: Західна розвідка припускає, що проукраїнська група може бути причетна до підриву газопроводів Nord Stream',\n",
       "  'link': 'https:\/\/bykvu.com\/ua\/bukvy\/nyt-zakhidna-rozvidka-prypuskaie-shcho-proukrainska-hrupa-mozhe-buty-prychetna-do-pidryvu-hazoprovodiv-nord-stream\/'},\n",
       " {'name': 'В Ірані заявили про створення гіперзвукової ракети',\n",
       "  'link': 'https:\/\/newsyou.info\/2023\/03\/v-irani-zayavili-pro-stvorennya-giperzvukovo%d1%97-raketi'},\n",
       " {'name': 'Хочу танк – у господарстві знадобиться: яскраві меми та фотожаби про 8 березня',\n",
       "  'link': 'https:\/\/newsyou.info\/2023\/03\/xochu-tank-u-gospodarstvi-znadobitsya-yaskravi-memi-ta-fotozhabi-pro-8-bereznya'},\n",
       " {'name': 'Скабєєва розповіла про \"голод\" у Великій Британії: \"Начали жрать белок, но гаубицы Украине поставят\"',\n",
       "  'link': 'https:\/\/u-news.com.ua\/142896-skabyeyeva-rozpovila-pro-golod-u-velikij-britaniji-nachali-zhrat-belok-no-gaubicy-ukraine-postavjat.html'},\n",
       " {'name': 'Російський депутат отруївся мухоморами під час розваг з 27-річною коханкою: фото',\n",
       "  'link': 'https:\/\/tsn.ua\/tsikavinki\/rosiyskiy-deputat-otruyivsya-muhomorami-pid-chas-rozvag-z-27-richnoyu-kohankoyu-foto-2280337.html'},\n",
       " {'name': 'Новий хіт: закоханий у пиво вболівальник став зіркою Мережі (відео)',\n",
       "  'link': 'https:\/\/novosti-n.org\/ua\/ukraine\/Novyj-hit-zakohanyj-u-pyvo-vbolivalnyk-stav-zirkoyu-Merezhi-video--301315'},\n",
       " {'name': '60-річний чоловік зробив понад тисячу відтискань за годину, щоб побити рекорд Гіннеса',\n",
       "  'link': 'https:\/\/internetua.com\/60-ricsnii-csolovik-zrobiv-ponad-tisyacsu-vidtiskan-za-godinu-sxob-pobiti-rekord-ginnesa'},\n",
       " {'name': 'СБУ показала ексклюзивні кадри повернення українських військових з полону',\n",
       "  'link': 'https:\/\/hronikers.com\/2023\/03\/07\/sbu-pokazala-ekskliuzyvni-kadry-povernennia-ukrainskykh-viyskovykh-z-polonu\/'},\n",
       " {'name': 'Рідкого лісового кота зустріли в Тарутинському степу (фото)',\n",
       "  'link': 'https:\/\/usionline.com\/ridkoho-lisovoho-kota-zustrily-v-tarutynskomu-stepu-foto\/'},\n",
       " {'name': 'Зендея, Алісія Вікандер, Ана де Армас та інші на показі Louis Vuitton в Парижі (фото)',\n",
       "  'link': 'https:\/\/newsyou.info\/2023\/03\/zendeya-alisiya-vikander-ana-de-armas-ta-inshi-na-pokazi-louis-vuitton-v-parizhi-foto'},\n",
       " {'name': 'Несподівано: принцеса Кейт підібрала до образу аксесуар, як у Меган Маркл',\n",
       "  'link': 'https:\/\/tsn.ua\/lady\/news\/obschestvo\/nespodivano-princesa-keyt-pidibrala-do-obrazu-aksesuar-yak-u-megan-markl-2280280.html'},\n",
       " {'name': 'Росіяни зменшили кількість носіїв «Калібрів» у Середземному морі',\n",
       "  'link': 'https:\/\/bykvu.com\/ua\/bukvy\/rosiiany-zmenshyly-kilkist-nosiiv-kalibriv-u-seredzemnomu-mori\/'},\n",
       " {'name': 'В росії оприлюднили імена чиновників, діти яких не потрапили на війну. ВІДЕО',\n",
       "  'link': 'https:\/\/kriminal.tv\/news\/v_rosiji_opriljudnili_imena_chinovnikiv_diti_jakih_ne_potrapili_na_vijnu_video.html'},\n",
       " {'name': 'В Очакові затримано агента головного управління генерального штабу зс рф',\n",
       "  'link': 'http:\/\/mayupravo.com\/news\/view\/v-ochakovi-zatrimano-agenta-golovnogo-upravlinnya-generalnogo-shtabu-zs-rf-a74271\/'},\n",
       " {'name': 'Прикордонники знищили ворожий бліндаж з окупантами у Луганській області (відео)',\n",
       "  'link': 'https:\/\/www.rbc.ua\/rus\/news\/prikordonniki-znishchili-vorozhiy-blindazh-1678207442.html'},\n",
       " {'name': 'Біля Рима зіштовхнулися два літаки: є загиблі',\n",
       "  'link': 'https:\/\/weukraine.tv\/bilya-ryma-zishtovhnulysya-dva-litaky-ye-zagybli\/'},\n",
       " {'name': 'Воїни денацифікували дві групи росіян на Бахмутському напрямку (ВІДЕО)',\n",
       "  'link': 'https:\/\/racurs.ua\/ua\/n180667-voyiny-denacyfikuvaly-dvi-grupy-rosiyan-na-bahmutskomu-napryamku-video.html'},\n",
       " {'name': 'Астрологи розповіли, представницям яких знаків Зодіаку пощастить вже 8 березня',\n",
       "  'link': 'https:\/\/internetua.com\/astrologi-rozpovili-predstavnicyam-yakih-znakiv-zodiaku-posxastit-vje-8-bereznya'},\n",
       " {'name': 'Чотири прийоми у макіяжі, які давно застаріли: таких помилок варто уникати. Фото',\n",
       "  'link': 'https:\/\/news.obozrevatel.com\/lady\/beauty\/chetyire-priema-v-makiyazhe-kotoryie-davno-ustareli-takih-oshibok-stoit-izbegat-foto.htm?lang=ua'},\n",
       " {'name': 'Фільми, які має подивитися кожна жінка',\n",
       "  'link': 'https:\/\/mediasat.info\/uk\/2023\/03\/07\/fillmy-yaki-maye-podyvytysya-kozhna-zhinka\/'},\n",
       " {'name': 'Як зробити густішими тонкі та рідкі брови: експерти дали 6 порад',\n",
       "  'link': 'https:\/\/apostrophe.ua\/ua\/article\/50858'},\n",
       " {'name': 'Як боротися з личинками хруща без хімікатів',\n",
       "  'link': 'https:\/\/prostoway.com\/36438-yak-borotysya-z-lychynkamy-hrushha-bez-himikativ'},\n",
       " {'name': 'Смачні та соковиті котлети за незвичайним рецептом: саме такі раніше готували наші бабусі',\n",
       "  'link': 'https:\/\/internetua.com\/smacsni-ta-sokoviti-kotleti-za-nezvicsainim-receptom-same-taki-ranishe-gotuvali-nashi-babusi'},\n",
       " {'name': 'Покроковий рецепт домашньої ухи: обід за 30 хвилин',\n",
       "  'link': 'https:\/\/sensatsiya.com\/kulinariya\/pershi-stravy\/62681-domashnya-uha-za-pivgodyny-cei-rybnyi-sup-pidkoryt-svoim-smakom-i-prostotou-recept-pravylnoi-uhy\/?utm_source=ukr.net'},\n",
       " {'name': 'Новинка у світі рому — тепер він дуже пряний',\n",
       "  'link': 'https:\/\/shuba.life\/articles\/11401-novinka-v-sviti-romu-teper-vin-duzhe-pryanij'},\n",
       " {'name': 'Краще, ніж піца: а-ля хот-доги нашвидкуруч у духовці',\n",
       "  'link': 'https:\/\/newsyou.info\/2023\/03\/krashhe-nizh-pica-a-lya-xot-dogi-nashvidkuruch-u-duxovci'},\n",
       " {'name': 'Навіщо господині залишають ложку у борошні: хитрість, перевірена роками',\n",
       "  'link': 'https:\/\/pixelinform.com\/home\/navishho-gospodyni-zalyshayut-lozhku-u-boroshni-hytrist-perevirena-rokamy\/'}]"
      ]
     },
     "metadata":{
      
     },
     "output_type":"display_data"
    }
   ],
   "metadata":{
    "datalore":{
     "node_id":"6WJJQvQc4tnAzvGRw3KQgy",
     "type":"CODE",
     "hide_input_from_viewers":false,
     "hide_output_from_viewers":false
    }
   }
  },
  {
   "cell_type":"code",
   "source":[
    "import requests\n",
    "\n",
    "r = requests.get('https:\/\/love.i.ua\/', headers=headers)"
   ],
   "execution_count":50,
   "outputs":[
    
   ],
   "metadata":{
    "datalore":{
     "node_id":"3ai64ucq5vWQyH7a5TuYhP",
     "type":"CODE",
     "hide_input_from_viewers":false,
     "hide_output_from_viewers":false
    }
   }
  },
  {
   "cell_type":"code",
   "source":[
    "r.status_code"
   ],
   "execution_count":51,
   "outputs":[
    {
     "data":{
      "text\/plain":[
       "200"
      ]
     },
     "metadata":{
      
     },
     "output_type":"display_data"
    }
   ],
   "metadata":{
    "datalore":{
     "node_id":"SOIkDTdFz9khBP4dzROHW7",
     "type":"CODE",
     "hide_input_from_viewers":false,
     "hide_output_from_viewers":false
    }
   }
  },
  {
   "cell_type":"code",
   "source":[
    "soup = BeautifulSoup(r.text, 'lxml')"
   ],
   "execution_count":52,
   "outputs":[
    
   ],
   "metadata":{
    "datalore":{
     "node_id":"NDWzr1X9fZdXDk0E1gTeO8",
     "type":"CODE",
     "hide_input_from_viewers":false,
     "hide_output_from_viewers":false
    }
   }
  },
  {
   "cell_type":"code",
   "source":[
    "for i in soup.find('ul', class_='list_cols_5 clear').find_all('li'):\n",
    "    print(i.img.get('src'), i.dd.p.text)\n",
    "    r = requests.get('https:'+i.img.get('src'), headers=headers)\n",
    "    with open(f'{i.dd.p.text}.jpeg', 'wb') as f:\n",
    "        f.write(r.content)"
   ],
   "execution_count":66,
   "outputs":[
    {
     "name":"stdout",
     "text":[
      "\/\/os1.i.ua\/3\/8\/16108940_3729c521.jpg Марина\n",
      "\/\/os1.i.ua\/3\/8\/14808560_aac5398a.jpg Александр\n",
      "\/\/os1.i.ua\/3\/8\/16105389_f41bc2f9.jpg Евгений\n",
      "\/\/os1.i.ua\/3\/8\/12464744_760cae36.jpg Олег\n",
      "\/\/os1.i.ua\/3\/8\/14653785_a57f52d7.jpg Владимир\n"
     ],
     "output_type":"stream"
    }
   ],
   "metadata":{
    "datalore":{
     "node_id":"SBMgyVJzjgjOt4xapX73Pi",
     "type":"CODE",
     "hide_input_from_viewers":false,
     "hide_output_from_viewers":false
    }
   }
  },
  {
   "cell_type":"code",
   "source":[
    "r = requests.get('https:'+'\/\/os1.i.ua\/3\/8\/16108940_3729c521.jpg', headers=headers)\n",
    "#https:\/\/os1.i.ua\/3\/8\/16108940_3729c521.jpg\n",
    "r.content\n",
    "with open('photo.jpeg', 'wb') as f:\n",
    "    f.write(r.content)"
   ],
   "execution_count":65,
   "outputs":[
    
   ],
   "metadata":{
    "datalore":{
     "node_id":"tbOHeWzcf09nvG6I22EHVw",
     "type":"CODE",
     "hide_input_from_viewers":false,
     "hide_output_from_viewers":false
    }
   }
  },
  {
   "cell_type":"code",
   "source":[
    
   ],
   "execution_count":null,
   "outputs":[
    
   ],
   "metadata":{
    "datalore":{
     "node_id":"AYdKuNBBWQtXu34lHvoqqq",
     "type":"CODE",
     "hide_input_from_viewers":false,
     "hide_output_from_viewers":false
    }
   }
  }
 ],
 "metadata":{
  "kernelspec":{
   "display_name":"Python",
   "language":"python",
   "name":"python"
  },
  "datalore":{
   "version":1,
   "computation_mode":"JUPYTER",
   "package_manager":"pip",
   "base_environment":"default",
   "packages":[
    
   ]
  }
 },
 "nbformat":4,
 "nbformat_minor":4
}