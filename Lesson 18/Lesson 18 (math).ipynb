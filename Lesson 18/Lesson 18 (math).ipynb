{
 "cells":[
  {
   "cell_type":"markdown",
   "source":[
    "## Рекомендаційна система"
   ],
   "attachments":{
    
   },
   "metadata":{
    "datalore":{
     "node_id":"qxU9GuvDJCxP9OCCPmlPY2",
     "type":"MD",
     "hide_input_from_viewers":false,
     "hide_output_from_viewers":false,
     "report_properties":{
      "rowId":"s93oYqBqvZ2pv5io0YocL6"
     }
    }
   }
  },
  {
   "cell_type":"markdown",
   "source":[
    "Ідея рекомендаційних систем на основі найближчого сусіда – використовувати переваги деякої групи людей, схожих на даного користувача, щоб рекомендувати йому щось.\n",
    "\n",
    "Така модель має багато застосувань:\n",
    "    \n",
    "   * рекомендація товарів інтернет-магазинів\n",
    "   * рекомендація музики чи фільмів\n",
    "   * рекомендація людей\/контенту у соціальних мережах"
   ],
   "attachments":{
    
   },
   "metadata":{
    "datalore":{
     "node_id":"xFhLfKWo5t7ce7cfrAvMXw",
     "type":"MD",
     "hide_input_from_viewers":false,
     "hide_output_from_viewers":false,
     "report_properties":{
      "rowId":"5tJjQUFeYYfGXvuDBWGY22"
     }
    }
   }
  },
  {
   "cell_type":"markdown",
   "source":[
    "Природний спосіб отримати рекомендацію про щось - запитати думку про це у друзів чи будь-яких людей, яким подобається те саме, що й вам. Цю ідею можна використовувати і для машини: для кожної людини алгоритм проглядає велику групу людей і шукає в ній підгрупу зі схожим на дану людину смаком. Далі створюється список того, що подобається цим людям, а потім людині рекомендуються пропозиції з цього списку. Такий алгоритм називається алгоритмом **колаборативної фільтрації**."
   ],
   "attachments":{
    
   },
   "metadata":{
    "datalore":{
     "node_id":"JeGFJJRDHVZPCTPh6YjhdR",
     "type":"MD",
     "hide_input_from_viewers":false,
     "hide_output_from_viewers":false,
     "report_properties":{
      "rowId":"mc9XYoBBJ2rfN6n3XJoTD8"
     }
    }
   }
  },
  {
   "cell_type":"code",
   "source":[
    "critics = {'Ліза Іванова': {'Lady in the Water': 2.5, 'Snakes on a Plane': 3.5,\n",
    " 'Just My Luck': 3.0, 'Superman Returns': 3.5, 'You, Me and Dupree': 2.5, \n",
    " 'The Night Listener': 3.0},\n",
    "'Ігор Петренко': {'Lady in the Water': 3.0, 'Snakes on a Plane': 3.5, \n",
    " 'Just My Luck': 1.5, 'Superman Returns': 5.0, 'The Night Listener': 3.0, \n",
    " 'You, Me and Dupree': 3.5}, \n",
    "'Міша Майдан': {'Lady in the Water': 2.5, 'Snakes on a Plane': 3.0,\n",
    " 'Superman Returns': 3.5, 'The Night Listener': 4.0},\n",
    "'Клавдія Мороз': {'Snakes on a Plane': 3.5, 'Just My Luck': 3.0,\n",
    " 'The Night Listener': 4.5, 'Superman Returns': 4.0, \n",
    " 'You, Me and Dupree': 2.5},\n",
    "'Аня Товкач': {'Lady in the Water': 3.0, 'Snakes on a Plane': 4.0, \n",
    " 'Just My Luck': 2.0, 'Superman Returns': 3.0, 'The Night Listener': 3.0,\n",
    " 'You, Me and Dupree': 2.0}, \n",
    "'Матвій Чорний': {'Lady in the Water': 3.0, 'Snakes on a Plane': 4.0,\n",
    " 'The Night Listener': 3.0, 'Superman Returns': 5.0, 'You, Me and Dupree': 3.5},\n",
    "'Сергій Вацак': {'Snakes on a Plane':4.5,'You, Me and Dupree':1.0,'Superman Returns':4.0}}"
   ],
   "execution_count":1,
   "outputs":[
    
   ],
   "metadata":{
    "datalore":{
     "node_id":"J7ON3NhiPNqfkX2wC6SMiv",
     "type":"CODE",
     "hide_input_from_viewers":false,
     "hide_output_from_viewers":false,
     "report_properties":{
      "rowId":"ZRnECtSRksCaRf62GQ4ZQE"
     }
    }
   }
  },
  {
   "cell_type":"code",
   "source":[
    "import pprint\n",
    "pprint.pprint(critics)"
   ],
   "execution_count":2,
   "outputs":[
    {
     "name":"stdout",
     "text":[
      "{'Ігор Петренко': {'Just My Luck': 1.5,\n",
      "                   'Lady in the Water': 3.0,\n",
      "                   'Snakes on a Plane': 3.5,\n",
      "                   'Superman Returns': 5.0,\n",
      "                   'The Night Listener': 3.0,\n",
      "                   'You, Me and Dupree': 3.5},\n",
      " 'Аня Товкач': {'Just My Luck': 2.0,\n",
      "                'Lady in the Water': 3.0,\n",
      "                'Snakes on a Plane': 4.0,\n",
      "                'Superman Returns': 3.0,\n",
      "                'The Night Listener': 3.0,\n",
      "                'You, Me and Dupree': 2.0},\n",
      " 'Клавдія Мороз': {'Just My Luck': 3.0,\n",
      "                   'Snakes on a Plane': 3.5,\n",
      "                   'Superman Returns': 4.0,\n",
      "                   'The Night Listener': 4.5,\n",
      "                   'You, Me and Dupree': 2.5},\n",
      " 'Ліза Іванова': {'Just My Luck': 3.0,\n",
      "                  'Lady in the Water': 2.5,\n",
      "                  'Snakes on a Plane': 3.5,\n",
      "                  'Superman Returns': 3.5,\n",
      "                  'The Night Listener': 3.0,\n",
      "                  'You, Me and Dupree': 2.5},\n",
      " 'Матвій Чорний': {'Lady in the Water': 3.0,\n",
      "                   'Snakes on a Plane': 4.0,\n",
      "                   'Superman Returns': 5.0,\n",
      "                   'The Night Listener': 3.0,\n",
      "                   'You, Me and Dupree': 3.5},\n",
      " 'Міша Майдан': {'Lady in the Water': 2.5,\n",
      "                 'Snakes on a Plane': 3.0,\n",
      "                 'Superman Returns': 3.5,\n",
      "                 'The Night Listener': 4.0},\n",
      " 'Сергій Вацак': {'Snakes on a Plane': 4.5,\n",
      "                  'Superman Returns': 4.0,\n",
      "                  'You, Me and Dupree': 1.0}}\n"
     ],
     "output_type":"stream"
    }
   ],
   "metadata":{
    "datalore":{
     "node_id":"rnahPIsrMLWcHqwNF5QUH8",
     "type":"CODE",
     "hide_input_from_viewers":false,
     "hide_output_from_viewers":false,
     "report_properties":{
      "rowId":"c4fu054Y30niDFchhEA6lP"
     }
    }
   }
  },
  {
   "cell_type":"code",
   "source":[
    "def similar_films(critics, p1, p2):\n",
    "    \"\"\"Виводимо список спільних фільів для двох користувачів\"\"\"\n",
    "    \n",
    "    f1 = set(critics[p1].keys())\n",
    "    f2 = set(critics[p2].keys())\n",
    "    \n",
    "    return list(f1 & f2)\n",
    "\n",
    "similar_films(critics, 'Ігор Петренко', 'Міша Майдан')"
   ],
   "execution_count":3,
   "outputs":[
    {
     "data":{
      "text\/plain":[
       "['The Night Listener',\n",
       " 'Snakes on a Plane',\n",
       " 'Lady in the Water',\n",
       " 'Superman Returns']"
      ]
     },
     "metadata":{
      
     },
     "output_type":"display_data"
    }
   ],
   "metadata":{
    "datalore":{
     "node_id":"30aPTiC7RBKUyVVqVrsI0B",
     "type":"CODE",
     "hide_input_from_viewers":false,
     "hide_output_from_viewers":false,
     "report_properties":{
      "rowId":"b6KgHJjXjXjm4SoaGmHbag"
     }
    }
   }
  },
  {
   "cell_type":"code",
   "source":[
    "similar_films(critics, 'Ігор Петренко', 'Матвій Чорний')"
   ],
   "execution_count":4,
   "outputs":[
    {
     "data":{
      "text\/plain":[
       "['The Night Listener',\n",
       " 'Superman Returns',\n",
       " 'Lady in the Water',\n",
       " 'Snakes on a Plane',\n",
       " 'You, Me and Dupree']"
      ]
     },
     "metadata":{
      
     },
     "output_type":"display_data"
    }
   ],
   "metadata":{
    "datalore":{
     "node_id":"BZPuiR8iYzgjagOXJTkYkb",
     "type":"CODE",
     "hide_input_from_viewers":true,
     "hide_output_from_viewers":true
    }
   }
  },
  {
   "cell_type":"markdown",
   "source":[
    "Щоб виділити підгрупу людей зі схожим смаком, необхідно якось визначити, наскільки люди схожі. У нашому випадку ми порівнюватимемо оцінки людей у ​​однакових фільмів. Ми розглянемо два способи порівняння. За допомогою\n",
    "- відстані Евкліда\n",
    "- кореляції Пірсона"
   ],
   "attachments":{
    
   },
   "metadata":{
    "datalore":{
     "node_id":"cQaLGMMgjXv4ClPFpciB2U",
     "type":"MD",
     "hide_input_from_viewers":false,
     "hide_output_from_viewers":false,
     "report_properties":{
      "rowId":"wngDQyeiu2cLQ2ScoYhbW0"
     }
    }
   }
  },
  {
   "cell_type":"markdown",
   "source":[
    "Евклідова відстань $x = (x_1, x_2, ... , x_n)$ и $y = (y_1, y_2, ... , y_n)$ :\n",
    "\n",
    "\\begin{equation}\n",
    "d(x, y) = \\sqrt{\\sum_{i = 1}^n (x_i - y_i)^2}\n",
    "\\end{equation}"
   ],
   "attachments":{
    
   },
   "metadata":{
    "datalore":{
     "node_id":"biUu5tckY6sVk3IecnSaRH",
     "type":"MD",
     "hide_input_from_viewers":false,
     "hide_output_from_viewers":false,
     "report_properties":{
      "rowId":"MIhcevz6iqEM1wHuDbDgV2"
     }
    }
   }
  },
  {
   "cell_type":"code",
   "source":[
    "import math\n",
    "def score(critics, p1, p2):\n",
    "    \"\"\"Подібність між смаками двох людей\"\"\"\n",
    "    \n",
    "    films = similar_films(critics, p1, p2)\n",
    "    \n",
    "    if len(films) == 0:\n",
    "        return 0\n",
    "    \n",
    "    distance = 0\n",
    "    \n",
    "    for film in films:\n",
    "        distance += (critics[p1][film] - critics[p2][film])**2\n",
    "        \n",
    "    score = 1 \/ (1 + math.sqrt(distance))\n",
    "    \n",
    "    return score\n",
    "        \n",
    "score(critics, 'Ігор Петренко', 'Міша Майдан')"
   ],
   "execution_count":5,
   "outputs":[
    {
     "data":{
      "text\/plain":[
       "0.3405424265831667"
      ]
     },
     "metadata":{
      
     },
     "output_type":"display_data"
    }
   ],
   "metadata":{
    "datalore":{
     "node_id":"dGqORKSEB3s1lblgrzIlot",
     "type":"CODE",
     "hide_input_from_viewers":false,
     "hide_output_from_viewers":false,
     "report_properties":{
      "rowId":"wWJT7lWg6UrJaRt90xBoxn"
     }
    }
   }
  },
  {
   "cell_type":"code",
   "source":[
    "score(critics, 'Ігор Петренко', 'Матвій Чорний')"
   ],
   "execution_count":6,
   "outputs":[
    {
     "data":{
      "text\/plain":[
       "0.6666666666666666"
      ]
     },
     "metadata":{
      
     },
     "output_type":"display_data"
    }
   ],
   "metadata":{
    "datalore":{
     "node_id":"n8HL3IOeOjvUpKIM2AYl3g",
     "type":"CODE",
     "hide_input_from_viewers":false,
     "hide_output_from_viewers":false,
     "report_properties":{
      "rowId":"46PHTKyJCB3dtgn5esFSs4"
     }
    }
   }
  },
  {
   "cell_type":"code",
   "source":[
    "def similar_people(critics, p1):\n",
    "    \"\"\"Список людей із схожими смаками (score)\"\"\"\n",
    "    d = []\n",
    "    for person in critics:\n",
    "        d.append((person,  round(score(critics, p1, person), 2) ))\n",
    "        \n",
    "    print(sorted(d, key=lambda x: x[1]))\n",
    "    \n",
    "similar_people(critics, 'Ігор Петренко')  "
   ],
   "execution_count":null,
   "outputs":[
    {
     "name":"stdout",
     "text":[
      "[('Сергій Вацак', 0.26), ('Клавдія Мороз', 0.28), ('Аня Товкач', 0.28), ('Ліза Іванова', 0.29), ('Міша Майдан', 0.34), ('Матвій Чорний', 0.67), ('Ігор Петренко', 1.0)]\n"
     ],
     "output_type":"stream"
    }
   ],
   "metadata":{
    "datalore":{
     "node_id":"PyA1JF3hfFndfU796xgXgM",
     "type":"CODE",
     "hide_input_from_viewers":false,
     "hide_output_from_viewers":false,
     "report_properties":{
      "rowId":"1f2NHMHrn5T5lqu1NNRcaU"
     }
    }
   }
  },
  {
   "cell_type":"markdown",
   "source":[
    "Відстань, обчислена за цією формулою, буде тим меншою, чим більша схожість людей (що ближче точки). Нам же потрібна функція, значення якої буде, навпаки, велике, якщо люди схожі один на одного. Тобто схожість більша (від 0 до 1), якщо точки ближче один до одного\n",
    "\n",
    "\n",
    "Для цього будемо використовувати функцію \"схожості\" у такому вигляді:\n",
    "\\begin{equation}\n",
    "\\text{similarity }(x, y) = \\dfrac{1}{1 + d(x, y)},\n",
    "\\end{equation}"
   ],
   "attachments":{
    
   },
   "metadata":{
    "datalore":{
     "node_id":"oR2vN74Q4OEdNkeBHmCgaQ",
     "type":"MD",
     "hide_input_from_viewers":false,
     "hide_output_from_viewers":false,
     "report_properties":{
      "rowId":"bFj5pp1tu4txwyAw5d56EV"
     }
    }
   }
  },
  {
   "cell_type":"code",
   "source":[
    
   ],
   "execution_count":null,
   "outputs":[
    
   ],
   "metadata":{
    "datalore":{
     "node_id":"RbL8ofv2UgGKSFuTS1SiKg",
     "type":"CODE",
     "hide_input_from_viewers":false,
     "hide_output_from_viewers":false,
     "report_properties":{
      "rowId":"mtqQ4XIqAipu2E1qwxCCO3"
     }
    }
   }
  },
  {
   "cell_type":"markdown",
   "source":[
    "Інший спосіб визначати ступінь схожості – використовувати коефіцієнт кореляції **Пірсона**. Цей коефіцієнт показує, наскільки два набори даних добре лягають на пряму.\n",
    "\n",
    "\\begin{equation}\n",
    "    \\text{corr}(x, y) = \\dfrac{\\sum_{i = 1}^n (x_i - \\overline x) (y_i - \\overline y)}{\\sqrt{\\sum_{i = 1}^n (x_i - \\overline x)^2 \\sum_{i = 1}^n (y_i - \\overline y)^2}}\n",
    "\\end{equation}"
   ],
   "attachments":{
    
   },
   "metadata":{
    "datalore":{
     "node_id":"0deZWO2jGqWgqCBgDOYcGs",
     "type":"MD",
     "hide_input_from_viewers":false,
     "hide_output_from_viewers":false,
     "report_properties":{
      "rowId":"qjLwZOCWL3rivZu1O3yrau"
     }
    }
   }
  },
  {
   "cell_type":"markdown",
   "source":[
    "Коефіцієнт кореляції рангу **Спірмена** — непараметрична міра статистичної залежності між двома змінними; названий на честь Чарльза Спірмена. Він оцінює наскільки добре можна описати відношення між двома змінними за допомогою монотонної функції. \n",
    "\n",
    "Якщо немає повторних значень даних, то коефіцієнт Спірмена дорівнює 1 або −1, це відбувається коли кожна змінна є монотонною функцією від іншої змінної. Коефіцієнт кореляції, як і будь-яке обчислення кореляції, підходить для безперервних та дискретних змінних, у тому числі порядкових."
   ],
   "attachments":{
    
   },
   "metadata":{
    "datalore":{
     "node_id":"B9EbK6dW79fMRuWo1uVMSo",
     "type":"MD",
     "hide_input_from_viewers":false,
     "hide_output_from_viewers":false,
     "report_properties":{
      "rowId":"5nO7wJ0eNYiDReAuz8bePM"
     }
    }
   }
  },
  {
   "cell_type":"code",
   "source":[
    "from scipy.stats import pearsonr, spearmanr\n",
    "def score_2(critics, p1, p2):\n",
    "    \"\"\"Подібність на основі кореляції\"\"\"\n",
    "    \n",
    "    films = similar_films(critics, p1, p2)\n",
    "    \n",
    "    if len(films) == 0:\n",
    "        return 0\n",
    "    l1, l2, = [], []\n",
    "    for film in films:\n",
    "        l1.append(critics[p1][film])\n",
    "        l2.append(critics[p2][film])\n",
    "    \n",
    "    pearsonr(l1, l2)\n",
    "    \n",
    "#     print(pearsonr(l1, l2)[0])\n",
    "#     print(spearmanr(l1, l2)[0])\n",
    "    \n",
    "    return pearsonr(l1, l2)[0]\n",
    "        \n",
    "score_2(critics, 'Ігор Петренко', 'Міша Майдан')    \n",
    "        "
   ],
   "execution_count":null,
   "outputs":[
    {
     "data":{
      "text\/plain":[
       "0.20459830184114208"
      ]
     },
     "metadata":{
      
     },
     "output_type":"display_data"
    }
   ],
   "metadata":{
    "datalore":{
     "node_id":"A5khJl0o3zpPAKiRL2s3xl",
     "type":"CODE",
     "hide_input_from_viewers":false,
     "hide_output_from_viewers":false,
     "report_properties":{
      "rowId":"TS2fEoHtQDNWPFfw2cnJef"
     }
    }
   }
  },
  {
   "cell_type":"code",
   "source":[
    "def similar_people(critics, p1):\n",
    "    \"\"\"Список людей із схожими смаками (score)\"\"\"\n",
    "    d = []\n",
    "    for person in critics:\n",
    "        d.append((person,  round(score_2(critics, p1, person), 2) ))\n",
    "        \n",
    "    print(sorted(d, key=lambda x: x[1]))\n",
    "    \n",
    "similar_people(critics, 'Ігор Петренко')  "
   ],
   "execution_count":null,
   "outputs":[
    {
     "name":"stdout",
     "text":[
      "[('Міша Майдан', 0.2), ('Клавдія Мороз', 0.31), ('Сергій Вацак', 0.38), ('Ліза Іванова', 0.4), ('Аня Товкач', 0.41), ('Матвій Чорний', 0.96), ('Ігор Петренко', 1.0)]\n"
     ],
     "output_type":"stream"
    }
   ],
   "metadata":{
    "datalore":{
     "node_id":"GnnRT7pVMniLzmPMkRpKCh",
     "type":"CODE",
     "hide_input_from_viewers":false,
     "hide_output_from_viewers":false,
     "report_properties":{
      "rowId":"cKFMQYwB7tBXxFtlq1yCig"
     }
    }
   }
  },
  {
   "cell_type":"markdown",
   "source":[
    "Для рекомендаційних бібліотек є готові рішення. Наприклад: https:\/\/surprise.readthedocs.io\/en\/stable\/"
   ],
   "attachments":{
    
   },
   "metadata":{
    "datalore":{
     "node_id":"J6mxP2SmcbhupiJkzjDP0q",
     "type":"MD",
     "hide_input_from_viewers":false,
     "hide_output_from_viewers":false,
     "report_properties":{
      "rowId":"AlSWOUbdMCqlhXqAj5Snds"
     }
    }
   }
  },
  {
   "cell_type":"markdown",
   "source":[
    "# Апроксимація функцій"
   ],
   "attachments":{
    
   },
   "metadata":{
    "datalore":{
     "node_id":"BPzYRKZNsSMo6saE94VZFj",
     "type":"MD",
     "hide_input_from_viewers":false,
     "hide_output_from_viewers":false,
     "report_properties":{
      "rowId":"dHBsgy4zrG8WyOOqZj6UFc"
     }
    }
   }
  },
  {
   "cell_type":"markdown",
   "source":[
    "https:\/\/machinelearningmastery.com\/curve-fitting-with-python\/"
   ],
   "attachments":{
    
   },
   "metadata":{
    "datalore":{
     "node_id":"8YinnLyr0Cplv5EeweJYei",
     "type":"MD",
     "hide_input_from_viewers":false,
     "hide_output_from_viewers":false,
     "report_properties":{
      "rowId":"MLu5mn1IE3HmTyiQxaCl2a"
     }
    }
   }
  },
  {
   "cell_type":"markdown",
   "source":[
    "https:\/\/personal.math.ubc.ca\/~pwalls\/math-python\/linear-algebra\/linear-algebra-scipy\/"
   ],
   "attachments":{
    
   },
   "metadata":{
    "datalore":{
     "node_id":"RgtSuUWFXbtjiAo3ktq9Ze",
     "type":"MD",
     "hide_input_from_viewers":false,
     "hide_output_from_viewers":false,
     "report_properties":{
      "rowId":"WmHXglzXJTxm20615El4ad"
     }
    }
   }
  },
  {
   "cell_type":"markdown",
   "source":[
    "Розглянемо складну математичну функцію на відрізку\n",
    "\n",
    "f(x) = sin(x \/ 5) exp(x \/ 10) + 5 exp(-x \/ 2)"
   ],
   "attachments":{
    
   },
   "metadata":{
    "datalore":{
     "node_id":"8jpchVhDc3pXckzURSVY83",
     "type":"MD",
     "hide_input_from_viewers":false,
     "hide_output_from_viewers":false,
     "report_properties":{
      "rowId":"5hzQfCNaGpcmp0k8H5ymsI"
     }
    }
   }
  },
  {
   "cell_type":"markdown",
   "source":[
    "Вона може описувати, наприклад, залежність оцінок, які виставляють певному ґатунку вина експерти, залежно від віку цього вина. По суті завдання машинного навчання полягає в тому, щоб наблизити складну залежність за допомогою функції. Як варіант, можна наблизити цю функцію за допомогою многочленів"
   ],
   "attachments":{
    
   },
   "metadata":{
    "datalore":{
     "node_id":"My9NyTZLBVb8BjH1Ke8o94",
     "type":"MD",
     "hide_input_from_viewers":false,
     "hide_output_from_viewers":false,
     "report_properties":{
      "rowId":"xYW1oYFbjc4Pa9f6NfsrSe"
     }
    }
   }
  },
  {
   "cell_type":"code",
   "source":[
    "%matplotlib inline\n",
    "import math\n",
    "import scipy\n",
    "import numpy as np\n",
    "from matplotlib import pyplot as plt\n",
    "\n",
    "def f(x):\n",
    "    return math.sin(x\/5.)*math.exp(x\/10.) + 5*math.exp(-x\/2.) "
   ],
   "execution_count":null,
   "outputs":[
    
   ],
   "metadata":{
    "datalore":{
     "node_id":"fMjOvNjpZMkr5kI90Vsikg",
     "type":"CODE",
     "hide_input_from_viewers":false,
     "hide_output_from_viewers":false,
     "report_properties":{
      "rowId":"9RlnUWjxn7aHSTWG0SeCKt"
     }
    }
   }
  },
  {
   "cell_type":"code",
   "source":[
    "x = np.arange(1, 16, 0.1)\n",
    "y = list(map(f, x))"
   ],
   "execution_count":null,
   "outputs":[
    
   ],
   "metadata":{
    "datalore":{
     "node_id":"ZZ0ri9bnyjH1IumferKrI7",
     "type":"CODE",
     "hide_input_from_viewers":false,
     "hide_output_from_viewers":false,
     "report_properties":{
      "rowId":"v2kb6z5DvV1HcVVtiT6V8f"
     }
    }
   }
  },
  {
   "cell_type":"code",
   "source":[
    "plt.plot(x, y)"
   ],
   "execution_count":null,
   "outputs":[
    {
     "name":"stdout",
     "text":[
      "\n"
     ],
     "output_type":"stream"
    },
    {
     "name":"stderr",
     "text":[
      "\n"
     ],
     "output_type":"stream"
    },
    {
     "data":{
      "text\/plain":[
       "[<matplotlib.lines.Line2D at 0x23252aae988>]"
      ]
     },
     "metadata":{
      
     },
     "output_type":"display_data"
    },
    {
     "data":{
      "image\/png":"[encoded data removed]"
     },
     "metadata":{
      "image\/png":{
       
      }
     },
     "output_type":"display_data"
    },
    {
     "data":{
      "text\/plain":[
       "<Figure size 432x288 with 1 Axes>"
      ]
     },
     "metadata":{
      
     },
     "output_type":"display_data"
    }
   ],
   "metadata":{
    "datalore":{
     "node_id":"UaSB7Ly84Hgz47bjieI6wz",
     "type":"CODE",
     "hide_input_from_viewers":false,
     "hide_output_from_viewers":false,
     "report_properties":{
      "rowId":"ghyl3qnBxqerAJi3OZ1uEN"
     }
    }
   }
  },
  {
   "cell_type":"code",
   "source":[
    "x_points = [2, 4, 8, 10,  16]\n",
    "\n",
    "def get_matrixe(x_points):\n",
    "    \"\"\"Матриця з многочленів степеня len(x_points)\"\"\"\n",
    "    matrixe = []\n",
    "    \n",
    "    for x in x_points:\n",
    "        row = []\n",
    "        for i in range(len(x_points)):\n",
    "            row.append(x**i)\n",
    "            \n",
    "    return matrixe\n",
    "\n",
    "A = get_matrix(x_points)\n",
    "A"
   ],
   "execution_count":null,
   "outputs":[
    {
     "data":{
      "text\/plain":[
       "array([[    1,     2,     4,     8,    16],\n",
       "       [    1,     4,    16,    64,   256],\n",
       "       [    1,     8,    64,   512,  4096],\n",
       "       [    1,    10,   100,  1000, 10000],\n",
       "       [    1,    16,   256,  4096, 65536]])"
      ]
     },
     "metadata":{
      
     },
     "output_type":"display_data"
    }
   ],
   "metadata":{
    "datalore":{
     "node_id":"9MATYpQ5aRA8OOGWR3sqfT",
     "type":"CODE",
     "hide_input_from_viewers":false,
     "hide_output_from_viewers":false,
     "report_properties":{
      "rowId":"6pDuTdYmJjuIHnMZhjtX0U"
     }
    }
   }
  },
  {
   "cell_type":"code",
   "source":[
    "A"
   ],
   "execution_count":null,
   "outputs":[
    {
     "data":{
      "text\/plain":[
       "array([[  1,   2,   4],\n",
       "       [  1,   8,  64],\n",
       "       [  1,  16, 256]])"
      ]
     },
     "metadata":{
      
     },
     "output_type":"display_data"
    }
   ],
   "metadata":{
    "datalore":{
     "node_id":"PQS29TNxEJTsMMDz3KLzdE",
     "type":"CODE",
     "hide_input_from_viewers":false,
     "hide_output_from_viewers":false,
     "report_properties":{
      "rowId":"LdDefgmWGMCeHZqICrKWZt"
     }
    }
   }
  },
  {
   "cell_type":"code",
   "source":[
    "y_points = list(map(f, x_points))\n",
    "y_points"
   ],
   "execution_count":null,
   "outputs":[
    {
     "data":{
      "text\/plain":[
       "[2.3150338432311584,\n",
       " 1.7468459495903677,\n",
       " 2.316170159053224,\n",
       " 2.5054164070002463,\n",
       " -0.28745171200358255]"
      ]
     },
     "metadata":{
      
     },
     "output_type":"display_data"
    }
   ],
   "metadata":{
    "datalore":{
     "node_id":"zNZ9ZM5wgopuS6BrUfX3Co",
     "type":"CODE",
     "hide_input_from_viewers":false,
     "hide_output_from_viewers":false,
     "report_properties":{
      "rowId":"X6D5h3PtaVtCBbBYN155Cx"
     }
    }
   }
  },
  {
   "cell_type":"code",
   "source":[
    "w = np.linalg.solve(A, y_points)\n",
    "w"
   ],
   "execution_count":null,
   "outputs":[
    {
     "data":{
      "text\/plain":[
       "array([ 4.29909673e+00, -1.47342684e+00,  2.75243499e-01, -1.79451851e-02,\n",
       "        3.36142323e-04])"
      ]
     },
     "metadata":{
      
     },
     "output_type":"display_data"
    }
   ],
   "metadata":{
    "datalore":{
     "node_id":"PVvOLLgtmbgOWAvjH1ijBu",
     "type":"CODE",
     "hide_input_from_viewers":false,
     "hide_output_from_viewers":false,
     "report_properties":{
      "rowId":"LudG7ZTVbzRcxnp6mWEuRM"
     }
    }
   }
  },
  {
   "cell_type":"code",
   "source":[
    "def get_app(w, x_points):\n",
    "    y = []\n",
    "    \n",
    "    for x in x_points:\n",
    "        y_row = 0\n",
    "        \n",
    "        for j in range(len(w)):\n",
    "            y_row += w[j] * (x**j)\n",
    "        y.append(y_row)\n",
    "        \n",
    "    return y\n",
    "\n",
    "\n",
    "y_app = get_app(w, x)"
   ],
   "execution_count":null,
   "outputs":[
    
   ],
   "metadata":{
    "datalore":{
     "node_id":"X0pGHxJvTNf1nPkZuPoWiT",
     "type":"CODE",
     "hide_input_from_viewers":false,
     "hide_output_from_viewers":false,
     "report_properties":{
      "rowId":"iI6kvnx56TNhv4BFlw2HYG"
     }
    }
   }
  },
  {
   "cell_type":"code",
   "source":[
    "fig, ax = plt.subplots()\n",
    "\n",
    "ax.plot(x, y)\n",
    "ax.plot(x, y_app)"
   ],
   "execution_count":null,
   "outputs":[
    {
     "name":"stdout",
     "text":[
      "\n"
     ],
     "output_type":"stream"
    },
    {
     "name":"stderr",
     "text":[
      "\n"
     ],
     "output_type":"stream"
    },
    {
     "data":{
      "text\/plain":[
       "[<matplotlib.lines.Line2D at 0x2325075be08>]"
      ]
     },
     "metadata":{
      
     },
     "output_type":"display_data"
    },
    {
     "data":{
      "image\/png":"[encoded data removed]"
     },
     "metadata":{
      "image\/png":{
       
      }
     },
     "output_type":"display_data"
    },
    {
     "data":{
      "text\/plain":[
       "<Figure size 432x288 with 1 Axes>"
      ]
     },
     "metadata":{
      
     },
     "output_type":"display_data"
    }
   ],
   "metadata":{
    "datalore":{
     "node_id":"hwpKnShktwxyExpCB3CvDk",
     "type":"CODE",
     "hide_input_from_viewers":false,
     "hide_output_from_viewers":false,
     "report_properties":{
      "rowId":"NUyefL15cu4epOaO3K67qh"
     }
    }
   }
  },
  {
   "cell_type":"code",
   "source":[
    
   ],
   "execution_count":null,
   "outputs":[
    
   ],
   "metadata":{
    "datalore":{
     "node_id":"FfBK1gq5xyZtWvQoNDmdbQ",
     "type":"CODE",
     "hide_input_from_viewers":false,
     "hide_output_from_viewers":false,
     "report_properties":{
      "rowId":"ZLUkQU3tzvO3spDAxPZijA"
     }
    }
   }
  }
 ],
 "metadata":{
  "kernelspec":{
   "display_name":"Python",
   "language":"python",
   "name":"python"
  },
  "datalore":{
   "computation_mode":"JUPYTER",
   "package_manager":"pip",
   "base_environment":"default",
   "packages":[
    
   ],
   "report_row_ids":[
    "s93oYqBqvZ2pv5io0YocL6",
    "5tJjQUFeYYfGXvuDBWGY22",
    "mc9XYoBBJ2rfN6n3XJoTD8",
    "ZRnECtSRksCaRf62GQ4ZQE",
    "c4fu054Y30niDFchhEA6lP",
    "b6KgHJjXjXjm4SoaGmHbag",
    "wngDQyeiu2cLQ2ScoYhbW0",
    "MIhcevz6iqEM1wHuDbDgV2",
    "wWJT7lWg6UrJaRt90xBoxn",
    "46PHTKyJCB3dtgn5esFSs4",
    "1f2NHMHrn5T5lqu1NNRcaU",
    "bFj5pp1tu4txwyAw5d56EV",
    "mtqQ4XIqAipu2E1qwxCCO3",
    "qjLwZOCWL3rivZu1O3yrau",
    "5nO7wJ0eNYiDReAuz8bePM",
    "TS2fEoHtQDNWPFfw2cnJef",
    "cKFMQYwB7tBXxFtlq1yCig",
    "AlSWOUbdMCqlhXqAj5Snds",
    "dHBsgy4zrG8WyOOqZj6UFc",
    "MLu5mn1IE3HmTyiQxaCl2a",
    "WmHXglzXJTxm20615El4ad",
    "5hzQfCNaGpcmp0k8H5ymsI",
    "xYW1oYFbjc4Pa9f6NfsrSe",
    "9RlnUWjxn7aHSTWG0SeCKt",
    "v2kb6z5DvV1HcVVtiT6V8f",
    "ghyl3qnBxqerAJi3OZ1uEN",
    "6pDuTdYmJjuIHnMZhjtX0U",
    "LdDefgmWGMCeHZqICrKWZt",
    "X6D5h3PtaVtCBbBYN155Cx",
    "LudG7ZTVbzRcxnp6mWEuRM",
    "iI6kvnx56TNhv4BFlw2HYG",
    "NUyefL15cu4epOaO3K67qh",
    "ZLUkQU3tzvO3spDAxPZijA"
   ],
   "version":2
  }
 },
 "nbformat":4,
 "nbformat_minor":4
}