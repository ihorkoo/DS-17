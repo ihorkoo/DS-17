{
 "cells": [
  {
   "cell_type": "code",
   "execution_count": 1,
   "id": "406bcbcb",
   "metadata": {},
   "outputs": [
    {
     "data": {
      "text/plain": [
       "['Anton', 'Nadi', 'Marina', 'Zoom user']"
      ]
     },
     "execution_count": 1,
     "metadata": {},
     "output_type": "execute_result"
    }
   ],
   "source": [
    "students = ['anton', 'Nadi', 'marina', 'Zoom user']\n",
    "students2 = []\n",
    "\n",
    "for student in students:\n",
    "    students2.append(student.capitalize())\n",
    "\n",
    "students2"
   ]
  },
  {
   "cell_type": "code",
   "execution_count": 2,
   "id": "f6c0ba2b",
   "metadata": {},
   "outputs": [
    {
     "data": {
      "text/plain": [
       "['anton', 'Nadi', 'marina', 'Zoom user']"
      ]
     },
     "execution_count": 2,
     "metadata": {},
     "output_type": "execute_result"
    }
   ],
   "source": [
    "students"
   ]
  },
  {
   "cell_type": "code",
   "execution_count": 4,
   "id": "f9fe32c9",
   "metadata": {},
   "outputs": [
    {
     "data": {
      "text/plain": [
       "['Anton', 'Nadi', 'marina', 'Zoom user']"
      ]
     },
     "execution_count": 4,
     "metadata": {},
     "output_type": "execute_result"
    }
   ],
   "source": [
    "students[0] = students[0].capitalize()\n",
    "students"
   ]
  },
  {
   "cell_type": "code",
   "execution_count": 8,
   "id": "6350c178",
   "metadata": {},
   "outputs": [
    {
     "data": {
      "text/plain": [
       "['Anton', 'Nadi', 'Marina', 'Zoom user']"
      ]
     },
     "execution_count": 8,
     "metadata": {},
     "output_type": "execute_result"
    }
   ],
   "source": [
    "for i in range(len(students)):\n",
    "    students[i] = students[i].capitalize()\n",
    "students"
   ]
  },
  {
   "cell_type": "code",
   "execution_count": 9,
   "id": "72926e1a",
   "metadata": {},
   "outputs": [
    {
     "name": "stdout",
     "output_type": "stream",
     "text": [
      "anton\n",
      "Nadi\n",
      "marina\n",
      "Zoom user\n"
     ]
    }
   ],
   "source": [
    "students = ['anton', 'Nadi', 'marina', 'Zoom user']\n",
    "\n",
    "for student in students:\n",
    "    print(student)"
   ]
  },
  {
   "cell_type": "markdown",
   "id": "1403fc7f",
   "metadata": {},
   "source": [
    "На карантині я розпочав бігові тренування. В перший день пробіг 500 метрів.\n",
    "    Кожний наступний день дистанцію збільшую на 10%. Відомо, що карантин триває 30 днів.\n",
    "    \n",
    "        - Яку дистанцію я пробіжу в останній день карантину?\n",
    "        \n",
    "        - Скільки днів потрібно бігати, щоб сумарна дистанція за всі дні \n",
    "            перевищила довжину марафону (42 км)?"
   ]
  },
  {
   "cell_type": "code",
   "execution_count": 12,
   "id": "f5b5ae96",
   "metadata": {},
   "outputs": [
    {
     "name": "stdout",
     "output_type": "stream",
     "text": [
      "День 1, відстань 500\n",
      "День 2, відстань 550\n",
      "День 3, відстань 605\n",
      "День 4, відстань 666\n",
      "День 5, відстань 732\n",
      "День 6, відстань 805\n",
      "День 7, відстань 886\n",
      "День 8, відстань 974\n",
      "День 9, відстань 1072\n",
      "День 10, відстань 1179\n",
      "День 11, відстань 1297\n",
      "День 12, відстань 1427\n",
      "День 13, відстань 1569\n",
      "День 14, відстань 1726\n",
      "День 15, відстань 1899\n",
      "День 16, відстань 2089\n",
      "День 17, відстань 2297\n",
      "День 18, відстань 2527\n",
      "День 19, відстань 2780\n",
      "День 20, відстань 3058\n",
      "День 21, відстань 3364\n",
      "День 22, відстань 3700\n",
      "День 23, відстань 4070\n",
      "День 24, відстань 4477\n",
      "День 25, відстань 4925\n",
      "День 26, відстань 5417\n",
      "День 27, відстань 5959\n",
      "День 28, відстань 6555\n",
      "День 29, відстань 7210\n",
      "День 30, відстань 7932\n"
     ]
    }
   ],
   "source": [
    "l = 500 \n",
    "qtyDays = 30 \n",
    "\n",
    "for i in range(1, qtyDays+1):\n",
    "    print(f'День {i}, відстань {round(l)}')\n",
    "    l = l*1.1"
   ]
  },
  {
   "cell_type": "code",
   "execution_count": 14,
   "id": "04890291",
   "metadata": {},
   "outputs": [],
   "source": [
    "# dist = 500\n",
    "# day = 1\n",
    "\n",
    "# while dist < 42000:\n",
    "#     print(f'День {day}, відстань {round(dist)}')\n",
    "#     #print(day, dist)\n",
    "#     dist = dist * 1.1\n",
    "#     day += 1\n",
    "\n",
    "# day"
   ]
  },
  {
   "cell_type": "code",
   "execution_count": 15,
   "id": "daadebe4",
   "metadata": {},
   "outputs": [
    {
     "name": "stdout",
     "output_type": "stream",
     "text": [
      "День 1, відстань 500\n",
      "День 2, відстань 550\n",
      "День 3, відстань 605\n",
      "День 4, відстань 666\n",
      "День 5, відстань 732\n",
      "День 6, відстань 805\n",
      "День 7, відстань 886\n",
      "День 8, відстань 974\n",
      "День 9, відстань 1072\n",
      "День 10, відстань 1179\n",
      "День 11, відстань 1297\n",
      "День 12, відстань 1427\n",
      "День 13, відстань 1569\n",
      "День 14, відстань 1726\n",
      "День 15, відстань 1899\n",
      "День 16, відстань 2089\n",
      "День 17, відстань 2297\n",
      "День 18, відстань 2527\n",
      "День 19, відстань 2780\n",
      "День 20, відстань 3058\n",
      "День 21, відстань 3364\n",
      "День 22, відстань 3700\n",
      "День 23, відстань 4070\n",
      "День 24, відстань 4477\n",
      "День 25, відстань 4925\n",
      "День 26, відстань 5417\n",
      "День 27, відстань 5959\n",
      "День 28, відстань 6555\n",
      "День 29, відстань 7210\n",
      "День 30, відстань 7932\n"
     ]
    },
    {
     "data": {
      "text/plain": [
       "8724.70113444322"
      ]
     },
     "execution_count": 15,
     "metadata": {},
     "output_type": "execute_result"
    }
   ],
   "source": [
    "dist = 500\n",
    "day = 1\n",
    "\n",
    "while day <= 30:\n",
    "    print(f'День {day}, відстань {round(dist)}')\n",
    "    dist = dist * 1.1\n",
    "    day += 1\n",
    "\n",
    "dist"
   ]
  },
  {
   "cell_type": "code",
   "execution_count": 17,
   "id": "d6dc62dd",
   "metadata": {},
   "outputs": [
    {
     "data": {
      "text/plain": [
       "7931.546485857476"
      ]
     },
     "execution_count": 17,
     "metadata": {},
     "output_type": "execute_result"
    }
   ],
   "source": [
    "# A = A0(1 + %)**qtyDays\n",
    "l = 500 \n",
    "qtyDays = 30 \n",
    "\n",
    "distance = l*(1 + 0.1)**29\n",
    "distance"
   ]
  },
  {
   "cell_type": "code",
   "execution_count": 20,
   "id": "67245435",
   "metadata": {},
   "outputs": [
    {
     "data": {
      "text/plain": [
       "11"
      ]
     },
     "execution_count": 20,
     "metadata": {},
     "output_type": "execute_result"
    }
   ],
   "source": [
    "new_list = [0, 1, 2, 3, 6, 10, 11, -25]\n",
    "\n",
    "max(new_list)"
   ]
  },
  {
   "cell_type": "code",
   "execution_count": 19,
   "id": "c40213b9",
   "metadata": {},
   "outputs": [
    {
     "data": {
      "text/plain": [
       "11"
      ]
     },
     "execution_count": 19,
     "metadata": {},
     "output_type": "execute_result"
    }
   ],
   "source": [
    "max_number = new_list[0]\n",
    "\n",
    "for i in new_list:\n",
    "    if max_number < i:\n",
    "        max_number = i\n",
    "max_number"
   ]
  },
  {
   "cell_type": "code",
   "execution_count": 21,
   "id": "b1f96f95",
   "metadata": {},
   "outputs": [
    {
     "data": {
      "text/plain": [
       "8"
      ]
     },
     "execution_count": 21,
     "metadata": {},
     "output_type": "execute_result"
    }
   ],
   "source": [
    "new_list = [0, 1, 2, 3, 6, 10, 11, -25]\n",
    "\n",
    "sum(new_list)"
   ]
  },
  {
   "cell_type": "code",
   "execution_count": 23,
   "id": "94e2d57b",
   "metadata": {},
   "outputs": [
    {
     "data": {
      "text/plain": [
       "8"
      ]
     },
     "execution_count": 23,
     "metadata": {},
     "output_type": "execute_result"
    }
   ],
   "source": [
    "new_list = [0, 1, 2, 3, 6, 10, 11, -25]\n",
    "\n",
    "list_sum = 0\n",
    "\n",
    "for i in new_list:\n",
    "    #list_sum = list_sum + i\n",
    "    list_sum += i\n",
    "list_sum"
   ]
  },
  {
   "cell_type": "code",
   "execution_count": 24,
   "id": "8bd44584",
   "metadata": {},
   "outputs": [
    {
     "data": {
      "text/plain": [
       "-99000"
      ]
     },
     "execution_count": 24,
     "metadata": {},
     "output_type": "execute_result"
    }
   ],
   "source": [
    "new_list = [1, 2, 3, 6, 10, 11, -25]\n",
    "\n",
    "list_mult = 1\n",
    "\n",
    "for i in new_list:\n",
    "    #list_sum = list_sum + i\n",
    "    list_mult *= i\n",
    "list_mult"
   ]
  },
  {
   "cell_type": "code",
   "execution_count": 29,
   "id": "a0355108",
   "metadata": {},
   "outputs": [
    {
     "name": "stdout",
     "output_type": "stream",
     "text": [
      "Хто перетинає кордон: Ihor\n",
      "Хто перетинає кордон: Oleg\n",
      "Хто перетинає кордон: Ihor\n",
      "Хто перетинає кордон: Oleg\n",
      "Хто перетинає кордон: END\n",
      "{'Ihor': 2, 'Oleg': 2}\n"
     ]
    }
   ],
   "source": [
    "DB = {}\n",
    "\n",
    "while True:\n",
    "    input_info = input('Хто перетинає кордон: ')\n",
    "    \n",
    "    if input_info == 'END':\n",
    "        break\n",
    "    \n",
    "    if input_info in DB:\n",
    "        DB[input_info] += 1\n",
    "    else:\n",
    "        DB[input_info] = 1\n",
    "    #DB[input_info] = DB.get(input_info, 0) + 1\n",
    "\n",
    "print(DB) \n",
    "        \n",
    "    \n",
    "    "
   ]
  },
  {
   "cell_type": "code",
   "execution_count": 33,
   "id": "696d8abd",
   "metadata": {},
   "outputs": [
    {
     "name": "stdout",
     "output_type": "stream",
     "text": [
      "0\n",
      "1\n",
      "2\n",
      "3\n",
      "4\n",
      "5\n"
     ]
    }
   ],
   "source": [
    "for i in range(10):\n",
    "    if i > 5:\n",
    "        continue \n",
    "    print(i)\n"
   ]
  },
  {
   "cell_type": "code",
   "execution_count": null,
   "id": "a36e086d",
   "metadata": {},
   "outputs": [],
   "source": []
  }
 ],
 "metadata": {
  "kernelspec": {
   "display_name": "Python 3 (ipykernel)",
   "language": "python",
   "name": "python3"
  },
  "language_info": {
   "codemirror_mode": {
    "name": "ipython",
    "version": 3
   },
   "file_extension": ".py",
   "mimetype": "text/x-python",
   "name": "python",
   "nbconvert_exporter": "python",
   "pygments_lexer": "ipython3",
   "version": "3.10.2"
  }
 },
 "nbformat": 4,
 "nbformat_minor": 5
}
