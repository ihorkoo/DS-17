{
 "cells":[
  {
   "cell_type":"code",
   "source":[
    "\"\"\"\n",
    "Завдання 1\n",
    "    Задано деякі числа A та B (int):\n",
    "        - Перевірити умову: \"Число A є додатнє\"\n",
    "        - Перевірити умову: \"Число A парне\"\n",
    "        - Перевірити умову: \"Число A кратне 13\"\n",
    "        - Перевірити умову: \"Кожне із чисел A та B - парне\"\n",
    "        - Перевірити умову: \"Кожне із чисел A та B мають однакову парність \"\n",
    "\"\"\""
   ],
   "execution_count":23,
   "outputs":[
    {
     "data":{
      "text\/plain":[
       "'\\nЗавдання 1\\n    Задано деякі числа A та B (int):\\n        - Перевірити умову: \"Число A є додатнє\"\\n        - Перевірити умову: \"Число A парне\"\\n        - Перевірити умову: \"Число A кратне 13\"\\n        - Перевірити умову: \"Кожне із чисел A та B - парне\"\\n        - Перевірити умову: \"Кожне із чисел A та B мають однакову парність \"\\n'"
      ]
     },
     "metadata":{
      
     },
     "output_type":"display_data"
    }
   ],
   "metadata":{
    "datalore":{
     "node_id":"m3ihR2nVJm10ZEyni10UHS",
     "type":"CODE",
     "hide_input_from_viewers":false,
     "hide_output_from_viewers":false
    }
   }
  },
  {
   "cell_type":"code",
   "source":[
    "A = 10\n",
    "B = 18\n",
    "\n",
    "print(A%2==0)"
   ],
   "execution_count":30,
   "outputs":[
    {
     "name":"stdout",
     "text":[
      "True\n"
     ],
     "output_type":"stream"
    }
   ],
   "metadata":{
    "datalore":{
     "node_id":"sUpcKQI8fMDP2uJKqrwbOZ",
     "type":"CODE",
     "hide_input_from_viewers":false,
     "hide_output_from_viewers":false
    }
   }
  },
  {
   "cell_type":"code",
   "source":[
    "(A % 2 == 0) and (B % 2 == 0)"
   ],
   "execution_count":31,
   "outputs":[
    {
     "data":{
      "text\/plain":[
       "True"
      ]
     },
     "metadata":{
      
     },
     "output_type":"display_data"
    }
   ],
   "metadata":{
    "datalore":{
     "node_id":"jTbcXBBAdLhewejz2xGsGl",
     "type":"CODE",
     "hide_input_from_viewers":false,
     "hide_output_from_viewers":false
    }
   }
  },
  {
   "cell_type":"code",
   "source":[
    "a = \"\"\"My name is \n",
    "Ihor\"\"\"\n",
    "print(1, 2, end='!!!')"
   ],
   "execution_count":16,
   "outputs":[
    {
     "name":"stdout",
     "text":[
      "1 2!!!"
     ],
     "output_type":"stream"
    }
   ],
   "metadata":{
    "datalore":{
     "node_id":"pl7BENh60y7xMOFNyDDilm",
     "type":"CODE",
     "hide_input_from_viewers":false,
     "hide_output_from_viewers":false
    }
   }
  },
  {
   "cell_type":"code",
   "source":[
    "name = 'Ihor'\n",
    "a = f\"\"\"My name is {1 + 2}\"\"\"\n",
    "a"
   ],
   "execution_count":18,
   "outputs":[
    {
     "data":{
      "text\/plain":[
       "'My name is 3'"
      ]
     },
     "metadata":{
      
     },
     "output_type":"display_data"
    }
   ],
   "metadata":{
    "datalore":{
     "node_id":"CyFoqolRdiyNAVZLbZlfu8",
     "type":"CODE",
     "hide_input_from_viewers":false,
     "hide_output_from_viewers":false
    }
   }
  },
  {
   "cell_type":"code",
   "source":[
    "a = r\"bla bla bla \\n la la la\"\n",
    "print(a)"
   ],
   "execution_count":22,
   "outputs":[
    {
     "name":"stdout",
     "text":[
      "bla bla bla \\n la la la\n"
     ],
     "output_type":"stream"
    }
   ],
   "metadata":{
    "datalore":{
     "node_id":"AqBBRghauC6BXsN2nYESco",
     "type":"CODE",
     "hide_input_from_viewers":false,
     "hide_output_from_viewers":false
    }
   }
  },
  {
   "cell_type":"markdown",
   "source":[
    " Задано деякий пароль Pass (str). Перевірити чи пароль \"сильний\" \n",
    "    (пароль будемо вважати \"сильним\", якщо він складається з 8 символів (або більше) та містить символ @ або # )\n",
    "    Програма повертає True або False"
   ],
   "attachments":{
    
   },
   "metadata":{
    "datalore":{
     "node_id":"A12MdgZxeYO8m5FyJ5TBGp",
     "type":"MD",
     "hide_input_from_viewers":false,
     "hide_output_from_viewers":false
    }
   }
  },
  {
   "cell_type":"code",
   "source":[
    "_pass = 'qwerty123'\n",
    "\n",
    "if len(_pass) >= 8 and ('@' in _pass or '#' in _pass):\n",
    "    print('Сильний')\n",
    "else:\n",
    "    print('Слабкий')"
   ],
   "execution_count":34,
   "outputs":[
    {
     "name":"stdout",
     "text":[
      "Слабкий\n"
     ],
     "output_type":"stream"
    }
   ],
   "metadata":{
    "datalore":{
     "node_id":"Q6j1sU0wTxdy0ZWaiFkuga",
     "type":"CODE",
     "hide_input_from_viewers":false,
     "hide_output_from_viewers":false
    }
   }
  },
  {
   "cell_type":"markdown",
   "source":[
    "Дано два цілих числа. Якщо вони рівні, то присвоїти цим змінним нулі;\n",
    "    в іншому випадку  - кожній змінній присвоїти суму цих значень."
   ],
   "attachments":{
    
   },
   "metadata":{
    "datalore":{
     "node_id":"kHtBht6lLSDeJZQhVOmHWu",
     "type":"MD",
     "hide_input_from_viewers":false,
     "hide_output_from_viewers":false
    }
   }
  },
  {
   "cell_type":"code",
   "source":[
    "a = 10\n",
    "b = 12\n",
    "\n",
    "if a == b:\n",
    "    a = 0\n",
    "    b = 0\n",
    "    \n",
    "else:\n",
    "    a = a + b\n",
    "    b = a + b"
   ],
   "execution_count":35,
   "outputs":[
    {
     "data":{
      "text\/plain":[
       "(22, 34)"
      ]
     },
     "metadata":{
      
     },
     "output_type":"display_data"
    }
   ],
   "metadata":{
    "datalore":{
     "node_id":"FnFR72AMnz2DHk54YgoAu7",
     "type":"CODE",
     "hide_input_from_viewers":false,
     "hide_output_from_viewers":false
    }
   }
  },
  {
   "cell_type":"code",
   "source":[
    "a = 10\n",
    "b = 12\n",
    "\n",
    "if a == b:\n",
    "    a, b = 0, 0\n",
    "    \n",
    "else:\n",
    "    a, b = a+b, a+b\n",
    "\n",
    "a, b"
   ],
   "execution_count":36,
   "outputs":[
    {
     "data":{
      "text\/plain":[
       "(22, 22)"
      ]
     },
     "metadata":{
      
     },
     "output_type":"display_data"
    }
   ],
   "metadata":{
    "datalore":{
     "node_id":"6HahAe1tLtlmsEOdhun8hj",
     "type":"CODE",
     "hide_input_from_viewers":false,
     "hide_output_from_viewers":false
    }
   }
  },
  {
   "cell_type":"markdown",
   "source":[
    "Дано три цілих числа. Знайти суму двох найбільших із них."
   ],
   "attachments":{
    
   },
   "metadata":{
    "datalore":{
     "node_id":"sQOnwiAx8vrZ7lcRMDSshA",
     "type":"MD",
     "hide_input_from_viewers":false,
     "hide_output_from_viewers":false
    }
   }
  },
  {
   "cell_type":"code",
   "source":[
    "a, b, c = 10, 15, 35\n",
    "a + b + c - min(a, b, c)"
   ],
   "execution_count":46,
   "outputs":[
    {
     "data":{
      "text\/plain":[
       "50"
      ]
     },
     "metadata":{
      
     },
     "output_type":"display_data"
    }
   ],
   "metadata":{
    "datalore":{
     "node_id":"6Qq06pFW1ZmmlsMcYQH8kU",
     "type":"CODE",
     "hide_input_from_viewers":false,
     "hide_output_from_viewers":false
    }
   }
  },
  {
   "cell_type":"code",
   "source":[
    "a = 12\n",
    "b = 7\n",
    "c = 5\n",
    "\n",
    "ab = a + b\n",
    "bc = b + c\n",
    "ac = a + c\n",
    "\n",
    "max(ab, bc, ac)"
   ],
   "execution_count":37,
   "outputs":[
    {
     "data":{
      "text\/plain":[
       "19"
      ]
     },
     "metadata":{
      
     },
     "output_type":"display_data"
    }
   ],
   "metadata":{
    "datalore":{
     "node_id":"i2l7Gdfmvv0R1dlypLZXO3",
     "type":"CODE",
     "hide_input_from_viewers":false,
     "hide_output_from_viewers":false
    }
   }
  },
  {
   "cell_type":"code",
   "source":[
    "a = 10\n",
    "b = 4\n",
    "c = 6\n",
    "\n",
    "my_list = [a,b,c]\n",
    "sum(sorted(my_list)[1:3])"
   ],
   "execution_count":42,
   "outputs":[
    {
     "data":{
      "text\/plain":[
       "16"
      ]
     },
     "metadata":{
      
     },
     "output_type":"display_data"
    }
   ],
   "metadata":{
    "datalore":{
     "node_id":"LYmDa2u145DT44Y3q6bUbE",
     "type":"CODE",
     "hide_input_from_viewers":false,
     "hide_output_from_viewers":false
    }
   }
  },
  {
   "cell_type":"markdown",
   "source":[
    "Дана стрічка. Якщо в цій стрічці відсутня буква \"a\", вивести \"False\".\n",
    "    Якщо буква зустрічається один раз - вивести її індекс.\n",
    "    Якщо більше одного разу - вивести індекс першого та останнього входження."
   ],
   "attachments":{
    
   },
   "metadata":{
    "datalore":{
     "node_id":"4L1sL9zij8mGvWIpu2hEIG",
     "type":"MD",
     "hide_input_from_viewers":false,
     "hide_output_from_viewers":false
    }
   }
  },
  {
   "cell_type":"code",
   "source":[
    "my_string = 'sdfghajkl'\n",
    "what_find = 'a'\n",
    "\n",
    "if what_find in my_string: \n",
    "    if my_string.count(what_find) == 1:\n",
    "        print(my_string.find(what_find))\n",
    "        if True:\n",
    "            print('YYY') \n",
    "    else:\n",
    "        print(my_string.find(what_find))\n",
    "        print(my_string.rfind(what_find))\n",
    "else:\n",
    "    print(False)"
   ],
   "execution_count":55,
   "outputs":[
    {
     "name":"stdout",
     "text":[
      "5\n",
      "YYY\n"
     ],
     "output_type":"stream"
    }
   ],
   "metadata":{
    "datalore":{
     "node_id":"LpXtr8iTHkXexFiFskie24",
     "type":"CODE",
     "hide_input_from_viewers":false,
     "hide_output_from_viewers":false
    }
   }
  },
  {
   "cell_type":"markdown",
   "source":[
    "Дано одне число Price - ціна на 1 кг апельсин. \n",
    "    Вивести вартість 1, 2, ... , 10 кг апельсин.\n",
    "    (Спробуйте вирішити задачу двома способами: циклом FOR та циклом WHILE)"
   ],
   "attachments":{
    
   },
   "metadata":{
    "datalore":{
     "node_id":"leUzZuRTAIpDpuZaevAk61",
     "type":"MD",
     "hide_input_from_viewers":false,
     "hide_output_from_viewers":false
    }
   }
  },
  {
   "cell_type":"code",
   "source":[
    "price = 70\n",
    "\n",
    "for i in range(1, 11):\n",
    "    print(price*i)\n",
    "\n",
    "for i in [1, 2, 4]:\n",
    "    print(price*i)"
   ],
   "execution_count":64,
   "outputs":[
    {
     "name":"stdout",
     "text":[
      "70\n",
      "140\n",
      "210\n",
      "280\n",
      "350\n",
      "420\n",
      "490\n",
      "560\n",
      "630\n",
      "700\n",
      "70\n",
      "140\n",
      "280\n"
     ],
     "output_type":"stream"
    }
   ],
   "metadata":{
    "datalore":{
     "node_id":"r9QQeD0ermfuHo7wiSdoQu",
     "type":"CODE",
     "hide_input_from_viewers":false,
     "hide_output_from_viewers":false
    }
   }
  },
  {
   "cell_type":"code",
   "source":[
    "a = range(1, 11)"
   ],
   "execution_count":58,
   "outputs":[
    
   ],
   "metadata":{
    "datalore":{
     "node_id":"BA59DbIS0bgdxxX8Z9Y2jk",
     "type":"CODE",
     "hide_input_from_viewers":false,
     "hide_output_from_viewers":false
    }
   }
  },
  {
   "cell_type":"code",
   "source":[
    "list(a)"
   ],
   "execution_count":63,
   "outputs":[
    {
     "data":{
      "text\/plain":[
       "[1, 2, 3, 4, 5, 6, 7, 8, 9, 10]"
      ]
     },
     "metadata":{
      
     },
     "output_type":"display_data"
    }
   ],
   "metadata":{
    "datalore":{
     "node_id":"6ufIzjz9IWCTtDO1SBhc43",
     "type":"CODE",
     "hide_input_from_viewers":false,
     "hide_output_from_viewers":false
    }
   }
  },
  {
   "cell_type":"code",
   "source":[
    "for letter in 'abcd':\n",
    "    print(letter)"
   ],
   "execution_count":65,
   "outputs":[
    {
     "name":"stdout",
     "text":[
      "a\n",
      "b\n",
      "c\n",
      "d\n"
     ],
     "output_type":"stream"
    }
   ],
   "metadata":{
    "datalore":{
     "node_id":"wsWY63fuRfD9TFWUFuTe0u",
     "type":"CODE",
     "hide_input_from_viewers":false,
     "hide_output_from_viewers":false
    }
   }
  },
  {
   "cell_type":"code",
   "source":[
    "price = 70\n",
    "weight = 1\n",
    "\n",
    "while weight <= 10:\n",
    "    print(price*weight)\n",
    "    weight += 1"
   ],
   "execution_count":66,
   "outputs":[
    {
     "name":"stdout",
     "text":[
      "70\n",
      "140\n",
      "210\n",
      "280\n",
      "350\n",
      "420\n",
      "490\n",
      "560\n",
      "630\n",
      "700\n"
     ],
     "output_type":"stream"
    }
   ],
   "metadata":{
    "datalore":{
     "node_id":"BwstY0CTynNHIjIghJAau3",
     "type":"CODE",
     "hide_input_from_viewers":false,
     "hide_output_from_viewers":false
    }
   }
  },
  {
   "cell_type":"code",
   "source":[
    "students = ['anton', 'Nadi', 'marina', 'Zoom user']\n",
    "\n",
    "for student in students:\n",
    "    print(student)"
   ],
   "execution_count":69,
   "outputs":[
    {
     "name":"stdout",
     "text":[
      "anton\n",
      "Nadi\n",
      "marina\n",
      "Zoom user\n"
     ],
     "output_type":"stream"
    }
   ],
   "metadata":{
    "datalore":{
     "node_id":"08wv36P027C4zusDOwOCdS",
     "type":"CODE",
     "hide_input_from_viewers":false,
     "hide_output_from_viewers":false
    }
   }
  },
  {
   "cell_type":"code",
   "source":[
    "students2 = []\n",
    "for student in students:\n",
    "    #student = student.capitalize()\n",
    "    students2.append(student.capitalize())\n",
    "students2"
   ],
   "execution_count":79,
   "outputs":[
    {
     "data":{
      "text\/plain":[
       "['Anton',\n",
       " 'Nadi',\n",
       " 'Marina',\n",
       " 'Zoom user',\n",
       " 'Anton',\n",
       " 'Nadi',\n",
       " 'Marina',\n",
       " 'Zoom user',\n",
       " 'Anton',\n",
       " 'Nadi',\n",
       " 'Marina',\n",
       " 'Zoom user',\n",
       " 'Anton',\n",
       " 'Nadi',\n",
       " 'Marina',\n",
       " 'Zoom user',\n",
       " 'Anton',\n",
       " 'Nadi',\n",
       " 'Marina',\n",
       " 'Zoom user',\n",
       " 'Anton',\n",
       " 'Nadi',\n",
       " 'Marina',\n",
       " 'Zoom user',\n",
       " 'Anton',\n",
       " 'Nadi',\n",
       " 'Marina',\n",
       " 'Zoom user',\n",
       " 'Anton',\n",
       " 'Nadi',\n",
       " 'Marina',\n",
       " 'Zoom user',\n",
       " 'Anton',\n",
       " 'Nadi',\n",
       " 'Marina',\n",
       " 'Zoom user',\n",
       " 'Anton',\n",
       " 'Nadi',\n",
       " 'Marina',\n",
       " 'Zoom user',\n",
       " 'Anton',\n",
       " 'Nadi',\n",
       " 'Marina',\n",
       " 'Zoom user',\n",
       " 'Anton',\n",
       " 'Nadi',\n",
       " 'Marina',\n",
       " 'Zoom user',\n",
       " 'Anton',\n",
       " 'Nadi',\n",
       " 'Marina',\n",
       " 'Zoom user',\n",
       " 'Anton',\n",
       " 'Nadi',\n",
       " 'Marina',\n",
       " 'Zoom user',\n",
       " 'Anton',\n",
       " 'Nadi',\n",
       " 'Marina',\n",
       " 'Zoom user',\n",
       " 'Anton',\n",
       " 'Nadi',\n",
       " 'Marina',\n",
       " 'Zoom user',\n",
       " 'Anton',\n",
       " 'Nadi',\n",
       " 'Marina',\n",
       " 'Zoom user',\n",
       " 'Anton',\n",
       " 'Nadi',\n",
       " 'Marina',\n",
       " 'Zoom user',\n",
       " 'Anton',\n",
       " 'Nadi',\n",
       " 'Marina',\n",
       " 'Zoom user',\n",
       " 'Anton',\n",
       " 'Nadi',\n",
       " 'Marina',\n",
       " 'Zoom user',\n",
       " 'Anton',\n",
       " 'Nadi',\n",
       " 'Marina',\n",
       " 'Zoom user',\n",
       " 'Anton',\n",
       " 'Nadi',\n",
       " 'Marina',\n",
       " 'Zoom user',\n",
       " 'Anton',\n",
       " 'Nadi',\n",
       " 'Marina',\n",
       " 'Zoom user',\n",
       " 'Anton',\n",
       " 'Nadi',\n",
       " 'Marina',\n",
       " 'Zoom user',\n",
       " 'Anton',\n",
       " 'Nadi',\n",
       " 'Marina',\n",
       " 'Zoom user',\n",
       " 'Anton',\n",
       " 'Nadi',\n",
       " 'Marina',\n",
       " 'Zoom user',\n",
       " 'Anton',\n",
       " 'Nadi',\n",
       " 'Marina',\n",
       " 'Zoom user',\n",
       " 'Anton',\n",
       " 'Nadi',\n",
       " 'Marina',\n",
       " 'Zoom user',\n",
       " 'Anton',\n",
       " 'Nadi',\n",
       " 'Marina',\n",
       " 'Zoom user',\n",
       " 'Anton',\n",
       " 'Nadi',\n",
       " 'Marina',\n",
       " 'Zoom user',\n",
       " 'Anton',\n",
       " 'Nadi',\n",
       " 'Marina',\n",
       " 'Zoom user',\n",
       " 'Anton',\n",
       " 'Nadi',\n",
       " 'Marina',\n",
       " 'Zoom user',\n",
       " 'Anton',\n",
       " 'Nadi',\n",
       " 'Marina',\n",
       " 'Zoom user',\n",
       " 'Anton',\n",
       " 'Nadi',\n",
       " 'Marina',\n",
       " 'Zoom user',\n",
       " 'Anton',\n",
       " 'Nadi',\n",
       " 'Marina',\n",
       " 'Zoom user',\n",
       " 'Anton',\n",
       " 'Nadi',\n",
       " 'Marina',\n",
       " 'Zoom user',\n",
       " 'Anton',\n",
       " 'Nadi',\n",
       " 'Marina',\n",
       " 'Zoom user',\n",
       " 'Anton',\n",
       " 'Nadi',\n",
       " 'Marina',\n",
       " 'Zoom user',\n",
       " 'Anton',\n",
       " 'Nadi',\n",
       " 'Marina',\n",
       " 'Zoom user',\n",
       " 'Anton',\n",
       " 'Nadi',\n",
       " 'Marina',\n",
       " 'Zoom user',\n",
       " 'Anton',\n",
       " 'Nadi',\n",
       " 'Marina',\n",
       " 'Zoom user',\n",
       " 'Anton',\n",
       " 'Nadi',\n",
       " 'Marina',\n",
       " 'Zoom user',\n",
       " 'Anton',\n",
       " 'Nadi',\n",
       " 'Marina',\n",
       " 'Zoom user',\n",
       " 'Anton',\n",
       " 'Nadi',\n",
       " 'Marina',\n",
       " 'Zoom user',\n",
       " 'Anton',\n",
       " 'Nadi',\n",
       " 'Marina',\n",
       " 'Zoom user',\n",
       " 'Anton',\n",
       " 'Nadi',\n",
       " 'Marina',\n",
       " 'Zoom user',\n",
       " 'Anton',\n",
       " 'Nadi',\n",
       " 'Marina',\n",
       " 'Zoom user',\n",
       " 'Anton',\n",
       " 'Nadi',\n",
       " 'Marina',\n",
       " 'Zoom user',\n",
       " 'Anton',\n",
       " 'Nadi',\n",
       " 'Marina',\n",
       " 'Zoom user',\n",
       " 'Anton',\n",
       " 'Nadi',\n",
       " 'Marina',\n",
       " 'Zoom user',\n",
       " 'Anton',\n",
       " 'Nadi',\n",
       " 'Marina',\n",
       " 'Zoom user',\n",
       " 'Anton',\n",
       " 'Nadi',\n",
       " 'Marina',\n",
       " 'Zoom user',\n",
       " 'Anton',\n",
       " 'Nadi',\n",
       " 'Marina',\n",
       " 'Zoom user',\n",
       " 'Anton',\n",
       " 'Nadi',\n",
       " 'Marina',\n",
       " 'Zoom user',\n",
       " 'Anton',\n",
       " 'Nadi',\n",
       " 'Marina',\n",
       " 'Zoom user',\n",
       " 'Anton',\n",
       " 'Nadi',\n",
       " 'Marina',\n",
       " 'Zoom user',\n",
       " 'Anton',\n",
       " 'Nadi',\n",
       " 'Marina',\n",
       " 'Zoom user',\n",
       " 'Anton',\n",
       " 'Nadi',\n",
       " 'Marina',\n",
       " 'Zoom user',\n",
       " 'Anton',\n",
       " 'Nadi',\n",
       " 'Marina',\n",
       " 'Zoom user',\n",
       " 'Anton',\n",
       " 'Nadi',\n",
       " 'Marina',\n",
       " 'Zoom user',\n",
       " 'Anton',\n",
       " 'Nadi',\n",
       " 'Marina',\n",
       " 'Zoom user',\n",
       " 'Anton',\n",
       " 'Nadi',\n",
       " 'Marina',\n",
       " 'Zoom user',\n",
       " 'Anton',\n",
       " 'Nadi',\n",
       " 'Marina',\n",
       " 'Zoom user',\n",
       " 'Anton',\n",
       " 'Nadi',\n",
       " 'Marina',\n",
       " 'Zoom user',\n",
       " 'Anton',\n",
       " 'Nadi',\n",
       " 'Marina',\n",
       " 'Zoom user',\n",
       " 'Anton',\n",
       " 'Nadi',\n",
       " 'Marina',\n",
       " 'Zoom user',\n",
       " 'Anton',\n",
       " 'Nadi',\n",
       " 'Marina',\n",
       " 'Zoom user',\n",
       " 'Anton',\n",
       " 'Nadi',\n",
       " 'Marina',\n",
       " 'Zoom user',\n",
       " 'Anton',\n",
       " 'Nadi',\n",
       " 'Marina',\n",
       " 'Zoom user',\n",
       " 'Anton',\n",
       " 'Nadi',\n",
       " 'Marina',\n",
       " 'Zoom user',\n",
       " 'Anton',\n",
       " 'Nadi',\n",
       " 'Marina',\n",
       " 'Zoom user',\n",
       " 'Anton',\n",
       " 'Nadi',\n",
       " 'Marina',\n",
       " 'Zoom user',\n",
       " 'Anton',\n",
       " 'Nadi',\n",
       " 'Marina',\n",
       " 'Zoom user',\n",
       " 'Anton',\n",
       " 'Nadi',\n",
       " 'Marina',\n",
       " 'Zoom user',\n",
       " 'Anton',\n",
       " 'Nadi',\n",
       " 'Marina',\n",
       " 'Zoom user',\n",
       " 'Anton',\n",
       " 'Nadi',\n",
       " 'Marina',\n",
       " 'Zoom user',\n",
       " 'Anton',\n",
       " 'Nadi',\n",
       " 'Marina',\n",
       " 'Zoom user',\n",
       " 'Anton',\n",
       " 'Nadi',\n",
       " 'Marina',\n",
       " 'Zoom user',\n",
       " 'Anton',\n",
       " 'Nadi',\n",
       " 'Marina',\n",
       " 'Zoom user',\n",
       " 'Anton',\n",
       " 'Nadi',\n",
       " 'Marina',\n",
       " 'Zoom user',\n",
       " 'Anton',\n",
       " 'Nadi',\n",
       " 'Marina',\n",
       " 'Zoom user',\n",
       " 'Anton',\n",
       " 'Nadi',\n",
       " 'Marina',\n",
       " 'Zoom user',\n",
       " 'Anton',\n",
       " 'Nadi',\n",
       " 'Marina',\n",
       " 'Zoom user',\n",
       " 'Anton',\n",
       " 'Nadi',\n",
       " 'Marina',\n",
       " 'Zoom user',\n",
       " 'Anton',\n",
       " 'Nadi',\n",
       " 'Marina',\n",
       " 'Zoom user',\n",
       " 'Anton',\n",
       " 'Nadi',\n",
       " 'Marina',\n",
       " 'Zoom user',\n",
       " 'Anton',\n",
       " 'Nadi',\n",
       " 'Marina',\n",
       " 'Zoom user',\n",
       " 'Anton',\n",
       " 'Nadi',\n",
       " 'Marina',\n",
       " 'Zoom user',\n",
       " 'Anton',\n",
       " 'Nadi',\n",
       " 'Marina',\n",
       " 'Zoom user',\n",
       " 'Anton',\n",
       " 'Nadi',\n",
       " 'Marina',\n",
       " 'Zoom user',\n",
       " 'Anton',\n",
       " 'Nadi',\n",
       " 'Marina',\n",
       " 'Zoom user',\n",
       " 'Anton',\n",
       " 'Nadi',\n",
       " 'Marina',\n",
       " 'Zoom user',\n",
       " 'Anton',\n",
       " 'Nadi',\n",
       " 'Marina',\n",
       " 'Zoom user',\n",
       " 'Anton',\n",
       " 'Nadi',\n",
       " 'Marina',\n",
       " 'Zoom user',\n",
       " 'Anton',\n",
       " 'Nadi',\n",
       " 'Marina',\n",
       " 'Zoom user',\n",
       " 'Anton',\n",
       " 'Nadi',\n",
       " 'Marina',\n",
       " 'Zoom user',\n",
       " 'Anton',\n",
       " 'Nadi',\n",
       " 'Marina',\n",
       " 'Zoom user',\n",
       " 'Anton',\n",
       " 'Nadi',\n",
       " 'Marina',\n",
       " 'Zoom user',\n",
       " 'Anton',\n",
       " 'Nadi',\n",
       " 'Marina',\n",
       " 'Zoom user',\n",
       " 'Anton',\n",
       " 'Nadi',\n",
       " 'Marina',\n",
       " 'Zoom user',\n",
       " 'Anton',\n",
       " 'Nadi',\n",
       " 'Marina',\n",
       " 'Zoom user',\n",
       " 'Anton',\n",
       " 'Nadi',\n",
       " 'Marina',\n",
       " 'Zoom user',\n",
       " 'Anton',\n",
       " 'Nadi',\n",
       " 'Marina',\n",
       " 'Zoom user',\n",
       " 'Anton',\n",
       " 'Nadi',\n",
       " 'Marina',\n",
       " 'Zoom user',\n",
       " 'Anton',\n",
       " 'Nadi',\n",
       " 'Marina',\n",
       " 'Zoom user',\n",
       " 'Anton',\n",
       " 'Nadi',\n",
       " 'Marina',\n",
       " 'Zoom user',\n",
       " 'Anton',\n",
       " 'Nadi',\n",
       " 'Marina',\n",
       " 'Zoom user',\n",
       " 'Anton',\n",
       " 'Nadi',\n",
       " 'Marina',\n",
       " 'Zoom user',\n",
       " 'Anton',\n",
       " 'Nadi',\n",
       " 'Marina',\n",
       " 'Zoom user',\n",
       " 'Anton',\n",
       " 'Nadi',\n",
       " 'Marina',\n",
       " 'Zoom user',\n",
       " 'Anton',\n",
       " 'Nadi',\n",
       " 'Marina',\n",
       " 'Zoom user',\n",
       " 'Anton',\n",
       " 'Nadi',\n",
       " 'Marina',\n",
       " 'Zoom user',\n",
       " 'Anton',\n",
       " 'Nadi',\n",
       " 'Marina',\n",
       " 'Zoom user',\n",
       " 'Anton',\n",
       " 'Nadi',\n",
       " 'Marina',\n",
       " 'Zoom user',\n",
       " 'Anton',\n",
       " 'Nadi',\n",
       " 'Marina',\n",
       " 'Zoom user',\n",
       " 'Anton',\n",
       " 'Nadi',\n",
       " 'Marina',\n",
       " 'Zoom user',\n",
       " 'Anton',\n",
       " 'Nadi',\n",
       " 'Marina',\n",
       " 'Zoom user',\n",
       " 'Anton',\n",
       " 'Nadi',\n",
       " 'Marina',\n",
       " 'Zoom user',\n",
       " 'Anton',\n",
       " 'Nadi',\n",
       " 'Marina',\n",
       " 'Zoom user',\n",
       " 'Anton',\n",
       " 'Nadi',\n",
       " 'Marina',\n",
       " 'Zoom user',\n",
       " 'Anton',\n",
       " 'Nadi',\n",
       " 'Marina',\n",
       " 'Zoom user',\n",
       " 'Anton',\n",
       " 'Nadi',\n",
       " 'Marina',\n",
       " 'Zoom user',\n",
       " 'Anton',\n",
       " 'Nadi',\n",
       " 'Marina',\n",
       " 'Zoom user',\n",
       " 'Anton',\n",
       " 'Nadi',\n",
       " 'Marina',\n",
       " 'Zoom user',\n",
       " 'Anton',\n",
       " 'Nadi',\n",
       " 'Marina',\n",
       " 'Zoom user',\n",
       " 'Anton',\n",
       " 'Nadi',\n",
       " 'Marina',\n",
       " 'Zoom user',\n",
       " 'Anton',\n",
       " 'Nadi',\n",
       " 'Marina',\n",
       " 'Zoom user',\n",
       " 'Anton',\n",
       " 'Nadi',\n",
       " 'Marina',\n",
       " 'Zoom user',\n",
       " 'Anton',\n",
       " 'Nadi',\n",
       " 'Marina',\n",
       " 'Zoom user',\n",
       " 'Anton',\n",
       " 'Nadi',\n",
       " 'Marina',\n",
       " 'Zoom user',\n",
       " 'Anton',\n",
       " 'Nadi',\n",
       " 'Marina',\n",
       " 'Zoom user',\n",
       " 'Anton',\n",
       " 'Nadi',\n",
       " 'Marina',\n",
       " 'Zoom user',\n",
       " 'Anton',\n",
       " 'Nadi',\n",
       " 'Marina',\n",
       " 'Zoom user',\n",
       " 'Anton',\n",
       " 'Nadi',\n",
       " 'Marina',\n",
       " 'Zoom user',\n",
       " 'Anton',\n",
       " 'Nadi',\n",
       " 'Marina',\n",
       " 'Zoom user',\n",
       " 'Anton',\n",
       " 'Nadi',\n",
       " 'Marina',\n",
       " 'Zoom user',\n",
       " 'Anton',\n",
       " 'Nadi',\n",
       " 'Marina',\n",
       " 'Zoom user',\n",
       " 'Anton',\n",
       " 'Nadi',\n",
       " 'Marina',\n",
       " 'Zoom user',\n",
       " 'Anton',\n",
       " 'Nadi',\n",
       " 'Marina',\n",
       " 'Zoom user',\n",
       " 'Anton',\n",
       " 'Nadi',\n",
       " 'Marina',\n",
       " 'Zoom user',\n",
       " 'Anton',\n",
       " 'Nadi',\n",
       " 'Marina',\n",
       " 'Zoom user',\n",
       " 'Anton',\n",
       " 'Nadi',\n",
       " 'Marina',\n",
       " 'Zoom user',\n",
       " 'Anton',\n",
       " 'Nadi',\n",
       " 'Marina',\n",
       " 'Zoom user',\n",
       " 'Anton',\n",
       " 'Nadi',\n",
       " 'Marina',\n",
       " 'Zoom user',\n",
       " 'Anton',\n",
       " 'Nadi',\n",
       " 'Marina',\n",
       " 'Zoom user',\n",
       " 'Anton',\n",
       " 'Nadi',\n",
       " 'Marina',\n",
       " 'Zoom user',\n",
       " 'Anton',\n",
       " 'Nadi',\n",
       " 'Marina',\n",
       " 'Zoom user',\n",
       " 'Anton',\n",
       " 'Nadi',\n",
       " 'Marina',\n",
       " 'Zoom user',\n",
       " 'Anton',\n",
       " 'Nadi',\n",
       " 'Marina',\n",
       " 'Zoom user',\n",
       " 'Anton',\n",
       " 'Nadi',\n",
       " 'Marina',\n",
       " 'Zoom user',\n",
       " 'Anton',\n",
       " 'Nadi',\n",
       " 'Marina',\n",
       " 'Zoom user',\n",
       " 'Anton',\n",
       " 'Nadi',\n",
       " 'Marina',\n",
       " 'Zoom user',\n",
       " 'Anton',\n",
       " 'Nadi',\n",
       " 'Marina',\n",
       " 'Zoom user',\n",
       " 'Anton',\n",
       " 'Nadi',\n",
       " 'Marina',\n",
       " 'Zoom user',\n",
       " 'Anton',\n",
       " 'Nadi',\n",
       " 'Marina',\n",
       " 'Zoom user',\n",
       " 'Anton',\n",
       " 'Nadi',\n",
       " 'Marina',\n",
       " 'Zoom user',\n",
       " 'Anton',\n",
       " 'Nadi',\n",
       " 'Marina',\n",
       " 'Zoom user',\n",
       " 'Anton',\n",
       " 'Nadi',\n",
       " 'Marina',\n",
       " 'Zoom user',\n",
       " 'Anton',\n",
       " 'Nadi',\n",
       " 'Marina',\n",
       " 'Zoom user',\n",
       " 'Anton',\n",
       " 'Nadi',\n",
       " 'Marina',\n",
       " 'Zoom user',\n",
       " 'Anton',\n",
       " 'Nadi',\n",
       " 'Marina',\n",
       " 'Zoom user',\n",
       " 'Anton',\n",
       " 'Nadi',\n",
       " 'Marina',\n",
       " 'Zoom user',\n",
       " 'Anton',\n",
       " 'Nadi',\n",
       " 'Marina',\n",
       " 'Zoom user',\n",
       " 'Anton',\n",
       " 'Nadi',\n",
       " 'Marina',\n",
       " 'Zoom user',\n",
       " 'Anton',\n",
       " 'Nadi',\n",
       " 'Marina',\n",
       " 'Zoom user',\n",
       " 'Anton',\n",
       " 'Nadi',\n",
       " 'Marina',\n",
       " 'Zoom user',\n",
       " 'Anton',\n",
       " 'Nadi',\n",
       " 'Marina',\n",
       " 'Zoom user',\n",
       " 'Anton',\n",
       " 'Nadi',\n",
       " 'Marina',\n",
       " 'Zoom user',\n",
       " 'Anton',\n",
       " 'Nadi',\n",
       " 'Marina',\n",
       " 'Zoom user',\n",
       " 'Anton',\n",
       " 'Nadi',\n",
       " 'Marina',\n",
       " 'Zoom user',\n",
       " 'Anton',\n",
       " 'Nadi',\n",
       " 'Marina',\n",
       " 'Zoom user',\n",
       " 'Anton',\n",
       " 'Nadi',\n",
       " 'Marina',\n",
       " 'Zoom user',\n",
       " 'Anton',\n",
       " 'Nadi',\n",
       " 'Marina',\n",
       " 'Zoom user',\n",
       " 'Anton',\n",
       " 'Nadi',\n",
       " 'Marina',\n",
       " 'Zoom user',\n",
       " 'Anton',\n",
       " 'Nadi',\n",
       " 'Marina',\n",
       " 'Zoom user',\n",
       " 'Anton',\n",
       " 'Nadi',\n",
       " 'Marina',\n",
       " 'Zoom user',\n",
       " 'Anton',\n",
       " 'Nadi',\n",
       " 'Marina',\n",
       " 'Zoom user',\n",
       " 'Anton',\n",
       " 'Nadi',\n",
       " 'Marina',\n",
       " 'Zoom user',\n",
       " 'Anton',\n",
       " 'Nadi',\n",
       " 'Marina',\n",
       " 'Zoom user',\n",
       " 'Anton',\n",
       " 'Nadi',\n",
       " 'Marina',\n",
       " 'Zoom user',\n",
       " 'Anton',\n",
       " 'Nadi',\n",
       " 'Marina',\n",
       " 'Zoom user',\n",
       " 'Anton',\n",
       " 'Nadi',\n",
       " 'Marina',\n",
       " 'Zoom user',\n",
       " 'Anton',\n",
       " 'Nadi',\n",
       " 'Marina',\n",
       " 'Zoom user',\n",
       " 'Anton',\n",
       " 'Nadi',\n",
       " 'Marina',\n",
       " 'Zoom user',\n",
       " 'Anton',\n",
       " 'Nadi',\n",
       " 'Marina',\n",
       " 'Zoom user',\n",
       " 'Anton',\n",
       " 'Nadi',\n",
       " 'Marina',\n",
       " 'Zoom user',\n",
       " 'Anton',\n",
       " 'Nadi',\n",
       " 'Marina',\n",
       " 'Zoom user',\n",
       " 'Anton',\n",
       " 'Nadi',\n",
       " 'Marina',\n",
       " 'Zoom user',\n",
       " 'Anton',\n",
       " 'Nadi',\n",
       " 'Marina',\n",
       " 'Zoom user',\n",
       " 'Anton',\n",
       " 'Nadi',\n",
       " 'Marina',\n",
       " 'Zoom user',\n",
       " 'Anton',\n",
       " 'Nadi',\n",
       " 'Marina',\n",
       " 'Zoom user',\n",
       " 'Anton',\n",
       " 'Nadi',\n",
       " 'Marina',\n",
       " 'Zoom user',\n",
       " 'Anton',\n",
       " 'Nadi',\n",
       " 'Marina',\n",
       " 'Zoom user',\n",
       " 'Anton',\n",
       " 'Nadi',\n",
       " 'Marina',\n",
       " 'Zoom user',\n",
       " 'Anton',\n",
       " 'Nadi',\n",
       " 'Marina',\n",
       " 'Zoom user',\n",
       " 'Anton',\n",
       " 'Nadi',\n",
       " 'Marina',\n",
       " 'Zoom user',\n",
       " 'Anton',\n",
       " 'Nadi',\n",
       " 'Marina',\n",
       " 'Zoom user',\n",
       " 'Anton',\n",
       " 'Nadi',\n",
       " 'Marina',\n",
       " 'Zoom user',\n",
       " 'Anton',\n",
       " 'Nadi',\n",
       " 'Marina',\n",
       " 'Zoom user',\n",
       " 'Anton',\n",
       " 'Nadi',\n",
       " 'Marina',\n",
       " 'Zoom user',\n",
       " 'Anton',\n",
       " 'Nadi',\n",
       " 'Marina',\n",
       " 'Zoom user',\n",
       " 'Anton',\n",
       " 'Nadi',\n",
       " 'Marina',\n",
       " 'Zoom user',\n",
       " 'Anton',\n",
       " 'Nadi',\n",
       " 'Marina',\n",
       " 'Zoom user',\n",
       " 'Anton',\n",
       " 'Nadi',\n",
       " 'Marina',\n",
       " 'Zoom user',\n",
       " 'Anton',\n",
       " 'Nadi',\n",
       " 'Marina',\n",
       " 'Zoom user',\n",
       " 'Anton',\n",
       " 'Nadi',\n",
       " 'Marina',\n",
       " 'Zoom user',\n",
       " 'Anton',\n",
       " 'Nadi',\n",
       " 'Marina',\n",
       " 'Zoom user',\n",
       " 'Anton',\n",
       " 'Nadi',\n",
       " 'Marina',\n",
       " 'Zoom user',\n",
       " 'Anton',\n",
       " 'Nadi',\n",
       " 'Marina',\n",
       " 'Zoom user',\n",
       " 'Anton',\n",
       " 'Nadi',\n",
       " 'Marina',\n",
       " 'Zoom user',\n",
       " 'Anton',\n",
       " 'Nadi',\n",
       " 'Marina',\n",
       " 'Zoom user',\n",
       " 'Anton',\n",
       " 'Nadi',\n",
       " 'Marina',\n",
       " 'Zoom user',\n",
       " 'Anton',\n",
       " 'Nadi',\n",
       " 'Marina',\n",
       " 'Zoom user',\n",
       " 'Anton',\n",
       " 'Nadi',\n",
       " 'Marina',\n",
       " 'Zoom user',\n",
       " 'Anton',\n",
       " 'Nadi',\n",
       " 'Marina',\n",
       " 'Zoom user',\n",
       " 'Anton',\n",
       " 'Nadi',\n",
       " 'Marina',\n",
       " 'Zoom user',\n",
       " 'Anton',\n",
       " 'Nadi',\n",
       " 'Marina',\n",
       " 'Zoom user',\n",
       " 'Anton',\n",
       " 'Nadi',\n",
       " 'Marina',\n",
       " 'Zoom user',\n",
       " 'Anton',\n",
       " 'Nadi',\n",
       " 'Marina',\n",
       " 'Zoom user',\n",
       " 'Anton',\n",
       " 'Nadi',\n",
       " 'Marina',\n",
       " 'Zoom user',\n",
       " 'Anton',\n",
       " 'Nadi',\n",
       " 'Marina',\n",
       " 'Zoom user',\n",
       " 'Anton',\n",
       " 'Nadi',\n",
       " 'Marina',\n",
       " 'Zoom user',\n",
       " 'Anton',\n",
       " 'Nadi',\n",
       " 'Marina',\n",
       " 'Zoom user',\n",
       " 'Anton',\n",
       " 'Nadi',\n",
       " 'Marina',\n",
       " 'Zoom user',\n",
       " 'Anton',\n",
       " 'Nadi',\n",
       " 'Marina',\n",
       " 'Zoom user',\n",
       " 'Anton',\n",
       " 'Nadi',\n",
       " 'Marina',\n",
       " 'Zoom user',\n",
       " 'Anton',\n",
       " 'Nadi',\n",
       " 'Marina',\n",
       " 'Zoom user',\n",
       " 'Anton',\n",
       " 'Nadi',\n",
       " 'Marina',\n",
       " 'Zoom user',\n",
       " 'Anton',\n",
       " 'Nadi',\n",
       " 'Marina',\n",
       " 'Zoom user',\n",
       " 'Anton',\n",
       " 'Nadi',\n",
       " 'Marina',\n",
       " 'Zoom user',\n",
       " 'Anton',\n",
       " 'Nadi',\n",
       " 'Marina',\n",
       " 'Zoom user',\n",
       " 'Anton',\n",
       " 'Nadi',\n",
       " 'Marina',\n",
       " 'Zoom user',\n",
       " 'Anton',\n",
       " 'Nadi',\n",
       " 'Marina',\n",
       " 'Zoom user',\n",
       " 'Anton',\n",
       " 'Nadi',\n",
       " 'Marina',\n",
       " 'Zoom user',\n",
       " 'Anton',\n",
       " 'Nadi',\n",
       " 'Marina',\n",
       " 'Zoom user',\n",
       " 'Anton',\n",
       " 'Nadi',\n",
       " 'Marina',\n",
       " 'Zoom user',\n",
       " 'Anton',\n",
       " 'Nadi',\n",
       " 'Marina',\n",
       " 'Zoom user',\n",
       " 'Anton',\n",
       " 'Nadi',\n",
       " 'Marina',\n",
       " 'Zoom user',\n",
       " 'Anton',\n",
       " 'Nadi',\n",
       " 'Marina',\n",
       " 'Zoom user',\n",
       " 'Anton',\n",
       " 'Nadi',\n",
       " 'Marina',\n",
       " 'Zoom user',\n",
       " 'Anton',\n",
       " 'Nadi',\n",
       " 'Marina',\n",
       " 'Zoom user',\n",
       " 'Anton',\n",
       " 'Nadi',\n",
       " 'Marina',\n",
       " 'Zoom user',\n",
       " 'Anton',\n",
       " 'Nadi',\n",
       " 'Marina',\n",
       " 'Zoom user',\n",
       " 'Anton',\n",
       " 'Nadi',\n",
       " 'Marina',\n",
       " 'Zoom user',\n",
       " 'Anton',\n",
       " 'Nadi',\n",
       " 'Marina',\n",
       " 'Zoom user',\n",
       " 'Anton',\n",
       " 'Nadi',\n",
       " 'Marina',\n",
       " 'Zoom user',\n",
       " 'Anton',\n",
       " 'Nadi',\n",
       " 'Marina',\n",
       " 'Zoom user',\n",
       " 'Anton',\n",
       " 'Nadi',\n",
       " 'Marina',\n",
       " 'Zoom user',\n",
       " 'Anton',\n",
       " 'Nadi',\n",
       " 'Marina',\n",
       " 'Zoom user',\n",
       " 'Anton',\n",
       " 'Nadi',\n",
       " 'Marina',\n",
       " 'Zoom user',\n",
       " ...]"
      ]
     },
     "metadata":{
      
     },
     "output_type":"display_data"
    }
   ],
   "metadata":{
    "datalore":{
     "node_id":"N4w1Rreiw7Wb49egFQ1xP3",
     "type":"CODE",
     "hide_input_from_viewers":false,
     "hide_output_from_viewers":false
    }
   }
  },
  {
   "cell_type":"code",
   "source":[
    "students"
   ],
   "execution_count":77,
   "outputs":[
    {
     "data":{
      "text\/plain":[
       "['anton', 'Nadi', 'marina', 'Zoom user']"
      ]
     },
     "metadata":{
      
     },
     "output_type":"display_data"
    }
   ],
   "metadata":{
    "datalore":{
     "node_id":"iWCzs5XaajkvHEB1NoMnhD",
     "type":"CODE",
     "hide_input_from_viewers":false,
     "hide_output_from_viewers":false
    }
   }
  },
  {
   "cell_type":"code",
   "source":[
    "students = ['anton', 'Nadi', 'marina', 'Zoom user']\n",
    "students2 = []\n",
    "\n",
    "for student in students:\n",
    "    students2.append(student.capitalize())\n",
    "\n",
    "students2"
   ],
   "execution_count":null,
   "outputs":[
    
   ],
   "metadata":{
    "datalore":{
     "node_id":"GgvHYq5fJV1Mcc4S0Z7CIC",
     "type":"CODE",
     "hide_input_from_viewers":false,
     "hide_output_from_viewers":false
    }
   }
  }
 ],
 "metadata":{
  "kernelspec":{
   "display_name":"Python",
   "language":"python",
   "name":"python"
  },
  "datalore":{
   "version":1,
   "computation_mode":"JUPYTER",
   "package_manager":"pip",
   "base_environment":"default",
   "packages":[
    
   ]
  }
 },
 "nbformat":4,
 "nbformat_minor":4
}