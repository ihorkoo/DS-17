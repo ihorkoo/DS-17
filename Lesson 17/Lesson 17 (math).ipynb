{
 "cells":[
  {
   "cell_type":"markdown",
   "source":[
    "___\n",
    "\n",
    "<a href='https:\/\/mainacademy.ua\/'> <img src='https:\/\/mainacademy.ua\/wp-content\/uploads\/2019\/03\/logo-main.png' alt = 'Хмм, щось з інтернетом'\/><\/a>\n",
    "___\n",
    "\n",
    "# Module 3: Math for Data Science"
   ],
   "attachments":{
    
   },
   "metadata":{
    "datalore":{
     "node_id":"Bhn67CQSUP39dZOk3mtb6j",
     "type":"MD",
     "hide_input_from_viewers":false,
     "hide_output_from_viewers":false,
     "report_properties":{
      "rowId":"8Lhd86pJLnepCF3JqLTSyM"
     }
    }
   }
  },
  {
   "cell_type":"markdown",
   "source":[
    "## Lab work 3"
   ],
   "attachments":{
    
   },
   "metadata":{
    "datalore":{
     "node_id":"Cy6QWTlrlZ7ooYnnju4cJN",
     "type":"MD",
     "hide_input_from_viewers":false,
     "hide_output_from_viewers":false,
     "report_properties":{
      "rowId":"9laP3C9GUDiEVf6gAbt4Ep"
     }
    }
   }
  },
  {
   "cell_type":"markdown",
   "source":[
    "# Векторна математика"
   ],
   "attachments":{
    
   },
   "metadata":{
    "datalore":{
     "node_id":"wZlFiSTCCjp2zHdywGofiK",
     "type":"MD",
     "hide_input_from_viewers":true,
     "hide_output_from_viewers":true
    }
   }
  },
  {
   "cell_type":"code",
   "source":[
    "import numpy as np \n",
    "\n",
    "x = np.array([0.5, 0.5])\n",
    "y = np.array([0.3, 0.7])"
   ],
   "execution_count":1,
   "outputs":[
    
   ],
   "metadata":{
    "datalore":{
     "node_id":"afcuo4cjJLYT039KPQ27Xi",
     "type":"CODE",
     "hide_input_from_viewers":false,
     "hide_output_from_viewers":false,
     "report_properties":{
      "rowId":"y6KX2GdgCM8csF8vgPhEEs"
     }
    }
   }
  },
  {
   "cell_type":"code",
   "source":[
    "# скалярний добуток\n",
    " \n",
    "x @ y"
   ],
   "execution_count":2,
   "outputs":[
    {
     "data":{
      "text\/plain":[
       "0.5"
      ]
     },
     "metadata":{
      
     },
     "output_type":"display_data"
    }
   ],
   "metadata":{
    "datalore":{
     "node_id":"SRlXrXHuUGUn2lvfuqjNKw",
     "type":"CODE",
     "hide_input_from_viewers":false,
     "hide_output_from_viewers":false,
     "report_properties":{
      "rowId":"0WDCLKSfCv1cB5psSowcOn"
     }
    }
   }
  },
  {
   "cell_type":"code",
   "source":[
    "#Евклідова норма\n",
    "np.linalg.norm(x)"
   ],
   "execution_count":3,
   "outputs":[
    {
     "data":{
      "text\/plain":[
       "0.7071067811865476"
      ]
     },
     "metadata":{
      
     },
     "output_type":"display_data"
    }
   ],
   "metadata":{
    "datalore":{
     "node_id":"xTojy0fvGFzUQvb9hitUC4",
     "type":"CODE",
     "hide_input_from_viewers":false,
     "hide_output_from_viewers":false,
     "report_properties":{
      "rowId":"sWHZ6D4MofDrTEg2TcCTOn"
     }
    }
   }
  },
  {
   "cell_type":"code",
   "source":[
    "np.linalg.norm(y)"
   ],
   "execution_count":5,
   "outputs":[
    {
     "data":{
      "text\/plain":[
       "0.7615773105863908"
      ]
     },
     "metadata":{
      
     },
     "output_type":"display_data"
    }
   ],
   "metadata":{
    "datalore":{
     "node_id":"bdbTI3cEWF2GEP5nUSDrjg",
     "type":"CODE",
     "hide_input_from_viewers":true,
     "hide_output_from_viewers":true
    }
   }
  },
  {
   "cell_type":"code",
   "source":[
    "help(np.linalg.norm)"
   ],
   "execution_count":4,
   "outputs":[
    {
     "name":"stdout",
     "text":[
      "Help on function norm in module numpy.linalg:\n",
      "\n",
      "norm(x, ord=None, axis=None, keepdims=False)\n",
      "    Matrix or vector norm.\n",
      "    \n",
      "    This function is able to return one of eight different matrix norms,\n",
      "    or one of an infinite number of vector norms (described below), depending\n",
      "    on the value of the ``ord`` parameter.\n",
      "    \n",
      "    Parameters\n",
      "    ----------\n",
      "    x : array_like\n",
      "        Input array.  If `axis` is None, `x` must be 1-D or 2-D, unless `ord`\n",
      "        is None. If both `axis` and `ord` are None, the 2-norm of\n",
      "        ``x.ravel`` will be returned.\n",
      "    ord : {non-zero int, inf, -inf, 'fro', 'nuc'}, optional\n",
      "        Order of the norm (see table under ``Notes``). inf means numpy's\n",
      "        `inf` object. The default is None.\n",
      "    axis : {None, int, 2-tuple of ints}, optional.\n",
      "        If `axis` is an integer, it specifies the axis of `x` along which to\n",
      "        compute the vector norms.  If `axis` is a 2-tuple, it specifies the\n",
      "        axes that hold 2-D matrices, and the matrix norms of these matrices\n",
      "        are computed.  If `axis` is None then either a vector norm (when `x`\n",
      "        is 1-D) or a matrix norm (when `x` is 2-D) is returned. The default\n",
      "        is None.\n",
      "    \n",
      "        .. versionadded:: 1.8.0\n",
      "    \n",
      "    keepdims : bool, optional\n",
      "        If this is set to True, the axes which are normed over are left in the\n",
      "        result as dimensions with size one.  With this option the result will\n",
      "        broadcast correctly against the original `x`.\n",
      "    \n",
      "        .. versionadded:: 1.10.0\n",
      "    \n",
      "    Returns\n",
      "    -------\n",
      "    n : float or ndarray\n",
      "        Norm of the matrix or vector(s).\n",
      "    \n",
      "    See Also\n",
      "    --------\n",
      "    scipy.linalg.norm : Similar function in SciPy.\n",
      "    \n",
      "    Notes\n",
      "    -----\n",
      "    For values of ``ord < 1``, the result is, strictly speaking, not a\n",
      "    mathematical 'norm', but it may still be useful for various numerical\n",
      "    purposes.\n",
      "    \n",
      "    The following norms can be calculated:\n",
      "    \n",
      "    =====  ============================  ==========================\n",
      "    ord    norm for matrices             norm for vectors\n",
      "    =====  ============================  ==========================\n",
      "    None   Frobenius norm                2-norm\n",
      "    'fro'  Frobenius norm                --\n",
      "    'nuc'  nuclear norm                  --\n",
      "    inf    max(sum(abs(x), axis=1))      max(abs(x))\n",
      "    -inf   min(sum(abs(x), axis=1))      min(abs(x))\n",
      "    0      --                            sum(x != 0)\n",
      "    1      max(sum(abs(x), axis=0))      as below\n",
      "    -1     min(sum(abs(x), axis=0))      as below\n",
      "    2      2-norm (largest sing. value)  as below\n",
      "    -2     smallest singular value       as below\n",
      "    other  --                            sum(abs(x)**ord)**(1.\/ord)\n",
      "    =====  ============================  ==========================\n",
      "    \n",
      "    The Frobenius norm is given by [1]_:\n",
      "    \n",
      "        :math:`||A||_F = [\\sum_{i,j} abs(a_{i,j})^2]^{1\/2}`\n",
      "    \n",
      "    The nuclear norm is the sum of the singular values.\n",
      "    \n",
      "    Both the Frobenius and nuclear norm orders are only defined for\n",
      "    matrices and raise a ValueError when ``x.ndim != 2``.\n",
      "    \n",
      "    References\n",
      "    ----------\n",
      "    .. [1] G. H. Golub and C. F. Van Loan, *Matrix Computations*,\n",
      "           Baltimore, MD, Johns Hopkins University Press, 1985, pg. 15\n",
      "    \n",
      "    Examples\n",
      "    --------\n",
      "    >>> from numpy import linalg as LA\n",
      "    >>> a = np.arange(9) - 4\n",
      "    >>> a\n",
      "    array([-4, -3, -2, ...,  2,  3,  4])\n",
      "    >>> b = a.reshape((3, 3))\n",
      "    >>> b\n",
      "    array([[-4, -3, -2],\n",
      "           [-1,  0,  1],\n",
      "           [ 2,  3,  4]])\n",
      "    \n",
      "    >>> LA.norm(a)\n",
      "    7.745966692414834\n",
      "    >>> LA.norm(b)\n",
      "    7.745966692414834\n",
      "    >>> LA.norm(b, 'fro')\n",
      "    7.745966692414834\n",
      "    >>> LA.norm(a, np.inf)\n",
      "    4.0\n",
      "    >>> LA.norm(b, np.inf)\n",
      "    9.0\n",
      "    >>> LA.norm(a, -np.inf)\n",
      "    0.0\n",
      "    >>> LA.norm(b, -np.inf)\n",
      "    2.0\n",
      "    \n",
      "    >>> LA.norm(a, 1)\n",
      "    20.0\n",
      "    >>> LA.norm(b, 1)\n",
      "    7.0\n",
      "    >>> LA.norm(a, -1)\n",
      "    -4.6566128774142013e-010\n",
      "    >>> LA.norm(b, -1)\n",
      "    6.0\n",
      "    >>> LA.norm(a, 2)\n",
      "    7.745966692414834\n",
      "    >>> LA.norm(b, 2)\n",
      "    7.3484692283495345\n",
      "    \n",
      "    >>> LA.norm(a, -2)\n",
      "    0.0\n",
      "    >>> LA.norm(b, -2)\n",
      "    1.8570331885190563e-016 # may vary\n",
      "    >>> LA.norm(a, 3)\n",
      "    5.8480354764257312 # may vary\n",
      "    >>> LA.norm(a, -3)\n",
      "    0.0\n",
      "    \n",
      "    Using the `axis` argument to compute vector norms:\n",
      "    \n",
      "    >>> c = np.array([[ 1, 2, 3],\n",
      "    ...               [-1, 1, 4]])\n",
      "    >>> LA.norm(c, axis=0)\n",
      "    array([ 1.41421356,  2.23606798,  5.        ])\n",
      "    >>> LA.norm(c, axis=1)\n",
      "    array([ 3.74165739,  4.24264069])\n",
      "    >>> LA.norm(c, ord=1, axis=1)\n",
      "    array([ 6.,  6.])\n",
      "    \n",
      "    Using the `axis` argument to compute matrix norms:\n",
      "    \n",
      "    >>> m = np.arange(8).reshape(2,2,2)\n",
      "    >>> LA.norm(m, axis=(1,2))\n",
      "    array([  3.74165739,  11.22497216])\n",
      "    >>> LA.norm(m[0, :, :]), LA.norm(m[1, :, :])\n",
      "    (3.7416573867739413, 11.224972160321824)\n",
      "\n"
     ],
     "output_type":"stream"
    }
   ],
   "metadata":{
    "datalore":{
     "node_id":"DSJmm9y6DnYtNXgclCLLOO",
     "type":"CODE",
     "hide_input_from_viewers":true,
     "hide_output_from_viewers":true
    }
   }
  },
  {
   "cell_type":"code",
   "source":[
    "#Мангеттенська норма\n",
    "np.sum(np.abs(x))"
   ],
   "execution_count":6,
   "outputs":[
    {
     "data":{
      "text\/plain":[
       "1.0"
      ]
     },
     "metadata":{
      
     },
     "output_type":"display_data"
    }
   ],
   "metadata":{
    "datalore":{
     "node_id":"MeioJ6attQjVWVeEP2JN94",
     "type":"CODE",
     "hide_input_from_viewers":false,
     "hide_output_from_viewers":false,
     "report_properties":{
      "rowId":"iFtrdZKoB7Af8gpZbovQZn"
     }
    }
   }
  },
  {
   "cell_type":"code",
   "source":[
    "np.linalg.norm(y, ord=1)"
   ],
   "execution_count":8,
   "outputs":[
    {
     "data":{
      "text\/plain":[
       "1.0"
      ]
     },
     "metadata":{
      
     },
     "output_type":"display_data"
    }
   ],
   "metadata":{
    "datalore":{
     "node_id":"4BurvIQeQK7jPsK09YKcZs",
     "type":"CODE",
     "hide_input_from_viewers":true,
     "hide_output_from_viewers":true
    }
   }
  },
  {
   "cell_type":"code",
   "source":[
    "np.linalg.norm(x, ord=1)"
   ],
   "execution_count":7,
   "outputs":[
    {
     "data":{
      "text\/plain":[
       "1.0"
      ]
     },
     "metadata":{
      
     },
     "output_type":"display_data"
    }
   ],
   "metadata":{
    "datalore":{
     "node_id":"jD7ls1cOjuIwZPbqGzCmKJ",
     "type":"CODE",
     "hide_input_from_viewers":false,
     "hide_output_from_viewers":false,
     "report_properties":{
      "rowId":"a1932ZwoO3bseTsjdk9TY2"
     }
    }
   }
  },
  {
   "cell_type":"code",
   "source":[
    "#Кут між векторами"
   ],
   "execution_count":12,
   "outputs":[
    
   ],
   "metadata":{
    "datalore":{
     "node_id":"dZsDodUWEUULFGXffInx1g",
     "type":"CODE",
     "hide_input_from_viewers":false,
     "hide_output_from_viewers":false,
     "report_properties":{
      "rowId":"WAfElXA4zCDrAVOq6XYCnw"
     }
    }
   }
  },
  {
   "cell_type":"code",
   "source":[
    "cos_a = (x @ y) \/ (np.linalg.norm(x) * np.linalg.norm(y))"
   ],
   "execution_count":9,
   "outputs":[
    
   ],
   "metadata":{
    "datalore":{
     "node_id":"FOulEH1MOmWnDS7UNDxWma",
     "type":"CODE",
     "hide_input_from_viewers":false,
     "hide_output_from_viewers":false,
     "report_properties":{
      "rowId":"8yxN6cuvEN4VRUaRS1NITY"
     }
    }
   }
  },
  {
   "cell_type":"code",
   "source":[
    "np.degrees(np.arccos(cos_a))"
   ],
   "execution_count":10,
   "outputs":[
    {
     "data":{
      "text\/plain":[
       "21.801409486351798"
      ]
     },
     "metadata":{
      
     },
     "output_type":"display_data"
    }
   ],
   "metadata":{
    "datalore":{
     "node_id":"gRtDo6vMUmJwgyQWmKPM5N",
     "type":"CODE",
     "hide_input_from_viewers":false,
     "hide_output_from_viewers":false,
     "report_properties":{
      "rowId":"XfMyvWRtUWID5wUEJqtLlQ"
     }
    }
   }
  },
  {
   "cell_type":"code",
   "source":[
    "np.linalg.norm(x-y)"
   ],
   "execution_count":11,
   "outputs":[
    {
     "data":{
      "text\/plain":[
       "0.282842712474619"
      ]
     },
     "metadata":{
      
     },
     "output_type":"display_data"
    }
   ],
   "metadata":{
    "datalore":{
     "node_id":"CEREHLQptn9uecityp5fIQ",
     "type":"CODE",
     "hide_input_from_viewers":false,
     "hide_output_from_viewers":false,
     "report_properties":{
      "rowId":"w2Lai2rP6I6bGjip5J2xrJ"
     }
    }
   }
  },
  {
   "cell_type":"code",
   "source":[
    "np.linalg.norm(x, y)"
   ],
   "execution_count":12,
   "outputs":[
    {
     "name":"stderr",
     "text":[
      "\/opt\/python\/envs\/default\/lib\/python3.8\/site-packages\/numpy\/linalg\/linalg.py:2517: FutureWarning: elementwise comparison failed; returning scalar instead, but in the future will perform elementwise comparison\n",
      "  (ord in ('f', 'fro') and ndim == 2) or\n"
     ],
     "output_type":"stream"
    },
    {
     "ename":"ValueError",
     "evalue":"ValueError: The truth value of an array with more than one element is ambiguous. Use a.any() or a.all()",
     "traceback":[
      "\u001b[0;31m---------------------------------------------------------------------------",
      "Traceback (most recent call last)",
      "    at line 1 in <module>",
      "    at line 0 in norm(*args, **kwargs)",
      "    at line 2516 in norm(x, ord, axis, keepdims)",
      "ValueError: The truth value of an array with more than one element is ambiguous. Use a.any() or a.all()"
     ],
     "output_type":"error"
    }
   ],
   "metadata":{
    "datalore":{
     "node_id":"dRotY8ZYeQrXL5CRvs8g8M",
     "type":"CODE",
     "hide_input_from_viewers":true,
     "hide_output_from_viewers":true
    }
   }
  },
  {
   "cell_type":"markdown",
   "source":[
    "# Solving Linear Equations"
   ],
   "attachments":{
    
   },
   "metadata":{
    "datalore":{
     "node_id":"doJamxOcTkz7S8j2GWRofh",
     "type":"MD",
     "hide_input_from_viewers":true,
     "hide_output_from_viewers":true
    }
   }
  },
  {
   "cell_type":"markdown",
   "source":[
    "Систему рівнянь називають сумісною, якщо вона має хоча б один розв’язок, і\n",
    "несумісною, якщо вона не має жодного розв’язку."
   ],
   "attachments":{
    
   },
   "metadata":{
    "datalore":{
     "node_id":"Zlz6t6POt791FvqDdNkTMU",
     "type":"MD",
     "hide_input_from_viewers":true,
     "hide_output_from_viewers":true
    }
   }
  },
  {
   "cell_type":"markdown",
   "source":[
    "Сумісна система називається визначеною, якщо вона має єдиний розв’язок.\n",
    "Сумісна система називається невизначеною, якщо вона має більше, ніж один\n",
    "розв’зок."
   ],
   "attachments":{
    
   },
   "metadata":{
    "datalore":{
     "node_id":"yJEhLz4JPWFnVvx2eq4Cwe",
     "type":"MD",
     "hide_input_from_viewers":true,
     "hide_output_from_viewers":true
    }
   }
  },
  {
   "cell_type":"markdown",
   "source":[
    "Матриця має бути квадратною та мати повний ранг, тобто має існувати обернена матриця."
   ],
   "attachments":{
    
   },
   "metadata":{
    "datalore":{
     "node_id":"jKh4owDsntaQ0C1mXuTuNj",
     "type":"MD",
     "hide_input_from_viewers":true,
     "hide_output_from_viewers":true
    }
   }
  },
  {
   "cell_type":"markdown",
   "source":[
    "$$\n",
    "\n",
    "x_1 + 2x_2 = 5\\\\\n",
    "\n",
    "3x_1 + 4x_2 = 6\n",
    "\n",
    "$$"
   ],
   "attachments":{
    
   },
   "metadata":{
    "datalore":{
     "node_id":"HqR3zm9ISH0jJanJVbUaQM",
     "type":"MD",
     "hide_input_from_viewers":true,
     "hide_output_from_viewers":true
    }
   }
  },
  {
   "cell_type":"code",
   "source":[
    "A = np.array(\n",
    "     [[1 , 2],\n",
    "     [3 , 4]]\n",
    ")\n",
    "\n",
    "b = np.array(\n",
    "    [  [5], \n",
    "        [6]]\n",
    ")"
   ],
   "execution_count":17,
   "outputs":[
    
   ],
   "metadata":{
    "datalore":{
     "node_id":"wwxuAk9uGrVTNq9A3wRrZE",
     "type":"CODE",
     "hide_input_from_viewers":true,
     "hide_output_from_viewers":true
    }
   }
  },
  {
   "cell_type":"code",
   "source":[
    "from numpy.linalg import matrix_rank\n",
    "matrix_rank(A) "
   ],
   "execution_count":18,
   "outputs":[
    {
     "data":{
      "text\/plain":[
       "2"
      ]
     },
     "metadata":{
      
     },
     "output_type":"display_data"
    }
   ],
   "metadata":{
    "datalore":{
     "node_id":"pRNucV1AGxtoubzPAKRrgO",
     "type":"CODE",
     "hide_input_from_viewers":true,
     "hide_output_from_viewers":true
    }
   }
  },
  {
   "cell_type":"code",
   "source":[
    "x = np.linalg.solve(A, b)\n",
    "x"
   ],
   "execution_count":19,
   "outputs":[
    {
     "data":{
      "text\/html":[
       "<pre>array([[-4. ],\n",
       "       [ 4.5]])<\/pre>"
      ]
     },
     "metadata":{
      
     },
     "output_type":"display_data"
    }
   ],
   "metadata":{
    "datalore":{
     "node_id":"u0dgl8c0yuckS1eSMblbfh",
     "type":"CODE",
     "hide_input_from_viewers":true,
     "hide_output_from_viewers":true
    }
   }
  },
  {
   "cell_type":"markdown",
   "source":[
    "# Апроксимація функцій"
   ],
   "attachments":{
    
   },
   "metadata":{
    "datalore":{
     "node_id":"EA53eYakRQ3B11wWHWA8TC",
     "type":"MD",
     "hide_input_from_viewers":true,
     "hide_output_from_viewers":true
    }
   }
  },
  {
   "cell_type":"markdown",
   "source":[
    "https:\/\/machinelearningmastery.com\/curve-fitting-with-python\/\n",
    "\n",
    "https:\/\/personal.math.ubc.ca\/~pwalls\/math-python\/linear-algebra\/linear-algebra-scipy\/\n",
    "\n",
    "Розглянемо складну математичну функцію на відрізку\n",
    "\n",
    "f(x) = sin(x \/ 5) exp(x \/ 10) + 5 exp(-x \/ 2)\n",
    "\n",
    "Вона може описувати, наприклад, залежність оцінок, які виставляють певному ґатунку вина експерти, залежно від віку цього вина. По суті завдання машинного навчання полягає в тому, щоб наблизити складну залежність за допомогою функції. Як варіант, можна наблизити цю функцію за допомогою многочленів"
   ],
   "attachments":{
    
   },
   "metadata":{
    "datalore":{
     "node_id":"YoxTmCcUFOh0oSINq346WC",
     "type":"MD",
     "hide_input_from_viewers":true,
     "hide_output_from_viewers":true
    }
   }
  },
  {
   "cell_type":"code",
   "source":[
    "%matplotlib inline\n",
    "import math\n",
    "import scipy\n",
    "import numpy as np\n",
    "from matplotlib import pyplot as plt\n",
    "\n",
    "def f(x):\n",
    "    return math.sin(x\/5.)*math.exp(x\/10.) + 5*math.exp(-x\/2.)"
   ],
   "execution_count":20,
   "outputs":[
    
   ],
   "metadata":{
    "datalore":{
     "node_id":"iszllVzTy8YLtfzGRsHuea",
     "type":"CODE",
     "hide_input_from_viewers":true,
     "hide_output_from_viewers":true
    }
   }
  },
  {
   "cell_type":"code",
   "source":[
    "x = np.arange(1, 16, 0.1)\n",
    "y = list(map(f, x))"
   ],
   "execution_count":21,
   "outputs":[
    
   ],
   "metadata":{
    "datalore":{
     "node_id":"IQEwlGUjn2COs05GilFjzW",
     "type":"CODE",
     "hide_input_from_viewers":true,
     "hide_output_from_viewers":true
    }
   }
  },
  {
   "cell_type":"code",
   "source":[
    "plt.plot(x, y)"
   ],
   "execution_count":22,
   "outputs":[
    {
     "data":{
      "text\/plain":[
       "[<matplotlib.lines.Line2D at 0x7f37a9b1cbe0>]"
      ]
     },
     "metadata":{
      
     },
     "output_type":"display_data"
    },
    {
     "data":{
      "image\/png":"[encoded data removed]"
     },
     "metadata":{
      "image\/png":{
       
      }
     },
     "output_type":"display_data"
    }
   ],
   "metadata":{
    "datalore":{
     "node_id":"fRrrpDXcPkI8qGrMIjYowa",
     "type":"CODE",
     "hide_input_from_viewers":true,
     "hide_output_from_viewers":true
    }
   }
  },
  {
   "cell_type":"code",
   "source":[
    "x_points = [2, 4, 8, 10,  16]\n",
    "\n",
    "def get_matrixe(x_points):\n",
    "    \"\"\"Матриця з многочленів степеня len(x_points)\"\"\"\n",
    "    matrixe = []\n",
    "    \n",
    "    for x in x_points:\n",
    "        row = []\n",
    "        for i in range(len(x_points)):\n",
    "            row.append(x**i)\n",
    "        \n",
    "        matrixe.append(row)\n",
    "    \n",
    "    return matrixe\n",
    "\n",
    "A = get_matrixe(x_points)\n",
    "A"
   ],
   "execution_count":29,
   "outputs":[
    {
     "data":{
      "text\/plain":[
       "[[1, 2, 4, 8, 16],\n",
       " [1, 4, 16, 64, 256],\n",
       " [1, 8, 64, 512, 4096],\n",
       " [1, 10, 100, 1000, 10000],\n",
       " [1, 16, 256, 4096, 65536]]"
      ]
     },
     "metadata":{
      
     },
     "output_type":"display_data"
    }
   ],
   "metadata":{
    "datalore":{
     "node_id":"Z1rTAO6PLgrOo9Wewxa1uQ",
     "type":"CODE",
     "hide_input_from_viewers":true,
     "hide_output_from_viewers":true
    }
   }
  },
  {
   "cell_type":"code",
   "source":[
    "y_points = list(map(f, x_points))\n",
    "y_points"
   ],
   "execution_count":30,
   "outputs":[
    {
     "data":{
      "text\/plain":[
       "[2.3150338432311584,\n",
       " 1.7468459495903677,\n",
       " 2.316170159053224,\n",
       " 2.5054164070002463,\n",
       " -0.28745171200358255]"
      ]
     },
     "metadata":{
      
     },
     "output_type":"display_data"
    }
   ],
   "metadata":{
    "datalore":{
     "node_id":"zEEJPm1JCzrlb4ZlWxyPsV",
     "type":"CODE",
     "hide_input_from_viewers":true,
     "hide_output_from_viewers":true
    }
   }
  },
  {
   "cell_type":"code",
   "source":[
    "w = np.linalg.solve(A, y_points)\n",
    "w"
   ],
   "execution_count":31,
   "outputs":[
    {
     "data":{
      "text\/html":[
       "<pre>array([ 4.29909673e+00, -1.47342684e+00,  2.75243499e-01, -1.79451851e-02,\n",
       "        3.36142323e-04])<\/pre>"
      ]
     },
     "metadata":{
      
     },
     "output_type":"display_data"
    }
   ],
   "metadata":{
    "datalore":{
     "node_id":"Qhgu5DuK8hgiMWq671BsRG",
     "type":"CODE",
     "hide_input_from_viewers":true,
     "hide_output_from_viewers":true
    }
   }
  },
  {
   "cell_type":"code",
   "source":[
    "def get_app(w, x_points):\n",
    "    y = []\n",
    "    \n",
    "    for x in x_points:\n",
    "        y_row = 0\n",
    "        \n",
    "        for j in range(len(w)):\n",
    "            y_row += w[j] * (x**j)\n",
    "        y.append(y_row)\n",
    "        \n",
    "    return y\n",
    "\n",
    "\n",
    "y_app = get_app(w, x)"
   ],
   "execution_count":32,
   "outputs":[
    
   ],
   "metadata":{
    "datalore":{
     "node_id":"hJrBkqlR1Dx5au36DUU6Nw",
     "type":"CODE",
     "hide_input_from_viewers":true,
     "hide_output_from_viewers":true
    }
   }
  },
  {
   "cell_type":"code",
   "source":[
    "fig, ax = plt.subplots()\n",
    "\n",
    "ax.plot(x, y)\n",
    "ax.plot(x, y_app)"
   ],
   "execution_count":33,
   "outputs":[
    {
     "data":{
      "text\/plain":[
       "[<matplotlib.lines.Line2D at 0x7f6323fa7f70>]"
      ]
     },
     "metadata":{
      
     },
     "output_type":"display_data"
    },
    {
     "data":{
      "image\/png":"[encoded data removed]"
     },
     "metadata":{
      "image\/png":{
       
      }
     },
     "output_type":"display_data"
    }
   ],
   "metadata":{
    "datalore":{
     "node_id":"jygGe2Ifw67TxeINhNWj73",
     "type":"CODE",
     "hide_input_from_viewers":true,
     "hide_output_from_viewers":true
    }
   }
  },
  {
   "cell_type":"markdown",
   "source":[
    "# Задачі оптимізації"
   ],
   "attachments":{
    
   },
   "metadata":{
    "datalore":{
     "node_id":"Fxtbqo8dedAC7o54OCzaxQ",
     "type":"MD",
     "hide_input_from_viewers":true,
     "hide_output_from_viewers":true
    }
   }
  },
  {
   "cell_type":"markdown",
   "source":[
    "У багатьох задачах вимагається не просто знайти який-небудь розв&#39;язок, а\n",
    "підібрати серед усіх розв&#39;язків найкращий (оптимальний). Йдеться про такі\n",
    "задачі, як підбір збалансованого раціону харчування, оптимізація\n",
    "асортименту продукції, оптимізація транспортних перевезень та багато інших\n",
    "– їх ще називають оптимізаційними.\n",
    "Перш ніж приступати до розв&#39;язування оптимізаційної задачі, потрібно\n",
    "описати її в математичному вигляді, тобто побудувати її математичну\n",
    "модель. Модель оптимізаційної задачі складається з таких елементів:\n",
    "\n",
    "- змінні – невідомі величини, значення яких потрібно знайти в результаті\n",
    "розв&#39;язання задачі;\n",
    "\n",
    "- цільова функція – величина, яка залежить від змінних і значення якої\n",
    "потрібно максимізувати чи мінімізувати;\n",
    "\n",
    "- критерій – вимога мінімізації чи максимізації цільової функції.\n",
    "  \n",
    "- обмеження – умови, яким мають задовольняти змінні.\n",
    "  \n",
    "Найпростішою оптимізаційною задачею вважається задача пошуку\n",
    "максимального або мінімального значення функції однієї змінної. \n",
    "Добре дослідженим та важливим для планування виробничих процесів\n",
    "різновидом оптимізаційних задач є задачі лінійного програмування (ЗЛП),\n",
    "тобто задачі, в яких цільова функція та обмеження є лінійними.\n",
    "Загалом алгоритм розв&#39;язання оптимізаційної задачі такий.\n",
    "1. Введення позначень. Потрібно визначити, яка змінна яку величину\n",
    "позначатиме.\n",
    "2. Створення цільової функції та критерію. Слід визначити, яка величина\n",
    "максимізуватиметься чи мінімізуватиметься, та записати формулу\n",
    "залежності цієї величини від змінних, тобто формулу цільової функції.\n",
    "Нею може бути вартість продукції, обсяг прибутку, обсяг витрат на\n",
    "виробництво та перевезення.\n",
    "3. Складання системи обмежень. Обмеження – це нерівності або рівності,\n",
    "яким мають задовольняти значення змінних.\n",
    "4. Розв&#39;язання задачі. Деякі оптимізаційні задачі можна розв’язати\n",
    "аналітично, без використання комп&#39;ютера, проте цей спосіб надто\n",
    "трудомісткий. "
   ],
   "attachments":{
    
   },
   "metadata":{
    "datalore":{
     "node_id":"EH3NfndP0RTRu91JCYjy7c",
     "type":"MD",
     "hide_input_from_viewers":true,
     "hide_output_from_viewers":true
    }
   }
  },
  {
   "cell_type":"markdown",
   "source":[
    "### Задача 1"
   ],
   "attachments":{
    
   },
   "metadata":{
    "datalore":{
     "node_id":"RTEIzAhc5NhKiBbEFvCACE",
     "type":"MD",
     "hide_input_from_viewers":false,
     "hide_output_from_viewers":false,
     "report_properties":{
      "rowId":"cugXAoZJg96Dl97Ltqicuy"
     }
    }
   }
  },
  {
   "cell_type":"markdown",
   "source":[
    "Витрати на рекламу в місяць не повинні перевищувати 10 000 $. \n",
    "\n",
    "Хвилина радіореклами коштує 5, а телереклами 90\n",
    "\n",
    "Фірма має намір використовувати радіорекламу в три рази частіше ніж телерекламу. \n",
    "\n",
    "Практика показує, що 1 хвилина телереклами забезпечує обсяг продажів в 30 разів більший ніж 1 хвилина радіореклами."
   ],
   "attachments":{
    
   },
   "metadata":{
    "datalore":{
     "node_id":"Zi04dnGLequAjUpp9NLmyb",
     "type":"MD",
     "hide_input_from_viewers":false,
     "hide_output_from_viewers":false,
     "report_properties":{
      "rowId":"C5T7u2lhcl5u0ccbJao6IL"
     }
    }
   }
  },
  {
   "cell_type":"markdown",
   "source":[
    "**Умови:**\n",
    "\n",
    "$ x1 $ - к-сть хв на радіорекламу \n",
    "\n",
    "$ x2 $ - к-сть хв на телерекламу \n",
    "\n",
    "$ 30x1 + x2 -> max$\n",
    "\n",
    "$ 5x1+90x2 <=10000 $\n",
    "\n",
    "$ 3x2 = x1 $\n",
    "\n"
   ],
   "attachments":{
    
   },
   "metadata":{
    "datalore":{
     "node_id":"2EpujqbsFdpP4hD5QyTkL7",
     "type":"MD",
     "hide_input_from_viewers":false,
     "hide_output_from_viewers":false,
     "report_properties":{
      "rowId":"ULQ9uwMeNVhWA2jmezR6aK"
     }
    }
   }
  },
  {
   "cell_type":"code",
   "source":[
    "L =  [ [1, 2] ]\n",
    "L"
   ],
   "execution_count":27,
   "outputs":[
    {
     "data":{
      "text\/plain":[
       "[[1, 2]]"
      ]
     },
     "metadata":{
      
     },
     "output_type":"display_data"
    }
   ],
   "metadata":{
    "datalore":{
     "node_id":"IjnLUGo2cIEQXSgtxmtX10",
     "type":"CODE",
     "hide_input_from_viewers":true,
     "hide_output_from_viewers":true
    }
   }
  },
  {
   "cell_type":"code",
   "source":[
    "from scipy.optimize import linprog\n",
    "\n",
    "\n",
    "c = [-1,-30] #Функция цели\n",
    "A_ub = [5,90]  #'1'   \n",
    "b_ub = [10000]#'1'   \n",
    "A_eq = [[3,-1]] #'2'   \n",
    "b_eq = [0] #'2'   \n",
    "\n",
    "linprog(с=[-1,-30], A_ub=A_ub, b_ub, A_eq, b_eq)"
   ],
   "execution_count":24,
   "outputs":[
    {
     "data":{
      "text\/plain":[
       "        message: Optimization terminated successfully. (HiGHS Status 7: Optimal)\n",
       "        success: True\n",
       "         status: 0\n",
       "            fun: -3309.0909090909095\n",
       "              x: [ 3.636e+01  1.091e+02]\n",
       "            nit: 0\n",
       "          lower:  residual: [ 3.636e+01  1.091e+02]\n",
       "                 marginals: [ 0.000e+00  0.000e+00]\n",
       "          upper:  residual: [       inf        inf]\n",
       "                 marginals: [ 0.000e+00  0.000e+00]\n",
       "          eqlin:  residual: [ 0.000e+00]\n",
       "                 marginals: [ 2.182e-01]\n",
       "        ineqlin:  residual: [ 0.000e+00]\n",
       "                 marginals: [-3.309e-01]\n",
       " mip_node_count: 0\n",
       " mip_dual_bound: 0.0\n",
       "        mip_gap: 0.0"
      ]
     },
     "metadata":{
      
     },
     "output_type":"display_data"
    }
   ],
   "metadata":{
    "datalore":{
     "node_id":"2pUnpjMzma699MEkYQoU9c",
     "type":"CODE",
     "hide_input_from_viewers":false,
     "hide_output_from_viewers":false,
     "report_properties":{
      "rowId":"e4d7PEF2PaqgDqRQ1TFF1O"
     }
    }
   }
  },
  {
   "cell_type":"markdown",
   "source":[
    "### Задача 2"
   ],
   "attachments":{
    
   },
   "metadata":{
    "datalore":{
     "node_id":"WIVE2isQNQ5arl9tPzMlul",
     "type":"MD",
     "hide_input_from_viewers":false,
     "hide_output_from_viewers":false,
     "report_properties":{
      "rowId":"9TG2QOY5tldotcrI2i7LsY"
     }
    }
   }
  },
  {
   "cell_type":"markdown",
   "source":[
    "Скільки потрібно працівників на роботу в ресторан, якщо один працівник працює 5 днів в тижень.\n",
    "Враховуючи наплив клієнтів, в кожен день тижня потрібна певна к-сть працівників:\n",
    "\n",
    "Д1 = 14\n",
    "\n",
    "Д2 = 13\n",
    "\n",
    "Д3 = 15\n",
    "\n",
    "Д4 = 16\n",
    "\n",
    "Д5 = 19\n",
    "\n",
    "Д6 = 18 \n",
    "\n",
    "Д7 = 11 "
   ],
   "attachments":{
    
   },
   "metadata":{
    "datalore":{
     "node_id":"XxuLCo4lCwb7aMY1iyV0sv",
     "type":"MD",
     "hide_input_from_viewers":false,
     "hide_output_from_viewers":false,
     "report_properties":{
      "rowId":"vF5VXEioE6J22EOYGwq74m"
     }
    }
   }
  },
  {
   "cell_type":"markdown",
   "source":[
    "Дану задачу можна представити такою системою:\n",
    "$$\n",
    " \\begin{array}{rll}\n",
    " \\displaystyle \\min_{x\\in \\mathbb{R}^7} & x_1 + x_2 + x_3 + x_4 + x_5 + x_6 + x_7 \\\\\n",
    " \\,{\\rm s.t.} & \\begin{array}[t]{rcl}\n",
    "            x_1 + x_4 + x_5 + x_6 + x_7 & \\geq & 14 \\\\\n",
    "            x_1 + x_2 + x_5 + x_6 + x_7 & \\geq & 13 \\\\\n",
    "            x_1 + x_2 + x_3 + x_6 + x_7 & \\geq & 15 \\\\\n",
    "            x_1 + x_2 + x_3 + x_4 + x_7 & \\geq & 16 \\\\\n",
    "            x_1 + x_2 + x_3 + x_4 + x_5 & \\geq & 19 \\\\\n",
    "            x_2 + x_3 + x_4 + x_5 + x_6 & \\geq & 18 \\\\\n",
    "            x_3 + x_4 + x_5 + x_6 + x_7 & \\geq & 11 \\\\\n",
    "            x_i & \\geq & 0 ~~~~ \\forall ~i\n",
    "       \\end{array}\n",
    "   \\end{array}\n",
    "$$"
   ],
   "attachments":{
    
   },
   "metadata":{
    "datalore":{
     "node_id":"E7aPCYJWrtpQgMfcCr0uNW",
     "type":"MD",
     "hide_input_from_viewers":false,
     "hide_output_from_viewers":false,
     "report_properties":{
      "rowId":"IXlxHpA7qBQi5lwxnH0ibj"
     }
    }
   }
  },
  {
   "cell_type":"code",
   "source":[
    
   ],
   "execution_count":null,
   "outputs":[
    
   ],
   "metadata":{
    "datalore":{
     "node_id":"dz03PMzfEFa7wgAmx4QI4i",
     "type":"CODE",
     "hide_input_from_viewers":false,
     "hide_output_from_viewers":false,
     "report_properties":{
      "rowId":"clLnBQIhmlSmY7JBLfnbes"
     }
    }
   }
  },
  {
   "cell_type":"markdown",
   "source":[
    "### Задача 3"
   ],
   "attachments":{
    
   },
   "metadata":{
    "datalore":{
     "node_id":"oEwEyUz7gQoN4Gk3hWYvxP",
     "type":"MD",
     "hide_input_from_viewers":false,
     "hide_output_from_viewers":false,
     "report_properties":{
      "rowId":"TS9gIvC60WjL1B6I3zmPli"
     }
    }
   }
  },
  {
   "cell_type":"markdown",
   "source":[
    "*Центральна гранична теорема* — теорема теорії ймовірностей про збіжність розподілу суми незалежних однаково розподілених випадкових величин до нормального розподілу. Ця теорема підкреслює особливість нормального розподілу в теорії ймовірностей."
   ],
   "attachments":{
    
   },
   "metadata":{
    "datalore":{
     "node_id":"pCUrFVGRpJSn4hwe8EYvYV",
     "type":"MD",
     "hide_input_from_viewers":false,
     "hide_output_from_viewers":false,
     "report_properties":{
      "rowId":"OxF6ZuEjmwx5U3yp3LA1VJ"
     }
    }
   }
  },
  {
   "cell_type":"code",
   "source":[
    "# https:\/\/www.kaggle.com\/mnavas\/mexico-city-and-quito-extra-data\/?select=mex_clean.csv"
   ],
   "execution_count":null,
   "outputs":[
    
   ],
   "metadata":{
    "datalore":{
     "node_id":"tyOgrchLZ0NGpw5jBghblF",
     "type":"CODE",
     "hide_input_from_viewers":false,
     "hide_output_from_viewers":false,
     "report_properties":{
      "rowId":"ubZHiPybwFlrCCfBFNbAud"
     }
    }
   }
  },
  {
   "cell_type":"code",
   "source":[
    "import numpy as np\n",
    "from scipy import stats\n",
    "import matplotlib.pyplot as plt\n",
    "import pandas as pd"
   ],
   "execution_count":null,
   "outputs":[
    
   ],
   "metadata":{
    "datalore":{
     "node_id":"oMpTuyL3K8rjotQvX2boc0",
     "type":"CODE",
     "hide_input_from_viewers":false,
     "hide_output_from_viewers":false,
     "report_properties":{
      "rowId":"YvyBfjFXav2a19upyXQ6Sw"
     }
    }
   }
  },
  {
   "cell_type":"code",
   "source":[
    "taxi_mex = pd.read_csv('mex_clean.csv')\n",
    "taxi_mex.head()"
   ],
   "execution_count":null,
   "outputs":[
    {
     "data":{
      "text\/html":[
       "<div>\n",
       "<style scoped>\n",
       "    .dataframe tbody tr th:only-of-type {\n",
       "        vertical-align: middle;\n",
       "    }\n",
       "\n",
       "    .dataframe tbody tr th {\n",
       "        vertical-align: top;\n",
       "    }\n",
       "\n",
       "    .dataframe thead th {\n",
       "        text-align: right;\n",
       "    }\n",
       "<\/style>\n",
       "<table border=\"1\" class=\"dataframe\">\n",
       "  <thead>\n",
       "    <tr style=\"text-align: right;\">\n",
       "      <th><\/th>\n",
       "      <th>id<\/th>\n",
       "      <th>vendor_id<\/th>\n",
       "      <th>pickup_datetime<\/th>\n",
       "      <th>dropoff_datetime<\/th>\n",
       "      <th>pickup_longitude<\/th>\n",
       "      <th>pickup_latitude<\/th>\n",
       "      <th>dropoff_longitude<\/th>\n",
       "      <th>dropoff_latitude<\/th>\n",
       "      <th>store_and_fwd_flag<\/th>\n",
       "      <th>trip_duration<\/th>\n",
       "      <th>dist_meters<\/th>\n",
       "      <th>wait_sec<\/th>\n",
       "    <\/tr>\n",
       "  <\/thead>\n",
       "  <tbody>\n",
       "    <tr>\n",
       "      <th>0<\/th>\n",
       "      <td>1<\/td>\n",
       "      <td>México DF Taxi de Sitio<\/td>\n",
       "      <td>2016-09-16 07:14:12<\/td>\n",
       "      <td>2016-09-18 04:41:40<\/td>\n",
       "      <td>-99.097369<\/td>\n",
       "      <td>19.416874<\/td>\n",
       "      <td>-99.202729<\/td>\n",
       "      <td>19.430353<\/td>\n",
       "      <td>N<\/td>\n",
       "      <td>120449<\/td>\n",
       "      <td>12373<\/td>\n",
       "      <td>242<\/td>\n",
       "    <\/tr>\n",
       "    <tr>\n",
       "      <th>1<\/th>\n",
       "      <td>2<\/td>\n",
       "      <td>México DF Taxi Libre<\/td>\n",
       "      <td>2016-09-18 06:16:33<\/td>\n",
       "      <td>2016-09-18 10:11:43<\/td>\n",
       "      <td>-99.297148<\/td>\n",
       "      <td>19.322128<\/td>\n",
       "      <td>-99.289949<\/td>\n",
       "      <td>19.326538<\/td>\n",
       "      <td>N<\/td>\n",
       "      <td>14110<\/td>\n",
       "      <td>1700<\/td>\n",
       "      <td>461<\/td>\n",
       "    <\/tr>\n",
       "    <tr>\n",
       "      <th>2<\/th>\n",
       "      <td>3<\/td>\n",
       "      <td>México DF Taxi Libre<\/td>\n",
       "      <td>2016-09-18 10:11:50<\/td>\n",
       "      <td>2016-09-18 10:23:11<\/td>\n",
       "      <td>-99.289603<\/td>\n",
       "      <td>19.326263<\/td>\n",
       "      <td>-99.271874<\/td>\n",
       "      <td>19.328530<\/td>\n",
       "      <td>N<\/td>\n",
       "      <td>681<\/td>\n",
       "      <td>2848<\/td>\n",
       "      <td>129<\/td>\n",
       "    <\/tr>\n",
       "    <tr>\n",
       "      <th>3<\/th>\n",
       "      <td>4<\/td>\n",
       "      <td>México DF Taxi Libre<\/td>\n",
       "      <td>2016-09-18 10:23:38<\/td>\n",
       "      <td>2016-09-18 10:30:53<\/td>\n",
       "      <td>-99.271161<\/td>\n",
       "      <td>19.328875<\/td>\n",
       "      <td>-99.279900<\/td>\n",
       "      <td>19.326256<\/td>\n",
       "      <td>N<\/td>\n",
       "      <td>436<\/td>\n",
       "      <td>1409<\/td>\n",
       "      <td>106<\/td>\n",
       "    <\/tr>\n",
       "    <tr>\n",
       "      <th>4<\/th>\n",
       "      <td>5<\/td>\n",
       "      <td>México DF Taxi Libre<\/td>\n",
       "      <td>2016-09-18 10:44:18<\/td>\n",
       "      <td>2016-09-18 10:51:40<\/td>\n",
       "      <td>-99.282761<\/td>\n",
       "      <td>19.326944<\/td>\n",
       "      <td>-99.291705<\/td>\n",
       "      <td>19.322754<\/td>\n",
       "      <td>N<\/td>\n",
       "      <td>442<\/td>\n",
       "      <td>1567<\/td>\n",
       "      <td>85<\/td>\n",
       "    <\/tr>\n",
       "  <\/tbody>\n",
       "<\/table>\n",
       "<\/div>"
      ]
     },
     "metadata":{
      
     },
     "output_type":"display_data"
    },
    {
     "data":{
      "text\/plain":[
       "   id                vendor_id      pickup_datetime     dropoff_datetime  \\\n",
       "0   1  México DF Taxi de Sitio  2016-09-16 07:14:12  2016-09-18 04:41:40   \n",
       "1   2     México DF Taxi Libre  2016-09-18 06:16:33  2016-09-18 10:11:43   \n",
       "2   3     México DF Taxi Libre  2016-09-18 10:11:50  2016-09-18 10:23:11   \n",
       "3   4     México DF Taxi Libre  2016-09-18 10:23:38  2016-09-18 10:30:53   \n",
       "4   5     México DF Taxi Libre  2016-09-18 10:44:18  2016-09-18 10:51:40   \n",
       "\n",
       "   pickup_longitude  pickup_latitude  dropoff_longitude  dropoff_latitude  \\\n",
       "0        -99.097369        19.416874         -99.202729         19.430353   \n",
       "1        -99.297148        19.322128         -99.289949         19.326538   \n",
       "2        -99.289603        19.326263         -99.271874         19.328530   \n",
       "3        -99.271161        19.328875         -99.279900         19.326256   \n",
       "4        -99.282761        19.326944         -99.291705         19.322754   \n",
       "\n",
       "  store_and_fwd_flag  trip_duration  dist_meters  wait_sec  \n",
       "0                  N         120449        12373       242  \n",
       "1                  N          14110         1700       461  \n",
       "2                  N            681         2848       129  \n",
       "3                  N            436         1409       106  \n",
       "4                  N            442         1567        85  "
      ]
     },
     "metadata":{
      
     },
     "output_type":"display_data"
    }
   ],
   "metadata":{
    "datalore":{
     "node_id":"0ZnaVNSkTKXJXiC6lK325Z",
     "type":"CODE",
     "hide_input_from_viewers":false,
     "hide_output_from_viewers":false,
     "report_properties":{
      "rowId":"58IlwHQw4YDL7XCs9zXXzx"
     }
    }
   }
  },
  {
   "cell_type":"code",
   "source":[
    "taxi_mex.shape"
   ],
   "execution_count":null,
   "outputs":[
    {
     "data":{
      "text\/plain":[
       "(12694, 12)"
      ]
     },
     "metadata":{
      
     },
     "output_type":"display_data"
    }
   ],
   "metadata":{
    "datalore":{
     "node_id":"2YqfSQJ89KdN6QpSyp38Td",
     "type":"CODE",
     "hide_input_from_viewers":false,
     "hide_output_from_viewers":false,
     "report_properties":{
      "rowId":"BCEntVs7tQkE5Pv5OukRYk"
     }
    }
   }
  },
  {
   "cell_type":"code",
   "source":[
    "plt.hist(taxi_mex['dist_meters'], bins=100)"
   ],
   "execution_count":null,
   "outputs":[
    {
     "name":"stdout",
     "text":[
      "\n"
     ],
     "output_type":"stream"
    },
    {
     "name":"stderr",
     "text":[
      "\n"
     ],
     "output_type":"stream"
    },
    {
     "data":{
      "text\/plain":[
       "(array([9.420e+03, 2.108e+03, 7.020e+02, 2.480e+02, 1.000e+02, 3.500e+01,\n",
       "        2.300e+01, 2.400e+01, 1.300e+01, 8.000e+00, 4.000e+00, 2.000e+00,\n",
       "        1.000e+00, 1.000e+00, 0.000e+00, 0.000e+00, 1.000e+00, 0.000e+00,\n",
       "        1.000e+00, 0.000e+00, 0.000e+00, 0.000e+00, 0.000e+00, 0.000e+00,\n",
       "        0.000e+00, 0.000e+00, 0.000e+00, 0.000e+00, 1.000e+00, 0.000e+00,\n",
       "        0.000e+00, 0.000e+00, 0.000e+00, 0.000e+00, 0.000e+00, 0.000e+00,\n",
       "        0.000e+00, 1.000e+00, 0.000e+00, 0.000e+00, 0.000e+00, 0.000e+00,\n",
       "        0.000e+00, 0.000e+00, 0.000e+00, 0.000e+00, 0.000e+00, 0.000e+00,\n",
       "        0.000e+00, 0.000e+00, 0.000e+00, 0.000e+00, 0.000e+00, 0.000e+00,\n",
       "        0.000e+00, 0.000e+00, 0.000e+00, 0.000e+00, 0.000e+00, 0.000e+00,\n",
       "        0.000e+00, 0.000e+00, 0.000e+00, 0.000e+00, 0.000e+00, 0.000e+00,\n",
       "        0.000e+00, 0.000e+00, 0.000e+00, 0.000e+00, 0.000e+00, 0.000e+00,\n",
       "        0.000e+00, 0.000e+00, 0.000e+00, 0.000e+00, 0.000e+00, 0.000e+00,\n",
       "        0.000e+00, 0.000e+00, 0.000e+00, 0.000e+00, 0.000e+00, 0.000e+00,\n",
       "        0.000e+00, 0.000e+00, 0.000e+00, 0.000e+00, 0.000e+00, 0.000e+00,\n",
       "        0.000e+00, 0.000e+00, 0.000e+00, 0.000e+00, 0.000e+00, 0.000e+00,\n",
       "        0.000e+00, 0.000e+00, 0.000e+00, 1.000e+00]),\n",
       " array([2.1000000e+01, 8.0461600e+03, 1.6071320e+04, 2.4096480e+04,\n",
       "        3.2121640e+04, 4.0146800e+04, 4.8171960e+04, 5.6197120e+04,\n",
       "        6.4222280e+04, 7.2247440e+04, 8.0272600e+04, 8.8297760e+04,\n",
       "        9.6322920e+04, 1.0434808e+05, 1.1237324e+05, 1.2039840e+05,\n",
       "        1.2842356e+05, 1.3644872e+05, 1.4447388e+05, 1.5249904e+05,\n",
       "        1.6052420e+05, 1.6854936e+05, 1.7657452e+05, 1.8459968e+05,\n",
       "        1.9262484e+05, 2.0065000e+05, 2.0867516e+05, 2.1670032e+05,\n",
       "        2.2472548e+05, 2.3275064e+05, 2.4077580e+05, 2.4880096e+05,\n",
       "        2.5682612e+05, 2.6485128e+05, 2.7287644e+05, 2.8090160e+05,\n",
       "        2.8892676e+05, 2.9695192e+05, 3.0497708e+05, 3.1300224e+05,\n",
       "        3.2102740e+05, 3.2905256e+05, 3.3707772e+05, 3.4510288e+05,\n",
       "        3.5312804e+05, 3.6115320e+05, 3.6917836e+05, 3.7720352e+05,\n",
       "        3.8522868e+05, 3.9325384e+05, 4.0127900e+05, 4.0930416e+05,\n",
       "        4.1732932e+05, 4.2535448e+05, 4.3337964e+05, 4.4140480e+05,\n",
       "        4.4942996e+05, 4.5745512e+05, 4.6548028e+05, 4.7350544e+05,\n",
       "        4.8153060e+05, 4.8955576e+05, 4.9758092e+05, 5.0560608e+05,\n",
       "        5.1363124e+05, 5.2165640e+05, 5.2968156e+05, 5.3770672e+05,\n",
       "        5.4573188e+05, 5.5375704e+05, 5.6178220e+05, 5.6980736e+05,\n",
       "        5.7783252e+05, 5.8585768e+05, 5.9388284e+05, 6.0190800e+05,\n",
       "        6.0993316e+05, 6.1795832e+05, 6.2598348e+05, 6.3400864e+05,\n",
       "        6.4203380e+05, 6.5005896e+05, 6.5808412e+05, 6.6610928e+05,\n",
       "        6.7413444e+05, 6.8215960e+05, 6.9018476e+05, 6.9820992e+05,\n",
       "        7.0623508e+05, 7.1426024e+05, 7.2228540e+05, 7.3031056e+05,\n",
       "        7.3833572e+05, 7.4636088e+05, 7.5438604e+05, 7.6241120e+05,\n",
       "        7.7043636e+05, 7.7846152e+05, 7.8648668e+05, 7.9451184e+05,\n",
       "        8.0253700e+05]),\n",
       " <a list of 100 Patch objects>)"
      ]
     },
     "metadata":{
      
     },
     "output_type":"display_data"
    },
    {
     "data":{
      "image\/png":"[encoded data removed]"
     },
     "metadata":{
      "image\/png":{
       
      }
     },
     "output_type":"display_data"
    },
    {
     "data":{
      "text\/plain":[
       "<Figure size 432x288 with 1 Axes>"
      ]
     },
     "metadata":{
      
     },
     "output_type":"display_data"
    }
   ],
   "metadata":{
    "datalore":{
     "node_id":"A96Oe0sSxfex6pu2VWsrt8",
     "type":"CODE",
     "hide_input_from_viewers":false,
     "hide_output_from_viewers":false,
     "report_properties":{
      "rowId":"W0ghfjUPFtav4LUH5Vidmg"
     }
    }
   }
  },
  {
   "cell_type":"code",
   "source":[
    "taxi_mex.shape"
   ],
   "execution_count":null,
   "outputs":[
    {
     "data":{
      "text\/plain":[
       "(12694, 12)"
      ]
     },
     "metadata":{
      
     },
     "output_type":"display_data"
    }
   ],
   "metadata":{
    "datalore":{
     "node_id":"DYpNzSujbda3fWsMhLjepI",
     "type":"CODE",
     "hide_input_from_viewers":false,
     "hide_output_from_viewers":false,
     "report_properties":{
      "rowId":"3y7PFhNoutBPjlAnxAUv6R"
     }
    }
   }
  },
  {
   "cell_type":"code",
   "source":[
    "def generate_distribution_sample(data, sample_size, dist_size):\n",
    "    sample_means = []\n",
    "    for i in range(dist_size):\n",
    "        sample = np.random.choice(a = data, size = sample_size)\n",
    "        sample_means.append(np.mean(sample))\n",
    "    return sample_means"
   ],
   "execution_count":null,
   "outputs":[
    
   ],
   "metadata":{
    "datalore":{
     "node_id":"Oimrk2Beubf1DMmGHXP9r7",
     "type":"CODE",
     "hide_input_from_viewers":false,
     "hide_output_from_viewers":false,
     "report_properties":{
      "rowId":"c11hSfsCsmpiSLoGwdIoEh"
     }
    }
   }
  },
  {
   "cell_type":"code",
   "source":[
    "sample_size = 1000000\n",
    "dist_size = 50000\n",
    "sample_means = generate_distribution_sample(taxi_mex['dist_meters']\/1000, sample_size, dist_size)"
   ],
   "execution_count":null,
   "outputs":[
    {
     "ename":"KeyboardInterrupt",
     "evalue":"KeyboardInterrupt: ",
     "traceback":[
      "\u001b[0;31m---------------------------------------------------------------------------",
      "Traceback (most recent call last)",
      "KeyboardInterrupt: "
     ],
     "output_type":"error"
    }
   ],
   "metadata":{
    "datalore":{
     "node_id":"ZoJzKvyzQUWoQWJiCzMiVH",
     "type":"CODE",
     "hide_input_from_viewers":false,
     "hide_output_from_viewers":false,
     "report_properties":{
      "rowId":"oTTzqHawrLkqkoP4MBN1oM"
     }
    }
   }
  },
  {
   "cell_type":"code",
   "source":[
    "plt.hist(sample_means, bins=100)\n",
    "plt.xlabel('distance in km')"
   ],
   "execution_count":null,
   "outputs":[
    
   ],
   "metadata":{
    "datalore":{
     "node_id":"4t458cGAw5sGuPC7bIg6pw",
     "type":"CODE",
     "hide_input_from_viewers":false,
     "hide_output_from_viewers":false,
     "report_properties":{
      "rowId":"LDOH7fWJ3y1w3h3nO7Oo1D"
     }
    }
   }
  },
  {
   "cell_type":"code",
   "source":[
    "np.sort(sample_means)\n",
    "lb = np.percentile(sample_means, 2.5)\n",
    "ub = np.percentile(sample_means, 97.5)\n",
    "print(\"conf interval\", (lb, ub))"
   ],
   "execution_count":null,
   "outputs":[
    {
     "name":"stdout",
     "text":[
      "conf interval (6.459584370000001, 6.906920025)\n"
     ],
     "output_type":"stream"
    }
   ],
   "metadata":{
    "datalore":{
     "node_id":"tVrfgjjXKCnfBFLDlB6gfI",
     "type":"CODE",
     "hide_input_from_viewers":false,
     "hide_output_from_viewers":false,
     "report_properties":{
      "rowId":"sOZN2dTGt7zEZl2YUnjGMp"
     }
    }
   }
  },
  {
   "cell_type":"markdown",
   "source":[
    "#### Перевірка на нормальність"
   ],
   "attachments":{
    
   },
   "metadata":{
    "datalore":{
     "node_id":"CktXh6SrLZDWqdhi5wbhj6",
     "type":"MD",
     "hide_input_from_viewers":false,
     "hide_output_from_viewers":false,
     "report_properties":{
      "rowId":"dQc6y5GAPHOHHxWKFXHCFD"
     }
    }
   }
  },
  {
   "cell_type":"code",
   "source":[
    "from numpy.random import seed, normal\n",
    "\n",
    "seed(1)\n",
    "\n",
    "mean = 50\n",
    "stev = 10\n",
    "\n",
    "\n",
    "results1 = normal(mean, stev, 1000)"
   ],
   "execution_count":null,
   "outputs":[
    
   ],
   "metadata":{
    "datalore":{
     "node_id":"3vgG0p8UfrCy9IabiuD3er",
     "type":"CODE",
     "hide_input_from_viewers":false,
     "hide_output_from_viewers":false,
     "report_properties":{
      "rowId":"DcsQE2ZBoRn6Pphjr26RxQ"
     }
    }
   }
  },
  {
   "cell_type":"code",
   "source":[
    "mean = 60\n",
    "stev = 10\n",
    "\n",
    "results2 = normal(mean, stev, 1000)"
   ],
   "execution_count":null,
   "outputs":[
    
   ],
   "metadata":{
    "datalore":{
     "node_id":"TIFYZIfuw7PdAPIZprzNJj",
     "type":"CODE",
     "hide_input_from_viewers":false,
     "hide_output_from_viewers":false,
     "report_properties":{
      "rowId":"R2uYZsgQ1JupQv6cqVbiHu"
     }
    }
   }
  },
  {
   "cell_type":"code",
   "source":[
    "from pandas import DataFrame\n",
    "results = DataFrame()\n",
    "results['A'] = results1\n",
    "results['B'] = results2"
   ],
   "execution_count":null,
   "outputs":[
    
   ],
   "metadata":{
    "datalore":{
     "node_id":"a2V58lXxsAGVanr1WJTmQl",
     "type":"CODE",
     "hide_input_from_viewers":false,
     "hide_output_from_viewers":false,
     "report_properties":{
      "rowId":"PcsVTrjNDgN4i9RS8tmkJM"
     }
    }
   }
  },
  {
   "cell_type":"code",
   "source":[
    "print(results.describe())"
   ],
   "execution_count":null,
   "outputs":[
    {
     "name":"stdout",
     "text":[
      "                 A            B\n",
      "count  1000.000000  1000.000000\n",
      "mean     50.388125    60.273254\n",
      "std       9.814950    10.305528\n",
      "min      19.462356    28.466425\n",
      "25%      43.998396    53.529044\n",
      "50%      50.412926    60.313135\n",
      "75%      57.039989    67.298686\n",
      "max      89.586027    94.326634\n"
     ],
     "output_type":"stream"
    }
   ],
   "metadata":{
    "datalore":{
     "node_id":"qCe5eQWLTMdKTDlgUG3tFY",
     "type":"CODE",
     "hide_input_from_viewers":false,
     "hide_output_from_viewers":false,
     "report_properties":{
      "rowId":"5SkOi4Yp5v551XV8zXUWMZ"
     }
    }
   }
  },
  {
   "cell_type":"code",
   "source":[
    "from matplotlib import pyplot"
   ],
   "execution_count":null,
   "outputs":[
    
   ],
   "metadata":{
    "datalore":{
     "node_id":"4d5sbj8qMDcdC1otDCujlW",
     "type":"CODE",
     "hide_input_from_viewers":false,
     "hide_output_from_viewers":false,
     "report_properties":{
      "rowId":"Qf9Kl4g9W13dpeWUWORXUh"
     }
    }
   }
  },
  {
   "cell_type":"code",
   "source":[
    "results.boxplot()\n",
    "pyplot.show()"
   ],
   "execution_count":null,
   "outputs":[
    {
     "data":{
      "image\/png":"[encoded data removed]"
     },
     "metadata":{
      "image\/png":{
       
      }
     },
     "output_type":"display_data"
    },
    {
     "data":{
      "text\/plain":[
       "<Figure size 432x288 with 1 Axes>"
      ]
     },
     "metadata":{
      
     },
     "output_type":"display_data"
    }
   ],
   "metadata":{
    "datalore":{
     "node_id":"AFo0sj2W2gDB4wsKxh0ufW",
     "type":"CODE",
     "hide_input_from_viewers":false,
     "hide_output_from_viewers":false,
     "report_properties":{
      "rowId":"3mRQuJ2kCWbDaaqMX01Bl2"
     }
    }
   }
  },
  {
   "cell_type":"code",
   "source":[
    "results.hist(bins=50)"
   ],
   "execution_count":null,
   "outputs":[
    {
     "name":"stdout",
     "text":[
      "\n"
     ],
     "output_type":"stream"
    },
    {
     "name":"stderr",
     "text":[
      "\n"
     ],
     "output_type":"stream"
    },
    {
     "data":{
      "text\/plain":[
       "array([[<matplotlib.axes._subplots.AxesSubplot object at 0x00000231A2D68188>,\n",
       "        <matplotlib.axes._subplots.AxesSubplot object at 0x00000231A2890088>]],\n",
       "      dtype=object)"
      ]
     },
     "metadata":{
      
     },
     "output_type":"display_data"
    },
    {
     "data":{
      "image\/png":"[encoded data removed]"
     },
     "metadata":{
      "image\/png":{
       
      }
     },
     "output_type":"display_data"
    },
    {
     "data":{
      "text\/plain":[
       "<Figure size 432x288 with 2 Axes>"
      ]
     },
     "metadata":{
      
     },
     "output_type":"display_data"
    }
   ],
   "metadata":{
    "datalore":{
     "node_id":"iKulgNY9K2yAnFSjHSJPE2",
     "type":"CODE",
     "hide_input_from_viewers":false,
     "hide_output_from_viewers":false,
     "report_properties":{
      "rowId":"9EHDOumNbXbA01WT1zlf2K"
     }
    }
   }
  },
  {
   "cell_type":"markdown",
   "source":[
    "Normaltest повертає 2-кортеж статистики хі-квадрат і пов'язане з ним значення p. Враховуючи нульову гіпотезу про те, що x надходить із нормального розподілу, p-значення представляє ймовірність.\n",
    "\n",
    "Якщо p-val дуже малий, це означає, що малоймовірно, щоб дані надходили з нормального розподілу"
   ],
   "attachments":{
    
   },
   "metadata":{
    "datalore":{
     "node_id":"GAinPe7cjXlUBpd9P5ywCo",
     "type":"MD",
     "hide_input_from_viewers":false,
     "hide_output_from_viewers":false,
     "report_properties":{
      "rowId":"1SiZaDNU03k4ubzyA7oxZV"
     }
    }
   }
  },
  {
   "cell_type":"code",
   "source":[
    "from scipy.stats import normaltest\n",
    "\n",
    "value, p = normaltest(results['A'])\n",
    "print(value, p)\n",
    "if p >= 0.05:\n",
    "    print('Похоже, що розподіл нормальний')\n",
    "else:\n",
    "    print('Результат навряд чи нормальний')"
   ],
   "execution_count":null,
   "outputs":[
    {
     "name":"stdout",
     "text":[
      "2.9901307811630033 0.22423394146329606\n",
      "Похоже, що розподіл нормальний\n"
     ],
     "output_type":"stream"
    }
   ],
   "metadata":{
    "datalore":{
     "node_id":"KkDwgocdGF2uir4UD7maOC",
     "type":"CODE",
     "hide_input_from_viewers":false,
     "hide_output_from_viewers":false,
     "report_properties":{
      "rowId":"AhRS4BjdMzILoIHDxe33p0"
     }
    }
   }
  },
  {
   "cell_type":"code",
   "source":[
    "value, p = normaltest(sample_means)\n",
    "if p >= 0.05:\n",
    "    print('Похоже, що розподіл нормальний')\n",
    "else:\n",
    "    print('Результат навряд чи нормальний')"
   ],
   "execution_count":null,
   "outputs":[
    {
     "name":"stdout",
     "text":[
      "Результат навряд чи нормальний\n"
     ],
     "output_type":"stream"
    }
   ],
   "metadata":{
    "datalore":{
     "node_id":"hCNK1kMdK6vgogcyt9nqlH",
     "type":"CODE",
     "hide_input_from_viewers":false,
     "hide_output_from_viewers":false,
     "report_properties":{
      "rowId":"1hbEDvjOz0fQviOK74Wymu"
     }
    }
   }
  },
  {
   "cell_type":"markdown",
   "source":[
    "Нульова гіпотеза тесту ($H_0$) або очікування за замовчуванням полягає в тому, що статистика описує нормальний розподіл.\n",
    "\n",
    "Ми не зможемо відкинути цю гіпотезу, якщо значення р більше 0,05. Ми відкидаємо цю гіпотезу, якщо p-значення < = 0,05. В цьому випадку ми вважаємо, що розподіл не є нормальним з імовірністю 95%"
   ],
   "attachments":{
    
   },
   "metadata":{
    "datalore":{
     "node_id":"bunJubpgQfhZRQ6oaJ94eg",
     "type":"MD",
     "hide_input_from_viewers":false,
     "hide_output_from_viewers":false,
     "report_properties":{
      "rowId":"pGMqlpGIz7GLqVKUEQrnQK"
     }
    }
   }
  },
  {
   "cell_type":"markdown",
   "source":[
    "#### Перевіряємо, чи є різниця між середніми статистично важлива"
   ],
   "attachments":{
    
   },
   "metadata":{
    "datalore":{
     "node_id":"vYMV6jqg3vvwlsQVlZxrVQ",
     "type":"MD",
     "hide_input_from_viewers":false,
     "hide_output_from_viewers":false,
     "report_properties":{
      "rowId":"OPLvxtccsIPQPJfZYaAaS5"
     }
    }
   }
  },
  {
   "cell_type":"code",
   "source":[
    "from scipy.stats import ttest_ind\n",
    "value, pvalue = ttest_ind(results['A'], results['B'], equal_var=True)\n",
    "print(value, pvalue)\n",
    "if pvalue > 0.05:\n",
    "    print('Вибірки з одинакового розподілу')\n",
    "else:\n",
    "    print('Вибірки з різних розподілів')"
   ],
   "execution_count":null,
   "outputs":[
    {
     "name":"stdout",
     "text":[
      "-21.96493964531936 5.803252034443177e-96\n",
      "Вибірки з різних розподілів\n"
     ],
     "output_type":"stream"
    }
   ],
   "metadata":{
    "datalore":{
     "node_id":"HBIqkM3FMEIsFiKVKH9Eee",
     "type":"CODE",
     "hide_input_from_viewers":false,
     "hide_output_from_viewers":false,
     "report_properties":{
      "rowId":"0KAGCg7WbXZIdMByrreAoi"
     }
    }
   }
  },
  {
   "cell_type":"markdown",
   "source":[
    "### Задача 3"
   ],
   "attachments":{
    
   },
   "metadata":{
    "datalore":{
     "node_id":"jXfJJlIp2FpZClPOL6fIj0",
     "type":"MD",
     "hide_input_from_viewers":false,
     "hide_output_from_viewers":false,
     "report_properties":{
      "rowId":"GlKpkTB2Rx3Bv2beUrVDM7"
     }
    }
   }
  },
  {
   "cell_type":"markdown",
   "source":[
    "#### Вбудовані метод SciPy"
   ],
   "attachments":{
    
   },
   "metadata":{
    "datalore":{
     "node_id":"BE8iHnYBCb0qMrK89ORdmX",
     "type":"MD",
     "hide_input_from_viewers":false,
     "hide_output_from_viewers":false,
     "report_properties":{
      "rowId":"X8tug0S2ipCal0ge0WeI84"
     }
    }
   }
  },
  {
   "cell_type":"markdown",
   "source":[
    "- *ttest_ind* :\n",
    "    \n",
    "    t-критерій для середніх значень двох незалежних зразків балів. Це двосторонній тест на нульову гіпотезу про те, що 2 незалежні вибірки мають однакові середні (очікувані) значення. Цей тест передбачає, що популяції мають однакові дисперсії за замовчуванням.\n",
    "    \n",
    "\n",
    "- *ttest_rel* : \n",
    "    \n",
    "    Це двосторонній тест на нульову гіпотезу про те, що 2 пов’язані або повторні зразки мають однакові середні (очікувані) значення.\n",
    "    \n",
    "    \n",
    "- *ttest_1samp* - \n",
    "\n",
    "    t-тест для середнього значення ОДНОЇ групи."
   ],
   "attachments":{
    
   },
   "metadata":{
    "datalore":{
     "node_id":"bJZwFdGQoi81jrUsa9xAEx",
     "type":"MD",
     "hide_input_from_viewers":false,
     "hide_output_from_viewers":false,
     "report_properties":{
      "rowId":"2EmXTEkSm2KV0gIIKBtr6L"
     }
    }
   }
  },
  {
   "cell_type":"markdown",
   "source":[
    "Припустимо, що ми хочемо перевірити час очікування таксі. Ми припускаємо, що середній\n",
    "час очікування - це десять хвилин. Для цього в stats вже реалізовані всі методи, і для перевірки одновиборочного критерію ми використовуємо метод ttest_1samp. Для цього нам необхідно\n",
    "передати нашу вибірку і також передати те значення середнього, яке ми очікуємо побачити.\n",
    "\n",
    "Результатом роботи цього методу буде певний клас, який повертає два параметри:\n",
    "statistic - це, власне кажучи, t-статистика, і розрахований pvalue."
   ],
   "attachments":{
    
   },
   "metadata":{
    "datalore":{
     "node_id":"HZeSjNAzBxBjwYhKEMqKmI",
     "type":"MD",
     "hide_input_from_viewers":false,
     "hide_output_from_viewers":false,
     "report_properties":{
      "rowId":"RUCiOf81xCHpFm33UZpx49"
     }
    }
   }
  },
  {
   "cell_type":"code",
   "source":[
    "sample = taxi_mex['wait_sec']\/60\n",
    "value, p = stats.ttest_1samp(sample, 10)\n",
    "\n",
    "if p > 0.05:\n",
    "    print('Подібні середні')\n",
    "else:\n",
    "    print('Не подібні')"
   ],
   "execution_count":null,
   "outputs":[
    {
     "name":"stdout",
     "text":[
      "Не подібні\n"
     ],
     "output_type":"stream"
    }
   ],
   "metadata":{
    "datalore":{
     "node_id":"8qbpaWlCtBQ14DICb3lB2x",
     "type":"CODE",
     "hide_input_from_viewers":false,
     "hide_output_from_viewers":false,
     "report_properties":{
      "rowId":"BLUUsVdwLZwAtk3nS5SlBE"
     }
    }
   }
  },
  {
   "cell_type":"code",
   "source":[
    "taxi_mex['pickup_datetime'] = pd.to_datetime(taxi_mex.pickup_datetime)\n",
    "taxi_mex['month'] = taxi_mex['pickup_datetime'].dt.month\n",
    "\n",
    "control = taxi_mex[taxi_mex.month == 11]['trip_duration'].sample(n=1000)\n",
    "treatment = taxi_mex[taxi_mex.month == 12]['trip_duration'].sample(n=1000)\n",
    "\n",
    "value, p = stats.ttest_rel(control, treatment)\n",
    "\n",
    "\n",
    "if p > 0.05:\n",
    "    print('Подібні середні')\n",
    "else:\n",
    "    print('Не подібні')"
   ],
   "execution_count":null,
   "outputs":[
    {
     "name":"stdout",
     "text":[
      "Подібні середні\n"
     ],
     "output_type":"stream"
    }
   ],
   "metadata":{
    "datalore":{
     "node_id":"fy0wTEMwdbswXIcflNzyZB",
     "type":"CODE",
     "hide_input_from_viewers":false,
     "hide_output_from_viewers":false,
     "report_properties":{
      "rowId":"7ClKGkJW9Yow76rWaHtWtr"
     }
    }
   }
  }
 ],
 "metadata":{
  "kernelspec":{
   "display_name":"Python",
   "language":"python",
   "name":"python"
  },
  "datalore":{
   "computation_mode":"JUPYTER",
   "package_manager":"pip",
   "base_environment":"default",
   "packages":[
    
   ],
   "report_row_ids":[
    "8Lhd86pJLnepCF3JqLTSyM",
    "9laP3C9GUDiEVf6gAbt4Ep",
    "y6KX2GdgCM8csF8vgPhEEs",
    "0WDCLKSfCv1cB5psSowcOn",
    "sWHZ6D4MofDrTEg2TcCTOn",
    "NoyBYWgj6DoSQlPNHQpXoz",
    "iFtrdZKoB7Af8gpZbovQZn",
    "a1932ZwoO3bseTsjdk9TY2",
    "Z3YTRcVYagFpd1LfYFSdpJ",
    "WAfElXA4zCDrAVOq6XYCnw",
    "8yxN6cuvEN4VRUaRS1NITY",
    "XfMyvWRtUWID5wUEJqtLlQ",
    "w2Lai2rP6I6bGjip5J2xrJ",
    "Ilb2SoqCl9TI2lHPwTfUhy",
    "00jQ3V4OQVDblAdbsy2LqJ",
    "Kw00SE5WrzItInkKm5vlyG",
    "cugXAoZJg96Dl97Ltqicuy",
    "C5T7u2lhcl5u0ccbJao6IL",
    "ULQ9uwMeNVhWA2jmezR6aK",
    "3ol1pGRRHwVJGWcFfkWvrK",
    "e4d7PEF2PaqgDqRQ1TFF1O",
    "66njhYYBllLMUuYchNjswL",
    "9TG2QOY5tldotcrI2i7LsY",
    "vF5VXEioE6J22EOYGwq74m",
    "IXlxHpA7qBQi5lwxnH0ibj",
    "clLnBQIhmlSmY7JBLfnbes",
    "TS9gIvC60WjL1B6I3zmPli",
    "OxF6ZuEjmwx5U3yp3LA1VJ",
    "ubZHiPybwFlrCCfBFNbAud",
    "YvyBfjFXav2a19upyXQ6Sw",
    "58IlwHQw4YDL7XCs9zXXzx",
    "BCEntVs7tQkE5Pv5OukRYk",
    "W0ghfjUPFtav4LUH5Vidmg",
    "3y7PFhNoutBPjlAnxAUv6R",
    "c11hSfsCsmpiSLoGwdIoEh",
    "oTTzqHawrLkqkoP4MBN1oM",
    "LDOH7fWJ3y1w3h3nO7Oo1D",
    "sOZN2dTGt7zEZl2YUnjGMp",
    "dQc6y5GAPHOHHxWKFXHCFD",
    "DcsQE2ZBoRn6Pphjr26RxQ",
    "R2uYZsgQ1JupQv6cqVbiHu",
    "PcsVTrjNDgN4i9RS8tmkJM",
    "5SkOi4Yp5v551XV8zXUWMZ",
    "Qf9Kl4g9W13dpeWUWORXUh",
    "3mRQuJ2kCWbDaaqMX01Bl2",
    "9EHDOumNbXbA01WT1zlf2K",
    "1SiZaDNU03k4ubzyA7oxZV",
    "AhRS4BjdMzILoIHDxe33p0",
    "1hbEDvjOz0fQviOK74Wymu",
    "pGMqlpGIz7GLqVKUEQrnQK",
    "OPLvxtccsIPQPJfZYaAaS5",
    "0KAGCg7WbXZIdMByrreAoi",
    "GlKpkTB2Rx3Bv2beUrVDM7",
    "X8tug0S2ipCal0ge0WeI84",
    "2EmXTEkSm2KV0gIIKBtr6L",
    "RUCiOf81xCHpFm33UZpx49",
    "BLUUsVdwLZwAtk3nS5SlBE",
    "7ClKGkJW9Yow76rWaHtWtr"
   ],
   "version":2
  }
 },
 "nbformat":4,
 "nbformat_minor":4
}