{
 "cells":[
  {
   "cell_type":"code",
   "source":[
    "import sqlite3"
   ],
   "execution_count":1,
   "outputs":[
    
   ],
   "metadata":{
    "datalore":{
     "node_id":"9mb4jAFvFtaGUuExfmFZJB",
     "type":"CODE",
     "hide_input_from_viewers":false,
     "hide_output_from_viewers":false
    }
   }
  },
  {
   "cell_type":"code",
   "source":[
    "conn = sqlite3.connect('db.slqite3')"
   ],
   "execution_count":4,
   "outputs":[
    
   ],
   "metadata":{
    "datalore":{
     "node_id":"ZpYUOqE8oKr3ampwwZ2NpU",
     "type":"CODE",
     "hide_input_from_viewers":false,
     "hide_output_from_viewers":false
    }
   }
  },
  {
   "cell_type":"code",
   "source":[
    "cursor = conn.cursor()"
   ],
   "execution_count":5,
   "outputs":[
    
   ],
   "metadata":{
    "datalore":{
     "node_id":"K2psq8rorGZe4oKuydvbYc",
     "type":"CODE",
     "hide_input_from_viewers":false,
     "hide_output_from_viewers":false
    }
   }
  },
  {
   "cell_type":"code",
   "source":[
    "sql = \"\"\"SELECT\n",
    "\ttypeof(100),\n",
    "\ttypeof(10.0),\n",
    "\ttypeof('100'),\n",
    "\ttypeof(x'1000'),\n",
    "\ttypeof(NULL);\n",
    "\"\"\"\n",
    "\n",
    "cursor.execute(sql)"
   ],
   "execution_count":6,
   "outputs":[
    {
     "data":{
      "text\/plain":[
       "<sqlite3.Cursor at 0x7fb9c6f7b9d0>"
      ]
     },
     "metadata":{
      
     },
     "output_type":"display_data"
    }
   ],
   "metadata":{
    "datalore":{
     "node_id":"dwaSLtnxGJDrY6zb6puoFk",
     "type":"CODE",
     "hide_input_from_viewers":false,
     "hide_output_from_viewers":false
    }
   }
  },
  {
   "cell_type":"code",
   "source":[
    "cursor.fetchall()"
   ],
   "execution_count":7,
   "outputs":[
    {
     "data":{
      "text\/plain":[
       "[('integer', 'real', 'text', 'blob', 'null')]"
      ]
     },
     "metadata":{
      
     },
     "output_type":"display_data"
    }
   ],
   "metadata":{
    "datalore":{
     "node_id":"YZRnMqlhPAn3h2VNTtDfCe",
     "type":"CODE",
     "hide_input_from_viewers":false,
     "hide_output_from_viewers":false
    }
   }
  },
  {
   "cell_type":"code",
   "source":[
    "sql = \"\"\"\n",
    "create table if not exists products (\n",
    "    id integer primary key autoincrement,\n",
    "    name text not null,\n",
    "    unit text not null,\n",
    "    type text not null\n",
    ");\n",
    "\n",
    "create table if not exists price (\n",
    "    id integer primary key autoincrement,\n",
    "    period datetime not null,\n",
    "    price number not null,\n",
    "    productId integer,\n",
    "\n",
    "    foreign key (productId)\n",
    "        references products (id)\n",
    "\n",
    ");\n",
    "\n",
    "create table if not exists stock (\n",
    "    id integer primary key autoincrement,\n",
    "    period datetime not null,\n",
    "    qty number not null,\n",
    "    productId integer,\n",
    "\n",
    "    foreign key (productId)\n",
    "        references products (id)\n",
    "\n",
    ");\n",
    "\"\"\""
   ],
   "execution_count":17,
   "outputs":[
    
   ],
   "metadata":{
    "datalore":{
     "node_id":"lIoCb68X3IOWT3fyZlm8s5",
     "type":"CODE",
     "hide_input_from_viewers":false,
     "hide_output_from_viewers":false
    }
   }
  },
  {
   "cell_type":"code",
   "source":[
    "cursor.executescript(sql)"
   ],
   "execution_count":18,
   "outputs":[
    {
     "data":{
      "text\/plain":[
       "<sqlite3.Cursor at 0x7fb9c6f7b9d0>"
      ]
     },
     "metadata":{
      
     },
     "output_type":"display_data"
    }
   ],
   "metadata":{
    "datalore":{
     "node_id":"wl3cDyA6TQZ90RIfKregKj",
     "type":"CODE",
     "hide_input_from_viewers":false,
     "hide_output_from_viewers":false
    }
   }
  },
  {
   "cell_type":"code",
   "source":[
    "#для створення товарів\n",
    "sql = \"insert into products (name, unit, type) values ('Клей', 'шт', 'буд.матеріали')\"\n",
    "\n",
    "cursor.execute(sql)\n",
    "conn.commit()\n",
    "\n",
    "\n",
    "cursor.execute('SELECT * FROM products')\n",
    "cursor.fetchall()"
   ],
   "execution_count":21,
   "outputs":[
    {
     "data":{
      "text\/plain":[
       "[(1, 'Цемент', 'мішки', 'буд.матеріали'),\n",
       " (2, 'Плитка', 'шт', 'буд.матеріали'),\n",
       " (3, 'Клей', 'шт', 'буд.матеріали')]"
      ]
     },
     "metadata":{
      
     },
     "output_type":"display_data"
    }
   ],
   "metadata":{
    "datalore":{
     "node_id":"Gmc1AeVGVeRwDzJvDLdMqW",
     "type":"CODE",
     "hide_input_from_viewers":false,
     "hide_output_from_viewers":false
    }
   }
  },
  {
   "cell_type":"code",
   "source":[
    "#для створення цін\n",
    "from datetime import datetime, timedelta\n",
    "sql = \"insert into price (period, price, productId) values (?, ?, ?)\"\n",
    "\n",
    "cursor.execute(\n",
    "    sql, \n",
    "    (datetime.now() -timedelta(days=60), 50, 3)\n",
    ")\n",
    "conn.commit()\n",
    "\n",
    "\n",
    "cursor.execute('SELECT * FROM price')\n",
    "cursor.fetchall()"
   ],
   "execution_count":24,
   "outputs":[
    {
     "data":{
      "text\/plain":[
       "[(1, '2023-03-11 14:51:08.376875', 100, 3),\n",
       " (2, '2023-02-09 14:51:48.285808', 95, 3),\n",
       " (3, '2023-01-10 14:51:55.338228', 50, 3)]"
      ]
     },
     "metadata":{
      
     },
     "output_type":"display_data"
    }
   ],
   "metadata":{
    "datalore":{
     "node_id":"VcJa4Az6SolV00S530JcEY",
     "type":"CODE",
     "hide_input_from_viewers":false,
     "hide_output_from_viewers":false
    }
   }
  },
  {
   "cell_type":"code",
   "source":[
    "#для створення цін\n",
    "from datetime import datetime, timedelta\n",
    "sql = \"insert into stock (period, qty, productId) values (?, ?, ?)\"\n",
    "\n",
    "cursor.execute(\n",
    "    sql, \n",
    "    (datetime.now() , -2, 3)\n",
    ")\n",
    "conn.commit()\n",
    "\n",
    "\n",
    "cursor.execute('SELECT * FROM stock')\n",
    "cursor.fetchall()"
   ],
   "execution_count":33,
   "outputs":[
    {
     "data":{
      "text\/plain":[
       "[(1, '2023-03-11 14:53:47.204549', 100, 3),\n",
       " (2, '2023-03-11 14:53:57.518118', -3, 3),\n",
       " (3, '2023-03-11 14:54:03.638823', -5, 3),\n",
       " (4, '2023-03-11 14:54:09.681805', -4, 3),\n",
       " (5, '2023-03-11 14:54:16.987024', -1, 3),\n",
       " (6, '2023-03-11 14:54:20.605463', -2, 3),\n",
       " (7, '2023-03-11 14:54:28.630434', -5, 3),\n",
       " (8, '2023-03-11 14:55:14.221532', -2, 3)]"
      ]
     },
     "metadata":{
      
     },
     "output_type":"display_data"
    }
   ],
   "metadata":{
    "datalore":{
     "node_id":"z8wGIwga0ZdK5AnJooKYoA",
     "type":"CODE",
     "hide_input_from_viewers":false,
     "hide_output_from_viewers":false
    }
   }
  },
  {
   "cell_type":"code",
   "source":[
    "cursor.execute('SELECT sum(qty) FROM stock')\n",
    "cursor.fetchall()"
   ],
   "execution_count":34,
   "outputs":[
    {
     "data":{
      "text\/plain":[
       "[(78,)]"
      ]
     },
     "metadata":{
      
     },
     "output_type":"display_data"
    }
   ],
   "metadata":{
    "datalore":{
     "node_id":"0N9mUajaUN0bzFBcsadVff",
     "type":"CODE",
     "hide_input_from_viewers":false,
     "hide_output_from_viewers":false
    }
   }
  },
  {
   "cell_type":"code",
   "source":[
    "cursor.execute('create view inStock as SELECT productId, sum(qty) FROM stock GROUP BY productId')\n",
    "\n",
    "cursor.execute('SELECT * FROM inStock')\n",
    "cursor.fetchall()"
   ],
   "execution_count":35,
   "outputs":[
    {
     "data":{
      "text\/plain":[
       "[(3, 78)]"
      ]
     },
     "metadata":{
      
     },
     "output_type":"display_data"
    }
   ],
   "metadata":{
    "datalore":{
     "node_id":"QexYQzcBz9mN0mAksre8FM",
     "type":"CODE",
     "hide_input_from_viewers":false,
     "hide_output_from_viewers":false
    }
   }
  },
  {
   "cell_type":"code",
   "source":[
    
   ],
   "execution_count":null,
   "outputs":[
    
   ],
   "metadata":{
    "datalore":{
     "node_id":"voHVqsa7uNf7ME31SXzOZr",
     "type":"CODE",
     "hide_input_from_viewers":false,
     "hide_output_from_viewers":false
    }
   }
  }
 ],
 "metadata":{
  "kernelspec":{
   "display_name":"Python",
   "language":"python",
   "name":"python"
  },
  "datalore":{
   "version":1,
   "computation_mode":"JUPYTER",
   "package_manager":"pip",
   "base_environment":"default",
   "packages":[
    
   ]
  }
 },
 "nbformat":4,
 "nbformat_minor":4
}